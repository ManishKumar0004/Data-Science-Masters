{
 "cells": [
  {
   "cell_type": "code",
   "execution_count": null,
   "id": "41f3e011-ad98-491b-84c0-af74d5446337",
   "metadata": {},
   "outputs": [],
   "source": [
    "\"\"\"Q-1:Which function is uesd to open a file ? What are the different modes of opening a file ?\n",
    "       Explain each mode of file opening ?\n",
    "   Ans:- \n",
    "   \n",
    "   The open() function opens a file and returns it as a file object.\n",
    "   \n",
    "   Different mode of opening a file :\n",
    "   a) 'r' mode\n",
    "   b) 'w' mode\n",
    "   c) 'a' mode\n",
    "   d) 'r+' mode\n",
    "   e) 'w+' mode\n",
    "   f) 'a+' mode\n",
    "   g) using 'b' with any mode\n",
    "   \n",
    "   (i) In 'r' mode, the file opens in the read mode.By default,if we don't specify the mode argument,it will be\n",
    "       treated as read or 'r' mode.\n",
    "       For example, To open our file myfile.txt in'r' mode:\n",
    "       open(\"myfile.txt\") or open(\"myfile.txt\",\"r\")\n",
    "    \n",
    "   (ii) In the 'w' mode,the file opens in write mode.It removes existing content,if present in the file.If the specified\n",
    "        file doesn't exist,it creates one with the specified name.\n",
    "        For example,To open our file myfile.txt in 'w' mode:\n",
    "        open(\"myfile.txt\",\"w\")\n",
    "    \n",
    "   (iii) In the 'a' mode,the file opens in the append mode.It adds content to an existing file (or append at the \n",
    "         end of the file).If the specified file doesn't exist,it creates one with the specified name.It doesn't remove\n",
    "         the existing content from the file.\n",
    "         For example.To open our file myfile.txt in 'a' mode:\n",
    "         open(\"myfile.txt\",\"a\")\n",
    "         \n",
    "   (vi)  In the 'r+' mode,the file opens in the read & write mode.It doesn't remove existing content,if present in the \n",
    "         file and does not create a file if not present in the directory.\n",
    "         For example,To open our file myfile.txt in 'r+' mode:\n",
    "         open(\"myfile.txt\",\"r+\")\n",
    "         \n",
    "   (v)   In the 'w+' mode,the file opens in the read & write mode & remove existing content.If the file does not \n",
    "         exist.it create a new one.It does not remove existing content & if a file does not exist,it creates a new one.\n",
    "         For example,To open our myfile.txt in 'w+' mode:\n",
    "         open(\"myfile.txt\",\"w+\")\n",
    "         \n",
    "   (vi)  In the 'a+' mode,the file open in the read & append mode.It does not remove existing content & if the file\n",
    "         does not exist,it creates new one.\n",
    "         For example,To open our file myfile.txt in 'a+' mode:\n",
    "         open(\"myfile.txt\",\"a+\")\n",
    "         \n",
    "         \n",
    "         The modes discussesd above are being used on a text file.To use these modes for a binary file,we need to use \n",
    "         a different combination of file opening mode arguments.Using 'b' with any mode.For example,'ab','rb','wb','rb+'\n",
    "         the file opens in binary mode.It is used for non-textual files like image,sound,executable (.exe) files.\n",
    "         For example,To open our file myfile.txt in b mode:\n",
    "         open(\"myfile.txt\",\"rb\") opening a file is not enough.This open function needs to be stored into a variable as \n",
    "         this will be used later for writing & reading file.Here we will assign a variable to our file.\n",
    "         file = open(\"myfile.txt\",\"r\")\n",
    "\"\"\""
   ]
  },
  {
   "cell_type": "code",
   "execution_count": null,
   "id": "735035fb-45d2-4eb1-8590-c2b57d2f5f3b",
   "metadata": {},
   "outputs": [],
   "source": [
    "\"\"\" Q-2: Why close() function is used ? Why is it important to close a file ?\n",
    "    \n",
    "    Ans:- The close() method closes an open file.\n",
    "    You should always close your file,in some cases,due to buffering,change made to a file may not show until\n",
    "    you close the file.\n",
    "    \n",
    "    it is impotrtant to close opened file in any programming language.\n",
    "    Because,when you open a file,the file is locked for writing(if opened in write mode).\n",
    "    Thus you cannot access that file outside your program(e.g through file browser) while it is open in python.\n",
    "    Moreover you cannot see the changes you made to the file in your program until you close it.\n",
    "    The close function actually saves the changes to the file and releases the lock.\n",
    "    \n",
    "    Syntax: fileObject.close()\n",
    "    "
   ]
  },
  {
   "cell_type": "code",
   "execution_count": 10,
   "id": "ff27b8ca-714c-4cf5-8dec-b832af7f256a",
   "metadata": {},
   "outputs": [],
   "source": [
    "\"\"\"Q-3: Write a python program to create a text file.Write 'I want to become a Data Scientist' in that file.\n",
    "        Then close the file .open this file and read the content of the file. \"\"\"\n",
    "  # Ans:-\n",
    "    \n",
    "# create or open the text file \n",
    "file=open(\"myfile.txt\",\"w\")\n"
   ]
  },
  {
   "cell_type": "code",
   "execution_count": 11,
   "id": "970abe42-dcca-4f44-9a69-139208b23ca6",
   "metadata": {},
   "outputs": [
    {
     "data": {
      "text/plain": [
       "33"
      ]
     },
     "execution_count": 11,
     "metadata": {},
     "output_type": "execute_result"
    }
   ],
   "source": [
    "# write in the file \n",
    "file.write(\"I want to become a Data Scientist\")"
   ]
  },
  {
   "cell_type": "code",
   "execution_count": 12,
   "id": "ee686911-99c3-493e-93bd-df04004f6c6b",
   "metadata": {},
   "outputs": [],
   "source": [
    "# close the file \n",
    "file.close()"
   ]
  },
  {
   "cell_type": "code",
   "execution_count": 13,
   "id": "1c738160-ddf8-47ba-99b5-b0da7a5cf8af",
   "metadata": {},
   "outputs": [],
   "source": [
    "# read the file\n",
    "file=open(\"myfile.txt\",'r')"
   ]
  },
  {
   "cell_type": "code",
   "execution_count": 14,
   "id": "6da2ad44-91f1-4b32-8c5c-f4688f6a0c57",
   "metadata": {},
   "outputs": [
    {
     "name": "stdout",
     "output_type": "stream",
     "text": [
      "I want to become a Data Scientist\n"
     ]
    }
   ],
   "source": [
    "# read the content of the file and print it \n",
    "print(file.read())"
   ]
  },
  {
   "cell_type": "code",
   "execution_count": 15,
   "id": "5e1d92e1-2467-417b-b0ec-0887455e4e71",
   "metadata": {},
   "outputs": [],
   "source": [
    "\"\"\"Q-4: Explain the following with python code:read(),readline() and readlines() \"\"\"\n",
    "\n",
    "f=open(\"myfile.txt\",\"w\")\n",
    "f.write(\"My name is Manish Kumar.\\nI want to become a Data Scientist.\\nI am from Haryana (India).\")\n",
    "f.close()"
   ]
  },
  {
   "cell_type": "code",
   "execution_count": 16,
   "id": "eb817ee7-1b3e-44af-be02-d3eb86eee657",
   "metadata": {},
   "outputs": [],
   "source": [
    "\"\"\" Read Only ('r'): Open the text file for reading.The handle is positioned at the beginning of the file.\n",
    "                     If the file does not exists,raises I/O error.This is also the default mode in which \n",
    "                     file is opened.\"\"\"\n",
    "f=open(\"myfile.txt\",\"r\")"
   ]
  },
  {
   "cell_type": "code",
   "execution_count": 17,
   "id": "1dec4d03-cbc0-4c87-a2a2-afc25e7849ab",
   "metadata": {},
   "outputs": [
    {
     "name": "stdout",
     "output_type": "stream",
     "text": [
      "My name is Manish Kumar.\n",
      "I want to become a Data Scientist.\n",
      "I am from Haryana (India).\n"
     ]
    }
   ],
   "source": [
    "print(f.read())"
   ]
  },
  {
   "cell_type": "code",
   "execution_count": 18,
   "id": "bb4c5e5d-16a3-4c07-bb5f-d18e6c2e112e",
   "metadata": {},
   "outputs": [
    {
     "name": "stdout",
     "output_type": "stream",
     "text": [
      "My name is Manish Kumar.\n",
      "\n"
     ]
    }
   ],
   "source": [
    "# The readline() method returns one line from the file.\n",
    "f=open(\"myfile.txt\",\"r\")\n",
    "print(f.readline())"
   ]
  },
  {
   "cell_type": "code",
   "execution_count": 19,
   "id": "0bc3cd0f-3b0f-4f24-94ab-d7cb5ece08b4",
   "metadata": {},
   "outputs": [
    {
     "name": "stdout",
     "output_type": "stream",
     "text": [
      "['My name is Manish Kumar.\\n', 'I want to become a Data Scientist.\\n', 'I am from Haryana (India).']\n"
     ]
    }
   ],
   "source": [
    "# The readlines() method returns a list containing each line in the file as a list item.\n",
    "f=open(\"myfile.txt\",\"r\")\n",
    "print(f.readlines())"
   ]
  },
  {
   "cell_type": "code",
   "execution_count": null,
   "id": "9d26bc9a-a2a3-46f0-a0f1-ed5873663cef",
   "metadata": {},
   "outputs": [],
   "source": [
    "\"\"\"Q-5: Explain why with statement is used with open().What is the advantage of using with statement and\n",
    "        open() method together ?\n",
    "   Ans:- \n",
    "   \n",
    "   In python,with staement is used in exception handling to make the code cleaner and much readable.It simplifies\n",
    "   the management of common resourses like file streams.\n",
    "   There is nothing special in open() which makes it usable with the with statement and the same functionality can\n",
    "   be provided in user defined objects.\n",
    "   When you use with statement with open() function,you do not need to close the file at the end ,because with statement\n",
    "   would automatically close it for you.\n",
    "   \n",
    "   The advantage of using a with statement is that it is guaranteed to close the file no matter how the nested block\n",
    "   exists.If an exception occurs before the end of the block,it will close the file before the exception is caught by\n",
    "   an outer exception handler.\n",
    "   Using with satement means that the file will be closed as soon as you leave the block.This is beneficial because \n",
    "   closing a file is somthing that can easily be forgotten and ties up resources that you no longer need. \"\"\"\n",
    "   \n",
    "   "
   ]
  },
  {
   "cell_type": "code",
   "execution_count": 20,
   "id": "ead8289d-274c-4352-a722-58ed147f94ba",
   "metadata": {},
   "outputs": [
    {
     "name": "stdin",
     "output_type": "stream",
     "text": [
      "Enter the name of the employee:  Manish Kumar\n",
      "Enter the name of the employee:  Gaurav\n",
      "Enter the name of the employee:  Vipin \n"
     ]
    },
    {
     "name": "stdout",
     "output_type": "stream",
     "text": [
      "Data is written into the file. \n"
     ]
    }
   ],
   "source": [
    "\"\"\"Q-6: Explain the write() and writelines() functions ? Give a suitable example ?\n",
    "   Ans:-\n",
    "   \n",
    "   i) write() function :-\n",
    "   The write() function will write the content in the file without adding any extra characters.\n",
    "   Syntax :\n",
    "   # writes string content referenced by file object.\n",
    "   file_name.write(content)\n",
    "   \n",
    "   ii) writelines() function :-\n",
    "   This function writes the content of a file to a file.\n",
    "   Syntax :\n",
    "   # write all the strings present in the list \"list_of_lines\"\n",
    "   # referenced by file object.\n",
    "   file_name.writelines(list_of_lines)\n",
    "   \n",
    "   The only difference between the write() and writelines() is that write() is used to write a string to an already\n",
    "   opened file while writelines() method is used to write a list of strings in an opened file.\"\"\"\n",
    "# Example:- \n",
    "\n",
    "### write ###\n",
    "file=open(\"Employees.txt\",\"w\")\n",
    "\n",
    "for i in range(3):\n",
    "    name=input(\"Enter the name of the employee: \")\n",
    "    file.write(name)\n",
    "    file.write(\"\\n\")\n",
    "    \n",
    "file.close()\n",
    "\n",
    "print(\"Data is written into the file. \")\n",
    "   "
   ]
  },
  {
   "cell_type": "code",
   "execution_count": 21,
   "id": "16d0d019-d191-43ea-8e09-0b54938787f1",
   "metadata": {},
   "outputs": [
    {
     "name": "stdin",
     "output_type": "stream",
     "text": [
      "Enter the name of the employee:  Vipin \n",
      "Enter the name of the employee:  Gaurav\n",
      "Enter the name of the employee:  Dheeraj\n"
     ]
    },
    {
     "name": "stdout",
     "output_type": "stream",
     "text": [
      "Data is written into the file. \n"
     ]
    }
   ],
   "source": [
    "### writelines ###\n",
    "file1=open(\"Employees.txt\",\"w\")\n",
    "lst=[]\n",
    "\n",
    "for i in range(3):\n",
    "    name=input(\"Enter the name of the employee: \")\n",
    "    lst.append(name+'\\n')\n",
    "    \n",
    "file1.writelines(lst)\n",
    "file1.close()\n",
    "\n",
    "print(\"Data is written into the file. \")\n",
    "    "
   ]
  },
  {
   "cell_type": "code",
   "execution_count": null,
   "id": "e471928c-dd8b-4abd-abfd-031cdf38bd2d",
   "metadata": {},
   "outputs": [],
   "source": []
  }
 ],
 "metadata": {
  "kernelspec": {
   "display_name": "Python 3 (ipykernel)",
   "language": "python",
   "name": "python3"
  },
  "language_info": {
   "codemirror_mode": {
    "name": "ipython",
    "version": 3
   },
   "file_extension": ".py",
   "mimetype": "text/x-python",
   "name": "python",
   "nbconvert_exporter": "python",
   "pygments_lexer": "ipython3",
   "version": "3.10.8"
  }
 },
 "nbformat": 4,
 "nbformat_minor": 5
}

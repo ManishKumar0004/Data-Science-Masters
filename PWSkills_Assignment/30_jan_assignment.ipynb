{
 "cells": [
  {
   "cell_type": "code",
   "execution_count": 5,
   "id": "5b22cd2e-d24a-4677-a1e6-16f31e4a4ae1",
   "metadata": {},
   "outputs": [
    {
     "name": "stdin",
     "output_type": "stream",
     "text": [
      "enter your percentage 55\n"
     ]
    },
    {
     "name": "stdout",
     "output_type": "stream",
     "text": [
      "Your grade is D\n"
     ]
    }
   ],
   "source": [
    "\"\"\"Question-1: Write a program to accept percentage from\n",
    "the user input and display the grade according to following criteria:\"\"\"\n",
    "   \n",
    "p=int(input(\"enter your percentage\"))\n",
    "if(p>90):\n",
    "    print(\"Your grade is A\")\n",
    "elif(p>80 and p<=90):\n",
    "    print(\"Your grade is B\")\n",
    "elif(p>=60 and p<=80):\n",
    "     print(\"Your grade is C\")                    \n",
    "else:\n",
    "    print(\"Your grade is D\")\n"
   ]
  },
  {
   "cell_type": "code",
   "execution_count": 6,
   "id": "b370d377-7554-405d-b33d-c45b3a2335ed",
   "metadata": {},
   "outputs": [
    {
     "name": "stdin",
     "output_type": "stream",
     "text": [
      "enter cost price 1200000\n"
     ]
    },
    {
     "name": "stdout",
     "output_type": "stream",
     "text": [
      "Tax = 15%\n"
     ]
    }
   ],
   "source": [
    "\"\"\"Question-2: Write a program to accept the cost price of a bike\n",
    "and display the road tax to be paid according to the following criteria:\"\"\"\n",
    "cost_price=int(input(\"enter cost price\"))\n",
    "if cost_price>100000:\n",
    "    print(\"Tax = 15%\")\n",
    "elif cost_price>50000 and cost_price<=100000:\n",
    "    print(\"Tax = 10%\")\n",
    "else:\n",
    "    print(\"Tax = 5%\")"
   ]
  },
  {
   "cell_type": "code",
   "execution_count": 4,
   "id": "616432d3-45fe-484f-ba3e-5dfd2eeb7d41",
   "metadata": {},
   "outputs": [
    {
     "name": "stdin",
     "output_type": "stream",
     "text": [
      "enter city jaipur\n"
     ]
    },
    {
     "name": "stdout",
     "output_type": "stream",
     "text": [
      "Jal Mahal\n"
     ]
    }
   ],
   "source": [
    "\"\"\"Question-3: Accept any city from the\n",
    "  user and display monuments of that city:\"\"\"\n",
    "city=input(\"enter city\")\n",
    "if city==\"Delhi\" or city==\"delhi\":\n",
    "    print(\"Red Fort\")\n",
    "elif city==\"Agra\" or city==\"agra\":\n",
    "     print(\"Taj Mahal\")\n",
    "elif city==\"Jaipur\" or city==\"jaipur\":\n",
    "     print(\"Jal Mahal\")\n",
    "else:\n",
    "    print(\"Enter valid city\")"
   ]
  },
  {
   "cell_type": "code",
   "execution_count": 3,
   "id": "93a06601-3a0a-41e1-8e50-a829e64b22e8",
   "metadata": {},
   "outputs": [
    {
     "name": "stdin",
     "output_type": "stream",
     "text": [
      "Enter number: 60\n"
     ]
    },
    {
     "name": "stdout",
     "output_type": "stream",
     "text": [
      "Number of times= 2\n"
     ]
    }
   ],
   "source": [
    "\"\"\"Question-4: Check how many times a given number can be divided by 3 \n",
    "               before it is less than or equal to 10:\"\"\"\n",
    "number=int(input(\"Enter number:\"))\n",
    "count=0\n",
    "while number>10:\n",
    "    number=number/3\n",
    "    count+=1\n",
    "print(\"Number of times=\",count)"
   ]
  },
  {
   "cell_type": "code",
   "execution_count": 4,
   "id": "b7512f40-544f-4880-8607-ebbf06436285",
   "metadata": {},
   "outputs": [
    {
     "name": "stdout",
     "output_type": "stream",
     "text": [
      "1\n",
      "2\n",
      "3\n",
      "4\n",
      "5\n"
     ]
    }
   ],
   "source": [
    "\"\"\"Question-5: Why and when to use while loop\n",
    "               in python give a detaild description with example:\n",
    "Ans- Python while loop is used to run a block of code until a certain condition is met.\n",
    "     Syntax:\n",
    "     while condition:\n",
    "     # body of while loop\n",
    "     Here,\n",
    "     1) A while loop evaluates the condition \n",
    "     2) If the condition evaluates to True, the code inside the while loop is executed.\n",
    "     3) Condition is evaluated again.\n",
    "     4) This process continues until the condition is False.\n",
    "     5) When condition evaluates to False. the loop stops.\n",
    "\n",
    "Example: Program to display numbers from 1 to 5 \"\"\"\n",
    "i=1\n",
    "n=5\n",
    "while i<=n:\n",
    "    print(i)\n",
    "    i=i+1\n"
   ]
  },
  {
   "cell_type": "code",
   "execution_count": 1,
   "id": "fbad41a6-ff44-49bd-8d64-669b882fb5d1",
   "metadata": {},
   "outputs": [
    {
     "name": "stdin",
     "output_type": "stream",
     "text": [
      "enter number of rows 5\n"
     ]
    },
    {
     "name": "stdout",
     "output_type": "stream",
     "text": [
      "*\n",
      "**\n",
      "***\n",
      "****\n",
      "*****\n"
     ]
    }
   ],
   "source": [
    "\"\"\"Question-6: Use nested while loop to print 3 different pattern.\"\"\"\n",
    "## Pattern-1\n",
    "n=int(input(\"enter number of rows\"))\n",
    "i=1\n",
    "while i<=n:\n",
    "    j=1\n",
    "    while j<=i:\n",
    "        ## printing stars:\n",
    "        print(\"*\",end=\"\")\n",
    "        j=j+1\n",
    "    print()\n",
    "    i=i+1\n",
    "    \n",
    "    \n",
    "    "
   ]
  },
  {
   "cell_type": "code",
   "execution_count": 1,
   "id": "849b8296-b10d-4096-b626-d5b3ca0fadb9",
   "metadata": {},
   "outputs": [
    {
     "name": "stdin",
     "output_type": "stream",
     "text": [
      "enter number of rows 5\n"
     ]
    },
    {
     "name": "stdout",
     "output_type": "stream",
     "text": [
      "*****\n",
      "****\n",
      "***\n",
      "**\n",
      "*\n"
     ]
    }
   ],
   "source": [
    "## Pattern-2\n",
    "n=int(input(\"enter number of rows\"))\n",
    "i=1\n",
    "while i<=n:\n",
    "    j=n\n",
    "    while j>=i:\n",
    "        ## printing stars:\n",
    "        print(\"*\",end=\"\")\n",
    "        j=j-1\n",
    "    print()\n",
    "    i=i+1"
   ]
  },
  {
   "cell_type": "code",
   "execution_count": 2,
   "id": "acda613c-de29-4641-b5c5-f98f89876fcc",
   "metadata": {},
   "outputs": [
    {
     "name": "stdin",
     "output_type": "stream",
     "text": [
      "enter number of rows 5\n"
     ]
    },
    {
     "name": "stdout",
     "output_type": "stream",
     "text": [
      "*****\n",
      "*****\n",
      "*****\n",
      "*****\n",
      "*****\n"
     ]
    }
   ],
   "source": [
    "## Pattern-3\n",
    "n=int(input(\"enter number of rows\"))\n",
    "i=1\n",
    "while i<=n:\n",
    "    j=1\n",
    "    while j<=n:\n",
    "        ## printing stars:\n",
    "        print(\"*\",end=\"\")\n",
    "        j=j+1\n",
    "    print()\n",
    "    i=i+1"
   ]
  },
  {
   "cell_type": "code",
   "execution_count": 3,
   "id": "21559396-f478-42a7-bfe2-932513e3caa5",
   "metadata": {},
   "outputs": [
    {
     "name": "stdout",
     "output_type": "stream",
     "text": [
      "10\n",
      "9\n",
      "8\n",
      "7\n",
      "6\n",
      "5\n",
      "4\n",
      "3\n",
      "2\n",
      "1\n"
     ]
    }
   ],
   "source": [
    "\"\"\"Question-7,8: Reverse a while loop to display numbers from 10 to 1.\"\"\"\n",
    "number=10\n",
    "i=1\n",
    "while number>=1:\n",
    "    print(number)\n",
    "    number=number-1"
   ]
  },
  {
   "cell_type": "code",
   "execution_count": null,
   "id": "9bd91ef6-ab17-4a1c-b4fd-81d8007194c4",
   "metadata": {},
   "outputs": [],
   "source": []
  }
 ],
 "metadata": {
  "kernelspec": {
   "display_name": "Python 3 (ipykernel)",
   "language": "python",
   "name": "python3"
  },
  "language_info": {
   "codemirror_mode": {
    "name": "ipython",
    "version": 3
   },
   "file_extension": ".py",
   "mimetype": "text/x-python",
   "name": "python",
   "nbconvert_exporter": "python",
   "pygments_lexer": "ipython3",
   "version": "3.10.8"
  }
 },
 "nbformat": 4,
 "nbformat_minor": 5
}

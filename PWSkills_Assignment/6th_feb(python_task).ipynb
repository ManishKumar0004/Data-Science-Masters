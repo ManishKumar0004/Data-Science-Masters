{
 "cells": [
  {
   "cell_type": "code",
   "execution_count": 3,
   "id": "e6c667a1-3654-4fca-beb2-0a2001a69316",
   "metadata": {},
   "outputs": [
    {
     "name": "stdout",
     "output_type": "stream",
     "text": [
      "product= 26938406100681510853017600\n",
      "flal_list= [1, 2, 3, 4, 44, 55, 66, 34, 56, 78, 89, 34, 1, 34, [55, 67, 78, 89], 4, 45, 22, 61, 34, 56]\n"
     ]
    }
   ],
   "source": [
    "\"\"\"Q-1: Create a function which will take a list as an argument and return the product of all the numbers \n",
    "        after creating a flat list.\n",
    "        Use the below-given list as an argument for your function.\n",
    "        \n",
    "        list1=1[1,2,3,4,[44,55,66,True],False,(34,56,78,89,34),{1,2,3,3,2,1},{1:34,\"key2\":[55,67,78,89],\n",
    "        4:(45,22,61,34)},[56,'data science'],'Machine Learning']\n",
    "        \n",
    "        Note: You must extract numeric keys and values of the dictionary also.\"\"\"\n",
    "\n",
    "flat_list=[]\n",
    "def product_of_numbers(list1):\n",
    "    \n",
    "    for i in list1:\n",
    "        if type(i)==int or type(i)==float:\n",
    "            flat_list.append(i)\n",
    "        elif type(i)==tuple:\n",
    "            for j in i:\n",
    "                if type(j)==int or type(j)==float:\n",
    "                    flat_list.append(j)\n",
    "        elif type(i)==list:\n",
    "            for j in i:\n",
    "                if type(j)==int or type(j)==float:\n",
    "                    flat_list.append(j)\n",
    "        elif type(i)==dict:\n",
    "            for key,value in i.items():\n",
    "                if type(key)==int or type(key)==float:\n",
    "                    flat_list.append(key)\n",
    "                if type(value)==int or type(value)==float:\n",
    "                    flat_list.append(value)\n",
    "                if type(value)==list:\n",
    "                    flat_list.append(value)\n",
    "                if type(value)==tuple:\n",
    "                    flat_list.extend(list(value))\n",
    "    product=1\n",
    "    for num in flat_list:\n",
    "        if type(num)==int or type(num)==float:\n",
    "            product=product*num\n",
    "    return product\n",
    "list1=[1,2,3,4,[44,55,66,True],False,(34,56,78,89,34),{1,2,3,3,2,1},{1:34,\"key2\":[55,67,78,89],\n",
    "        4:(45,22,61,34)},[56,'data science'],'Machine Learning']\n",
    "print(\"product=\",product_of_numbers(list1))\n",
    "print(\"flal_list=\",flat_list)\n"
   ]
  },
  {
   "cell_type": "code",
   "execution_count": null,
   "id": "0d2a705b-f6ee-4537-b000-f41df513da13",
   "metadata": {},
   "outputs": [],
   "source": [
    "\"\"\"Q-2: Write a python program for encrypting a message sent to you by your friend.The "
   ]
  }
 ],
 "metadata": {
  "kernelspec": {
   "display_name": "Python 3 (ipykernel)",
   "language": "python",
   "name": "python3"
  },
  "language_info": {
   "codemirror_mode": {
    "name": "ipython",
    "version": 3
   },
   "file_extension": ".py",
   "mimetype": "text/x-python",
   "name": "python",
   "nbconvert_exporter": "python",
   "pygments_lexer": "ipython3",
   "version": "3.10.8"
  }
 },
 "nbformat": 4,
 "nbformat_minor": 5
}

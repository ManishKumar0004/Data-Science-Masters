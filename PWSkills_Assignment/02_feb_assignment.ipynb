{
 "cells": [
  {
   "cell_type": "code",
   "execution_count": 4,
   "id": "177a9f9b-6e56-43a4-b2b1-ca5fa84dfedc",
   "metadata": {},
   "outputs": [
    {
     "name": "stdout",
     "output_type": "stream",
     "text": [
      "WEB DEVELOPER\n",
      "JAVA DEVELOPER\n",
      "PYTHON DEVELOPER\n",
      "BUSINESS ANALYST\n",
      "DATA SCIENTIST\n"
     ]
    }
   ],
   "source": [
    "\"\"\"Question-1: Explain with an example each when to use a for loop and a while loop.\n",
    "   Ans:- (1) for loop:-\n",
    "   A for loop is used for iterating over a sequence (that is either a list ,\n",
    "   a tuple,a dictionary,a set,or a string).\n",
    "   This is less like the for keyword in other programming languages and works more like an iterator \n",
    "   method as found in other object-orientated programming languages.\n",
    "   With the for loop we can execute a set of statements,once for each item in a list,tuple,set etc.\n",
    "   \"\"\"\n",
    "## Examlpe-1:-\n",
    "    \n",
    "job_profile=[\"web developer\",\"java developer\",\"python developer\",\"business analyst\",\"data scientist\"]\n",
    "for i in job_profile:\n",
    "    print(i.upper())\n",
    "    \n",
    "          "
   ]
  },
  {
   "cell_type": "code",
   "execution_count": 5,
   "id": "0b53b418-860b-47af-abd5-5d464ef6c6d2",
   "metadata": {},
   "outputs": [
    {
     "name": "stdout",
     "output_type": "stream",
     "text": [
      "0\n",
      "1\n",
      "2\n",
      "3\n",
      "4\n",
      "5\n"
     ]
    }
   ],
   "source": [
    "##Example-2:-\n",
    "for x in range(6):\n",
    "    print(x)"
   ]
  },
  {
   "cell_type": "code",
   "execution_count": 6,
   "id": "1cb935dd-c9da-45c0-a175-30adea9cc8ca",
   "metadata": {},
   "outputs": [
    {
     "name": "stdout",
     "output_type": "stream",
     "text": [
      "5\n",
      "4\n",
      "3\n",
      "2\n",
      "1\n"
     ]
    }
   ],
   "source": [
    "\"\"\"(2) while loop:- \n",
    "   Pyhton while loop is used ot execute a block of statements repeatedly until a given condition is satisfied.\n",
    "   And when the condition becomes false,the line immediately after the loop in the program is executed.\n",
    "   Syntax:-\n",
    "          \n",
    "        while expression:\n",
    "              Statement(s)\n",
    "\"\"\"\n",
    "# Example 1:-\n",
    "a=[1,2,3,4,5]\n",
    "while a:\n",
    "      print(a.pop())\n",
    "   "
   ]
  },
  {
   "cell_type": "code",
   "execution_count": 8,
   "id": "e3880aa2-4fd8-428e-a216-1285e08aaca4",
   "metadata": {},
   "outputs": [
    {
     "name": "stdout",
     "output_type": "stream",
     "text": [
      "2 * 1 = 2\n",
      "2 * 2 = 4\n",
      "2 * 3 = 6\n",
      "2 * 4 = 8\n",
      "2 * 5 = 10\n",
      "2 * 6 = 12\n",
      "2 * 7 = 14\n",
      "2 * 8 = 16\n",
      "2 * 9 = 18\n",
      "2 * 10 = 20\n"
     ]
    }
   ],
   "source": [
    "# Example 2:-\n",
    "n=2\n",
    "i=1\n",
    "while i<=10:\n",
    "    print(n,\"*\",i,\"=\",n*i)\n",
    "    i=i+1"
   ]
  },
  {
   "cell_type": "code",
   "execution_count": 12,
   "id": "021febbb-34c9-41e7-b389-faf627862b91",
   "metadata": {},
   "outputs": [
    {
     "name": "stdout",
     "output_type": "stream",
     "text": [
      "Sum of the first 10 natural number is  55\n",
      "Product of the first 10 natural number is  3628800\n"
     ]
    }
   ],
   "source": [
    "\"\"\"Question-2: Write a python program to print the sum and product of first 10 natural numbers\n",
    "               using for and while loop.\"\"\"\n",
    "   # Ans:- (A) for loop:-\n",
    "sum=0\n",
    "product=1\n",
    "for i in range(1,11):\n",
    "    sum=sum+i\n",
    "    product=product*i\n",
    "print(\"Sum of the first 10 natural number is \",sum)\n",
    "print(\"Product of the first 10 natural number is \",product)\n",
    "\n",
    "    "
   ]
  },
  {
   "cell_type": "code",
   "execution_count": 1,
   "id": "f30774a0-97c5-45af-801c-b871f7c5aebb",
   "metadata": {},
   "outputs": [
    {
     "name": "stdout",
     "output_type": "stream",
     "text": [
      "Sum of the first 10 natural number is  55\n",
      "Product of the first 10 natural number is  3628800\n"
     ]
    }
   ],
   "source": [
    "#(B) while loop:-\n",
    "n=10\n",
    "i=1\n",
    "s=0\n",
    "p=1\n",
    "while i<=n:\n",
    "    s=s+i\n",
    "    p=p*i\n",
    "    i=i+1\n",
    "print(\"Sum of the first 10 natural number is \",s)\n",
    "print(\"Product of the first 10 natural number is \",p) "
   ]
  },
  {
   "cell_type": "code",
   "execution_count": 2,
   "id": "247326b8-fd63-4047-9c56-f9ee6bed1fc5",
   "metadata": {},
   "outputs": [
    {
     "name": "stdin",
     "output_type": "stream",
     "text": [
      "Enter the unit of electricity consumed: 310\n"
     ]
    },
    {
     "name": "stdout",
     "output_type": "stream",
     "text": [
      "Electricity is consumed: 2250.0\n"
     ]
    }
   ],
   "source": [
    "\"\"\"Question-3:-Create a python program to compute the electricity bil for a household.\n",
    "               The per-unit charges in rupees are as follows:\n",
    "               For the first 100 units,the user will be charged Rs. 4.5 per unit\n",
    "               For the next 100 units,the user will be charged Rs. 6 per unit\n",
    "               And for the next 100 units,the user will be charged Rs. 10 per unit\n",
    "               After 300 hours units and above the user will be charged Rs. 20 per unit.\n",
    "               \n",
    "               You are required to take the units of electricity consumed in a month from the user as input.\n",
    "               \n",
    "               Your program must pass this test case:when the unit of electricity consumed by the user in a month is 310,\n",
    "               the total electricity bill should be 2250. \"\"\"\n",
    "unit_of_electricity=int(input(\"Enter the unit of electricity consumed:\"))\n",
    "if(unit_of_electricity<=100):\n",
    "    print(\"Electricity is consumed:\",unit_of_electricity*4.5)\n",
    "elif(unit_of_electricity>100 and unit_of_electricity<=200):\n",
    "     print(\"Electricity is consumed:\",(100*4.5)+(unit_of_electricity-100)*6)\n",
    "elif(unit_of_electricity>200 and unit_of_electricity<=300):\n",
    "    print(\"Electricity is consumed:\",(100*4.5)+(100*6)+(unit_of_electricity-200)*10)\n",
    "else:\n",
    "    print(\"Electricity is consumed:\",(100*4.5)+(100*6)+(100*10)+(unit_of_electricity-300)*20)\n"
   ]
  },
  {
   "cell_type": "code",
   "execution_count": 4,
   "id": "0fa6bfc8-becc-44ea-a372-63dda5199e66",
   "metadata": {},
   "outputs": [
    {
     "name": "stdout",
     "output_type": "stream",
     "text": [
      "1 = 1\n",
      "2 = 8\n",
      "3 = 27\n",
      "4 = 64\n",
      "5 = 125\n",
      "6 = 216\n",
      "7 = 343\n",
      "8 = 512\n",
      "9 = 729\n",
      "10 = 1000\n",
      "11 = 1331\n",
      "12 = 1728\n",
      "13 = 2197\n",
      "14 = 2744\n",
      "15 = 3375\n",
      "16 = 4096\n",
      "17 = 4913\n",
      "18 = 5832\n",
      "19 = 6859\n",
      "20 = 8000\n",
      "21 = 9261\n",
      "22 = 10648\n",
      "23 = 12167\n",
      "24 = 13824\n",
      "25 = 15625\n",
      "26 = 17576\n",
      "27 = 19683\n",
      "28 = 21952\n",
      "29 = 24389\n",
      "30 = 27000\n",
      "31 = 29791\n",
      "32 = 32768\n",
      "33 = 35937\n",
      "34 = 39304\n",
      "35 = 42875\n",
      "36 = 46656\n",
      "37 = 50653\n",
      "38 = 54872\n",
      "39 = 59319\n",
      "40 = 64000\n",
      "41 = 68921\n",
      "42 = 74088\n",
      "43 = 79507\n",
      "44 = 85184\n",
      "45 = 91125\n",
      "46 = 97336\n",
      "47 = 103823\n",
      "48 = 110592\n",
      "49 = 117649\n",
      "50 = 125000\n",
      "51 = 132651\n",
      "52 = 140608\n",
      "53 = 148877\n",
      "54 = 157464\n",
      "55 = 166375\n",
      "56 = 175616\n",
      "57 = 185193\n",
      "58 = 195112\n",
      "59 = 205379\n",
      "60 = 216000\n",
      "61 = 226981\n",
      "62 = 238328\n",
      "63 = 250047\n",
      "64 = 262144\n",
      "65 = 274625\n",
      "66 = 287496\n",
      "67 = 300763\n",
      "68 = 314432\n",
      "69 = 328509\n",
      "70 = 343000\n",
      "71 = 357911\n",
      "72 = 373248\n",
      "73 = 389017\n",
      "74 = 405224\n",
      "75 = 421875\n",
      "76 = 438976\n",
      "77 = 456533\n",
      "78 = 474552\n",
      "79 = 493039\n",
      "80 = 512000\n",
      "81 = 531441\n",
      "82 = 551368\n",
      "83 = 571787\n",
      "84 = 592704\n",
      "85 = 614125\n",
      "86 = 636056\n",
      "87 = 658503\n",
      "88 = 681472\n",
      "89 = 704969\n",
      "90 = 729000\n",
      "91 = 753571\n",
      "92 = 778688\n",
      "93 = 804357\n",
      "94 = 830584\n",
      "95 = 857375\n",
      "96 = 884736\n",
      "97 = 912673\n",
      "98 = 941192\n",
      "99 = 970299\n",
      "100 = 1000000\n",
      "The number whose cube is divisible by 4 or 5: [2, 4, 5, 6, 8, 10, 12, 14, 15, 16, 18, 20, 22, 24, 25, 26, 28, 30, 32, 34, 35, 36, 38, 40, 42, 44, 45, 46, 48, 50, 52, 54, 55, 56, 58, 60, 62, 64, 65, 66, 68, 70, 72, 74, 75, 76, 78, 80, 82, 84, 85, 86, 88, 90, 92, 94, 95, 96, 98, 100]\n"
     ]
    }
   ],
   "source": [
    "\"\"\"Question-4: Create a list of numbers from 1 to 100.Use for loop and while loop to calculate the \n",
    "               cube of each number and if the cube of that number is divisible by 4 or 5 then append\n",
    "               that number in a list and print that list.\"\"\"\n",
    "# Ans:- (A) for loop :-\n",
    "numbers=list(range(1,101))\n",
    "l1=[]\n",
    "for i in numbers:\n",
    "    cube=i*i*i\n",
    "    print(i,\"=\",cube)\n",
    "    if(cube%4==0 or cube%5==0):\n",
    "        l1.append(i)\n",
    "    i=i+1\n",
    "print(\"The number whose cube is divisible by 4 or 5:\",l1)\n"
   ]
  },
  {
   "cell_type": "code",
   "execution_count": 6,
   "id": "20845cab-d9ae-4e16-a601-c9636b0cb13f",
   "metadata": {},
   "outputs": [
    {
     "data": {
      "text/plain": [
       "100"
      ]
     },
     "execution_count": 6,
     "metadata": {},
     "output_type": "execute_result"
    }
   ],
   "source": [
    "#(B) while loop:-\n",
    "len(numbers)\n"
   ]
  },
  {
   "cell_type": "code",
   "execution_count": 7,
   "id": "90b6dc83-3cb7-4f3a-88c2-1afcc70f65e0",
   "metadata": {},
   "outputs": [
    {
     "name": "stdout",
     "output_type": "stream",
     "text": [
      "1 = 1\n",
      "2 = 8\n",
      "3 = 27\n",
      "4 = 64\n",
      "5 = 125\n",
      "6 = 216\n",
      "7 = 343\n",
      "8 = 512\n",
      "9 = 729\n",
      "10 = 1000\n",
      "11 = 1331\n",
      "12 = 1728\n",
      "13 = 2197\n",
      "14 = 2744\n",
      "15 = 3375\n",
      "16 = 4096\n",
      "17 = 4913\n",
      "18 = 5832\n",
      "19 = 6859\n",
      "20 = 8000\n",
      "21 = 9261\n",
      "22 = 10648\n",
      "23 = 12167\n",
      "24 = 13824\n",
      "25 = 15625\n",
      "26 = 17576\n",
      "27 = 19683\n",
      "28 = 21952\n",
      "29 = 24389\n",
      "30 = 27000\n",
      "31 = 29791\n",
      "32 = 32768\n",
      "33 = 35937\n",
      "34 = 39304\n",
      "35 = 42875\n",
      "36 = 46656\n",
      "37 = 50653\n",
      "38 = 54872\n",
      "39 = 59319\n",
      "40 = 64000\n",
      "41 = 68921\n",
      "42 = 74088\n",
      "43 = 79507\n",
      "44 = 85184\n",
      "45 = 91125\n",
      "46 = 97336\n",
      "47 = 103823\n",
      "48 = 110592\n",
      "49 = 117649\n",
      "50 = 125000\n",
      "51 = 132651\n",
      "52 = 140608\n",
      "53 = 148877\n",
      "54 = 157464\n",
      "55 = 166375\n",
      "56 = 175616\n",
      "57 = 185193\n",
      "58 = 195112\n",
      "59 = 205379\n",
      "60 = 216000\n",
      "61 = 226981\n",
      "62 = 238328\n",
      "63 = 250047\n",
      "64 = 262144\n",
      "65 = 274625\n",
      "66 = 287496\n",
      "67 = 300763\n",
      "68 = 314432\n",
      "69 = 328509\n",
      "70 = 343000\n",
      "71 = 357911\n",
      "72 = 373248\n",
      "73 = 389017\n",
      "74 = 405224\n",
      "75 = 421875\n",
      "76 = 438976\n",
      "77 = 456533\n",
      "78 = 474552\n",
      "79 = 493039\n",
      "80 = 512000\n",
      "81 = 531441\n",
      "82 = 551368\n",
      "83 = 571787\n",
      "84 = 592704\n",
      "85 = 614125\n",
      "86 = 636056\n",
      "87 = 658503\n",
      "88 = 681472\n",
      "89 = 704969\n",
      "90 = 729000\n",
      "91 = 753571\n",
      "92 = 778688\n",
      "93 = 804357\n",
      "94 = 830584\n",
      "95 = 857375\n",
      "96 = 884736\n",
      "97 = 912673\n",
      "98 = 941192\n",
      "99 = 970299\n",
      "100 = 1000000\n",
      "The number whose cube is divisible by 4 or 5: [2, 4, 5, 6, 8, 10, 12, 14, 15, 16, 18, 20, 22, 24, 25, 26, 28, 30, 32, 34, 35, 36, 38, 40, 42, 44, 45, 46, 48, 50, 52, 54, 55, 56, 58, 60, 62, 64, 65, 66, 68, 70, 72, 74, 75, 76, 78, 80, 82, 84, 85, 86, 88, 90, 92, 94, 95, 96, 98, 100]\n"
     ]
    }
   ],
   "source": [
    "j=1\n",
    "l2=[]\n",
    "while j<=len(numbers):\n",
    "    c=j*j*j\n",
    "    print(j,\"=\",c)\n",
    "    if(c%4==0 or c%5==0):\n",
    "        l2.append(j)\n",
    "    j=j+1\n",
    "print(\"The number whose cube is divisible by 4 or 5:\",l2)"
   ]
  },
  {
   "cell_type": "code",
   "execution_count": 15,
   "id": "65526cc0-ed6b-4e24-bc93-414ccf2c91f6",
   "metadata": {},
   "outputs": [
    {
     "name": "stdout",
     "output_type": "stream",
     "text": [
      "Filter vowels: ['I', 'a', 'o', 'e', 'o', 'e', 'a', 'a', 'a', 'i', 'e', 'i']\n",
      "Count vowels: 12\n"
     ]
    }
   ],
   "source": [
    "\"\"\"Question-5: Write a program to filter count vowels in the below-given string.\"\"\"\n",
    "               # string=\"I want to become a data scientist\"\n",
    "filter=[]\n",
    "count=0\n",
    "str=\"I want to become a data scientist\"\n",
    "for i in str:\n",
    "     if (i==\"a\" or i==\"e\" or i==\"i\" or i==\"o\" or i==\"u\" or i==\"A\" or i==\"E\" or i==\"I\" or i==\"O\" or i==\"U\"):\n",
    "        filter.append(i)\n",
    "        count=count+1\n",
    "print(\"Filter vowels:\",filter)\n",
    "print(\"Count vowels:\",count)\n",
    "    "
   ]
  },
  {
   "cell_type": "code",
   "execution_count": null,
   "id": "258de879-f3e0-4bf4-aa50-0046c42de2db",
   "metadata": {},
   "outputs": [],
   "source": []
  }
 ],
 "metadata": {
  "kernelspec": {
   "display_name": "Python 3 (ipykernel)",
   "language": "python",
   "name": "python3"
  },
  "language_info": {
   "codemirror_mode": {
    "name": "ipython",
    "version": 3
   },
   "file_extension": ".py",
   "mimetype": "text/x-python",
   "name": "python",
   "nbconvert_exporter": "python",
   "pygments_lexer": "ipython3",
   "version": "3.10.8"
  }
 },
 "nbformat": 4,
 "nbformat_minor": 5
}

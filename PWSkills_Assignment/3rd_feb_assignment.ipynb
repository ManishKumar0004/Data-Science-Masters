{
 "cells": [
  {
   "cell_type": "code",
   "execution_count": 10,
   "id": "cd5c756b-91d6-4e3f-905c-eb6dba911e0c",
   "metadata": {},
   "outputs": [
    {
     "data": {
      "text/plain": [
       "[1, 3, 5, 7, 9, 11, 13, 15, 17, 19, 21, 23, 25]"
      ]
     },
     "execution_count": 10,
     "metadata": {},
     "output_type": "execute_result"
    }
   ],
   "source": [
    "\"\"\"Question-1: Which keyword is used to create a function ? Create a function to return \n",
    "               a list of odd numbers in the of 1 to 25.\n",
    "   Ans:- The def keyword is used to create ,(or define) a function.\"\"\"\n",
    "def odd_numbers():\n",
    "    l=[]\n",
    "    for i in range(1,26):\n",
    "        if(i%2!=0):\n",
    "            l.append(i)\n",
    "    return l\n",
    "odd_numbers()"
   ]
  },
  {
   "cell_type": "code",
   "execution_count": 11,
   "id": "bca559fb-f7a4-4927-ac6d-a06813908a00",
   "metadata": {},
   "outputs": [
    {
     "name": "stdout",
     "output_type": "stream",
     "text": [
      "(2, 3) <class 'tuple'>\n"
     ]
    }
   ],
   "source": [
    "\"\"\"Question-2: Why *args and **kwargs is used in some functions? Create a function\n",
    "               each for *args and and **kwargs to demonstrate their use.\n",
    "    Ans:- *args allows us to pass variable number of non-keyword arguments to a python function.\n",
    "          In the function, we should use an asterisk (*) before the parameter name to pass a \n",
    "          variable number of arguments.\"\"\"\n",
    "def add(*args):\n",
    "    print(args,type(args))\n",
    "add(2,3)"
   ]
  },
  {
   "cell_type": "code",
   "execution_count": 13,
   "id": "833fb577-115d-4410-94bb-cf598c6a3bcf",
   "metadata": {},
   "outputs": [
    {
     "name": "stdout",
     "output_type": "stream",
     "text": [
      "3\n",
      "17\n",
      "18\n"
     ]
    }
   ],
   "source": [
    "def add_number(*numbers):\n",
    "    total=0\n",
    "    for i in numbers:\n",
    "        total=total+i\n",
    "    return total\n",
    "print(add_number(1,2))\n",
    "print(add_number(5,5,7))\n",
    "print(add_number(7,5,6))"
   ]
  },
  {
   "cell_type": "code",
   "execution_count": 14,
   "id": "0224a6d4-2f05-464d-be96-66b0e11a0811",
   "metadata": {},
   "outputs": [
    {
     "name": "stdout",
     "output_type": "stream",
     "text": [
      "{'banana': 5, 'mango': 7, 'apple': 8} <class 'dict'>\n"
     ]
    }
   ],
   "source": [
    "\"\"\" **kwargs allows us to pass a variable number of keyword arguments to a python function.\n",
    "    In the function, we use the double-asterisk (**) before the parameter name to denote\n",
    "    this type of argument.\"\"\"\n",
    "def total_fruits(**kwargs):\n",
    "    print(kwargs,type(kwargs))\n",
    "    \n",
    "total_fruits(banana=5,mango=7,apple=8)\n"
   ]
  },
  {
   "cell_type": "code",
   "execution_count": 18,
   "id": "7d964ec2-bef3-4750-a9a2-bfe54d4b1407",
   "metadata": {},
   "outputs": [
    {
     "name": "stdout",
     "output_type": "stream",
     "text": [
      "20\n"
     ]
    }
   ],
   "source": [
    "def t_fruits(**fruits):\n",
    "    total=0\n",
    "    for amount in fruits.values():\n",
    "        total=total+amount\n",
    "    return total\n",
    "\n",
    "    \n",
    "print(t_fruits(banana=5,mango=7,apple=8))\n"
   ]
  },
  {
   "cell_type": "code",
   "execution_count": 2,
   "id": "ad89696b-f501-489d-9a58-01ac3dbcb9a2",
   "metadata": {},
   "outputs": [
    {
     "name": "stdout",
     "output_type": "stream",
     "text": [
      "2\n",
      "4\n",
      "6\n",
      "8\n",
      "10\n",
      "12\n",
      "14\n"
     ]
    }
   ],
   "source": [
    "\"\"\"Question-3: What is an iterator in python ?\n",
    "               Name tne method used to initialise the iterator object and the method used for iteration.\n",
    "               Use these method to print the first five elements of the given list\n",
    "               [2,4,6,8,10,12,14,16,18,20]\n",
    "   Ans:- An iterator in an object that contains a countable number of values.\n",
    "         An iterator is an object that can be iterated upon,meaning that you can traverse through all the values.\n",
    "         Technically,in python, an iterator is an object which implements the iterator protocol,which consist of \n",
    "         the method _iter_()and_next().\n",
    "         \n",
    "         \n",
    "         1. _iter_(): The iter() method is called for the initialization of an iterator. This returns an iterator \n",
    "         object.\n",
    "         2. _next_(): The next method returns the next value for the iterable.When we use a for loop to traverse\n",
    "         any iterable object,internally it uses the iter() method to get an iterator object,which futher uses\n",
    "         the next() method to iterate over.This method raises a Stopiteration to signal the end of the iteration.\"\"\"\n",
    "l1=[2,4,6,8,10,12,14,16,18,20]\n",
    "\n",
    "iter_obj=iter(l1)\n",
    "\n",
    "print(next(iter_obj))\n",
    "print(next(iter_obj))\n",
    "print(next(iter_obj))\n",
    "print(next(iter_obj))\n",
    "print(next(iter_obj))\n",
    "print(next(iter_obj))\n",
    "print(next(iter_obj))\n",
    "         \n",
    "         "
   ]
  },
  {
   "cell_type": "code",
   "execution_count": 3,
   "id": "d9a3fc81-0406-45fc-a4e8-14a2f45b9a30",
   "metadata": {},
   "outputs": [
    {
     "name": "stdout",
     "output_type": "stream",
     "text": [
      "Iterable Loop:\n",
      "2\n",
      "4\n",
      "6\n",
      "8\n",
      "10\n"
     ]
    }
   ],
   "source": [
    "# Another way:\n",
    "l=[2,4,6,8,10,12,14,16,16,18,20]\n",
    "iter_objs=iter(l)\n",
    "\n",
    "print(\"Iterable Loop:\")\n",
    "# Iterating on iterable\n",
    "for item in iter_objs:\n",
    "    print(item)\n",
    "    if(item==10):\n",
    "        break"
   ]
  },
  {
   "cell_type": "code",
   "execution_count": 5,
   "id": "f0bb0d6f-6a0c-40ff-aa9b-82e42724a65d",
   "metadata": {},
   "outputs": [
    {
     "name": "stdout",
     "output_type": "stream",
     "text": [
      "0\n",
      "1\n",
      "2\n",
      "3\n",
      "4\n"
     ]
    }
   ],
   "source": [
    "\"\"\"Question-4: What is a generator function in python?\n",
    "               Why yield keyword is used?\n",
    "               Give an example of generator function?\n",
    "   Ans: Generator:-\n",
    "        1. In python,a generator is a function that returns an iterator that produces a sequence of values\n",
    "        when iterated over.\n",
    "        2. Generators are useful when we want to produce a large sequence of values,but we don't want to\n",
    "        store all of them in memory at once.\n",
    "        \n",
    "        Yield:-\n",
    "        The yield keyword is used to produce a value from the generator.\n",
    "        syntax:-\n",
    "        \n",
    "              def generator_name(arg):# statements yield something\n",
    "        \"\"\"\n",
    "# Example 1:-\n",
    "def my_generator(n):\n",
    "    value=0\n",
    "    \n",
    "    while value<n:\n",
    "        yield value\n",
    "        value=value+1\n",
    "        \n",
    "for value in my_generator(5):\n",
    "    print(value)\n",
    "              "
   ]
  },
  {
   "cell_type": "code",
   "execution_count": 6,
   "id": "43ed43f9-bd41-4d50-a2ce-f64a34ec9792",
   "metadata": {},
   "outputs": [
    {
     "name": "stdout",
     "output_type": "stream",
     "text": [
      "0\n",
      "1\n",
      "4\n",
      "9\n",
      "16\n"
     ]
    }
   ],
   "source": [
    "# Example 2:-\n",
    "# create the generator object\n",
    "square_generator=(i*i for i in range(5))\n",
    "\n",
    "# iterate over the generator and print the values\n",
    "for i in square_generator:\n",
    "    print(i)"
   ]
  },
  {
   "cell_type": "code",
   "execution_count": 11,
   "id": "d6a77721-b75e-4391-afe3-156df8572526",
   "metadata": {},
   "outputs": [
    {
     "name": "stdout",
     "output_type": "stream",
     "text": [
      "2\n",
      "3\n",
      "5\n",
      "7\n",
      "11\n",
      "13\n",
      "17\n",
      "19\n"
     ]
    }
   ],
   "source": [
    "\"\"\"Question-5: Create a generator function for prime numbers less than 1000.\n",
    "               Use hte next() method to print the first 20 prime nmbers.\"\"\"\n",
    "# Approach:\n",
    "def prime_no_generator():\n",
    "    for number in range(1,1000):\n",
    "        if number>1:\n",
    "            for i in range(2,number):\n",
    "                if(number%i==0):\n",
    "                    break\n",
    "            else:\n",
    "                yield number\n",
    "prime_number=prime_no_generator()\n",
    "print(next(prime_number))\n",
    "print(next(prime_number))\n",
    "print(next(prime_number))\n",
    "print(next(prime_number))\n",
    "print(next(prime_number))\n",
    "print(next(prime_number))\n",
    "print(next(prime_number))\n",
    "print(next(prime_number))"
   ]
  },
  {
   "cell_type": "code",
   "execution_count": 16,
   "id": "1840961e-2559-4e7e-8851-fc641bfd98bf",
   "metadata": {},
   "outputs": [
    {
     "name": "stdout",
     "output_type": "stream",
     "text": [
      "2\n",
      "3\n",
      "5\n",
      "7\n",
      "11\n",
      "13\n",
      "17\n",
      "19\n",
      "23\n",
      "29\n",
      "31\n",
      "37\n",
      "41\n",
      "43\n",
      "47\n",
      "53\n",
      "59\n",
      "61\n",
      "67\n",
      "71\n"
     ]
    }
   ],
   "source": [
    "# Approach 2:\n",
    "def prime_no_generators(n):\n",
    "    for numbers in range(1,n):\n",
    "        if numbers>1:\n",
    "            for i in range(2,numbers):\n",
    "                if(numbers%i==0):\n",
    "                    break\n",
    "            else:\n",
    "                yield numbers\n",
    "prime_numbers=iter(prime_no_generators(72))\n",
    "\n",
    "while True:\n",
    "    # Item will be \"end\" if iteration is complete\n",
    "    item=next(prime_numbers,\"end\")\n",
    "    if item==\"end\":\n",
    "        break\n",
    "    print(item)\n",
    "                    "
   ]
  },
  {
   "cell_type": "code",
   "execution_count": 17,
   "id": "01d21c95-2a6d-425a-bccf-7366115a133f",
   "metadata": {},
   "outputs": [
    {
     "name": "stdout",
     "output_type": "stream",
     "text": [
      "0 1 1 2 3 5 8 13 21 34 "
     ]
    }
   ],
   "source": [
    "\"\"\"Question-6: Write a python program to print the first 10 fibonacci numbers using a while loop.\"\"\"\n",
    "# Ans:-\n",
    "n=10\n",
    "a,b=0,1\n",
    "i=0\n",
    "while i<10:\n",
    "    print(a,end=\" \")\n",
    "    c=a+b\n",
    "    a=b\n",
    "    b=c\n",
    "    i=i+1"
   ]
  },
  {
   "cell_type": "code",
   "execution_count": 19,
   "id": "137563a2-e4b9-4408-a940-ebfedc6a881c",
   "metadata": {},
   "outputs": [
    {
     "name": "stdout",
     "output_type": "stream",
     "text": [
      "['p', 'w', 's', 'k', 'i', 'l', 'l', 's']\n"
     ]
    }
   ],
   "source": [
    "\"\"\"Question-7: Write a list comprehension to iterate through the given string:'pwskills'.\n",
    "   Expected output: ['p','w','s','k','i','l','l','s']\n",
    "\"\"\"\n",
    "s=\"pwskills\"\n",
    "list=[character for character in s]\n",
    "\n",
    "# Displaying list\n",
    "print(list)"
   ]
  },
  {
   "cell_type": "code",
   "execution_count": 23,
   "id": "8760ac2c-d472-4e56-ae89-5618831b1e65",
   "metadata": {},
   "outputs": [
    {
     "name": "stdin",
     "output_type": "stream",
     "text": [
      "enter a number: 123321\n"
     ]
    },
    {
     "name": "stdout",
     "output_type": "stream",
     "text": [
      "the number is palindrome!\n"
     ]
    }
   ],
   "source": [
    "\"\"\"Question-8: Write a python program to check whether a given number is palindrome or not using\n",
    "a while loop.\"\"\"\n",
    "# Ans:-\n",
    "num=int(input(\"enter a number:\"))\n",
    "temp=num\n",
    "rev=0\n",
    "while(num>0):\n",
    "    dig=num%10\n",
    "    rev=rev*10+dig\n",
    "    num=num//10\n",
    "if(temp==rev):\n",
    "    print(\"the number is palindrome!\")\n",
    "else:\n",
    "    print(\"Not a palindrome!\")"
   ]
  },
  {
   "cell_type": "code",
   "execution_count": 26,
   "id": "a9053099-a5c9-4c9d-ae00-98b4482bc079",
   "metadata": {},
   "outputs": [],
   "source": [
    "\"\"\"Question-9: Write a code to print odd numbers from 1 to 100 using list comprehension.\n",
    "   Note:- Use a list comprehension to create a list from 1 to 100 and use another list \n",
    "          comprehension to fliter out odd numbers.\"\"\"\n",
    "l=[ i for i in range(101)]\n",
    "\n",
    "l1=[i for i in l if i%2!=0]\n",
    "\n",
    "print(\"odd numbers\",l1)\n",
    "\n"
   ]
  },
  {
   "cell_type": "code",
   "execution_count": null,
   "id": "3eb7b9ca-57c7-4c3a-bc2e-82ceadecad67",
   "metadata": {},
   "outputs": [],
   "source": []
  }
 ],
 "metadata": {
  "kernelspec": {
   "display_name": "Python 3 (ipykernel)",
   "language": "python",
   "name": "python3"
  },
  "language_info": {
   "codemirror_mode": {
    "name": "ipython",
    "version": 3
   },
   "file_extension": ".py",
   "mimetype": "text/x-python",
   "name": "python",
   "nbconvert_exporter": "python",
   "pygments_lexer": "ipython3",
   "version": "3.10.8"
  }
 },
 "nbformat": 4,
 "nbformat_minor": 5
}

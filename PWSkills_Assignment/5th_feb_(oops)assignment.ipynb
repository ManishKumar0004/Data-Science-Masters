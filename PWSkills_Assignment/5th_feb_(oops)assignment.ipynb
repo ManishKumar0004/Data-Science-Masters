{
 "cells": [
  {
   "cell_type": "code",
   "execution_count": 5,
   "id": "78deb525-bb2c-4bd9-aa26-fd74c2be45e4",
   "metadata": {},
   "outputs": [
    {
     "name": "stdout",
     "output_type": "stream",
     "text": [
      "Name:Mountain Bike,Gears:11\n"
     ]
    }
   ],
   "source": [
    "\"\"\"Q-1: Explain class and object with respest to object-oriented-programming.Give a suitable examlple?\n",
    "   Ans:- \n",
    "   Object-Oriented-Programming:-\n",
    "   \n",
    "   In python,object-oriented-programming (oops) is a programming paradigm that uses object and classes in programmming.\n",
    "   It aims to implement real-world entities like inheritance,polymorphisms,encapsulation etc. in the programming.\n",
    "   The main concept of opps is to bind the data and the function that work on that together as a single unit so that no other\n",
    "   part of the code can access this data.\n",
    "   \n",
    "   Class:\n",
    "   \n",
    "   A class is considered as a blueprint(skeleton) objects.We can think of the class as a sketch(prototype) of a house.\n",
    "   It contains all the details about the floors,doors,windows etc.Based on these description we build the house.\n",
    "   House is the object.\n",
    "   Since many houses can be made from the same description,we can create many objects from a class.\n",
    "   We use the class keyword to create a class in python.\n",
    "   Class Definition Syntax:-\n",
    "   class className:\n",
    "   # Statement-1\n",
    "       .\n",
    "       .\n",
    "       .\n",
    "       .\n",
    "   # Staement-N\n",
    "   \n",
    "   \n",
    "   Object:\n",
    "   \n",
    "   An object is called an instance of a class.For example,suppose Bike is a class then we can create objects like bike1,bike2.\n",
    "   etc from the class.\n",
    "   Here's the syntax to create an object.\n",
    "   objectName=ClassName()                      \n",
    "   \n",
    "   \"\"\"\n",
    "\n",
    "# Example:-\n",
    "\n",
    "\n",
    "# define a class\n",
    "class Bike:\n",
    "    name=\"\"\n",
    "    gear=0\n",
    "    \n",
    "# create object of class\n",
    "bike1=Bike()\n",
    "\n",
    "# access attributes and assign new values\n",
    "bike1.gear=11\n",
    "bike1.name=\"Mountain Bike\"\n",
    "\n",
    "print(f\"Name:{bike1.name},Gears:{bike1.gear}\") # Here we have used f-string formatting. Syntax: f\". . . \" \n",
    "   "
   ]
  },
  {
   "cell_type": "code",
   "execution_count": 6,
   "id": "f2a1b0f8-18e7-4a98-b4ce-6e5f8829846d",
   "metadata": {},
   "outputs": [
    {
     "data": {
      "text/plain": [
       "\"Q-2: Name the four piilars of oops.\\n   Ans:-\\n   \\n   The four pillars for oops are:\\n   \\n   1. Abstraction\\n    \\n    It hides the unnecessary code details from the user.Also,when we do not want to give out sensitive parts of our code\\n    implementation and this is where data abstraction came.\\n    \\n   2. Encapsulation\\n   \\n    Encapsulation is one of the fundamental concepts in object-oriented-prigramming (oops).It describes the idea of wrapping \\n    data and the methods that works on data within one unit.This puts restrictions on accesssing variables and method directly\\n    and can prevent the accidental modification of data.To prevent accidental change,an object's variable can only be changed\\n    by an object's method.Those type of variables are known as private variables.\\n    \\n   3. Inheritance\\n     \\n    Inheritance is the capability of one class to derive or inherit the properties from the another class.The class that \\n    derives properties is called the derived class or child class and the class from which the properties are being derived \\n    is called the base class or parent class.\\n    \\n   4. Polymorphism\\n   \\n    Polymorphism simply means having many forms.For example,we need to determine if the given species of birds fly or \\n    not,using polymorphism we can do this using a single function. \""
      ]
     },
     "execution_count": 6,
     "metadata": {},
     "output_type": "execute_result"
    }
   ],
   "source": [
    "\"\"\"Q-2: Name the four piilars of oops.\n",
    "   Ans:-\n",
    "   \n",
    "   The four pillars for oops are:\n",
    "   \n",
    "   1. Abstraction\n",
    "    \n",
    "    It hides the unnecessary code details from the user.Also,when we do not want to give out sensitive parts of our code\n",
    "    implementation and this is where data abstraction came.\n",
    "    \n",
    "   2. Encapsulation\n",
    "   \n",
    "    Encapsulation is one of the fundamental concepts in object-oriented-prigramming (oops).It describes the idea of wrapping \n",
    "    data and the methods that works on data within one unit.This puts restrictions on accesssing variables and method directly\n",
    "    and can prevent the accidental modification of data.To prevent accidental change,an object's variable can only be changed\n",
    "    by an object's method.Those type of variables are known as private variables.\n",
    "    \n",
    "   3. Inheritance\n",
    "     \n",
    "    Inheritance is the capability of one class to derive or inherit the properties from the another class.The class that \n",
    "    derives properties is called the derived class or child class and the class from which the properties are being derived \n",
    "    is called the base class or parent class.\n",
    "    \n",
    "   4. Polymorphism\n",
    "   \n",
    "    Polymorphism simply means having many forms.For example,we need to determine if the given species of birds fly or \n",
    "    not,using polymorphism we can do this using a single function. \"\"\"\n",
    "   \n",
    "   \n",
    "   "
   ]
  },
  {
   "cell_type": "code",
   "execution_count": 7,
   "id": "f3d3cf7e-6f64-4d44-933c-a25b70e1b9b6",
   "metadata": {},
   "outputs": [
    {
     "name": "stdout",
     "output_type": "stream",
     "text": [
      "From:London\n",
      "To_city:India\n"
     ]
    }
   ],
   "source": [
    "\"\"\"Q-3:Explain why the __init__() function is used. Give a suitable example.\n",
    "   Ans:-\n",
    "   \n",
    "   __init__() function:\n",
    "   \n",
    "   __init__ is a special python method that runs whenever a new object is created.\n",
    "   These types of function are used to initialize the attributes of that class,E.g.,\n",
    "   if the class is Person,then the attributes will be name,age etc.\n",
    "   \n",
    "   In other object-oriented languages(like c++ and java),then these types of fuctions are \n",
    "   called constructors.\n",
    "   Constructors are used to initialize the data members of the class when an object is created.\n",
    "   Python used the __init__ metohd as a constructor to initialize the data members when an object is created for the class.\"\"\"\n",
    "   \n",
    "## Example:\n",
    "\n",
    "class Trip:\n",
    "    def __init__(self,to_city,from_city):\n",
    "        self.to_city=to_city\n",
    "        self.from_city=from_city\n",
    "    def holiday(self):\n",
    "        return(\"From:\"+self.from_city+\"\\nTo_city:\"+self.to_city)\n",
    "T=Trip('India','London')\n",
    "print(T.holiday())"
   ]
  },
  {
   "cell_type": "code",
   "execution_count": 8,
   "id": "eb43a8a4-1af3-4c4f-9178-63fc9185f1c3",
   "metadata": {},
   "outputs": [
    {
     "name": "stdout",
     "output_type": "stream",
     "text": [
      "Address of self = 140209820019936\n",
      "Address of class object = 140209820019936\n"
     ]
    }
   ],
   "source": [
    "\"\"\"Q-4:Why self is used in oops?\n",
    "   Ans:-\n",
    "   \n",
    "   self represents the instance of the class.By using the \"self\" we can accesss the atttributes and methods of the class \n",
    "   in python.\n",
    "   It binds the attributes with the givne arguments.\n",
    "   The reason you need to use self is because python does not use the @ syntax to refer to instance attributes.\n",
    "   Python decided to do methods in a way that makes the instance to which the method belongs be passed automatically,\n",
    "   but not received automatically: the first parameters of methods is the instance the method is called on.\"\"\"\n",
    "\n",
    "## Example:\n",
    "\n",
    "# it is clearly seen that self and obj is referring to the same object\n",
    "\n",
    "class check:\n",
    "       \n",
    "        def __init__(self):\n",
    "               print(\"Address of self =\",id(self))\n",
    "                \n",
    "obj=check()\n",
    "print(\"Address of class object =\",id(obj))\n"
   ]
  },
  {
   "cell_type": "code",
   "execution_count": 10,
   "id": "f0e63a28-d6ea-468c-b412-d5aee70d5322",
   "metadata": {},
   "outputs": [
    {
     "data": {
      "text/plain": [
       "' self is the first argument to be passed in constructor and instance method.\\n    \\n    self is parameter in instance method and user can use another parameter name in place of it.But it is\\n    advisable to use self because it increases the readability of code and it is also a good programming practice. '"
      ]
     },
     "execution_count": 10,
     "metadata": {},
     "output_type": "execute_result"
    }
   ],
   "source": [
    "\"\"\" self is the first argument to be passed in constructor and instance method.\n",
    "    \n",
    "    self is parameter in instance method and user can use another parameter name in place of it.But it is\n",
    "    advisable to use self because it increases the readability of code and it is also a good programming practice. \"\"\""
   ]
  },
  {
   "cell_type": "code",
   "execution_count": 11,
   "id": "d689b901-d973-46e4-b15a-ea9afea668e6",
   "metadata": {},
   "outputs": [
    {
     "name": "stdout",
     "output_type": "stream",
     "text": [
      "This function is in parent class\n",
      "This function is in child class\n"
     ]
    }
   ],
   "source": [
    "\"\"\"Q-5: What is inheritance ? Give an example for each type of inheritance?\n",
    "   Ans:-\n",
    "   \n",
    "   Inheritance\n",
    "   \n",
    "   Inheritance is defined as the mechanism of inheriting the properties of the base class to the child class.\n",
    "   \n",
    "   \n",
    "   Types of Inheritance in Pytho:\n",
    "   \n",
    "   Types of inheritance depends upon the number of child and parent classes involved.There are four types of inheritance\n",
    "   in Python.\n",
    "   \n",
    "   (1) Single Inheritance\n",
    "       \n",
    "       Single inheritance enables a derived class to inherit properties from a single parent class,thus enabling code \n",
    "       reuasability and the addition of new features to existing code.\"\"\"\n",
    "    \n",
    "# Example(Single Inheritance)\n",
    "\n",
    "# Python program to demonstrate\n",
    "# single inheritance\n",
    "\n",
    "# Base class\n",
    "class Parent:\n",
    "        def func1(self):\n",
    "            print(\"This function is in parent class\")\n",
    "# Derived class\n",
    "class Child(Parent):\n",
    "        def func2(self):\n",
    "            print(\"This function is in child class\")\n",
    "\n",
    "# Driver's code\n",
    "object=Child()\n",
    "object.func1()\n",
    "object.func2()"
   ]
  },
  {
   "cell_type": "code",
   "execution_count": 15,
   "id": "e8ca452e-616b-4227-8b93-c4babfe6a5b3",
   "metadata": {},
   "outputs": [
    {
     "name": "stdout",
     "output_type": "stream",
     "text": [
      "Father : Vikram singh\n",
      "Mother : smt Sadhna Devi\n"
     ]
    }
   ],
   "source": [
    "\"\"\"(2) Multiple Inheritance\n",
    "       \n",
    "       When a class can be derived from more than one base class this type of inheritance is called multiple inheritance.\n",
    "       In multiple inheritance.all the features of the base classes are inherited into the derived class.\"\"\"\n",
    "\n",
    "# Example (Multiple inheritance)\n",
    "\n",
    "# Python program to demonstrate \n",
    "# multiple inheritance\n",
    "\n",
    "# Base class1\n",
    "class Mother:\n",
    "    mothername=\"\"\n",
    "    \n",
    "    def mother(self):\n",
    "        print(self.mothername)\n",
    "        \n",
    "# Base class2\n",
    "class Father:\n",
    "    fathername=\"\"\n",
    "    \n",
    "    def father(self):\n",
    "        print(self.fathername)\n",
    "        \n",
    "# Derived class\n",
    "\n",
    "class Son(Mother,Father):\n",
    "    \n",
    "      def parents(self):\n",
    "            print(\"Father :\",self.fathername)\n",
    "            print(\"Mother :\",self.mothername)\n",
    "            \n",
    "            \n",
    "# Driver's code\n",
    "\n",
    "s1=Son()\n",
    "s1.fathername=\"Vikram singh\"\n",
    "s1.mothername=\"smt Sadhna Devi\"\n",
    "s1.parents()"
   ]
  },
  {
   "cell_type": "code",
   "execution_count": 16,
   "id": "12b2002b-35ea-4fff-92e6-2d92f68e28e4",
   "metadata": {},
   "outputs": [
    {
     "name": "stdout",
     "output_type": "stream",
     "text": [
      "Lal mani:\n",
      "Grandfather name: Lal mani:\n",
      "Father name: Rampal\n",
      "Son name: Prince\n"
     ]
    }
   ],
   "source": [
    "\"\"\"(3) Multilevel Inheritance\n",
    "       In multilevel inheritance,features of base class and the derived class are futher inherited into \n",
    "       new derived class.\n",
    "       This is similar to a relationship representing a child and a grandfather.\"\"\"\n",
    "\n",
    "# Example (Multilevel inheritance)\n",
    "\n",
    "# Python program to demonstrate \n",
    "# multilevel inheritance\n",
    "\n",
    "# Base class\n",
    "\n",
    "class Grandfather:\n",
    "    \n",
    "    def __init__(self,grandfathername):\n",
    "        self.grandfathername=grandfathername\n",
    "        \n",
    "# Intermediate class\n",
    "\n",
    "class Father(Grandfather):\n",
    "     \n",
    "    def __init__(self,fathername,grandfathername):\n",
    "        \n",
    "        self.fathername=fathername\n",
    "        \n",
    "        # invoking constructor of Grandfather class\n",
    "        Grandfather.__init__(self,grandfathername)\n",
    "        \n",
    "# Derived class\n",
    "\n",
    "class Son(Father):\n",
    "    \n",
    "    def __init__(self,sonname,fathername,grandfathername):\n",
    "        self.sonname=sonname\n",
    "        \n",
    "        # invoking constructor of Father class \n",
    "        Father.__init__(self,fathername,grandfathername)\n",
    "        \n",
    "    def print_name(self):\n",
    "        print(\"Grandfather name:\",self.grandfathername)\n",
    "        print(\"Father name:\",self.fathername)\n",
    "        print(\"Son name:\",self.sonname)\n",
    "        \n",
    "# Driver's code\n",
    "s1=Son(\"Prince\",\"Rampal\",\"Lal mani:\")\n",
    "print(s1.grandfathername)\n",
    "s1.print_name()"
   ]
  },
  {
   "cell_type": "code",
   "execution_count": 19,
   "id": "3993f360-75d0-4ffb-b21f-8cfb5e164e71",
   "metadata": {},
   "outputs": [
    {
     "name": "stdout",
     "output_type": "stream",
     "text": [
      "This function is in parent class\n",
      "This function is in child 1\n",
      "This function is in parent class\n",
      "This function is in child 2\n"
     ]
    }
   ],
   "source": [
    "\"\"\"(4) Hierarchical inheritance\n",
    "    \n",
    "       When more than one derived class are created from a single base class this type of inheritance is\n",
    "       called \n",
    "       hierarchical inheritance.\n",
    "       In the below program, we have a parent (base) class and two child (derived) classes.\"\"\"\n",
    "\n",
    "# Example (Hierarchical inheritance)\n",
    "\n",
    "# Python program to demonstrate\n",
    "# Hierarchical inheritance\n",
    "\n",
    "\n",
    "# Base class \n",
    "class Parent:\n",
    "    \n",
    "    def func1(self):\n",
    "        print(\"This function is in parent class\")\n",
    "        \n",
    "# Derived class1\n",
    "\n",
    "class Child1(Parent):\n",
    "    def func2(self):\n",
    "        print(\"This function is in child 1\")\n",
    "    \n",
    "# Derived class2\n",
    "\n",
    "class Child2(Parent):\n",
    "     \n",
    "    def func3(self):\n",
    "        print(\"This function is in child 2\")\n",
    "        \n",
    "\n",
    "# Driver's code\n",
    "object1=Child1()\n",
    "object2=Child2()\n",
    "object1.func1()\n",
    "object1.func2()\n",
    "object2.func1()\n",
    "object2.func3()"
   ]
  },
  {
   "cell_type": "code",
   "execution_count": 20,
   "id": "71d2267b-2ffc-41b9-8f67-3ab7f70197bc",
   "metadata": {},
   "outputs": [
    {
     "ename": "SyntaxError",
     "evalue": "incomplete input (3055781104.py, line 19)",
     "output_type": "error",
     "traceback": [
      "\u001b[0;36m  Cell \u001b[0;32mIn[20], line 19\u001b[0;36m\u001b[0m\n\u001b[0;31m    def func3(self):\u001b[0m\n\u001b[0m                    ^\u001b[0m\n\u001b[0;31mSyntaxError\u001b[0m\u001b[0;31m:\u001b[0m incomplete input\n"
     ]
    }
   ],
   "source": [
    "\"\"\"(5) Hybrid Inheritance\n",
    "       \n",
    "       Inheritance consisting of nultiples type of inheritance is called hybrid inheritance. \"\"\"\n",
    "\n",
    "# Example (Hybrid Inheritance)\n",
    "\n",
    "# Python program to demonstrate\n",
    "# hybrid inheritance\n",
    "\n",
    "class School:\n",
    "    def func1(self):\n",
    "        print(\"This function is in school\")\n",
    "        \n",
    "class Student1(School):\n",
    "    def func2(self):\n",
    "        print(\"This function is in student 1\")\n",
    "\n",
    "class Student2(School):\n",
    "    def func3(self):\n",
    "        print(\"This function is in student 2\")\n",
    "\n",
    "class Student3(Student1,School):\n",
    "    \n",
    "    def func4(self):\n",
    "        print(\"This function is in student 3\")\n",
    "        \n",
    "        \n",
    "        "
   ]
  },
  {
   "cell_type": "code",
   "execution_count": null,
   "id": "888b5caf-674a-46b0-a8a2-7c97d8d49d4b",
   "metadata": {},
   "outputs": [],
   "source": []
  }
 ],
 "metadata": {
  "kernelspec": {
   "display_name": "Python 3 (ipykernel)",
   "language": "python",
   "name": "python3"
  },
  "language_info": {
   "codemirror_mode": {
    "name": "ipython",
    "version": 3
   },
   "file_extension": ".py",
   "mimetype": "text/x-python",
   "name": "python",
   "nbconvert_exporter": "python",
   "pygments_lexer": "ipython3",
   "version": "3.10.8"
  }
 },
 "nbformat": 4,
 "nbformat_minor": 5
}

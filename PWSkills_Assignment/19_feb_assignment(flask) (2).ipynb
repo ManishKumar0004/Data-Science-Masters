{
 "cells": [
  {
   "cell_type": "markdown",
   "id": "a1887c59-1e2e-4730-b661-c96d674e68d5",
   "metadata": {},
   "source": [
    "### Question-1: What is Flask Framework? What are the advantages of Flask Framework?\n",
    "### Ans:-\n",
    "\n",
    "<strong>Flask is a web framework that provides libraries to build lightweight web applications in python. It is developed by Armin Ronacher who leads an international group of python enthusiasts (POCCO). It is based on WSGI (web server gateway interface) toolkit and jinja2 template engine. Flask is considered as a micro framework.</strong>\n",
    "\n",
    "<strong> WSGI:\n",
    "It is an acronym for web server gateway interface which is a standard for python web application development. It is considered as the specification for the universal interface between the web server and web application.\n",
    "Jinga2:\n",
    "Jinja2 is a web template engine which combines a template with a certain data source to render the dynamic web pages.</strong>\n",
    "\n",
    "<strong>Advantages of Flask Framework:-</strong><br>\n",
    "\n",
    "<b> 1) It is a lightweight framework that offers hassle-free development.</b><br>\n",
    "<b>2) Provide flexibility to the developer to experiment with their modules or architecture.</b><br>\n",
    "<b>3) It is suitable for small projects.</b><br>\n",
    "<b>4) Offers a built-in development server and fast debugger.</b><br>\n",
    "<b>5) Easily scalable for the applications.</b><br>\n",
    "<b>6) Support for secure cookies.</b><br>\n",
    "<b>7) Uses Ninja2 Template engine.</b>\n",
    "<b>8) It has integrated support for unit testing.</b><br>\n",
    "<b>9) APIs are coherent and neat.</b><br>\n",
    "<b>10) Provide strong WSGI support.</b>\n"
   ]
  },
  {
   "cell_type": "markdown",
   "id": "e183642c-3eeb-4be0-ab86-1f1fc7d2f68e",
   "metadata": {},
   "source": [
    "### Question-2: Create a simple Flask application to display ‘Hello World!!’. Attach the screenshot of the output in Jupyter Notebook.\n",
    "### Ans:-\n"
   ]
  },
  {
   "cell_type": "code",
   "execution_count": 1,
   "id": "cdf56934-d488-4a31-bade-6d5dd1b371a2",
   "metadata": {},
   "outputs": [
    {
     "name": "stdout",
     "output_type": "stream",
     "text": [
      "Requirement already satisfied: flask in /opt/conda/lib/python3.10/site-packages (2.3.3)\n",
      "Requirement already satisfied: Jinja2>=3.1.2 in /opt/conda/lib/python3.10/site-packages (from flask) (3.1.2)\n",
      "Requirement already satisfied: Werkzeug>=2.3.7 in /opt/conda/lib/python3.10/site-packages (from flask) (2.3.7)\n",
      "Requirement already satisfied: click>=8.1.3 in /opt/conda/lib/python3.10/site-packages (from flask) (8.1.3)\n",
      "Requirement already satisfied: itsdangerous>=2.1.2 in /opt/conda/lib/python3.10/site-packages (from flask) (2.1.2)\n",
      "Requirement already satisfied: blinker>=1.6.2 in /opt/conda/lib/python3.10/site-packages (from flask) (1.6.2)\n",
      "Requirement already satisfied: MarkupSafe>=2.0 in /opt/conda/lib/python3.10/site-packages (from Jinja2>=3.1.2->flask) (2.1.1)\n",
      "Note: you may need to restart the kernel to use updated packages.\n"
     ]
    }
   ],
   "source": [
    "pip install flask"
   ]
  },
  {
   "cell_type": "code",
   "execution_count": 3,
   "id": "5c9dd9ee-3415-4801-bd10-782aa655c5bb",
   "metadata": {},
   "outputs": [],
   "source": [
    "from flask import Flask"
   ]
  },
  {
   "cell_type": "code",
   "execution_count": null,
   "id": "c7566b80-8a91-476f-bf8e-e5d7e14f301e",
   "metadata": {},
   "outputs": [
    {
     "name": "stdout",
     "output_type": "stream",
     "text": [
      " * Serving Flask app '__main__'\n",
      " * Debug mode: off\n"
     ]
    },
    {
     "name": "stderr",
     "output_type": "stream",
     "text": [
      "WARNING: This is a development server. Do not use it in a production deployment. Use a production WSGI server instead.\n",
      " * Running on all addresses (0.0.0.0)\n",
      " * Running on http://127.0.0.1:5000\n",
      " * Running on http://172.18.0.3:5000\n",
      "Press CTRL+C to quit\n",
      "172.18.0.2 - - [22/Sep/2023 11:34:37] \"GET / HTTP/1.1\" 200 -\n",
      "172.18.0.2 - - [22/Sep/2023 11:34:38] \"GET /favicon.ico HTTP/1.1\" 404 -\n",
      "172.18.0.2 - - [22/Sep/2023 11:35:09] \"GET / HTTP/1.1\" 200 -\n"
     ]
    }
   ],
   "source": [
    "app=Flask(__name__)\n",
    "\n",
    "@app.route('/')\n",
    "def hello_world():\n",
    "    return \"<h1> Hello World !! </h1>\"\n",
    "if __name__==\"__main__\":\n",
    "    app.run(host=\"0.0.0.0\")"
   ]
  },
  {
   "cell_type": "markdown",
   "id": "c5faa753-9f47-4056-9d6c-0fcb398a50df",
   "metadata": {},
   "source": [
    "![hello](https://brown-scientist-rewev.pwskills.app/lab/tree/work/pw_assignment/hello_world.png)\n"
   ]
  },
  {
   "cell_type": "markdown",
   "id": "2d18bc4d-609f-4d2b-9d10-cb25e4915678",
   "metadata": {},
   "source": [
    "### Question-3: What is App routing in Flask? Why do we use app routes?\n",
    "### Ans:- \n",
    "<b>In Flask, the process of defining the URLs that map to specific functions or methods in your application is known as routing. </b><br>\n",
    "<b>App routing is the technique used to map the specific URL with the associated function intended to perform some task.\n",
    "The Latest Web frameworks use the routing technique to help users remember application URLs.\n",
    "It is helpful to access the desired page directly without navigating from the home page.\n",
    "</b><br>\n",
    "<b>The URL (‘/’) is linked with the root URL in every application.</b><br>\n",
    "\n",
    "<b>There are two ways through which we can bind the URLs to their associated function:-</b><br>\n",
    "<b>1.) Using route() decorator.</b><br>\n",
    "<b>2.) Using add_url_rule() function.</b><br>\n",
    "\n",
    "<b>The route() decorator in Flask is used to bind an URL to a function.</b><br>\n",
    "\n",
    "<b>App routing is used to map the specific URL with the associated function that is intended to perform some task.</b>\n"
   ]
  },
  {
   "cell_type": "markdown",
   "id": "5d1290e8-05af-4faa-96c7-73a1df59a02b",
   "metadata": {},
   "source": [
    "### Question-4:  Create a “/welcome” route to display the welcome message “Welcome to ABC Corporation” and a “/” route to show the following details: <br> Company Name: ABC Corporation <br> Location: India <br> Contact Detail: 999-999-9999\n",
    "### Ans:-"
   ]
  },
  {
   "cell_type": "code",
   "execution_count": null,
   "id": "d7a8a561-ba5b-4b3c-be3f-392da7905a1c",
   "metadata": {},
   "outputs": [
    {
     "name": "stdout",
     "output_type": "stream",
     "text": [
      " * Serving Flask app '__main__'\n",
      " * Debug mode: off\n"
     ]
    },
    {
     "name": "stderr",
     "output_type": "stream",
     "text": [
      "WARNING: This is a development server. Do not use it in a production deployment. Use a production WSGI server instead.\n",
      " * Running on all addresses (0.0.0.0)\n",
      " * Running on http://127.0.0.1:5000\n",
      " * Running on http://172.18.0.3:5000\n",
      "Press CTRL+C to quit\n",
      "172.18.0.2 - - [22/Sep/2023 12:51:17] \"GET /Welcome/Details HTTP/1.1\" 200 -\n"
     ]
    }
   ],
   "source": [
    "from flask import Flask\n",
    "\n",
    "app = Flask(__name__)\n",
    "\n",
    "@app.route(\"/Welcome\")\n",
    "def Welcome():\n",
    "    return \"<h1>Welcome to ABC Corporation</h1>\"\n",
    "\n",
    "@app.route(\"/Welcome/Details\")\n",
    "def Details():\n",
    "    return \"<p> <h1>Company Name : ABC Corporation <br> Location: India <br> Contact Detail: 999-999-9999</h1></p>\"\n",
    "\n",
    "if __name__==\"__main__\":\n",
    "    app.run(host=\"0.0.0.0\")"
   ]
  },
  {
   "cell_type": "markdown",
   "id": "db70e573-4c6f-48eb-a70c-d6b3175b27e6",
   "metadata": {},
   "source": [
    "![user](welcom_details.png)\n"
   ]
  },
  {
   "cell_type": "markdown",
   "id": "c36392cc-4258-42b4-ae6c-83a53e982725",
   "metadata": {},
   "source": [
    "### Question-5: What function is used in Flask for URL Building? Write a Python code to demonstrate the working of the url_for() function.\n",
    "### Ans:-\n",
    "<strong> The url_for() function is used to build a URL to the specific function dynamically.\n",
    "The first argument is the name of the specified function, and then we can pass any number of keyword argument corresponding to the variable part of the URL.\n",
    "This function is useful in the sense that we can avoid hard-coding the URLs into the templates by dynamically building them using this function. </strong>"
   ]
  },
  {
   "cell_type": "code",
   "execution_count": null,
   "id": "34894662-2189-4ac5-982a-9d1a3e70aaef",
   "metadata": {},
   "outputs": [
    {
     "name": "stdout",
     "output_type": "stream",
     "text": [
      " * Serving Flask app '__main__'\n",
      " * Debug mode: off\n"
     ]
    },
    {
     "name": "stderr",
     "output_type": "stream",
     "text": [
      "WARNING: This is a development server. Do not use it in a production deployment. Use a production WSGI server instead.\n",
      " * Running on all addresses (0.0.0.0)\n",
      " * Running on http://127.0.0.1:5000\n",
      " * Running on http://172.18.0.3:5000\n",
      "Press CTRL+C to quit\n",
      "172.18.0.2 - - [22/Sep/2023 13:25:25] \"GET /admin HTTP/1.1\" 200 -\n",
      "172.18.0.2 - - [22/Sep/2023 13:26:24] \"GET /user HTTP/1.1\" 404 -\n",
      "[2023-09-22 13:26:48,266] ERROR in app: Exception on /user/<name> [GET]\n",
      "Traceback (most recent call last):\n",
      "  File \"/opt/conda/lib/python3.10/site-packages/flask/app.py\", line 2190, in wsgi_app\n",
      "    response = self.full_dispatch_request()\n",
      "  File \"/opt/conda/lib/python3.10/site-packages/flask/app.py\", line 1487, in full_dispatch_request\n",
      "    return self.finalize_request(rv)\n",
      "  File \"/opt/conda/lib/python3.10/site-packages/flask/app.py\", line 1506, in finalize_request\n",
      "    response = self.make_response(rv)\n",
      "  File \"/opt/conda/lib/python3.10/site-packages/flask/app.py\", line 1801, in make_response\n",
      "    raise TypeError(\n",
      "TypeError: The view function for 'user' did not return a valid response. The function either returned None or ended without a return statement.\n",
      "172.18.0.2 - - [22/Sep/2023 13:26:48] \"GET /user/<name> HTTP/1.1\" 500 -\n",
      "172.18.0.2 - - [22/Sep/2023 13:27:03] \"GET /user/admin HTTP/1.1\" 302 -\n",
      "172.18.0.2 - - [22/Sep/2023 13:27:03] \"GET /admin HTTP/1.1\" 200 -\n",
      "172.18.0.2 - - [22/Sep/2023 13:27:15] \"GET /librarion HTTP/1.1\" 200 -\n"
     ]
    }
   ],
   "source": [
    "from flask import *\n",
    "\n",
    "app=Flask(__name__)\n",
    "\n",
    "@app.route(\"/admin\")\n",
    "def admin():\n",
    "    return \"admin\"\n",
    "\n",
    "@app.route(\"/librarion\")\n",
    "def librarion():\n",
    "    return \"librarion\"\n",
    "\n",
    "@app.route(\"/studenr\")\n",
    "def student():\n",
    "    return \"student\"\n",
    "\n",
    "@app.route(\"/user/<name>\")\n",
    "def user(name):\n",
    "    \n",
    "    if name==\"admin\":\n",
    "        return redirect(url_for(\"admin\"))\n",
    "                       \n",
    "    if name==\"librarion\":\n",
    "       return redirect(url_for(\"librarion\"))\n",
    "    \n",
    "    if name==\"student\":\n",
    "       return redirect(url_for(\"student\"))\n",
    "                       \n",
    "if __name__==\"__main__\":\n",
    "    app.run(host=\"0.0.0.0\")"
   ]
  },
  {
   "cell_type": "markdown",
   "id": "1158d3d2-8f14-4a52-8604-0158bca62951",
   "metadata": {},
   "source": [
    "![welcom](user.png)"
   ]
  },
  {
   "cell_type": "raw",
   "id": "43a17128-23f1-40ed-9502-d07e01432764",
   "metadata": {},
   "source": []
  }
 ],
 "metadata": {
  "kernelspec": {
   "display_name": "Python 3 (ipykernel)",
   "language": "python",
   "name": "python3"
  },
  "language_info": {
   "codemirror_mode": {
    "name": "ipython",
    "version": 3
   },
   "file_extension": ".py",
   "mimetype": "text/x-python",
   "name": "python",
   "nbconvert_exporter": "python",
   "pygments_lexer": "ipython3",
   "version": "3.10.8"
  }
 },
 "nbformat": 4,
 "nbformat_minor": 5
}

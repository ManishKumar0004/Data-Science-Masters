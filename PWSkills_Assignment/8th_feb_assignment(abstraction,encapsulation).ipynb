{
 "cells": [
  {
   "cell_type": "code",
   "execution_count": 2,
   "id": "500f63bb-7e8a-487a-9c82-34e283d785cf",
   "metadata": {},
   "outputs": [],
   "source": [
    "\"\"\"Q-1: What is Abstraction in oops ? Explain with an example ?\n",
    "   Ans:- \n",
    "       Abstraction is used to hide the internal functionality of the function from the user.\n",
    "       The users only interact with the basic implementation of the function,but inner working is hidden.User is \n",
    "       familiar\n",
    "       with that \"what function does\" but they don't know \"how it does\".\n",
    "       \n",
    "       In simple words,we all use the smartphone and very much familiar with its functions such as camera,voice-recorder,\n",
    "       call-dialing, etc., but we don't know how these operations are happening in the background.\n",
    "       Let's take another example- when we use TV remote to increase the volume. We don't know how pressing a \n",
    "       key increase\n",
    "       the volume of the TV.We only know to press the \"+\" button to increase the volume.\n",
    "       That is exactly the abstraction that works in the object-oriented concept.\n",
    "       \n",
    "       Python provides the abc module to use the abstraction in the python program.\n",
    "       Let's see the followinh syntax.\n",
    "       \n",
    "       from abc import ABC\n",
    "       class ClassName(ABC):                                                      \"\"\"\n",
    "\n",
    "\n",
    "# Example:-\n",
    "\n",
    "from abc import ABC\n",
    "\n",
    "class car(ABC):\n",
    "    \n",
    "    def mileage(self):\n",
    "        pass       "
   ]
  },
  {
   "cell_type": "code",
   "execution_count": 3,
   "id": "e7310f09-754e-446c-9757-ab015516a83c",
   "metadata": {},
   "outputs": [],
   "source": [
    "class Tesla (car):\n",
    "    \n",
    "    def mileage(self):\n",
    "        \n",
    "        print(\"The mileage is 30kmph\")"
   ]
  },
  {
   "cell_type": "code",
   "execution_count": 4,
   "id": "adb8721e-c9f0-4d5c-9945-c5753f4d93ca",
   "metadata": {},
   "outputs": [],
   "source": [
    "class Suzuki(car):\n",
    "    \n",
    "    def mileage(self):\n",
    "        \n",
    "        print(\"The mileage is 50kmph\")"
   ]
  },
  {
   "cell_type": "code",
   "execution_count": 5,
   "id": "0236480c-6a06-4c55-96e3-42ffcff758fb",
   "metadata": {},
   "outputs": [],
   "source": [
    "class Duster(car):\n",
    "    \n",
    "    def mileage(self):\n",
    "        \n",
    "        print(\"The mileage is 70kmph\")"
   ]
  },
  {
   "cell_type": "code",
   "execution_count": 6,
   "id": "19579223-080e-40d2-810c-60aec4076324",
   "metadata": {},
   "outputs": [],
   "source": [
    "class Renault(car):\n",
    "    \n",
    "    def mileage(self):\n",
    "        \n",
    "        print(\"The mileage is 90kmph\")"
   ]
  },
  {
   "cell_type": "code",
   "execution_count": 7,
   "id": "4111724e-b077-4b09-9289-ab32c4de1540",
   "metadata": {},
   "outputs": [],
   "source": [
    "t=Tesla()"
   ]
  },
  {
   "cell_type": "code",
   "execution_count": 13,
   "id": "e67ab705-4604-4ff3-a2e1-5efcdd6eaca9",
   "metadata": {},
   "outputs": [
    {
     "name": "stdout",
     "output_type": "stream",
     "text": [
      "The mileage is 30kmph\n"
     ]
    }
   ],
   "source": [
    "t.mileage()       # The mileage is 30kmph"
   ]
  },
  {
   "cell_type": "code",
   "execution_count": 14,
   "id": "2b234590-354a-4e29-9a60-48363c00db64",
   "metadata": {},
   "outputs": [],
   "source": [
    "r=Renault()      # The mileage is 90kmph"
   ]
  },
  {
   "cell_type": "code",
   "execution_count": 15,
   "id": "052ab596-b6ca-41f0-b0e6-26e8f7af8076",
   "metadata": {},
   "outputs": [
    {
     "name": "stdout",
     "output_type": "stream",
     "text": [
      "The mileage is 90kmph\n"
     ]
    }
   ],
   "source": [
    "r.mileage()      # The mileage is 90kmph"
   ]
  },
  {
   "cell_type": "code",
   "execution_count": 17,
   "id": "fff215e5-5229-4da7-968b-47dd144a08b3",
   "metadata": {},
   "outputs": [],
   "source": [
    "d=Duster()      "
   ]
  },
  {
   "cell_type": "code",
   "execution_count": 18,
   "id": "3c198e5b-167b-4261-b232-1c62ad61b910",
   "metadata": {},
   "outputs": [
    {
     "name": "stdout",
     "output_type": "stream",
     "text": [
      "The mileage is 70kmph\n"
     ]
    }
   ],
   "source": [
    "d.mileage()     # The mileage is 70kmph"
   ]
  },
  {
   "cell_type": "code",
   "execution_count": 1,
   "id": "ff85305d-5516-45f0-b452-7da83cc8a35c",
   "metadata": {},
   "outputs": [
    {
     "data": {
      "text/plain": [
       "' In the above code, we have imported the abc module to create the abstract base class.We created the car class that\\n    inherited the ABC class and defined an abstract method named mileage().We have then inherited the base class from \\n    the three different subclasses and implemntated the abstract method differently.We created the objects to call the \\n    abstract method.      '"
      ]
     },
     "execution_count": 1,
     "metadata": {},
     "output_type": "execute_result"
    }
   ],
   "source": [
    "\"\"\" In the above code, we have imported the abc module to create the abstract base class.We created the car class that\n",
    "    inherited the ABC class and defined an abstract method named mileage().We have then inherited the base class from \n",
    "    the three different subclasses and implemntated the abstract method differently.We created the objects to call the \n",
    "    abstract method.      \"\"\""
   ]
  },
  {
   "cell_type": "code",
   "execution_count": 6,
   "id": "5aa8d999-b0d4-44c0-b289-6a5a153718a0",
   "metadata": {},
   "outputs": [],
   "source": [
    "\"\"\"Q-2: Differentaite between Abstraction and Encapsulation ? Expalin with example ?\n",
    "   Ans:- \n",
    "             Abstraction                                    Encapsulaion\n",
    "       \n",
    "       Abstraction works on the design level.        Encapsulation works on the application level.\n",
    "       \n",
    "       Abstraction is implemented to hide un-        Encapsulation is the mechanism of hiding the code and the \n",
    "       necessary data and withdrawing relevent       data together from the outside world or misuse.\n",
    "       data.\n",
    "       \n",
    "       It highlights what the work of an object      It focuses on the inner details of how the object work. \n",
    "       instead of how the object works is.           Modification can be done later to the setting.\n",
    "       \n",
    "       Abstraction focuses on outside viewing,       Encapsulation focuses on internal working or inner viewing,\n",
    "       for example,shifting the car.                 for example, the production of the car.\n",
    "       \n",
    "       Abstraction is supported in java with the     Encapsulation is supported using e.g. public ,private, and \n",
    "       abstract class.                               secure access modification systems.\n",
    "       \n",
    "       In a nutshell,abstration is hiding imple-     In a nutshell,encapsulation is hiding the data with the help \n",
    "       mentation with the help of an interface       of getters and setters.\n",
    "       and abstract class.\n",
    "                                \"\"\"\n",
    "# Abstraction and Encapsulation in Python :-\n",
    "\n",
    "class library:\n",
    "    \n",
    "    def __init__(self,books):\n",
    "        self.books=books\n",
    "        \n",
    "    def list_books(self):\n",
    "        print(\"Available Books\")\n",
    "        for book in self.books:\n",
    "            print(book)\n",
    "    \n",
    "    def borrow_book(self,borrow_book):\n",
    "        if borrow_book in self.books:\n",
    "            print(\"Get Your Book Now\")\n",
    "            self.books.remove(borrow_book)\n",
    "        else:\n",
    "            print(\"Book not Available\")\n",
    "            \n",
    "    def receive_book(self,receive_book):\n",
    "        print(\"You have returned the book\")\n",
    "        self.books.append(receive_book)\n",
    " \n",
    "\n",
    "               "
   ]
  },
  {
   "cell_type": "code",
   "execution_count": null,
   "id": "df9a963c-7bbd-4727-a695-5cad053b930c",
   "metadata": {},
   "outputs": [
    {
     "name": "stdout",
     "output_type": "stream",
     "text": [
      "1. Display Book\n",
      "        2. Borrow Book\n",
      "        3. Return Book\n",
      "        \n"
     ]
    }
   ],
   "source": [
    "books = ['C','C++','Java']\n",
    "o = library(books)\n",
    "\n",
    "msg= \"\"\"1. Display Book\n",
    "        2. Borrow Book\n",
    "        3. Return Book\n",
    "        \"\"\"\n",
    "while True:\n",
    "    print(msg)\n",
    "    ch = int(input(\"Enter Your Choice:\"))\n",
    "    if ch==1:\n",
    "        o.list_books()\n",
    "    elif ch==2:\n",
    "        book=input(\"Enter Book Name To Borrow:\")\n",
    "        o.borrow_book(book)\n",
    "    elif ch==3:\n",
    "        book=input(\"Enter Book Name To Return:\")\n",
    "        o.receive_book(book)\n",
    "    else:\n",
    "        print(\"Thank You come again \")\n",
    "        "
   ]
  },
  {
   "cell_type": "code",
   "execution_count": 2,
   "id": "4d71ab1c-e457-4ea7-8a74-48f118888eac",
   "metadata": {},
   "outputs": [
    {
     "data": {
      "text/plain": [
       "\"Q-3: What is abc module in python ? Why is it used ?\\n   Ans:-\\n   \\n   A class is called an Abstract class if it contains one or more abstract methods.An abstract method is \\n   a method that is declared, but contains no implementation.Anstract classes may not be instantiated and its abstract\\n   methods must be implemented by its subclasses.\\n   \\n   The 'abc' module in python library provides the infrastructure for defining custom abstract base class.\\n   \\n   'abc' works by marking method of the base class an abstract.This is done by @abc.abtractmethod decorator.A concrete\\n   class wich is a sub class of such abstract base class then implements the abstract base by overriding its abstract\\n   methods.\\n   \\n   \\n   Abstract Base Classes (ABCs) ensure that derived classes implement particular methods from the base class at\\n   instantiation time.\\n   \\n   Using ABCs can help avoid bugs and make class hierarchies easier to maintain.  \""
      ]
     },
     "execution_count": 2,
     "metadata": {},
     "output_type": "execute_result"
    }
   ],
   "source": [
    "\"\"\"Q-3: What is abc module in python ? Why is it used ?\n",
    "   Ans:-\n",
    "   \n",
    "   A class is called an Abstract class if it contains one or more abstract methods.An abstract method is \n",
    "   a method that is declared, but contains no implementation.Anstract classes may not be instantiated and its abstract\n",
    "   methods must be implemented by its subclasses.\n",
    "   \n",
    "   The 'abc' module in python library provides the infrastructure for defining custom abstract base class.\n",
    "   \n",
    "   'abc' works by marking method of the base class an abstract.This is done by @abc.abtractmethod decorator.A concrete\n",
    "   class wich is a sub class of such abstract base class then implements the abstract base by overriding its abstract\n",
    "   methods.\n",
    "   \n",
    "   \n",
    "   Abstract Base Classes (ABCs) ensure that derived classes implement particular methods from the base class at\n",
    "   instantiation time.\n",
    "   \n",
    "   Using ABCs can help avoid bugs and make class hierarchies easier to maintain.  \"\"\"\n",
    "   "
   ]
  },
  {
   "cell_type": "code",
   "execution_count": 1,
   "id": "4ac5e473-fbd5-4ac4-ad51-1664fffe06eb",
   "metadata": {},
   "outputs": [
    {
     "data": {
      "text/plain": [
       "'Q-4: How can we achieve the data abstraction ?\\n   Ans:- \\n   \\n   In python, abstraction can be achieved by having / using anstract classes and methods in our programs.\\n   An abstract method is a method that is declared , but does not contain inplementation.\\n   An abstract method in a base class identifies hte functionality that should be implemented by all its subclasses.\\n   However,since the implmentation of an abstract mwthod would differ from one subclass to another ,often the method\\n   body comprises just a pass statement.\\n   Every subclass of the base class will ride this method with its implementation.\\n   A class containing abstract methods is called abstract class.Python provides the abc module to use the abstraction\\n   in the python program , syntax as:\\n   \\n   from abc import ABC\\n   class ClassName(ABC):\\n   \\n   \\n   \\n   '"
      ]
     },
     "execution_count": 1,
     "metadata": {},
     "output_type": "execute_result"
    }
   ],
   "source": [
    "\"\"\"Q-4: How can we achieve the data abstraction ?\n",
    "   Ans:- \n",
    "   \n",
    "   In python, abstraction can be achieved by having / using anstract classes and methods in our programs.\n",
    "   An abstract method is a method that is declared , but does not contain implementation.\n",
    "   An abstract method in a base class identifies hte functionality that should be implemented by all its subclasses.\n",
    "   However,since the implmentation of an abstract mwthod would differ from one subclass to another ,often the method\n",
    "   body comprises just a pass statement.\n",
    "   Every subclass of the base class will ride this method with its implementation.\n",
    "   A class containing abstract methods is called abstract class.Python provides the abc module to use the abstraction\n",
    "   in the python program , syntax as:\n",
    "   \n",
    "   from abc import ABC\n",
    "   class ClassName(ABC):\n",
    "   \n",
    "   \n",
    "   \n",
    "   \"\"\"\n",
    "   "
   ]
  },
  {
   "cell_type": "code",
   "execution_count": 3,
   "id": "a234cc62-ef72-4a29-9349-68a88704348d",
   "metadata": {},
   "outputs": [
    {
     "data": {
      "text/plain": [
       "'Q-5: Can we create an instance of an abstract class ? Explain your answer ?\\n   Ans:-\\n   \\n   Abstract classes are not complete, as they may have some methods that are not defined.\\n   So we cannot create an instance or object of an abstract class in python.\\n   It we try to instantiate the abstract class,it taises an error.  '"
      ]
     },
     "execution_count": 3,
     "metadata": {},
     "output_type": "execute_result"
    }
   ],
   "source": [
    "\"\"\"Q-5: Can we create an instance of an abstract class ? Explain your answer ?\n",
    "   Ans:-\n",
    "   \n",
    "   Abstract classes are not complete, as they may have some methods that are not defined.\n",
    "   So we cannot create an instance or object of an abstract class in python.\n",
    "   If we try to instantiate the abstract class,it raises an error.  \"\"\""
   ]
  },
  {
   "cell_type": "code",
   "execution_count": null,
   "id": "15394eed-c3f2-4256-b30d-9f7f82d0ee31",
   "metadata": {},
   "outputs": [],
   "source": []
  }
 ],
 "metadata": {
  "kernelspec": {
   "display_name": "Python 3 (ipykernel)",
   "language": "python",
   "name": "python3"
  },
  "language_info": {
   "codemirror_mode": {
    "name": "ipython",
    "version": 3
   },
   "file_extension": ".py",
   "mimetype": "text/x-python",
   "name": "python",
   "nbconvert_exporter": "python",
   "pygments_lexer": "ipython3",
   "version": "3.10.8"
  }
 },
 "nbformat": 4,
 "nbformat_minor": 5
}

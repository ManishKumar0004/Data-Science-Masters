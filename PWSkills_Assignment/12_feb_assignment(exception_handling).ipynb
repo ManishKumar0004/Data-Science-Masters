{
 "cells": [
  {
   "cell_type": "code",
   "execution_count": 3,
   "id": "dea33697-7e0c-415c-894e-aee2700930c8",
   "metadata": {},
   "outputs": [
    {
     "ename": "SyntaxError",
     "evalue": "expected ':' (1616873550.py, line 15)",
     "output_type": "error",
     "traceback": [
      "\u001b[0;36m  Cell \u001b[0;32mIn[3], line 15\u001b[0;36m\u001b[0m\n\u001b[0;31m    if (amount<4000)\u001b[0m\n\u001b[0m                    ^\u001b[0m\n\u001b[0;31mSyntaxError\u001b[0m\u001b[0;31m:\u001b[0m expected ':'\n"
     ]
    }
   ],
   "source": [
    "\"\"\"Question-1: What is an Exception in python? Write the difference between Exception and Syntax error ?\n",
    "   Ans:- \n",
    "   \n",
    "   An exception is unexpected/unwanted/abnormal situation , which occurs during the execution of a program\n",
    "   that distrupt the normal flow of the program's instructions.In general,when a python script encounters a situation\n",
    "   that it cannot cope with, it raise an exception.An exception is a python object that represents an error.\n",
    "   When a python script raise an exception, it must either handle the exception immediately otherwise it terminates and \n",
    "   quits.\n",
    "   \n",
    "   (i) Syntax Errors:\n",
    "                     \n",
    "        When the proper syntax of the language is not followed then a syntax error is thrown. \"\"\"\n",
    "# Example:-\n",
    "amount=10000\n",
    "if (amount<4000)\n",
    "   print(\"you can buy course\")"
   ]
  },
  {
   "cell_type": "code",
   "execution_count": 5,
   "id": "e26baf4c-930a-4464-9d09-f3a63047fb4a",
   "metadata": {},
   "outputs": [
    {
     "ename": "ZeroDivisionError",
     "evalue": "division by zero",
     "output_type": "error",
     "traceback": [
      "\u001b[0;31m---------------------------------------------------------------------------\u001b[0m",
      "\u001b[0;31mZeroDivisionError\u001b[0m                         Traceback (most recent call last)",
      "Cell \u001b[0;32mIn[5], line 10\u001b[0m\n\u001b[1;32m      4\u001b[0m \u001b[38;5;124;03m\"\"\"(ii) Exception Errors:\u001b[39;00m\n\u001b[1;32m      5\u001b[0m \u001b[38;5;124;03m        When in the runtime an error that occurs after passing the syntax test is called exception or logical type.\u001b[39;00m\n\u001b[1;32m      6\u001b[0m \u001b[38;5;124;03m        For example, when we divide any number by zero then the ZeroDivisionError exception is raised,or when we import\u001b[39;00m\n\u001b[1;32m      7\u001b[0m \u001b[38;5;124;03m        a module that does not exist then ImportError is raised.\"\"\"\u001b[39;00m\n\u001b[1;32m      8\u001b[0m marks\u001b[38;5;241m=\u001b[39m\u001b[38;5;241m1000\u001b[39m\n\u001b[0;32m---> 10\u001b[0m a\u001b[38;5;241m=\u001b[39m\u001b[43mmarks\u001b[49m\u001b[38;5;241;43m/\u001b[39;49m\u001b[38;5;241;43m0\u001b[39;49m\n\u001b[1;32m     11\u001b[0m \u001b[38;5;28mprint\u001b[39m(a)\n",
      "\u001b[0;31mZeroDivisionError\u001b[0m: division by zero"
     ]
    }
   ],
   "source": [
    "\"\"\" It returns an syntax error message because after the if statement a colon : is missing.We can fix this\n",
    "    by writing the correct syntax. \"\"\"\n",
    "\n",
    "\"\"\"(ii) Exception Errors:\n",
    "        When in the runtime an error that occurs after passing the syntax test is called exception or logical type.\n",
    "        For example, when we divide any number by zero then the ZeroDivisionError exception is raised,or when we import\n",
    "        a module that does not exist then ImportError is raised.\"\"\"\n",
    "marks=1000\n",
    "\n",
    "a=marks/0\n",
    "print(a)"
   ]
  },
  {
   "cell_type": "code",
   "execution_count": 6,
   "id": "6a7ee33f-d273-4181-ba4d-f868704a7b44",
   "metadata": {},
   "outputs": [
    {
     "data": {
      "text/plain": [
       "False"
      ]
     },
     "execution_count": 6,
     "metadata": {},
     "output_type": "execute_result"
    }
   ],
   "source": [
    "\"\"\"Question-2: What happens when an exception is not handled? Explain with example ?\n",
    "   Ans:- \n",
    "   If the exception is not handled by an except clause,the exception is re-raised after the finally clause\n",
    "   has been executed. When an exception occurred,if you don't handle it,the program terminates abruptly and\n",
    "   the code past the line that caused the exception will not get executed.\"\"\"\n",
    "def bool_return():\n",
    "    try:\n",
    "        return True\n",
    "    finally:\n",
    "        return False\n",
    "bool_return()"
   ]
  },
  {
   "cell_type": "code",
   "execution_count": 7,
   "id": "0301f88c-8df7-4077-a2d1-fa17d00c82b3",
   "metadata": {},
   "outputs": [],
   "source": [
    "def divide(x,y):\n",
    "    try:\n",
    "        result=x/y\n",
    "    except ZeroDivisionError:\n",
    "        print(\"division by zero\")\n",
    "    else:\n",
    "        print(\"result is\",result)\n",
    "    finally:\n",
    "        print(\"executing finally clause\")"
   ]
  },
  {
   "cell_type": "code",
   "execution_count": 8,
   "id": "defeab08-e30f-4432-b9bb-732dc1da2e91",
   "metadata": {},
   "outputs": [
    {
     "name": "stdout",
     "output_type": "stream",
     "text": [
      "result is 2.0\n",
      "executing finally clause\n"
     ]
    }
   ],
   "source": [
    "divide(2,1)"
   ]
  },
  {
   "cell_type": "code",
   "execution_count": 9,
   "id": "6d5ed571-84b4-4ab0-a344-a4ae7ae96e05",
   "metadata": {},
   "outputs": [
    {
     "name": "stdout",
     "output_type": "stream",
     "text": [
      "division by zero\n",
      "executing finally clause\n"
     ]
    }
   ],
   "source": [
    "divide(2,0)"
   ]
  },
  {
   "cell_type": "code",
   "execution_count": 10,
   "id": "767b8edf-c86d-4fca-b708-1be4afcd7267",
   "metadata": {},
   "outputs": [
    {
     "name": "stdout",
     "output_type": "stream",
     "text": [
      "executing finally clause\n"
     ]
    },
    {
     "ename": "TypeError",
     "evalue": "unsupported operand type(s) for /: 'str' and 'str'",
     "output_type": "error",
     "traceback": [
      "\u001b[0;31m---------------------------------------------------------------------------\u001b[0m",
      "\u001b[0;31mTypeError\u001b[0m                                 Traceback (most recent call last)",
      "Cell \u001b[0;32mIn[10], line 1\u001b[0m\n\u001b[0;32m----> 1\u001b[0m \u001b[43mdivide\u001b[49m\u001b[43m(\u001b[49m\u001b[38;5;124;43m\"\u001b[39;49m\u001b[38;5;124;43m2\u001b[39;49m\u001b[38;5;124;43m\"\u001b[39;49m\u001b[43m,\u001b[49m\u001b[38;5;124;43m\"\u001b[39;49m\u001b[38;5;124;43m1\u001b[39;49m\u001b[38;5;124;43m\"\u001b[39;49m\u001b[43m)\u001b[49m\n",
      "Cell \u001b[0;32mIn[7], line 3\u001b[0m, in \u001b[0;36mdivide\u001b[0;34m(x, y)\u001b[0m\n\u001b[1;32m      1\u001b[0m \u001b[38;5;28;01mdef\u001b[39;00m \u001b[38;5;21mdivide\u001b[39m(x,y):\n\u001b[1;32m      2\u001b[0m     \u001b[38;5;28;01mtry\u001b[39;00m:\n\u001b[0;32m----> 3\u001b[0m         result\u001b[38;5;241m=\u001b[39m\u001b[43mx\u001b[49m\u001b[38;5;241;43m/\u001b[39;49m\u001b[43my\u001b[49m\n\u001b[1;32m      4\u001b[0m     \u001b[38;5;28;01mexcept\u001b[39;00m \u001b[38;5;167;01mZeroDivisionError\u001b[39;00m:\n\u001b[1;32m      5\u001b[0m         \u001b[38;5;28mprint\u001b[39m(\u001b[38;5;124m\"\u001b[39m\u001b[38;5;124mdivision by zero\u001b[39m\u001b[38;5;124m\"\u001b[39m)\n",
      "\u001b[0;31mTypeError\u001b[0m: unsupported operand type(s) for /: 'str' and 'str'"
     ]
    }
   ],
   "source": [
    "divide(\"2\",\"1\")"
   ]
  },
  {
   "cell_type": "code",
   "execution_count": 1,
   "id": "2ef12d2b-7737-4316-8916-d5fba0533b88",
   "metadata": {},
   "outputs": [
    {
     "name": "stdout",
     "output_type": "stream",
     "text": [
      "ZeroDivisionError occurred and handled\n"
     ]
    }
   ],
   "source": [
    "\"\"\"Question-3: Which python statement are used to catch and handle exceptions? Explain with an example?\n",
    "   Ans:- The try and except block in python is used to catch and handle exceptions. Python executes code \n",
    "         following the try statement as a \"normal\" part of the program.\"\"\"\n",
    "# Example:-\n",
    "\n",
    "# program to handle multiple errors with one\n",
    "# except statement \n",
    "# python 3\n",
    "\n",
    "def fun(a):\n",
    "    if a < 4:\n",
    "        \n",
    "        # throws ZeroDivisionError for a = 3\n",
    "        b=a/(a-3)\n",
    "        \n",
    "    # throws NameError if a >=4\n",
    "    print(\"value of b = \",b)\n",
    "try:\n",
    "    fun(3)\n",
    "    fun(5)\n",
    "\n",
    "# note that braces () are necessary here for \n",
    "# multiple exceptions\n",
    "\n",
    "except ZeroDivisionError :\n",
    "    print(\"ZeroDivisionError occurred and handled\")\n",
    "except NameError :\n",
    "    print(\"NameError occurred and handled\")"
   ]
  },
  {
   "cell_type": "code",
   "execution_count": 2,
   "id": "45bb7681-de3d-414f-80ab-e2e58e91928a",
   "metadata": {},
   "outputs": [
    {
     "name": "stdout",
     "output_type": "stream",
     "text": [
      "Yeah ! Your answer is  1\n"
     ]
    }
   ],
   "source": [
    "\"\"\"Question-4: Explain with an example:\n",
    "               (a) try and else\n",
    "               (b) finally\n",
    "               (c) raise\n",
    "   Ans:-\n",
    "   \n",
    "   (a) Try and Else:-\n",
    "   The code enters the else block only if the try clause does not raise an exception.\n",
    "   Example: Else block will execute only when no exception occurs. \"\"\"\n",
    "\n",
    "# python code to illustrate\n",
    "# working of try()\n",
    "def divide(x,y):\n",
    "    try:\n",
    "        # floor division: gives only fractional\n",
    "        # part as answer \n",
    "        result=x//y\n",
    "    except ZeroDivisionError :\n",
    "        print(\"Sorry ! You are dividing by zero \")\n",
    "    else:\n",
    "        print(\"Yeah ! Your answer is \",result)\n",
    "        \n",
    "# look at parameters and note the working of program\n",
    "divide(3,2)\n",
    "   "
   ]
  },
  {
   "cell_type": "code",
   "execution_count": 3,
   "id": "63073312-2f9b-4f54-bfc1-8b7dd20101e1",
   "metadata": {},
   "outputs": [
    {
     "name": "stdout",
     "output_type": "stream",
     "text": [
      "Sorry ! You are dividing by zero \n"
     ]
    }
   ],
   "source": [
    "divide(3,0)"
   ]
  },
  {
   "cell_type": "code",
   "execution_count": 4,
   "id": "7e354f08-bb95-477f-acab-59e83f1d3e1a",
   "metadata": {},
   "outputs": [
    {
     "name": "stdout",
     "output_type": "stream",
     "text": [
      "Yeah ! Your answer is 1\n",
      "This is always executed\n"
     ]
    }
   ],
   "source": [
    "\"\"\" (b) finally :-\n",
    "       \n",
    "       Python provides a keyword finally, which is always executed after try and except block.The finally block always \n",
    "       executes after normal termination of try block or after try block terminates due to some exception.Even if you \n",
    "       return in the except block still the block will execute.\n",
    "       \n",
    "Example : Let's try to throw the exception in except block and finally will execute either exception will \n",
    "          generate or not. \"\"\"\n",
    "\n",
    "# python code to illustrate \n",
    "# working of try()\n",
    "\n",
    "def divide(x,y):\n",
    "    try:\n",
    "          # floor division : gives only fractional\n",
    "          # part as answer\n",
    "        result=x//y\n",
    "    except ZeroDivisionError:\n",
    "        print(\"Sorry ! You are dividing by zero\")\n",
    "    else:\n",
    "        print(\"Yeah ! Your answer is\",result)\n",
    "    finally:\n",
    "        \n",
    "        # this block is always executed\n",
    "        # regardless of exception generation\n",
    "        print(\"This is always executed\")\n",
    "# look at parameters and note the working of program\n",
    "divide(3,2)"
   ]
  },
  {
   "cell_type": "code",
   "execution_count": 5,
   "id": "5c8d79ac-e55e-48e2-aba4-c2d786738946",
   "metadata": {},
   "outputs": [
    {
     "name": "stdout",
     "output_type": "stream",
     "text": [
      "Sorry ! You are dividing by zero\n",
      "This is always executed\n"
     ]
    }
   ],
   "source": [
    "divide(3,0)"
   ]
  },
  {
   "cell_type": "code",
   "execution_count": 6,
   "id": "0185984e-d49b-440f-b697-b15a1199d6d5",
   "metadata": {},
   "outputs": [
    {
     "ename": "Exception",
     "evalue": "The number shouldn't be an odd integer",
     "output_type": "error",
     "traceback": [
      "\u001b[0;31m---------------------------------------------------------------------------\u001b[0m",
      "\u001b[0;31mException\u001b[0m                                 Traceback (most recent call last)",
      "Cell \u001b[0;32mIn[6], line 8\u001b[0m\n\u001b[1;32m      6\u001b[0m a\u001b[38;5;241m=\u001b[39m\u001b[38;5;241m5\u001b[39m\n\u001b[1;32m      7\u001b[0m \u001b[38;5;28;01mif\u001b[39;00m a\u001b[38;5;241m%\u001b[39m\u001b[38;5;241m2\u001b[39m\u001b[38;5;241m!=\u001b[39m\u001b[38;5;241m0\u001b[39m :\n\u001b[0;32m----> 8\u001b[0m     \u001b[38;5;28;01mraise\u001b[39;00m \u001b[38;5;167;01mException\u001b[39;00m(\u001b[38;5;124m\"\u001b[39m\u001b[38;5;124mThe number shouldn\u001b[39m\u001b[38;5;124m'\u001b[39m\u001b[38;5;124mt be an odd integer\u001b[39m\u001b[38;5;124m\"\u001b[39m)\n",
      "\u001b[0;31mException\u001b[0m: The number shouldn't be an odd integer"
     ]
    }
   ],
   "source": [
    "\"\"\"(c) raise :-\n",
    "       The raise keyword is used to raise an exception.\n",
    "       You can define what kind of error to raise, and the text to print to the user.\"\"\"\n",
    "# Example:-\n",
    "\n",
    "a=5\n",
    "if a%2!=0 :\n",
    "    raise Exception(\"The number shouldn't be an odd integer\")\n",
    "    "
   ]
  },
  {
   "cell_type": "code",
   "execution_count": 9,
   "id": "daeb5bc2-ef1d-43e0-a745-e1527f124e2f",
   "metadata": {},
   "outputs": [
    {
     "name": "stdin",
     "output_type": "stream",
     "text": [
      "Enter a number:  23\n"
     ]
    },
    {
     "name": "stdout",
     "output_type": "stream",
     "text": [
      "Eligible to vote\n"
     ]
    }
   ],
   "source": [
    "\"\"\"Question-5: What are Custom Exception in python ? Why do we need Custom Exception ? Explain with \n",
    "               an example ? \n",
    "   Ans:- \n",
    "   \n",
    "   Like standard exception classes, custom exception are also classes.Hence,you can add functionality to the \n",
    "   custom exception classes.\n",
    "   \n",
    "   \n",
    "   Adding attributes and properties :\n",
    "   Adding methods e.g.,log the exception ,format the output, etc.\n",
    "   Overriding the __str__and __repr__methods\n",
    "   And doing anything else that you can do with regular classes.\n",
    "   \n",
    "   \n",
    "   When we are developing a large python program, it is a good practice to place all the user-defined exception\n",
    "   that our program raises in a separate file.\n",
    "   Many standard modules define their exception separately as exceptions.py or errors.py (generally but not always).\"\"\"\n",
    "\n",
    "# define python user-defined exceptions\n",
    "\n",
    "class InvalidAgeException(Exception):\n",
    "    \"Raise when the input value is less than 18\"\n",
    "    pass\n",
    "\n",
    "# you need to guess this number \n",
    "number=18\n",
    "\n",
    "try:\n",
    "    input_num = int(input(\"Enter a number: \"))\n",
    "    if input_num < number :\n",
    "        raise InvalidAgeException \n",
    "    else:\n",
    "        print(\"Eligible to vote\")\n",
    "except InvalidAgeException :\n",
    "    print(\"Exception occurred : InvalidAge\")"
   ]
  },
  {
   "cell_type": "code",
   "execution_count": 10,
   "id": "aa68f266-b086-487a-94f2-3a96c4a0f1f7",
   "metadata": {},
   "outputs": [
    {
     "name": "stdin",
     "output_type": "stream",
     "text": [
      "Enter a number:  17\n"
     ]
    },
    {
     "name": "stdout",
     "output_type": "stream",
     "text": [
      "Exception occurred : InvalidAge\n"
     ]
    }
   ],
   "source": [
    "\"\"\"Question-6: Create a custom exception class.Use this class to handle an exception. ? \"\"\"\n",
    "\n",
    "# Example :-\n",
    "\n",
    "# define python user-defined exceptions\n",
    "\n",
    "class InvalidAgeException(Exception):\n",
    "    \"Raise when the input value is less than 18\"\n",
    "    pass\n",
    "\n",
    "# you need to guess this number \n",
    "number=18\n",
    "\n",
    "try:\n",
    "    input_num = int(input(\"Enter a number: \"))\n",
    "    if input_num < number :\n",
    "        raise InvalidAgeException \n",
    "    else:\n",
    "        print(\"Eligible to vote\")\n",
    "except InvalidAgeException :\n",
    "    print(\"Exception occurred : InvalidAge\")"
   ]
  },
  {
   "cell_type": "code",
   "execution_count": null,
   "id": "0e8b1825-04e3-4861-a48c-42669608bd09",
   "metadata": {},
   "outputs": [],
   "source": []
  }
 ],
 "metadata": {
  "kernelspec": {
   "display_name": "Python 3 (ipykernel)",
   "language": "python",
   "name": "python3"
  },
  "language_info": {
   "codemirror_mode": {
    "name": "ipython",
    "version": 3
   },
   "file_extension": ".py",
   "mimetype": "text/x-python",
   "name": "python",
   "nbconvert_exporter": "python",
   "pygments_lexer": "ipython3",
   "version": "3.10.8"
  }
 },
 "nbformat": 4,
 "nbformat_minor": 5
}

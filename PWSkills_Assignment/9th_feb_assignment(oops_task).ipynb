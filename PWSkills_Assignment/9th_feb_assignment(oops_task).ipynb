{
 "cells": [
  {
   "cell_type": "code",
   "execution_count": 1,
   "id": "c28590d9-ec30-40f5-abd3-ed31c1934898",
   "metadata": {},
   "outputs": [],
   "source": [
    "\"\"\"Q-1: Create a vehicle class with an init method having instance variables as name_of_vehicle,\n",
    "        max_speed and average_of_vehicle. \"\"\"\n",
    "\n",
    "class vehicle:\n",
    "    \n",
    "    def __init__(self,name_of_vehicle,max_speed,average_of_vehicle):\n",
    "        \n",
    "        self.name=name_of_vehicle\n",
    "        self.speed=max_speed\n",
    "        self.avg=average_of_vehicle\n",
    "        \n",
    "    def return_vehicle_details(self):\n",
    "        \n",
    "        return self.name,self.speed,self.avg"
   ]
  },
  {
   "cell_type": "code",
   "execution_count": 4,
   "id": "38025695-7158-4ea4-b93e-8910ddf3951e",
   "metadata": {},
   "outputs": [],
   "source": [
    "car=vehicle(\"Tesla\",200,500)"
   ]
  },
  {
   "cell_type": "code",
   "execution_count": 5,
   "id": "90f06b04-d489-483a-a3a0-0deba135c6e7",
   "metadata": {},
   "outputs": [
    {
     "data": {
      "text/plain": [
       "('Tesla', 200, 500)"
      ]
     },
     "execution_count": 5,
     "metadata": {},
     "output_type": "execute_result"
    }
   ],
   "source": [
    "car.return_vehicle_details()"
   ]
  },
  {
   "cell_type": "code",
   "execution_count": 6,
   "id": "a9181ac7-ec4e-44a9-b667-5e455d6ecfd4",
   "metadata": {},
   "outputs": [],
   "source": [
    "Bike=vehicle(\"BMW\",200,7)"
   ]
  },
  {
   "cell_type": "code",
   "execution_count": 7,
   "id": "de6de489-7f2e-466a-b3e2-dadad168b4d8",
   "metadata": {},
   "outputs": [
    {
     "data": {
      "text/plain": [
       "('BMW', 200, 7)"
      ]
     },
     "execution_count": 7,
     "metadata": {},
     "output_type": "execute_result"
    }
   ],
   "source": [
    "Bike.return_vehicle_details()"
   ]
  },
  {
   "cell_type": "code",
   "execution_count": 8,
   "id": "66b30af1-a81c-4ca2-885f-04f5980e4c5a",
   "metadata": {},
   "outputs": [],
   "source": [
    "\"\"\"Q-2: Create a child class car from the vehicle class created in Que 1,which will inherit the\n",
    "        vehicle class.Create a method named seating_capacity which takes capacity as an argument \n",
    "        and returns the name of the vehicle and its seating capacity. \"\"\"\n",
    "class vehicle1:\n",
    "    \n",
    "    def __init__(self,name_of_vehicle,max_speed,average_of_vehicle):\n",
    "        \n",
    "        self.name=name_of_vehicle\n",
    "        self.speed=max_speed\n",
    "        self.avg=average_of_vehicle\n",
    "        \n",
    "    def return_vehicle_details(self):\n",
    "        \n",
    "        return self.name,self.speed,self.avg\n",
    "\n",
    "class car(vehicle1):\n",
    "    \n",
    "    def seating_capacitry(self,capacity):\n",
    "        \n",
    "        return f\" The seating capacity of a {self.name} is {capacity} passengers. \""
   ]
  },
  {
   "cell_type": "code",
   "execution_count": 9,
   "id": "8220b5d6-b92f-4b66-8f50-6bc8298b1b35",
   "metadata": {},
   "outputs": [],
   "source": [
    "car1=car(\"Thar\",150,5)"
   ]
  },
  {
   "cell_type": "code",
   "execution_count": 11,
   "id": "708854ef-f9ee-470e-9b87-d04081d8daf3",
   "metadata": {},
   "outputs": [
    {
     "data": {
      "text/plain": [
       "' The seating capacity of a Thar is 7 passengers. '"
      ]
     },
     "execution_count": 11,
     "metadata": {},
     "output_type": "execute_result"
    }
   ],
   "source": [
    "car1.seating_capacitry(7)"
   ]
  },
  {
   "cell_type": "code",
   "execution_count": 1,
   "id": "1c8bcfbb-280a-4a45-a241-96ce06267331",
   "metadata": {},
   "outputs": [],
   "source": [
    "\"\"\"Q-3: What is multiple inheritance ? Write a python code to demonstrate multiple inheritance ?\n",
    "   Ans:- \n",
    "   \n",
    "   When a class is derived from more than one base class it is called multiple inheritance.The derived\n",
    "   class inherits all the features of the base class.\n",
    "   \n",
    "    Synatx : \n",
    "    \n",
    "    class Base1:\n",
    "          Body of the class \n",
    "    class Base2:\n",
    "          Body of the class\n",
    "    class Base3(Base1,Base2):\n",
    "          Body of the class\n",
    "          \n",
    "\"\"\"\n",
    "\n",
    "## Demonstration:\n",
    "\n",
    "class c1:\n",
    "    \n",
    "    def test_c1(self):\n",
    "        return \"This is class 1\"\n",
    "class c2:\n",
    "    \n",
    "    def test_c2(self):\n",
    "        return \"this is class 2\"\n",
    "class c3(c1,c2):\n",
    "    pass"
   ]
  },
  {
   "cell_type": "code",
   "execution_count": 2,
   "id": "e3183fbd-24f8-4719-8ee8-4c65b7616c60",
   "metadata": {},
   "outputs": [],
   "source": [
    "obj_c3=c3()"
   ]
  },
  {
   "cell_type": "code",
   "execution_count": 3,
   "id": "9df0799a-14d7-48ec-b898-55c6a0459f59",
   "metadata": {},
   "outputs": [
    {
     "data": {
      "text/plain": [
       "'This is class 1'"
      ]
     },
     "execution_count": 3,
     "metadata": {},
     "output_type": "execute_result"
    }
   ],
   "source": [
    "obj_c3.test_c1()"
   ]
  },
  {
   "cell_type": "code",
   "execution_count": 4,
   "id": "8384f4ab-62d4-4d59-b079-e065271645a4",
   "metadata": {},
   "outputs": [
    {
     "data": {
      "text/plain": [
       "'this is class 2'"
      ]
     },
     "execution_count": 4,
     "metadata": {},
     "output_type": "execute_result"
    }
   ],
   "source": [
    "obj_c3.test_c2()"
   ]
  },
  {
   "cell_type": "code",
   "execution_count": 2,
   "id": "06cf322e-5470-4d21-ab85-a37cf9122258",
   "metadata": {},
   "outputs": [
    {
     "name": "stdout",
     "output_type": "stream",
     "text": [
      "20\n",
      "20\n"
     ]
    }
   ],
   "source": [
    "\"\"\"Q-4: What are getter and setter in python ? Create a class and create a gettter and a setter method\n",
    "        in this class ?\n",
    "   Ans:-\n",
    "   \n",
    "   Getters are the methods that are used to in Object-Oriented Programming (OOPs) to access a class's private \n",
    "   attributes.The setattr() function in python corresponds to the getattr() function in python.\n",
    "   It alters an object's attribute values.\n",
    "   \n",
    "   The setter is a method that is used to set the property's value.It is very useful in object-oriented programming \n",
    "   to set the value of private attributes in a class.\n",
    "   \n",
    "   Generally,getters and setters are mainly used to ensure the data encapsulation in oops.   \"\"\"\n",
    "\n",
    "## Example :-\n",
    "\"\"\" A single underscore prefix before a variable name is a convention used to indicate \n",
    "that the variable is intended to be protected. \n",
    "This means that the variable should not be accessed directly from outside the class,\n",
    "but can be accessed by subclasses. The variable is not really private, \n",
    "but rather is meant to be treated as an implementation detail of the class.\n",
    "\n",
    "\"\"\"\n",
    "\n",
    "\n",
    "class Age:\n",
    "    \n",
    "    def __init__(self,age=0):\n",
    "        self._age=age                            \n",
    "        \n",
    "    # using the getter method\n",
    "    def get_age(self):\n",
    "        return self._age\n",
    "    \n",
    "    # using the setter method\n",
    "    def set_age(self,a):\n",
    "        self._age=a\n",
    "\n",
    "Manish=Age()\n",
    "\n",
    "Manish.set_age(20)\n",
    "\n",
    "\n",
    "print(Manish.get_age())\n",
    "\n",
    "print(Manish._age)\n",
    "    "
   ]
  },
  {
   "cell_type": "code",
   "execution_count": 2,
   "id": "c111405f-d396-4e3c-b0ec-be2b8c548477",
   "metadata": {},
   "outputs": [
    {
     "name": "stdout",
     "output_type": "stream",
     "text": [
      "Inside Parent\n",
      "Inside Child\n"
     ]
    }
   ],
   "source": [
    "\"\"\"Q-5: What is method overriding in python ? Write a python code to demonstrate meethod overriding ?\n",
    "   Ans:-\n",
    "   \n",
    "   Method overriding is an ability of any object-oriented programming language that allows a subclass\n",
    "   or child class to provide a specific implementation of a method that is already provided by one of \n",
    "   its super-classes or parent classes.When a method in a subclass has the same name,same parameters \n",
    "   or signature and same return type(or sub-type) as a method in its super-class,then the method\n",
    "   in the subclass is said to override the method in the super-class.   \"\"\"\n",
    "\n",
    "## Python program to demonstrate\n",
    "## method override\n",
    "\n",
    "## Defining parent class\n",
    "class Parent:\n",
    "    \n",
    "    # constructor\n",
    "    def __init__(self):\n",
    "        self.value=\"Inside Parent\"\n",
    "        \n",
    "    # Parent's show method\n",
    "    def show(self):\n",
    "        print(self.value)\n",
    "        \n",
    "# Defining child class\n",
    "class Child(Parent):\n",
    "    \n",
    "    # constructor\n",
    "    def __init__(self):\n",
    "        self.value=\"Inside Child\"\n",
    "        \n",
    "    # Child's show method\n",
    "    def show(self):\n",
    "        print(self.value)\n",
    "\n",
    "obj1=Parent()\n",
    "obj2=Child()\n",
    "\n",
    "obj1.show()\n",
    "obj2.show()\n",
    "    \n",
    "   "
   ]
  },
  {
   "cell_type": "code",
   "execution_count": null,
   "id": "1d99e825-3925-4970-84d3-02e95a8595c9",
   "metadata": {},
   "outputs": [],
   "source": []
  }
 ],
 "metadata": {
  "kernelspec": {
   "display_name": "Python 3 (ipykernel)",
   "language": "python",
   "name": "python3"
  },
  "language_info": {
   "codemirror_mode": {
    "name": "ipython",
    "version": 3
   },
   "file_extension": ".py",
   "mimetype": "text/x-python",
   "name": "python",
   "nbconvert_exporter": "python",
   "pygments_lexer": "ipython3",
   "version": "3.10.8"
  }
 },
 "nbformat": 4,
 "nbformat_minor": 5
}

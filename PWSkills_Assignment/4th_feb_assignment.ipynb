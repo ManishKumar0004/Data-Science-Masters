{
 "cells": [
  {
   "cell_type": "code",
   "execution_count": 4,
   "id": "d7925da0-b07c-4bbc-8856-6cb4bd91d527",
   "metadata": {},
   "outputs": [],
   "source": [
    "\"\"\"Q-1: Create a python program to sort the given list of tuples based on integer value using a lambda function.\n",
    "        [('Sachin Tendulkar',34357),('Ricky Ponting',27483),('Jack Kallis',25534),('Virat Kohli',24936)] \"\"\"\n",
    "cricketer=[('Sachin Tendulkar',34357),('Ricky Ponting',27483),('Jack Kallis',25534),('Virat Kohli',24936)] \n",
    "newlist=sorted(cricketer,key=lambda x:x[1] ,reverse=False)"
   ]
  },
  {
   "cell_type": "code",
   "execution_count": 19,
   "id": "6fd9c363-18b1-444a-89a0-805a18647316",
   "metadata": {},
   "outputs": [
    {
     "name": "stdout",
     "output_type": "stream",
     "text": [
      "[('Virat Kohli', 24936), ('Jack Kallis', 25534), ('Ricky Ponting', 27483), ('Sachin Tendulkar', 34357)]\n"
     ]
    }
   ],
   "source": [
    "print(newlist)"
   ]
  },
  {
   "cell_type": "code",
   "execution_count": 12,
   "id": "0888dbcf-0de2-4c22-81fd-0c0fcc88deb4",
   "metadata": {},
   "outputs": [],
   "source": [
    "# Another way \n",
    "cricketer.sort(key=lambda x:x[1],reverse=False)"
   ]
  },
  {
   "cell_type": "code",
   "execution_count": 13,
   "id": "faece12e-dc25-4204-9743-0228def23b25",
   "metadata": {},
   "outputs": [
    {
     "name": "stdout",
     "output_type": "stream",
     "text": [
      "[('Virat Kohli', 24936), ('Jack Kallis', 25534), ('Ricky Ponting', 27483), ('Sachin Tendulkar', 34357)]\n"
     ]
    }
   ],
   "source": [
    "print(cricketer)"
   ]
  },
  {
   "cell_type": "code",
   "execution_count": 17,
   "id": "764d0022-ad6d-4a6e-a153-162f59d1e82b",
   "metadata": {},
   "outputs": [],
   "source": [
    "\"\"\"Q-2: Write a python program to find the squares of all numbers in the given list of integer using\n",
    "        lambda and map function.\n",
    "        [1,2,3,4,5,6,7,8,9,10]       \"\"\"\n",
    "number=[1,2,3,4,5,6,7,8,9,10]\n",
    "square_number=list(map(lambda x:x**2,number))"
   ]
  },
  {
   "cell_type": "code",
   "execution_count": 18,
   "id": "25abca78-e94c-4031-8a6e-0a35b079ae88",
   "metadata": {},
   "outputs": [
    {
     "name": "stdout",
     "output_type": "stream",
     "text": [
      "[1, 4, 9, 16, 25, 36, 49, 64, 81, 100]\n"
     ]
    }
   ],
   "source": [
    "print(square_number)"
   ]
  },
  {
   "cell_type": "code",
   "execution_count": 20,
   "id": "671ac1b3-685c-4adf-bd4a-4399b641f930",
   "metadata": {},
   "outputs": [],
   "source": [
    "\"\"\"Q-3: Write a python program to convert the given list of integer into a tuple of string.\n",
    "        Use map and lambda function.\n",
    "        Given String:[1,2,3,4,5,6,7,8,9,10]\n",
    "        Expexted output:('1','2','3','4','5','6','7','8','9','10')                       \"\"\"\n",
    "l=[1,2,3,4,5,6,7,8,9,10]\n",
    "s=tuple(map(lambda x:x,l))"
   ]
  },
  {
   "cell_type": "code",
   "execution_count": 21,
   "id": "1cf23210-a9bf-4e98-a3e2-3a0177b6e7c0",
   "metadata": {},
   "outputs": [
    {
     "name": "stdout",
     "output_type": "stream",
     "text": [
      "(1, 2, 3, 4, 5, 6, 7, 8, 9, 10)\n"
     ]
    }
   ],
   "source": [
    "print(s)"
   ]
  },
  {
   "cell_type": "code",
   "execution_count": 22,
   "id": "232cde58-8d1a-490d-a5f8-d1b6742d51d8",
   "metadata": {},
   "outputs": [],
   "source": [
    "s1=tuple(map(lambda x:str(x),l))"
   ]
  },
  {
   "cell_type": "code",
   "execution_count": 23,
   "id": "477a2d0c-eafa-442f-a3d4-069596dcfada",
   "metadata": {},
   "outputs": [
    {
     "name": "stdout",
     "output_type": "stream",
     "text": [
      "('1', '2', '3', '4', '5', '6', '7', '8', '9', '10')\n"
     ]
    }
   ],
   "source": [
    "print(s1)"
   ]
  },
  {
   "cell_type": "code",
   "execution_count": 24,
   "id": "d24449fc-3547-4c24-80af-f16121f68b8b",
   "metadata": {},
   "outputs": [],
   "source": [
    "s=tuple(map(str,l))"
   ]
  },
  {
   "cell_type": "code",
   "execution_count": 25,
   "id": "81b11684-699e-49ac-9562-edfc179b511e",
   "metadata": {},
   "outputs": [
    {
     "name": "stdout",
     "output_type": "stream",
     "text": [
      "('1', '2', '3', '4', '5', '6', '7', '8', '9', '10')\n"
     ]
    }
   ],
   "source": [
    "print(s)"
   ]
  },
  {
   "cell_type": "code",
   "execution_count": 30,
   "id": "38b69057-5715-41d5-bd72-23fe2047a668",
   "metadata": {},
   "outputs": [
    {
     "name": "stdout",
     "output_type": "stream",
     "text": [
      "[1, 2, 3, 4, 5, 6, 7, 8, 9, 10, 11, 12, 13, 14, 15, 16, 17, 18, 19, 20, 21, 22, 23, 24, 25]\n"
     ]
    }
   ],
   "source": [
    "\"\"\"Q-4: Write a python program using reduce function to compute the product of a list containing numbers from 1 to 25. \"\"\"\n",
    "# using reduce function\n",
    "from functools import reduce\n",
    "\n",
    "number=[]\n",
    "for i in range(1,26):\n",
    "    number.append(i)\n",
    "print(number)"
   ]
  },
  {
   "cell_type": "code",
   "execution_count": 29,
   "id": "1754284b-228c-4fed-93ef-4da01754388e",
   "metadata": {},
   "outputs": [
    {
     "data": {
      "text/plain": [
       "15511210043330985984000000"
      ]
     },
     "execution_count": 29,
     "metadata": {},
     "output_type": "execute_result"
    }
   ],
   "source": [
    "reduce(lambda x,y:x*y,number)"
   ]
  },
  {
   "cell_type": "code",
   "execution_count": 33,
   "id": "f74a6368-3892-4cd6-9191-bc9417013769",
   "metadata": {},
   "outputs": [
    {
     "name": "stdout",
     "output_type": "stream",
     "text": [
      "The product of list elements is :15511210043330985984000000\n"
     ]
    }
   ],
   "source": [
    "import operator\n",
    "# using reduce function\n",
    "# using operator functions\n",
    "\n",
    "print(\"The product of list elements is :\",end=\"\")\n",
    "print(reduce(operator.mul,number))\n"
   ]
  },
  {
   "cell_type": "code",
   "execution_count": 34,
   "id": "8ac76046-f576-44a1-976d-2184dd5aa153",
   "metadata": {},
   "outputs": [
    {
     "data": {
      "text/plain": [
       "[6, 60, 90, 120]"
      ]
     },
     "execution_count": 34,
     "metadata": {},
     "output_type": "execute_result"
    }
   ],
   "source": [
    "\"\"\" Q-5: Write a python program to filter the numbers in a given list that are divisible by 2\n",
    "         and 3 using the filter function.\n",
    "         [2,3,6,9,27,60,90,120,55,46]                                                       \"\"\"\n",
    "number= [2,3,6,9,27,60,90,120,55,46]\n",
    "list(filter(lambda x: x%2==0 and x%3==0,number))"
   ]
  },
  {
   "cell_type": "code",
   "execution_count": 37,
   "id": "f70252a4-a39b-448e-a960-94dd2f25e7a2",
   "metadata": {},
   "outputs": [
    {
     "data": {
      "text/plain": [
       "['php', 'aba', 'radar', 'level']"
      ]
     },
     "execution_count": 37,
     "metadata": {},
     "output_type": "execute_result"
    }
   ],
   "source": [
    "\"\"\"Q-6: Write a python program to find palindromes in the given list of strings using lambda and filter function.\n",
    "        ['python','php','aba','radar','level']         \"\"\"\n",
    "s=['python','php','aba','radar','level']\n",
    "list(filter(lambda x:x==x[::-1],s))"
   ]
  },
  {
   "cell_type": "code",
   "execution_count": null,
   "id": "ef2923a5-71de-4a46-8093-2fe894d1542a",
   "metadata": {},
   "outputs": [],
   "source": []
  }
 ],
 "metadata": {
  "kernelspec": {
   "display_name": "Python 3 (ipykernel)",
   "language": "python",
   "name": "python3"
  },
  "language_info": {
   "codemirror_mode": {
    "name": "ipython",
    "version": 3
   },
   "file_extension": ".py",
   "mimetype": "text/x-python",
   "name": "python",
   "nbconvert_exporter": "python",
   "pygments_lexer": "ipython3",
   "version": "3.10.8"
  }
 },
 "nbformat": 4,
 "nbformat_minor": 5
}

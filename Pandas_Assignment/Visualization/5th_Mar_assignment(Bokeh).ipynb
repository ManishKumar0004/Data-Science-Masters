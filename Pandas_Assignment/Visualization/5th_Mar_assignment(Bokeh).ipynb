{
 "cells": [
  {
   "cell_type": "markdown",
   "id": "1d640631-4130-42e5-a995-2b4e103eae35",
   "metadata": {},
   "source": [
    "#   &emsp; &emsp;&emsp; &emsp; &emsp; &emsp; &emsp; &emsp; &emsp; Assignment"
   ]
  },
  {
   "cell_type": "markdown",
   "id": "d3529f66-7e97-42b2-a003-d79f2cc7b0b3",
   "metadata": {},
   "source": [
    "### Q1. How can you create a Bokeh plot using Python code?\n",
    "### Ans :- \n",
    "### Bokeh in Python :\n",
    "**Bokeh is a Python library used for creating interactive visualizations for modern web browsers. It allows developers to build beautiful and interactive visualizations in Python with minimal coding efforts<br>**\n",
    "- **It helps you build beautiful graphics, ranging from simple plots to complex dashboards with streaming datasets.<br>**\n",
    "- **It creates its plots using HTML and JavaScript languages.<br>**\n",
    "- **Bokeh output can be obtained in various mediums like notebook, html and server. It is possible to embed bokeh plots in Django and flask apps.<br>**"
   ]
  },
  {
   "cell_type": "markdown",
   "id": "35c49f36-7661-4f14-982e-d28d605d9707",
   "metadata": {},
   "source": [
    "### Bokeh modules\n",
    "**bokeh.models : <br>Bokeh models provide a low-level interface that provides high-end flexibility to the application developers<br>**\n",
    "\n",
    "**bokeh.plotting :<br> Bokeh plotting provides a high-level interface for creating visuals glyphs. Bokeh plotting is a subclass of bokeh.models module. It contains the definition of figure class; figure class is the simplest plot creation.<br>**\n",
    "\n",
    "**import bokeh.io : <br>imports the bokeh.io module, which provides functions and classes for configuring how Bokeh plots are displayed, such as in a notebook, a web browser, or a file.<br>**\n",
    "\n",
    "**bokeh.io.output_notebook() :<br>It configures the default output state to generate output in notebook cells when the show function is called. This function also loads the BokehJS library, which is required for rendering the plots.<br>**\n",
    "\n",
    "### Line plots in Bokeh : \n",
    "**Line plots present movement of data points along the x and y-axes as a line. Line plots are appropriate for plotting time series data.<br>**\n",
    "\n",
    "### The general steps for creating a plot in Bokeh are :\n",
    "\n",
    "- **Create a plot using the figure() function to instruct Bokeh to create a diagram.<br>**\n",
    "- **Define title, x-axis, and y-axis labels.<br>**\n",
    "- **Then add line() glyph to the figure to create a line plot and<br>**\n",
    "- **cross() glyph to mark intersections between the x and y points.<br>**"
   ]
  },
  {
   "cell_type": "markdown",
   "id": "1ea254be-03d6-4af7-8382-a5b4f929b1a8",
   "metadata": {},
   "source": [
    "## Example "
   ]
  },
  {
   "cell_type": "code",
   "execution_count": 14,
   "id": "d7ec8375-df29-45d4-a709-96fc6c8d010a",
   "metadata": {},
   "outputs": [
    {
     "data": {
      "text/html": [
       "\n",
       "  <div id=\"a4a8b10c-658d-4284-9818-e33ff8ef6606\" data-root-id=\"p1554\" style=\"display: contents;\"></div>\n"
      ]
     },
     "metadata": {},
     "output_type": "display_data"
    },
    {
     "data": {
      "application/javascript": [
       "(function(root) {\n",
       "  function embed_document(root) {\n",
       "  const docs_json = {\"0d53758c-8e88-4362-87d9-a933533b5f3c\":{\"version\":\"3.3.4\",\"title\":\"Bokeh Application\",\"roots\":[{\"type\":\"object\",\"name\":\"Figure\",\"id\":\"p1554\",\"attributes\":{\"width\":400,\"height\":300,\"x_range\":{\"type\":\"object\",\"name\":\"DataRange1d\",\"id\":\"p1555\"},\"y_range\":{\"type\":\"object\",\"name\":\"DataRange1d\",\"id\":\"p1556\"},\"x_scale\":{\"type\":\"object\",\"name\":\"LinearScale\",\"id\":\"p1564\"},\"y_scale\":{\"type\":\"object\",\"name\":\"LinearScale\",\"id\":\"p1565\"},\"title\":{\"type\":\"object\",\"name\":\"Title\",\"id\":\"p1557\",\"attributes\":{\"text\":\"Simple line plot\"}},\"renderers\":[{\"type\":\"object\",\"name\":\"GlyphRenderer\",\"id\":\"p1593\",\"attributes\":{\"data_source\":{\"type\":\"object\",\"name\":\"ColumnDataSource\",\"id\":\"p1587\",\"attributes\":{\"selected\":{\"type\":\"object\",\"name\":\"Selection\",\"id\":\"p1588\",\"attributes\":{\"indices\":[],\"line_indices\":[]}},\"selection_policy\":{\"type\":\"object\",\"name\":\"UnionRenderers\",\"id\":\"p1589\"},\"data\":{\"type\":\"map\",\"entries\":[[\"x\",[1,2,3,4,5,6,7,8,9,10]],[\"y\",[11,12,13,14,15,16,17,18,19,20]]]}}},\"view\":{\"type\":\"object\",\"name\":\"CDSView\",\"id\":\"p1594\",\"attributes\":{\"filter\":{\"type\":\"object\",\"name\":\"AllIndices\",\"id\":\"p1595\"}}},\"glyph\":{\"type\":\"object\",\"name\":\"Line\",\"id\":\"p1590\",\"attributes\":{\"x\":{\"type\":\"field\",\"field\":\"x\"},\"y\":{\"type\":\"field\",\"field\":\"y\"},\"line_color\":\"green\",\"line_width\":2}},\"nonselection_glyph\":{\"type\":\"object\",\"name\":\"Line\",\"id\":\"p1591\",\"attributes\":{\"x\":{\"type\":\"field\",\"field\":\"x\"},\"y\":{\"type\":\"field\",\"field\":\"y\"},\"line_color\":\"green\",\"line_alpha\":0.1,\"line_width\":2}},\"muted_glyph\":{\"type\":\"object\",\"name\":\"Line\",\"id\":\"p1592\",\"attributes\":{\"x\":{\"type\":\"field\",\"field\":\"x\"},\"y\":{\"type\":\"field\",\"field\":\"y\"},\"line_color\":\"green\",\"line_alpha\":0.2,\"line_width\":2}}}}],\"toolbar\":{\"type\":\"object\",\"name\":\"Toolbar\",\"id\":\"p1563\",\"attributes\":{\"tools\":[{\"type\":\"object\",\"name\":\"PanTool\",\"id\":\"p1576\"},{\"type\":\"object\",\"name\":\"WheelZoomTool\",\"id\":\"p1577\",\"attributes\":{\"renderers\":\"auto\"}},{\"type\":\"object\",\"name\":\"BoxZoomTool\",\"id\":\"p1578\",\"attributes\":{\"overlay\":{\"type\":\"object\",\"name\":\"BoxAnnotation\",\"id\":\"p1579\",\"attributes\":{\"syncable\":false,\"level\":\"overlay\",\"visible\":false,\"left\":{\"type\":\"number\",\"value\":\"nan\"},\"right\":{\"type\":\"number\",\"value\":\"nan\"},\"top\":{\"type\":\"number\",\"value\":\"nan\"},\"bottom\":{\"type\":\"number\",\"value\":\"nan\"},\"left_units\":\"canvas\",\"right_units\":\"canvas\",\"top_units\":\"canvas\",\"bottom_units\":\"canvas\",\"line_color\":\"black\",\"line_alpha\":1.0,\"line_width\":2,\"line_dash\":[4,4],\"fill_color\":\"lightgrey\",\"fill_alpha\":0.5}}}},{\"type\":\"object\",\"name\":\"SaveTool\",\"id\":\"p1584\"},{\"type\":\"object\",\"name\":\"ResetTool\",\"id\":\"p1585\"},{\"type\":\"object\",\"name\":\"HelpTool\",\"id\":\"p1586\"}]}},\"left\":[{\"type\":\"object\",\"name\":\"LinearAxis\",\"id\":\"p1571\",\"attributes\":{\"ticker\":{\"type\":\"object\",\"name\":\"BasicTicker\",\"id\":\"p1572\",\"attributes\":{\"mantissas\":[1,2,5]}},\"formatter\":{\"type\":\"object\",\"name\":\"BasicTickFormatter\",\"id\":\"p1573\"},\"axis_label\":\"y-axis\",\"major_label_policy\":{\"type\":\"object\",\"name\":\"AllLabels\",\"id\":\"p1574\"}}}],\"below\":[{\"type\":\"object\",\"name\":\"LinearAxis\",\"id\":\"p1566\",\"attributes\":{\"ticker\":{\"type\":\"object\",\"name\":\"BasicTicker\",\"id\":\"p1567\",\"attributes\":{\"mantissas\":[1,2,5]}},\"formatter\":{\"type\":\"object\",\"name\":\"BasicTickFormatter\",\"id\":\"p1568\"},\"axis_label\":\"x-axis\",\"major_label_policy\":{\"type\":\"object\",\"name\":\"AllLabels\",\"id\":\"p1569\"}}}],\"center\":[{\"type\":\"object\",\"name\":\"Grid\",\"id\":\"p1570\",\"attributes\":{\"axis\":{\"id\":\"p1566\"}}},{\"type\":\"object\",\"name\":\"Grid\",\"id\":\"p1575\",\"attributes\":{\"dimension\":1,\"axis\":{\"id\":\"p1571\"}}}]}}]}};\n",
       "  const render_items = [{\"docid\":\"0d53758c-8e88-4362-87d9-a933533b5f3c\",\"roots\":{\"p1554\":\"a4a8b10c-658d-4284-9818-e33ff8ef6606\"},\"root_ids\":[\"p1554\"]}];\n",
       "  root.Bokeh.embed.embed_items_notebook(docs_json, render_items);\n",
       "  }\n",
       "  if (root.Bokeh !== undefined) {\n",
       "    embed_document(root);\n",
       "  } else {\n",
       "    let attempts = 0;\n",
       "    const timer = setInterval(function(root) {\n",
       "      if (root.Bokeh !== undefined) {\n",
       "        clearInterval(timer);\n",
       "        embed_document(root);\n",
       "      } else {\n",
       "        attempts++;\n",
       "        if (attempts > 100) {\n",
       "          clearInterval(timer);\n",
       "          console.log(\"Bokeh: ERROR: Unable to run BokehJS code because BokehJS library is missing\");\n",
       "        }\n",
       "      }\n",
       "    }, 10, root)\n",
       "  }\n",
       "})(window);"
      ],
      "application/vnd.bokehjs_exec.v0+json": ""
     },
     "metadata": {
      "application/vnd.bokehjs_exec.v0+json": {
       "id": "p1554"
      }
     },
     "output_type": "display_data"
    }
   ],
   "source": [
    "from bokeh.io import output_notebook, output_file, show\n",
    "from bokeh.plotting import figure\n",
    "\n",
    "x = [1, 2, 3, 4, 5, 6, 7, 8, 9, 10]\n",
    "y = [11, 12, 13, 14, 15, 16, 17, 18, 19, 20]\n",
    "\n",
    "\n",
    "\n",
    "# Create plot\n",
    "plot = figure(width=400, height=300, title=\"Simple line plot\", x_axis_label=\"x-axis\", y_axis_label = 'y-axis')\n",
    "plot.line(x,y, line_width=2, color='green')\n",
    "\n",
    "\n",
    "output_file('line_plot1.html')\n",
    "show(plot)\n"
   ]
  },
  {
   "cell_type": "markdown",
   "id": "fb86a72c-23b3-4928-87fc-51cd4dcfdc1a",
   "metadata": {},
   "source": [
    "### Q2. What are glyphs in Bokeh, and how can you add them to a Bokeh plot? Explain with an example.\n",
    "### Ans :-\n",
    "### Glyphs in Bokeh :\n",
    "**In Bokeh, Glyphs are visual shapes that are used to represent the data points in a plot. They define the basic geometry of the plot, such as the shape, size, and color of the markers used to represent the data.<br>**\n",
    "### A Few Categories of Glyphs:\n",
    "- **Marker: Shapes like circles, diamonds, squares and triangles. Effective for scatter and bubble charts.<br>**\n",
    "- **Line: Single, step and multi-line shapes. For building line charts.<br>**\n",
    "- **Bar/Rectangle: Traditional or stacked bar (hbar) and column (vbar) charts as well as waterfall or gantt charts<br>**\n",
    "\n",
    "### How To Use Glyphs For Plotting\n",
    "#### The general steps for creating a plot in Bokeh are :\n",
    "\n",
    "- **Create a plot using the figure() function to instruct Bokeh to create a diagram.<br>**\n",
    "- **Define title, x-axis, and y-axis labels.<br>**\n",
    "- **Then add line() glyph to the figure to create a line plot and<br>**\n",
    "- **cross() glyph to mark intersections between the x and y points.<br>**"
   ]
  },
  {
   "cell_type": "markdown",
   "id": "76b03097-5280-4f41-982f-b9f1856ae93d",
   "metadata": {},
   "source": [
    "## Creating bar plots"
   ]
  },
  {
   "cell_type": "code",
   "execution_count": 15,
   "id": "56597b22-0568-4191-853c-64753c8bfeae",
   "metadata": {},
   "outputs": [
    {
     "data": {
      "text/html": [
       "\n",
       "  <div id=\"f72f5ee8-2b90-4c6e-9707-fe36e7b13d0c\" data-root-id=\"p1597\" style=\"display: contents;\"></div>\n"
      ]
     },
     "metadata": {},
     "output_type": "display_data"
    },
    {
     "data": {
      "application/javascript": [
       "(function(root) {\n",
       "  function embed_document(root) {\n",
       "  const docs_json = {\"37655659-7926-427e-9483-277bcbf507a7\":{\"version\":\"3.3.4\",\"title\":\"Bokeh Application\",\"roots\":[{\"type\":\"object\",\"name\":\"Figure\",\"id\":\"p1597\",\"attributes\":{\"height\":350,\"x_range\":{\"type\":\"object\",\"name\":\"FactorRange\",\"id\":\"p1607\",\"attributes\":{\"factors\":[\"lion\",\"leopard\",\"elephant\",\"rhino\",\"buffalo\"]}},\"y_range\":{\"type\":\"object\",\"name\":\"DataRange1d\",\"id\":\"p1599\",\"attributes\":{\"start\":0}},\"x_scale\":{\"type\":\"object\",\"name\":\"CategoricalScale\",\"id\":\"p1608\"},\"y_scale\":{\"type\":\"object\",\"name\":\"LinearScale\",\"id\":\"p1609\"},\"title\":{\"type\":\"object\",\"name\":\"Title\",\"id\":\"p1600\",\"attributes\":{\"text\":\"Big Five weight\"}},\"renderers\":[{\"type\":\"object\",\"name\":\"GlyphRenderer\",\"id\":\"p1626\",\"attributes\":{\"data_source\":{\"type\":\"object\",\"name\":\"ColumnDataSource\",\"id\":\"p1620\",\"attributes\":{\"selected\":{\"type\":\"object\",\"name\":\"Selection\",\"id\":\"p1621\",\"attributes\":{\"indices\":[],\"line_indices\":[]}},\"selection_policy\":{\"type\":\"object\",\"name\":\"UnionRenderers\",\"id\":\"p1622\"},\"data\":{\"type\":\"map\",\"entries\":[[\"x\",[\"lion\",\"leopard\",\"elephant\",\"rhino\",\"buffalo\"]],[\"top\",[190,90,3000,2300,590]]]}}},\"view\":{\"type\":\"object\",\"name\":\"CDSView\",\"id\":\"p1627\",\"attributes\":{\"filter\":{\"type\":\"object\",\"name\":\"AllIndices\",\"id\":\"p1628\"}}},\"glyph\":{\"type\":\"object\",\"name\":\"VBar\",\"id\":\"p1623\",\"attributes\":{\"x\":{\"type\":\"field\",\"field\":\"x\"},\"width\":{\"type\":\"value\",\"value\":0.9},\"top\":{\"type\":\"field\",\"field\":\"top\"},\"line_color\":{\"type\":\"value\",\"value\":\"#1f77b4\"},\"fill_color\":{\"type\":\"value\",\"value\":\"#1f77b4\"}}},\"nonselection_glyph\":{\"type\":\"object\",\"name\":\"VBar\",\"id\":\"p1624\",\"attributes\":{\"x\":{\"type\":\"field\",\"field\":\"x\"},\"width\":{\"type\":\"value\",\"value\":0.9},\"top\":{\"type\":\"field\",\"field\":\"top\"},\"line_color\":{\"type\":\"value\",\"value\":\"#1f77b4\"},\"line_alpha\":{\"type\":\"value\",\"value\":0.1},\"fill_color\":{\"type\":\"value\",\"value\":\"#1f77b4\"},\"fill_alpha\":{\"type\":\"value\",\"value\":0.1},\"hatch_alpha\":{\"type\":\"value\",\"value\":0.1}}},\"muted_glyph\":{\"type\":\"object\",\"name\":\"VBar\",\"id\":\"p1625\",\"attributes\":{\"x\":{\"type\":\"field\",\"field\":\"x\"},\"width\":{\"type\":\"value\",\"value\":0.9},\"top\":{\"type\":\"field\",\"field\":\"top\"},\"line_color\":{\"type\":\"value\",\"value\":\"#1f77b4\"},\"line_alpha\":{\"type\":\"value\",\"value\":0.2},\"fill_color\":{\"type\":\"value\",\"value\":\"#1f77b4\"},\"fill_alpha\":{\"type\":\"value\",\"value\":0.2},\"hatch_alpha\":{\"type\":\"value\",\"value\":0.2}}}}}],\"toolbar\":{\"type\":\"object\",\"name\":\"Toolbar\",\"id\":\"p1606\"},\"toolbar_location\":null,\"left\":[{\"type\":\"object\",\"name\":\"LinearAxis\",\"id\":\"p1615\",\"attributes\":{\"ticker\":{\"type\":\"object\",\"name\":\"BasicTicker\",\"id\":\"p1616\",\"attributes\":{\"mantissas\":[1,2,5]}},\"formatter\":{\"type\":\"object\",\"name\":\"BasicTickFormatter\",\"id\":\"p1617\"},\"axis_label\":\"Weight\",\"major_label_policy\":{\"type\":\"object\",\"name\":\"AllLabels\",\"id\":\"p1618\"}}}],\"below\":[{\"type\":\"object\",\"name\":\"CategoricalAxis\",\"id\":\"p1610\",\"attributes\":{\"ticker\":{\"type\":\"object\",\"name\":\"CategoricalTicker\",\"id\":\"p1611\"},\"formatter\":{\"type\":\"object\",\"name\":\"CategoricalTickFormatter\",\"id\":\"p1612\"},\"axis_label\":\"Animal\",\"major_label_policy\":{\"type\":\"object\",\"name\":\"AllLabels\",\"id\":\"p1613\"}}}],\"center\":[{\"type\":\"object\",\"name\":\"Grid\",\"id\":\"p1614\",\"attributes\":{\"axis\":{\"id\":\"p1610\"},\"grid_line_color\":null}},{\"type\":\"object\",\"name\":\"Grid\",\"id\":\"p1619\",\"attributes\":{\"dimension\":1,\"axis\":{\"id\":\"p1615\"}}}]}}]}};\n",
       "  const render_items = [{\"docid\":\"37655659-7926-427e-9483-277bcbf507a7\",\"roots\":{\"p1597\":\"f72f5ee8-2b90-4c6e-9707-fe36e7b13d0c\"},\"root_ids\":[\"p1597\"]}];\n",
       "  root.Bokeh.embed.embed_items_notebook(docs_json, render_items);\n",
       "  }\n",
       "  if (root.Bokeh !== undefined) {\n",
       "    embed_document(root);\n",
       "  } else {\n",
       "    let attempts = 0;\n",
       "    const timer = setInterval(function(root) {\n",
       "      if (root.Bokeh !== undefined) {\n",
       "        clearInterval(timer);\n",
       "        embed_document(root);\n",
       "      } else {\n",
       "        attempts++;\n",
       "        if (attempts > 100) {\n",
       "          clearInterval(timer);\n",
       "          console.log(\"Bokeh: ERROR: Unable to run BokehJS code because BokehJS library is missing\");\n",
       "        }\n",
       "      }\n",
       "    }, 10, root)\n",
       "  }\n",
       "})(window);"
      ],
      "application/vnd.bokehjs_exec.v0+json": ""
     },
     "metadata": {
      "application/vnd.bokehjs_exec.v0+json": {
       "id": "p1597"
      }
     },
     "output_type": "display_data"
    }
   ],
   "source": [
    "from bokeh.io import output_notebook, output_file\n",
    "from bokeh.plotting import figure, show\n",
    "\n",
    "animals = ['lion', 'leopard', 'elephant', 'rhino', 'buffalo']\n",
    "weight_tonnes = [190, 90, 3000, 2300, 590]\n",
    "\n",
    "\n",
    "p = figure(x_range=animals, height=350, title=\"Big Five weight\", x_axis_label = \"Animal\", y_axis_label = \"Weight\",\n",
    "           toolbar_location=None, tools=\"\")\n",
    "\n",
    "p.vbar(x=animals, top=weight_tonnes, width=0.9)\n",
    "\n",
    "p.xgrid.grid_line_color = None\n",
    "p.y_range.start = 0\n",
    "\n",
    "show(p)\n"
   ]
  },
  {
   "cell_type": "markdown",
   "id": "c13bb597-76d6-4152-950e-1988e3529831",
   "metadata": {},
   "source": [
    "### Q3. How can you customize the appearance of a Bokeh plot, including the axes, title, and legend?\n",
    "### Ans :-\n",
    "#### In Bokeh, you can customize the appearance of a plot by modifying various attributes of its components"
   ]
  },
  {
   "cell_type": "code",
   "execution_count": 16,
   "id": "30f569aa-1d4d-49e8-b018-568e9db88707",
   "metadata": {},
   "outputs": [
    {
     "data": {
      "text/html": [
       "\n",
       "  <div id=\"a9ebe776-5032-456e-9213-f0edc460317f\" data-root-id=\"p1630\" style=\"display: contents;\"></div>\n"
      ]
     },
     "metadata": {},
     "output_type": "display_data"
    },
    {
     "data": {
      "application/javascript": [
       "(function(root) {\n",
       "  function embed_document(root) {\n",
       "  const docs_json = {\"170a8e83-2485-467f-a9ea-e25128dd61ff\":{\"version\":\"3.3.4\",\"title\":\"Bokeh Application\",\"roots\":[{\"type\":\"object\",\"name\":\"Figure\",\"id\":\"p1630\",\"attributes\":{\"width\":400,\"height\":300,\"x_range\":{\"type\":\"object\",\"name\":\"DataRange1d\",\"id\":\"p1631\"},\"y_range\":{\"type\":\"object\",\"name\":\"DataRange1d\",\"id\":\"p1632\"},\"x_scale\":{\"type\":\"object\",\"name\":\"LinearScale\",\"id\":\"p1640\"},\"y_scale\":{\"type\":\"object\",\"name\":\"LinearScale\",\"id\":\"p1641\"},\"title\":{\"type\":\"object\",\"name\":\"Title\",\"id\":\"p1633\",\"attributes\":{\"text\":\"Circle Plot in Bokeh\",\"text_font_size\":\"16pt\",\"align\":\"center\"}},\"renderers\":[{\"type\":\"object\",\"name\":\"GlyphRenderer\",\"id\":\"p1669\",\"attributes\":{\"data_source\":{\"type\":\"object\",\"name\":\"ColumnDataSource\",\"id\":\"p1663\",\"attributes\":{\"selected\":{\"type\":\"object\",\"name\":\"Selection\",\"id\":\"p1664\",\"attributes\":{\"indices\":[],\"line_indices\":[]}},\"selection_policy\":{\"type\":\"object\",\"name\":\"UnionRenderers\",\"id\":\"p1665\"},\"data\":{\"type\":\"map\",\"entries\":[[\"x\",[1,2,3,4,5]],[\"y\",[10,8,12,15,7]]]}}},\"view\":{\"type\":\"object\",\"name\":\"CDSView\",\"id\":\"p1670\",\"attributes\":{\"filter\":{\"type\":\"object\",\"name\":\"AllIndices\",\"id\":\"p1671\"}}},\"glyph\":{\"type\":\"object\",\"name\":\"Circle\",\"id\":\"p1666\",\"attributes\":{\"x\":{\"type\":\"field\",\"field\":\"x\"},\"y\":{\"type\":\"field\",\"field\":\"y\"},\"size\":{\"type\":\"value\",\"value\":10},\"line_color\":{\"type\":\"value\",\"value\":\"#1f77b4\"},\"fill_color\":{\"type\":\"value\",\"value\":\"green\"}}},\"nonselection_glyph\":{\"type\":\"object\",\"name\":\"Circle\",\"id\":\"p1667\",\"attributes\":{\"x\":{\"type\":\"field\",\"field\":\"x\"},\"y\":{\"type\":\"field\",\"field\":\"y\"},\"size\":{\"type\":\"value\",\"value\":10},\"line_color\":{\"type\":\"value\",\"value\":\"#1f77b4\"},\"line_alpha\":{\"type\":\"value\",\"value\":0.1},\"fill_color\":{\"type\":\"value\",\"value\":\"green\"},\"fill_alpha\":{\"type\":\"value\",\"value\":0.1},\"hatch_alpha\":{\"type\":\"value\",\"value\":0.1}}},\"muted_glyph\":{\"type\":\"object\",\"name\":\"Circle\",\"id\":\"p1668\",\"attributes\":{\"x\":{\"type\":\"field\",\"field\":\"x\"},\"y\":{\"type\":\"field\",\"field\":\"y\"},\"size\":{\"type\":\"value\",\"value\":10},\"line_color\":{\"type\":\"value\",\"value\":\"#1f77b4\"},\"line_alpha\":{\"type\":\"value\",\"value\":0.2},\"fill_color\":{\"type\":\"value\",\"value\":\"green\"},\"fill_alpha\":{\"type\":\"value\",\"value\":0.2},\"hatch_alpha\":{\"type\":\"value\",\"value\":0.2}}}}}],\"toolbar\":{\"type\":\"object\",\"name\":\"Toolbar\",\"id\":\"p1639\",\"attributes\":{\"tools\":[{\"type\":\"object\",\"name\":\"PanTool\",\"id\":\"p1652\"},{\"type\":\"object\",\"name\":\"WheelZoomTool\",\"id\":\"p1653\",\"attributes\":{\"renderers\":\"auto\"}},{\"type\":\"object\",\"name\":\"BoxZoomTool\",\"id\":\"p1654\",\"attributes\":{\"overlay\":{\"type\":\"object\",\"name\":\"BoxAnnotation\",\"id\":\"p1655\",\"attributes\":{\"syncable\":false,\"level\":\"overlay\",\"visible\":false,\"left\":{\"type\":\"number\",\"value\":\"nan\"},\"right\":{\"type\":\"number\",\"value\":\"nan\"},\"top\":{\"type\":\"number\",\"value\":\"nan\"},\"bottom\":{\"type\":\"number\",\"value\":\"nan\"},\"left_units\":\"canvas\",\"right_units\":\"canvas\",\"top_units\":\"canvas\",\"bottom_units\":\"canvas\",\"line_color\":\"black\",\"line_alpha\":1.0,\"line_width\":2,\"line_dash\":[4,4],\"fill_color\":\"lightgrey\",\"fill_alpha\":0.5}}}},{\"type\":\"object\",\"name\":\"SaveTool\",\"id\":\"p1660\"},{\"type\":\"object\",\"name\":\"ResetTool\",\"id\":\"p1661\"},{\"type\":\"object\",\"name\":\"HelpTool\",\"id\":\"p1662\"}]}},\"left\":[{\"type\":\"object\",\"name\":\"LinearAxis\",\"id\":\"p1647\",\"attributes\":{\"ticker\":{\"type\":\"object\",\"name\":\"BasicTicker\",\"id\":\"p1648\",\"attributes\":{\"mantissas\":[1,2,5]}},\"formatter\":{\"type\":\"object\",\"name\":\"BasicTickFormatter\",\"id\":\"p1649\"},\"axis_label\":\"Y-axis Label\",\"major_label_policy\":{\"type\":\"object\",\"name\":\"AllLabels\",\"id\":\"p1650\"}}}],\"below\":[{\"type\":\"object\",\"name\":\"LinearAxis\",\"id\":\"p1642\",\"attributes\":{\"ticker\":{\"type\":\"object\",\"name\":\"BasicTicker\",\"id\":\"p1643\",\"attributes\":{\"mantissas\":[1,2,5]}},\"formatter\":{\"type\":\"object\",\"name\":\"BasicTickFormatter\",\"id\":\"p1644\"},\"axis_label\":\"X-axis Label\",\"major_label_policy\":{\"type\":\"object\",\"name\":\"AllLabels\",\"id\":\"p1645\"}}}],\"center\":[{\"type\":\"object\",\"name\":\"Grid\",\"id\":\"p1646\",\"attributes\":{\"axis\":{\"id\":\"p1642\"}}},{\"type\":\"object\",\"name\":\"Grid\",\"id\":\"p1651\",\"attributes\":{\"dimension\":1,\"axis\":{\"id\":\"p1647\"}}},{\"type\":\"object\",\"name\":\"Legend\",\"id\":\"p1672\",\"attributes\":{\"label_text_color\":\"navy\",\"label_text_font_size\":\"12pt\",\"items\":[{\"type\":\"object\",\"name\":\"LegendItem\",\"id\":\"p1673\",\"attributes\":{\"label\":{\"type\":\"value\",\"value\":\"Data Points\"},\"renderers\":[{\"id\":\"p1669\"}]}}]}}]}}]}};\n",
       "  const render_items = [{\"docid\":\"170a8e83-2485-467f-a9ea-e25128dd61ff\",\"roots\":{\"p1630\":\"a9ebe776-5032-456e-9213-f0edc460317f\"},\"root_ids\":[\"p1630\"]}];\n",
       "  root.Bokeh.embed.embed_items_notebook(docs_json, render_items);\n",
       "  }\n",
       "  if (root.Bokeh !== undefined) {\n",
       "    embed_document(root);\n",
       "  } else {\n",
       "    let attempts = 0;\n",
       "    const timer = setInterval(function(root) {\n",
       "      if (root.Bokeh !== undefined) {\n",
       "        clearInterval(timer);\n",
       "        embed_document(root);\n",
       "      } else {\n",
       "        attempts++;\n",
       "        if (attempts > 100) {\n",
       "          clearInterval(timer);\n",
       "          console.log(\"Bokeh: ERROR: Unable to run BokehJS code because BokehJS library is missing\");\n",
       "        }\n",
       "      }\n",
       "    }, 10, root)\n",
       "  }\n",
       "})(window);"
      ],
      "application/vnd.bokehjs_exec.v0+json": ""
     },
     "metadata": {
      "application/vnd.bokehjs_exec.v0+json": {
       "id": "p1630"
      }
     },
     "output_type": "display_data"
    }
   ],
   "source": [
    "from bokeh.plotting import figure, show\n",
    "from bokeh.models import Legend\n",
    "\n",
    "# Sample data\n",
    "x = [1, 2, 3, 4, 5]\n",
    "y = [10, 8, 12, 15, 7]\n",
    "\n",
    "\n",
    "plot = figure(title=\"Circle Plot in Bokeh\", width=400, height=300)\n",
    "\n",
    "# Plot a circle\n",
    "circle = plot.circle(x, y, size=10, fill_color = 'green', legend_label=\"Data Points\")\n",
    "\n",
    "# Customize Axes\n",
    "plot.xaxis.axis_label = \"X-axis Label\"\n",
    "plot.yaxis.axis_label = \"Y-axis Label\"\n",
    "\n",
    "# Customize Title\n",
    "plot.title.text_font_size = \"16pt\"\n",
    "plot.title.align = \"center\"\n",
    "\n",
    "# Customize Legend\n",
    "plot.legend.label_text_font_size = \"12pt\"\n",
    "plot.legend.label_text_color = \"navy\"\n",
    "\n",
    "# Show the plot\n",
    "show(plot)\n"
   ]
  },
  {
   "attachments": {
    "e7eed7e0-9df2-4eb1-a20b-2e53e247d676.png": {
     "image/png": "[encoded data removed]"
    }
   },
   "cell_type": "markdown",
   "id": "a5174d1d-9e63-49d9-9409-dad09af30d3d",
   "metadata": {},
   "source": [
    "### Q4. What is a Bokeh server, and how can you use it to create interactive plots that can be updated in real time?\n",
    "### Ans :-\n",
    "### Bokeh server :\n",
    "**The Bokeh server is a component of Bokeh that allows you to build interactive web applications that are connected to Python code running on a server.It allows you to build interactive Bokeh plots and applications that can update dynamically in response to user interactions or changes in the underlying data.<br>**\n",
    "\n",
    "### Basics of the Bokeh Server :\n",
    "- **Bokeh converts objects (such as plots, widgets, axes, and almost everything you create) into JSON format.<br>**\n",
    "- **The Bokeh server converts the Python Code you write to a JSON document. The JSON document is rendered in JavaScript using Bokeh's client library (BokehJS) for users to view the application in the browser.<br>**\n",
    "- **The advantage of Bokeh is that it handles the JavaScript part. Hence, you don't need to have prior knowledge of JavaScript to create an app! The following image provides a summary of how the Bokeh server works.<br><br>**\n",
    "![image.png](attachment:e7eed7e0-9df2-4eb1-a20b-2e53e247d676.png)\n",
    "## How to Build and Run a Bokeh Application\n",
    "### The general structure of a bokeh application is:\n",
    "\n",
    "- **`Create plots and widgets:` This is the first step in creating a Bokeh application. You should have a predetermined plot that you want to showcase.<br>**\n",
    "- **`Define callback function:` A callback function instructs the application on how to respond to user interaction. For example, when you select a different ticker in a time series plot, the plot should update with the new data.<br>**\n",
    "- **`Create layouts:` Layouts help us present plots effectively and aesthetically.<br>**"
   ]
  },
  {
   "cell_type": "markdown",
   "id": "51a2a0d7-c70a-4d02-9090-76d0c224e682",
   "metadata": {},
   "source": [
    "### Q5. How can you embed a Bokeh plot into a web page or dashboard using Flask or Django?\n",
    "### Ans :-"
   ]
  },
  {
   "cell_type": "markdown",
   "id": "4e3b9acf-2028-4703-9726-6ae87de40230",
   "metadata": {},
   "source": [
    "**Bokeh is a Python library for creating interactive data visualizations. You can embed Bokeh plots into a web page or dashboard using Flask or Django, which are popular web frameworks for Python.<br><br>**\n",
    "**Here are some general steps to explain how to do it:**"
   ]
  },
  {
   "cell_type": "markdown",
   "id": "3ed34f3e-8d65-4811-bbc6-38f92371b7a0",
   "metadata": {},
   "source": [
    "### Step-1\n",
    "**To embed a Bokeh plot into a web page or dashboard using Flask or Django, create a Bokeh plot, save it as an HTML file using output_file in Bokeh.<br>**\n",
    "### Step-2 :\n",
    "**In Flask, render the HTML file using the render_template function, passing the plot as a variable. In Django, render the HTML file within a Django template using {% include %} or {% extends %}. Ensure static files are correctly configured. For Flask, use the static folder. For Django, use the {% static %} template tag.<br>**\n",
    "### Step-3 :\n",
    "**Finally, run the web application, and the Bokeh plot will be embedded in the respective framework.**"
   ]
  },
  {
   "cell_type": "code",
   "execution_count": null,
   "id": "4ceb9f4c-0ceb-4bc5-a280-2564d3817b17",
   "metadata": {},
   "outputs": [],
   "source": []
  }
 ],
 "metadata": {
  "kernelspec": {
   "display_name": "Python 3 (ipykernel)",
   "language": "python",
   "name": "python3"
  },
  "language_info": {
   "codemirror_mode": {
    "name": "ipython",
    "version": 3
   },
   "file_extension": ".py",
   "mimetype": "text/x-python",
   "name": "python",
   "nbconvert_exporter": "python",
   "pygments_lexer": "ipython3",
   "version": "3.12.1"
  }
 },
 "nbformat": 4,
 "nbformat_minor": 5
}

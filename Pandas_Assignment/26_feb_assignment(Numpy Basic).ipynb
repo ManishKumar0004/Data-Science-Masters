{
 "cells": [
  {
   "cell_type": "markdown",
   "id": "77d2ceb8-5292-4c0e-bd88-0de5d82201e8",
   "metadata": {},
   "source": [
    "#   &emsp; &emsp; &emsp; &emsp; &emsp; &emsp; &emsp; &emsp; &emsp; &emsp; Assignment"
   ]
  },
  {
   "cell_type": "markdown",
   "id": "2a5a1000-a7f1-40d1-87d0-6e9e67ea54b7",
   "metadata": {},
   "source": [
    "### Consider the below code to answer further questions:"
   ]
  },
  {
   "cell_type": "code",
   "execution_count": 4,
   "id": "d7a64f44-e86b-4efc-867d-c1548ca0d63c",
   "metadata": {},
   "outputs": [],
   "source": [
    "import numpy as np\n",
    "list_ = [ '1' , '2' , '3' , '4' , '5' ]\n",
    "array_list = np.array(object = list_)"
   ]
  },
  {
   "cell_type": "code",
   "execution_count": 5,
   "id": "6288b6f2-5c97-4e72-b03e-af6b5180500b",
   "metadata": {},
   "outputs": [
    {
     "data": {
      "text/plain": [
       "array(['1', '2', '3', '4', '5'], dtype='<U1')"
      ]
     },
     "execution_count": 5,
     "metadata": {},
     "output_type": "execute_result"
    }
   ],
   "source": [
    "array_list "
   ]
  },
  {
   "cell_type": "markdown",
   "id": "adebcfc9-afbe-42ee-9e70-97e1e716670c",
   "metadata": {},
   "source": [
    "### Q1. Is there any difference in the data type of variables list_ and array_list? If there is then write a code to print the data types of both the variables.\n",
    "### Ans :-"
   ]
  },
  {
   "cell_type": "markdown",
   "id": "3951192f-f5f6-4f11-befa-eba0d6511a4c",
   "metadata": {},
   "source": [
    "### Python lists :<br>\n",
    "### A list in Python is an inbuilt collection of items that can contain elements of multiple data types, which may be either numeric, character logical values, etc. It is an ordered collection supporting negative indexing. A list can be created using [] containing data values. Contents of lists can be easily merged and copied using Python’s inbuilt functions.<br>\n",
    "\n",
    "\n",
    "### NumPy Arrays :\n",
    "- ### Unlike lists, NumPy arrays are of fixed size, and changing the size of an array will lead to the creation of a new array  while the original array will be deleted.\n",
    "- ### All the elements in an array are of the same type.\r",
    "- ### Numpy arrays are faster, more efficient, and require less syntax than standard Python sequences."
   ]
  },
  {
   "cell_type": "markdown",
   "id": "6178a342-6a23-4b1c-8300-158a316798b8",
   "metadata": {},
   "source": [
    "### yes , there is a difference in the data types of variables list_ and array_list.\n",
    "\n",
    "- ### The data type of list_ is a Python list (list).\n",
    "- ### The data type of array_list is a NumPy array data type (<U1), indicating a Unicode string of length 1.\n",
    "- ### As we can see in the output, the dtype of the given array object is '<U1' where 1 is the length of the longest string in the given array object."
   ]
  },
  {
   "cell_type": "code",
   "execution_count": 24,
   "id": "1555628a-491e-4676-9b73-26040f2b1a13",
   "metadata": {},
   "outputs": [
    {
     "name": "stdout",
     "output_type": "stream",
     "text": [
      "Array: ['1' '2' '3' '4' '5']\n",
      "Datatype: <U1\n",
      "--------------------------------------------------\n",
      "list: ['1', '2', '3', '4', '5']\n",
      "Datatype: <class 'list'>\n"
     ]
    }
   ],
   "source": [
    "import numpy as np\n",
    "\n",
    "list_ = ['1', '2', '3', '4', '5']\n",
    "array_list = np.array(object=list_)\n",
    "\n",
    "\n",
    "print(\"Array:\", array_list)\n",
    "print(\"Datatype:\", array_list.dtype)\n",
    "\n",
    "print(\"-\" * 50) \n",
    "\n",
    "print(\"list:\", list_)\n",
    "print(\"Datatype:\", type(list_))\n"
   ]
  },
  {
   "cell_type": "markdown",
   "id": "d10499cc-c97e-4587-b882-35459440eaeb",
   "metadata": {},
   "source": [
    "### Q2. Write a code to print the data type of each and every element of both the variables list_ and array_list."
   ]
  },
  {
   "cell_type": "code",
   "execution_count": 33,
   "id": "c9348ff8-d4ed-47d5-8f5b-7e040f269799",
   "metadata": {},
   "outputs": [
    {
     "name": "stdout",
     "output_type": "stream",
     "text": [
      "Data types in list_:\n",
      "<class 'str'>\n",
      "<class 'str'>\n",
      "<class 'str'>\n",
      "<class 'str'>\n",
      "<class 'str'>\n",
      "\n",
      "Data types in array_list:\n",
      "<class 'numpy.str_'>\n",
      "<class 'numpy.str_'>\n",
      "<class 'numpy.str_'>\n",
      "<class 'numpy.str_'>\n",
      "<class 'numpy.str_'>\n"
     ]
    }
   ],
   "source": [
    "import numpy as np\n",
    "\n",
    "list_ = ['1', '2', '3', '4', '5']\n",
    "array_list = np.array(object=list_)\n",
    "\n",
    "\n",
    "print(\"Data types in list_:\")\n",
    "for item in list_:\n",
    "    print(type(item))\n",
    "\n",
    "\n",
    "print(\"\\nData types in array_list:\")\n",
    "for item in array_list:\n",
    "    print(type(item))\n"
   ]
  },
  {
   "cell_type": "markdown",
   "id": "c986e25c-5d4b-47d5-8d3c-b5a4e16a438f",
   "metadata": {},
   "source": [
    "### Q3. Considering the following changes in the variable, array_list:\n",
    "### array_list = np.array(object = list_, dtype = int)\n",
    "### Will there be any difference in the data type of the elements present in both the variables, list_ and array_list? If so then print the data types of each and every element present in both<br> the variables, list_ and array_list."
   ]
  },
  {
   "cell_type": "code",
   "execution_count": 34,
   "id": "242161ba-fc80-45c8-94f5-11c7d7ace92d",
   "metadata": {},
   "outputs": [
    {
     "name": "stdout",
     "output_type": "stream",
     "text": [
      "Data types in list_:\n",
      "<class 'str'>\n",
      "<class 'str'>\n",
      "<class 'str'>\n",
      "<class 'str'>\n",
      "<class 'str'>\n",
      "\n",
      "Data types in array_list:\n",
      "<class 'numpy.int32'>\n",
      "<class 'numpy.int32'>\n",
      "<class 'numpy.int32'>\n",
      "<class 'numpy.int32'>\n",
      "<class 'numpy.int32'>\n"
     ]
    }
   ],
   "source": [
    "import numpy as np\n",
    "\n",
    "list_ = ['1', '2', '3', '4', '5']\n",
    "array_list = np.array(object = list_, dtype = int)\n",
    "\n",
    "\n",
    "print(\"Data types in list_:\")\n",
    "for item in list_:\n",
    "    print(type(item))\n",
    "\n",
    "\n",
    "print(\"\\nData types in array_list:\")\n",
    "for item in array_list:\n",
    "    print(type(item))\n"
   ]
  },
  {
   "cell_type": "markdown",
   "id": "2d890d36-4006-4ab5-a6f2-43f0bdaf52b7",
   "metadata": {},
   "source": [
    "### Yes, there is a difference in the data types of the elements present in list_ and array_list.\n",
    "- ### In list_ , all elements are of type str (string).\n",
    "\r",
    "- ### In array_list, the elements have been explicitly converted to int using the dtype=int argument, so all elements are of type numpy.int32"
   ]
  },
  {
   "cell_type": "markdown",
   "id": "f6d8957a-ad7b-4645-992e-6b4c615ca2c8",
   "metadata": {},
   "source": [
    "### Consider the below code to answer further questions:"
   ]
  },
  {
   "cell_type": "code",
   "execution_count": 35,
   "id": "882d5f81-9247-45ed-880d-8fd1dd9be375",
   "metadata": {},
   "outputs": [],
   "source": [
    "import numpy as np\n",
    "num_list = [ [ 1 , 2 , 3 ] , [ 4 , 5 , 6 ] ]\n",
    "num_array = np.array(object = num_list)"
   ]
  },
  {
   "cell_type": "markdown",
   "id": "fb574aa4-6b4b-488b-b598-ef3c32f4cf3e",
   "metadata": {},
   "source": [
    "### Q4. Write a code to find the following characteristics of variable, num_array:\n",
    "### (i) shape\n",
    "### (ii) size\n",
    "### Ans :-"
   ]
  },
  {
   "cell_type": "code",
   "execution_count": 36,
   "id": "371deea1-4057-48bb-82a5-d956870a5813",
   "metadata": {},
   "outputs": [
    {
     "name": "stdout",
     "output_type": "stream",
     "text": [
      "Shape of num_array: (2, 3)\n",
      "Size of num_array: 6\n"
     ]
    }
   ],
   "source": [
    "import numpy as np\n",
    "\n",
    "num_list = [[1, 2, 3], [4, 5, 6]]\n",
    "num_array = np.array(object=num_list)\n",
    "\n",
    "\n",
    "shape_of_array = num_array.shape\n",
    "\n",
    "\n",
    "size_of_array = num_array.size\n",
    "\n",
    "print(\"Shape of num_array:\", shape_of_array)\n",
    "print(\"Size of num_array:\", size_of_array)\n"
   ]
  },
  {
   "cell_type": "markdown",
   "id": "fa5d79ab-6a6a-439b-b94c-50158215f95d",
   "metadata": {},
   "source": [
    "### Q5. Write a code to create numpy array of 3*3 matrix containing zeros only, using a numpy array creation function.\n",
    "### [Hint: The size of the array will be 9 and the shape will be (3,3).]\n",
    "### Ans :-"
   ]
  },
  {
   "cell_type": "code",
   "execution_count": 43,
   "id": "6d4f96b6-fa07-47cc-bfa0-bbc33805d358",
   "metadata": {},
   "outputs": [
    {
     "name": "stdout",
     "output_type": "stream",
     "text": [
      "3x3 Matrix with Zeros:\n",
      "[[0. 0. 0.]\n",
      " [0. 0. 0.]\n",
      " [0. 0. 0.]]\n"
     ]
    }
   ],
   "source": [
    "import numpy as np\n",
    "\n",
    "data = np.zeros((3, 3))\n",
    "\n",
    "print(\"3x3 Matrix with Zeros:\")\n",
    "print(data)\n"
   ]
  },
  {
   "cell_type": "markdown",
   "id": "4b2b2e75-a708-48fd-9456-387122b7b459",
   "metadata": {},
   "source": [
    "### Q6. Create an identity matrix of shape (5,5) using numpy functions?\n",
    "### [Hint: An identity matrix is a matrix containing 1 diagonally and other elements will be 0.]\n",
    "### Ans :-"
   ]
  },
  {
   "cell_type": "code",
   "execution_count": 44,
   "id": "f41e0e53-fe80-460f-8874-e9a54a9e8a91",
   "metadata": {},
   "outputs": [
    {
     "name": "stdout",
     "output_type": "stream",
     "text": [
      "5x5 Identity Matrix:\n",
      "[[1. 0. 0. 0. 0.]\n",
      " [0. 1. 0. 0. 0.]\n",
      " [0. 0. 1. 0. 0.]\n",
      " [0. 0. 0. 1. 0.]\n",
      " [0. 0. 0. 0. 1.]]\n"
     ]
    }
   ],
   "source": [
    "import numpy as np\n",
    "\n",
    "\n",
    "data1 = np.eye(5)\n",
    "\n",
    "print(\"5x5 Identity Matrix:\")\n",
    "print(data1)\n"
   ]
  },
  {
   "cell_type": "code",
   "execution_count": null,
   "id": "3d111d9f-20d9-4936-a26f-7e5d6f6822ab",
   "metadata": {},
   "outputs": [],
   "source": []
  }
 ],
 "metadata": {
  "kernelspec": {
   "display_name": "Python 3 (ipykernel)",
   "language": "python",
   "name": "python3"
  },
  "language_info": {
   "codemirror_mode": {
    "name": "ipython",
    "version": 3
   },
   "file_extension": ".py",
   "mimetype": "text/x-python",
   "name": "python",
   "nbconvert_exporter": "python",
   "pygments_lexer": "ipython3",
   "version": "3.11.5"
  }
 },
 "nbformat": 4,
 "nbformat_minor": 5
}

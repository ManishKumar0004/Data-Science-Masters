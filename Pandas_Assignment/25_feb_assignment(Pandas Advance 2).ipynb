{
 "cells": [
  {
   "cell_type": "markdown",
   "id": "bfa0aa45-4d7a-4a88-a6d7-b4b3ee88ac23",
   "metadata": {},
   "source": [
    "#   &emsp; &emsp; &emsp; &emsp; &emsp; &emsp; &emsp; &emsp; &emsp; &emsp; Assignment"
   ]
  },
  {
   "cell_type": "code",
   "execution_count": 2,
   "id": "7fa22a42-9d47-4747-807e-535aa08b8848",
   "metadata": {},
   "outputs": [],
   "source": [
    "import pandas as pd\n",
    "course_name = ['Data Science', 'Machine Learning', 'Big Data', 'Data Engineer']\n",
    "duration = [2,3,6,4]\n",
    "df = pd.DataFrame(data = {'course_name' : course_name, 'duration' : duration})"
   ]
  },
  {
   "cell_type": "code",
   "execution_count": 3,
   "id": "a157155e-1051-499b-909d-450b085a39fc",
   "metadata": {},
   "outputs": [
    {
     "data": {
      "text/html": [
       "<div>\n",
       "<style scoped>\n",
       "    .dataframe tbody tr th:only-of-type {\n",
       "        vertical-align: middle;\n",
       "    }\n",
       "\n",
       "    .dataframe tbody tr th {\n",
       "        vertical-align: top;\n",
       "    }\n",
       "\n",
       "    .dataframe thead th {\n",
       "        text-align: right;\n",
       "    }\n",
       "</style>\n",
       "<table border=\"1\" class=\"dataframe\">\n",
       "  <thead>\n",
       "    <tr style=\"text-align: right;\">\n",
       "      <th></th>\n",
       "      <th>course_name</th>\n",
       "      <th>duration</th>\n",
       "    </tr>\n",
       "  </thead>\n",
       "  <tbody>\n",
       "    <tr>\n",
       "      <th>0</th>\n",
       "      <td>Data Science</td>\n",
       "      <td>2</td>\n",
       "    </tr>\n",
       "    <tr>\n",
       "      <th>1</th>\n",
       "      <td>Machine Learning</td>\n",
       "      <td>3</td>\n",
       "    </tr>\n",
       "    <tr>\n",
       "      <th>2</th>\n",
       "      <td>Big Data</td>\n",
       "      <td>6</td>\n",
       "    </tr>\n",
       "    <tr>\n",
       "      <th>3</th>\n",
       "      <td>Data Engineer</td>\n",
       "      <td>4</td>\n",
       "    </tr>\n",
       "  </tbody>\n",
       "</table>\n",
       "</div>"
      ],
      "text/plain": [
       "        course_name  duration\n",
       "0      Data Science         2\n",
       "1  Machine Learning         3\n",
       "2          Big Data         6\n",
       "3     Data Engineer         4"
      ]
     },
     "execution_count": 3,
     "metadata": {},
     "output_type": "execute_result"
    }
   ],
   "source": [
    "df"
   ]
  },
  {
   "cell_type": "markdown",
   "id": "3bd01221-3b6e-46d4-bc4e-99a1d3a4b22b",
   "metadata": {},
   "source": [
    "### Q1. Write a code to print the data present in the second row of the dataframe, df ?"
   ]
  },
  {
   "cell_type": "code",
   "execution_count": 4,
   "id": "6f501a38-d8a7-4d60-a640-0fe635581d92",
   "metadata": {},
   "outputs": [
    {
     "name": "stdout",
     "output_type": "stream",
     "text": [
      "        course_name  duration\n",
      "1  Machine Learning         3\n"
     ]
    }
   ],
   "source": [
    "import pandas as pd\n",
    "\n",
    "# given DataFrame \n",
    "course_name = ['Data Science', 'Machine Learning', 'Big Data', 'Data Engineer']\n",
    "duration = [2,3,6,4]\n",
    "df = pd.DataFrame(data = {'course_name' : course_name, 'duration' : duration})\n",
    "\n",
    "\n",
    "# Use iloc to select the second row\n",
    "selected = df.iloc[[1]]  \n",
    "# Print the selected view\n",
    "print(selected)"
   ]
  },
  {
   "cell_type": "markdown",
   "id": "44daaaec-6de8-4559-aecf-2774d12b7470",
   "metadata": {},
   "source": [
    "### Q2. What is the difference between the functions loc and iloc in pandas.DataFrame?\n",
    "### Ans:-\n",
    "\n",
    "### Python loc() function :- \n",
    "**The loc() function is label based data selecting method which means that we have to pass the <br>name of the row or column which we want to select.**<br>\n",
    "\n",
    "**--> There are two arguments we need to pass when we are using this function. The first arguments represent the row label and the second argument represents a column label.**<br>\n",
    "**--> loc() can accept the boolean data.**<br>\n",
    "**--> We can even use colon (:) if we want to select all rows or columns.**<br>\n",
    "\n",
    "### Syntax :\n",
    "**We have to follow the syntax below:**<br>\n",
    "\n",
    "**Dataframe.loc[specific rows, specific columns]**<br>\n",
    "\n",
    "### Use Cases of Loc Function :-"
   ]
  },
  {
   "cell_type": "code",
   "execution_count": 5,
   "id": "935baf07-cdcc-4d5b-9e3e-efabcd063afc",
   "metadata": {},
   "outputs": [],
   "source": [
    "import pandas as pd \n",
    "course_name = ['Data Science', 'Machine Learning', 'Big Data', 'Data Engineer']\n",
    "duration = [2, 3, 6, 4]\n",
    "level = ['Intermediate', 'Advanced', 'Advanced', 'Intermediate']\n",
    "\n",
    "df1 = pd.DataFrame(data={'course_name': course_name, 'duration': duration, 'level': level})"
   ]
  },
  {
   "cell_type": "code",
   "execution_count": 6,
   "id": "f5f63e8c-d832-4fc7-af46-29c9da583e31",
   "metadata": {},
   "outputs": [
    {
     "data": {
      "text/html": [
       "<div>\n",
       "<style scoped>\n",
       "    .dataframe tbody tr th:only-of-type {\n",
       "        vertical-align: middle;\n",
       "    }\n",
       "\n",
       "    .dataframe tbody tr th {\n",
       "        vertical-align: top;\n",
       "    }\n",
       "\n",
       "    .dataframe thead th {\n",
       "        text-align: right;\n",
       "    }\n",
       "</style>\n",
       "<table border=\"1\" class=\"dataframe\">\n",
       "  <thead>\n",
       "    <tr style=\"text-align: right;\">\n",
       "      <th></th>\n",
       "      <th>course_name</th>\n",
       "      <th>duration</th>\n",
       "      <th>level</th>\n",
       "    </tr>\n",
       "  </thead>\n",
       "  <tbody>\n",
       "    <tr>\n",
       "      <th>0</th>\n",
       "      <td>Data Science</td>\n",
       "      <td>2</td>\n",
       "      <td>Intermediate</td>\n",
       "    </tr>\n",
       "    <tr>\n",
       "      <th>1</th>\n",
       "      <td>Machine Learning</td>\n",
       "      <td>3</td>\n",
       "      <td>Advanced</td>\n",
       "    </tr>\n",
       "    <tr>\n",
       "      <th>2</th>\n",
       "      <td>Big Data</td>\n",
       "      <td>6</td>\n",
       "      <td>Advanced</td>\n",
       "    </tr>\n",
       "    <tr>\n",
       "      <th>3</th>\n",
       "      <td>Data Engineer</td>\n",
       "      <td>4</td>\n",
       "      <td>Intermediate</td>\n",
       "    </tr>\n",
       "  </tbody>\n",
       "</table>\n",
       "</div>"
      ],
      "text/plain": [
       "        course_name  duration         level\n",
       "0      Data Science         2  Intermediate\n",
       "1  Machine Learning         3      Advanced\n",
       "2          Big Data         6      Advanced\n",
       "3     Data Engineer         4  Intermediate"
      ]
     },
     "execution_count": 6,
     "metadata": {},
     "output_type": "execute_result"
    }
   ],
   "source": [
    "df1"
   ]
  },
  {
   "cell_type": "markdown",
   "id": "dbfed403-119a-45a1-a48b-549a3f9d4b3c",
   "metadata": {},
   "source": [
    "### (1) Selecting A Single Row"
   ]
  },
  {
   "cell_type": "code",
   "execution_count": 7,
   "id": "83aafcc9-e3a0-41d6-bb3c-465030914287",
   "metadata": {},
   "outputs": [],
   "source": [
    "Row = df1.loc[[2]]"
   ]
  },
  {
   "cell_type": "code",
   "execution_count": 8,
   "id": "b8dba4d6-a515-4d2c-bf0e-a0928effa2b1",
   "metadata": {},
   "outputs": [
    {
     "data": {
      "text/html": [
       "<div>\n",
       "<style scoped>\n",
       "    .dataframe tbody tr th:only-of-type {\n",
       "        vertical-align: middle;\n",
       "    }\n",
       "\n",
       "    .dataframe tbody tr th {\n",
       "        vertical-align: top;\n",
       "    }\n",
       "\n",
       "    .dataframe thead th {\n",
       "        text-align: right;\n",
       "    }\n",
       "</style>\n",
       "<table border=\"1\" class=\"dataframe\">\n",
       "  <thead>\n",
       "    <tr style=\"text-align: right;\">\n",
       "      <th></th>\n",
       "      <th>course_name</th>\n",
       "      <th>duration</th>\n",
       "      <th>level</th>\n",
       "    </tr>\n",
       "  </thead>\n",
       "  <tbody>\n",
       "    <tr>\n",
       "      <th>2</th>\n",
       "      <td>Big Data</td>\n",
       "      <td>6</td>\n",
       "      <td>Advanced</td>\n",
       "    </tr>\n",
       "  </tbody>\n",
       "</table>\n",
       "</div>"
      ],
      "text/plain": [
       "  course_name  duration     level\n",
       "2    Big Data         6  Advanced"
      ]
     },
     "execution_count": 8,
     "metadata": {},
     "output_type": "execute_result"
    }
   ],
   "source": [
    "Row"
   ]
  },
  {
   "cell_type": "markdown",
   "id": "baa95f2b-4720-4eb2-b391-10233d988d14",
   "metadata": {},
   "source": [
    "### (2) Selecting Multiple Rows"
   ]
  },
  {
   "cell_type": "code",
   "execution_count": 9,
   "id": "bf9be400-5bd8-4afc-a6cb-dd09a49e7483",
   "metadata": {},
   "outputs": [],
   "source": [
    "Rows = df1.loc[[1, 2, 3]]"
   ]
  },
  {
   "cell_type": "code",
   "execution_count": 10,
   "id": "bdfc91bc-6073-4331-a81e-384a0c11f5c3",
   "metadata": {},
   "outputs": [
    {
     "data": {
      "text/html": [
       "<div>\n",
       "<style scoped>\n",
       "    .dataframe tbody tr th:only-of-type {\n",
       "        vertical-align: middle;\n",
       "    }\n",
       "\n",
       "    .dataframe tbody tr th {\n",
       "        vertical-align: top;\n",
       "    }\n",
       "\n",
       "    .dataframe thead th {\n",
       "        text-align: right;\n",
       "    }\n",
       "</style>\n",
       "<table border=\"1\" class=\"dataframe\">\n",
       "  <thead>\n",
       "    <tr style=\"text-align: right;\">\n",
       "      <th></th>\n",
       "      <th>course_name</th>\n",
       "      <th>duration</th>\n",
       "      <th>level</th>\n",
       "    </tr>\n",
       "  </thead>\n",
       "  <tbody>\n",
       "    <tr>\n",
       "      <th>1</th>\n",
       "      <td>Machine Learning</td>\n",
       "      <td>3</td>\n",
       "      <td>Advanced</td>\n",
       "    </tr>\n",
       "    <tr>\n",
       "      <th>2</th>\n",
       "      <td>Big Data</td>\n",
       "      <td>6</td>\n",
       "      <td>Advanced</td>\n",
       "    </tr>\n",
       "    <tr>\n",
       "      <th>3</th>\n",
       "      <td>Data Engineer</td>\n",
       "      <td>4</td>\n",
       "      <td>Intermediate</td>\n",
       "    </tr>\n",
       "  </tbody>\n",
       "</table>\n",
       "</div>"
      ],
      "text/plain": [
       "        course_name  duration         level\n",
       "1  Machine Learning         3      Advanced\n",
       "2          Big Data         6      Advanced\n",
       "3     Data Engineer         4  Intermediate"
      ]
     },
     "execution_count": 10,
     "metadata": {},
     "output_type": "execute_result"
    }
   ],
   "source": [
    "Rows"
   ]
  },
  {
   "cell_type": "markdown",
   "id": "a64041eb-e3a8-473f-8ee1-012d872995c9",
   "metadata": {},
   "source": [
    "### (3) Selecting Multiple Columns"
   ]
  },
  {
   "cell_type": "code",
   "execution_count": 11,
   "id": "63511d85-7dc7-4302-95ad-419ce9d3fbab",
   "metadata": {},
   "outputs": [],
   "source": [
    "Cols = df1.loc[:, ['course_name', 'duration']]"
   ]
  },
  {
   "cell_type": "code",
   "execution_count": 12,
   "id": "6c1535a1-2d48-412e-a418-1376b18a4a62",
   "metadata": {},
   "outputs": [
    {
     "data": {
      "text/html": [
       "<div>\n",
       "<style scoped>\n",
       "    .dataframe tbody tr th:only-of-type {\n",
       "        vertical-align: middle;\n",
       "    }\n",
       "\n",
       "    .dataframe tbody tr th {\n",
       "        vertical-align: top;\n",
       "    }\n",
       "\n",
       "    .dataframe thead th {\n",
       "        text-align: right;\n",
       "    }\n",
       "</style>\n",
       "<table border=\"1\" class=\"dataframe\">\n",
       "  <thead>\n",
       "    <tr style=\"text-align: right;\">\n",
       "      <th></th>\n",
       "      <th>course_name</th>\n",
       "      <th>duration</th>\n",
       "    </tr>\n",
       "  </thead>\n",
       "  <tbody>\n",
       "    <tr>\n",
       "      <th>0</th>\n",
       "      <td>Data Science</td>\n",
       "      <td>2</td>\n",
       "    </tr>\n",
       "    <tr>\n",
       "      <th>1</th>\n",
       "      <td>Machine Learning</td>\n",
       "      <td>3</td>\n",
       "    </tr>\n",
       "    <tr>\n",
       "      <th>2</th>\n",
       "      <td>Big Data</td>\n",
       "      <td>6</td>\n",
       "    </tr>\n",
       "    <tr>\n",
       "      <th>3</th>\n",
       "      <td>Data Engineer</td>\n",
       "      <td>4</td>\n",
       "    </tr>\n",
       "  </tbody>\n",
       "</table>\n",
       "</div>"
      ],
      "text/plain": [
       "        course_name  duration\n",
       "0      Data Science         2\n",
       "1  Machine Learning         3\n",
       "2          Big Data         6\n",
       "3     Data Engineer         4"
      ]
     },
     "execution_count": 12,
     "metadata": {},
     "output_type": "execute_result"
    }
   ],
   "source": [
    "Cols"
   ]
  },
  {
   "cell_type": "markdown",
   "id": "7164cd8d-3cd8-4a07-a7ba-43e5c2879838",
   "metadata": {},
   "source": [
    "### (4) Selecting A Subset Of Rows And Columns"
   ]
  },
  {
   "cell_type": "code",
   "execution_count": 13,
   "id": "0159de40-d780-41b1-8ea7-b1bd98c88e9d",
   "metadata": {},
   "outputs": [],
   "source": [
    "Subset = df1.loc[df1 ['level'] == 'Intermediate', ['course_name' , 'duration' , 'level']]"
   ]
  },
  {
   "cell_type": "code",
   "execution_count": 14,
   "id": "82d1b12c-52da-4c97-9668-662aa4f795bd",
   "metadata": {},
   "outputs": [
    {
     "data": {
      "text/html": [
       "<div>\n",
       "<style scoped>\n",
       "    .dataframe tbody tr th:only-of-type {\n",
       "        vertical-align: middle;\n",
       "    }\n",
       "\n",
       "    .dataframe tbody tr th {\n",
       "        vertical-align: top;\n",
       "    }\n",
       "\n",
       "    .dataframe thead th {\n",
       "        text-align: right;\n",
       "    }\n",
       "</style>\n",
       "<table border=\"1\" class=\"dataframe\">\n",
       "  <thead>\n",
       "    <tr style=\"text-align: right;\">\n",
       "      <th></th>\n",
       "      <th>course_name</th>\n",
       "      <th>duration</th>\n",
       "      <th>level</th>\n",
       "    </tr>\n",
       "  </thead>\n",
       "  <tbody>\n",
       "    <tr>\n",
       "      <th>0</th>\n",
       "      <td>Data Science</td>\n",
       "      <td>2</td>\n",
       "      <td>Intermediate</td>\n",
       "    </tr>\n",
       "    <tr>\n",
       "      <th>3</th>\n",
       "      <td>Data Engineer</td>\n",
       "      <td>4</td>\n",
       "      <td>Intermediate</td>\n",
       "    </tr>\n",
       "  </tbody>\n",
       "</table>\n",
       "</div>"
      ],
      "text/plain": [
       "     course_name  duration         level\n",
       "0   Data Science         2  Intermediate\n",
       "3  Data Engineer         4  Intermediate"
      ]
     },
     "execution_count": 14,
     "metadata": {},
     "output_type": "execute_result"
    }
   ],
   "source": [
    "Subset"
   ]
  },
  {
   "cell_type": "markdown",
   "id": "00553d53-7426-41a1-aa36-49ef08a450ac",
   "metadata": {},
   "source": [
    "### (5) Selecting via a single value\n",
    "**loc[row_label, column_label]**<br>"
   ]
  },
  {
   "cell_type": "code",
   "execution_count": 15,
   "id": "f95ebcd2-edbc-42b6-8371-a180c2b15668",
   "metadata": {},
   "outputs": [],
   "source": [
    "value = df1.loc[3, 'duration']"
   ]
  },
  {
   "cell_type": "code",
   "execution_count": 16,
   "id": "4e547bc8-1c33-4691-9f10-3bfd12210a0f",
   "metadata": {},
   "outputs": [
    {
     "data": {
      "text/plain": [
       "4"
      ]
     },
     "execution_count": 16,
     "metadata": {},
     "output_type": "execute_result"
    }
   ],
   "source": [
    "value"
   ]
  },
  {
   "cell_type": "markdown",
   "id": "86dd9df2-8b99-417f-a2fd-452adf76e5f7",
   "metadata": {},
   "source": [
    "### (6) Selecting via a list of values"
   ]
  },
  {
   "cell_type": "code",
   "execution_count": 17,
   "id": "86eef44f-cf48-4e76-9c87-9b9c16b31b80",
   "metadata": {},
   "outputs": [
    {
     "data": {
      "text/html": [
       "<div>\n",
       "<style scoped>\n",
       "    .dataframe tbody tr th:only-of-type {\n",
       "        vertical-align: middle;\n",
       "    }\n",
       "\n",
       "    .dataframe tbody tr th {\n",
       "        vertical-align: top;\n",
       "    }\n",
       "\n",
       "    .dataframe thead th {\n",
       "        text-align: right;\n",
       "    }\n",
       "</style>\n",
       "<table border=\"1\" class=\"dataframe\">\n",
       "  <thead>\n",
       "    <tr style=\"text-align: right;\">\n",
       "      <th></th>\n",
       "      <th>duration</th>\n",
       "    </tr>\n",
       "  </thead>\n",
       "  <tbody>\n",
       "    <tr>\n",
       "      <th>0</th>\n",
       "      <td>2</td>\n",
       "    </tr>\n",
       "    <tr>\n",
       "      <th>2</th>\n",
       "      <td>6</td>\n",
       "    </tr>\n",
       "  </tbody>\n",
       "</table>\n",
       "</div>"
      ],
      "text/plain": [
       "   duration\n",
       "0         2\n",
       "2         6"
      ]
     },
     "execution_count": 17,
     "metadata": {},
     "output_type": "execute_result"
    }
   ],
   "source": [
    "df1.loc[[0,2], ['duration']]"
   ]
  },
  {
   "cell_type": "markdown",
   "id": "84e99da0-94c4-4c73-8df5-47a5615197cb",
   "metadata": {},
   "source": [
    "###  (7) Selecting a range of data via slice"
   ]
  },
  {
   "cell_type": "code",
   "execution_count": 18,
   "id": "56988e65-f8af-451a-848a-3c3e22fc059d",
   "metadata": {},
   "outputs": [
    {
     "data": {
      "text/html": [
       "<div>\n",
       "<style scoped>\n",
       "    .dataframe tbody tr th:only-of-type {\n",
       "        vertical-align: middle;\n",
       "    }\n",
       "\n",
       "    .dataframe tbody tr th {\n",
       "        vertical-align: top;\n",
       "    }\n",
       "\n",
       "    .dataframe thead th {\n",
       "        text-align: right;\n",
       "    }\n",
       "</style>\n",
       "<table border=\"1\" class=\"dataframe\">\n",
       "  <thead>\n",
       "    <tr style=\"text-align: right;\">\n",
       "      <th></th>\n",
       "      <th>course_name</th>\n",
       "      <th>duration</th>\n",
       "    </tr>\n",
       "  </thead>\n",
       "  <tbody>\n",
       "    <tr>\n",
       "      <th>0</th>\n",
       "      <td>Data Science</td>\n",
       "      <td>2</td>\n",
       "    </tr>\n",
       "    <tr>\n",
       "      <th>1</th>\n",
       "      <td>Machine Learning</td>\n",
       "      <td>3</td>\n",
       "    </tr>\n",
       "    <tr>\n",
       "      <th>2</th>\n",
       "      <td>Big Data</td>\n",
       "      <td>6</td>\n",
       "    </tr>\n",
       "  </tbody>\n",
       "</table>\n",
       "</div>"
      ],
      "text/plain": [
       "        course_name  duration\n",
       "0      Data Science         2\n",
       "1  Machine Learning         3\n",
       "2          Big Data         6"
      ]
     },
     "execution_count": 18,
     "metadata": {},
     "output_type": "execute_result"
    }
   ],
   "source": [
    "# Slicing row labels\n",
    "cols = [ 'course_name' , 'duration']\n",
    "df.loc[0:2, cols]"
   ]
  },
  {
   "cell_type": "markdown",
   "id": "d75122bf-8884-4c0b-a859-55f9faf8d83c",
   "metadata": {},
   "source": [
    "### Python iloc() function :-\n",
    "\n",
    "**The iloc() function is an indexed-based selecting method which means that we have to pass an integer index <br>in the method to select a specific row/column.**<br>\n",
    "\n",
    "**--> iloc() does not accept the boolean data unlike loc().**<br>\n",
    "\n",
    "**Syntax**<br>\n",
    "\n",
    "**DataFrame.iloc[row_index_value, column_index_value]**<br>\n",
    "\n",
    "### Use Cases of iLoc Function :-"
   ]
  },
  {
   "cell_type": "code",
   "execution_count": 19,
   "id": "b46cb5f9-45f1-4c2d-89d3-2b6bef9846b9",
   "metadata": {},
   "outputs": [
    {
     "data": {
      "text/html": [
       "<div>\n",
       "<style scoped>\n",
       "    .dataframe tbody tr th:only-of-type {\n",
       "        vertical-align: middle;\n",
       "    }\n",
       "\n",
       "    .dataframe tbody tr th {\n",
       "        vertical-align: top;\n",
       "    }\n",
       "\n",
       "    .dataframe thead th {\n",
       "        text-align: right;\n",
       "    }\n",
       "</style>\n",
       "<table border=\"1\" class=\"dataframe\">\n",
       "  <thead>\n",
       "    <tr style=\"text-align: right;\">\n",
       "      <th></th>\n",
       "      <th>course_name</th>\n",
       "      <th>duration</th>\n",
       "      <th>level</th>\n",
       "    </tr>\n",
       "  </thead>\n",
       "  <tbody>\n",
       "    <tr>\n",
       "      <th>0</th>\n",
       "      <td>Data Science</td>\n",
       "      <td>2</td>\n",
       "      <td>Intermediate</td>\n",
       "    </tr>\n",
       "    <tr>\n",
       "      <th>1</th>\n",
       "      <td>Machine Learning</td>\n",
       "      <td>3</td>\n",
       "      <td>Advanced</td>\n",
       "    </tr>\n",
       "    <tr>\n",
       "      <th>2</th>\n",
       "      <td>Big Data</td>\n",
       "      <td>6</td>\n",
       "      <td>Advanced</td>\n",
       "    </tr>\n",
       "    <tr>\n",
       "      <th>3</th>\n",
       "      <td>Data Engineer</td>\n",
       "      <td>4</td>\n",
       "      <td>Intermediate</td>\n",
       "    </tr>\n",
       "  </tbody>\n",
       "</table>\n",
       "</div>"
      ],
      "text/plain": [
       "        course_name  duration         level\n",
       "0      Data Science         2  Intermediate\n",
       "1  Machine Learning         3      Advanced\n",
       "2          Big Data         6      Advanced\n",
       "3     Data Engineer         4  Intermediate"
      ]
     },
     "execution_count": 19,
     "metadata": {},
     "output_type": "execute_result"
    }
   ],
   "source": [
    "df1"
   ]
  },
  {
   "cell_type": "markdown",
   "id": "428c6b79-2257-4e62-9f7f-6ca85d8afda7",
   "metadata": {},
   "source": [
    "### (1) Selecting A Single Row"
   ]
  },
  {
   "cell_type": "code",
   "execution_count": 20,
   "id": "d5f785f8-e049-46dd-bb60-e728e778a422",
   "metadata": {},
   "outputs": [],
   "source": [
    "Row = df1.iloc[[3]]"
   ]
  },
  {
   "cell_type": "code",
   "execution_count": 21,
   "id": "a2e37d63-91d9-4d79-861c-53a661262f46",
   "metadata": {},
   "outputs": [
    {
     "data": {
      "text/html": [
       "<div>\n",
       "<style scoped>\n",
       "    .dataframe tbody tr th:only-of-type {\n",
       "        vertical-align: middle;\n",
       "    }\n",
       "\n",
       "    .dataframe tbody tr th {\n",
       "        vertical-align: top;\n",
       "    }\n",
       "\n",
       "    .dataframe thead th {\n",
       "        text-align: right;\n",
       "    }\n",
       "</style>\n",
       "<table border=\"1\" class=\"dataframe\">\n",
       "  <thead>\n",
       "    <tr style=\"text-align: right;\">\n",
       "      <th></th>\n",
       "      <th>course_name</th>\n",
       "      <th>duration</th>\n",
       "      <th>level</th>\n",
       "    </tr>\n",
       "  </thead>\n",
       "  <tbody>\n",
       "    <tr>\n",
       "      <th>3</th>\n",
       "      <td>Data Engineer</td>\n",
       "      <td>4</td>\n",
       "      <td>Intermediate</td>\n",
       "    </tr>\n",
       "  </tbody>\n",
       "</table>\n",
       "</div>"
      ],
      "text/plain": [
       "     course_name  duration         level\n",
       "3  Data Engineer         4  Intermediate"
      ]
     },
     "execution_count": 21,
     "metadata": {},
     "output_type": "execute_result"
    }
   ],
   "source": [
    "Row"
   ]
  },
  {
   "cell_type": "markdown",
   "id": "5faec9c4-6fee-4005-a4bd-5ebc139c3a49",
   "metadata": {},
   "source": [
    "###  (2) Selecting Multiple Rows"
   ]
  },
  {
   "cell_type": "code",
   "execution_count": 22,
   "id": "c047cbcd-35a4-41ed-b2d4-d2c8f2a628e3",
   "metadata": {},
   "outputs": [],
   "source": [
    "Rows = df1.iloc[[0,1,2]]"
   ]
  },
  {
   "cell_type": "code",
   "execution_count": 23,
   "id": "3964d6ba-32c7-4f05-8ad1-264450e5045d",
   "metadata": {},
   "outputs": [
    {
     "data": {
      "text/html": [
       "<div>\n",
       "<style scoped>\n",
       "    .dataframe tbody tr th:only-of-type {\n",
       "        vertical-align: middle;\n",
       "    }\n",
       "\n",
       "    .dataframe tbody tr th {\n",
       "        vertical-align: top;\n",
       "    }\n",
       "\n",
       "    .dataframe thead th {\n",
       "        text-align: right;\n",
       "    }\n",
       "</style>\n",
       "<table border=\"1\" class=\"dataframe\">\n",
       "  <thead>\n",
       "    <tr style=\"text-align: right;\">\n",
       "      <th></th>\n",
       "      <th>course_name</th>\n",
       "      <th>duration</th>\n",
       "      <th>level</th>\n",
       "    </tr>\n",
       "  </thead>\n",
       "  <tbody>\n",
       "    <tr>\n",
       "      <th>0</th>\n",
       "      <td>Data Science</td>\n",
       "      <td>2</td>\n",
       "      <td>Intermediate</td>\n",
       "    </tr>\n",
       "    <tr>\n",
       "      <th>1</th>\n",
       "      <td>Machine Learning</td>\n",
       "      <td>3</td>\n",
       "      <td>Advanced</td>\n",
       "    </tr>\n",
       "    <tr>\n",
       "      <th>2</th>\n",
       "      <td>Big Data</td>\n",
       "      <td>6</td>\n",
       "      <td>Advanced</td>\n",
       "    </tr>\n",
       "  </tbody>\n",
       "</table>\n",
       "</div>"
      ],
      "text/plain": [
       "        course_name  duration         level\n",
       "0      Data Science         2  Intermediate\n",
       "1  Machine Learning         3      Advanced\n",
       "2          Big Data         6      Advanced"
      ]
     },
     "execution_count": 23,
     "metadata": {},
     "output_type": "execute_result"
    }
   ],
   "source": [
    "Rows"
   ]
  },
  {
   "cell_type": "markdown",
   "id": "2d54ee3f-c284-40eb-8bd4-6e135cb72c2d",
   "metadata": {},
   "source": [
    "### (3) Selecting Multiple Columns"
   ]
  },
  {
   "cell_type": "code",
   "execution_count": 24,
   "id": "b139ec5b-8f0e-48a5-ba89-606e22707723",
   "metadata": {},
   "outputs": [
    {
     "data": {
      "text/html": [
       "<div>\n",
       "<style scoped>\n",
       "    .dataframe tbody tr th:only-of-type {\n",
       "        vertical-align: middle;\n",
       "    }\n",
       "\n",
       "    .dataframe tbody tr th {\n",
       "        vertical-align: top;\n",
       "    }\n",
       "\n",
       "    .dataframe thead th {\n",
       "        text-align: right;\n",
       "    }\n",
       "</style>\n",
       "<table border=\"1\" class=\"dataframe\">\n",
       "  <thead>\n",
       "    <tr style=\"text-align: right;\">\n",
       "      <th></th>\n",
       "      <th>course_name</th>\n",
       "      <th>duration</th>\n",
       "      <th>level</th>\n",
       "    </tr>\n",
       "  </thead>\n",
       "  <tbody>\n",
       "    <tr>\n",
       "      <th>0</th>\n",
       "      <td>Data Science</td>\n",
       "      <td>2</td>\n",
       "      <td>Intermediate</td>\n",
       "    </tr>\n",
       "    <tr>\n",
       "      <th>1</th>\n",
       "      <td>Machine Learning</td>\n",
       "      <td>3</td>\n",
       "      <td>Advanced</td>\n",
       "    </tr>\n",
       "    <tr>\n",
       "      <th>2</th>\n",
       "      <td>Big Data</td>\n",
       "      <td>6</td>\n",
       "      <td>Advanced</td>\n",
       "    </tr>\n",
       "    <tr>\n",
       "      <th>3</th>\n",
       "      <td>Data Engineer</td>\n",
       "      <td>4</td>\n",
       "      <td>Intermediate</td>\n",
       "    </tr>\n",
       "  </tbody>\n",
       "</table>\n",
       "</div>"
      ],
      "text/plain": [
       "        course_name  duration         level\n",
       "0      Data Science         2  Intermediate\n",
       "1  Machine Learning         3      Advanced\n",
       "2          Big Data         6      Advanced\n",
       "3     Data Engineer         4  Intermediate"
      ]
     },
     "execution_count": 24,
     "metadata": {},
     "output_type": "execute_result"
    }
   ],
   "source": [
    "Cols = df1.iloc[:, [0,1,2]]\n",
    "Cols"
   ]
  },
  {
   "cell_type": "markdown",
   "id": "b349a132-790c-401f-82ab-9c40efc76271",
   "metadata": {},
   "source": [
    "### (4) Selecting via a single value\n",
    "**iloc[row_position, column_position]**"
   ]
  },
  {
   "cell_type": "code",
   "execution_count": 25,
   "id": "c737809d-8b41-4231-b1c4-a93d83942f68",
   "metadata": {},
   "outputs": [
    {
     "data": {
      "text/plain": [
       "4"
      ]
     },
     "execution_count": 25,
     "metadata": {},
     "output_type": "execute_result"
    }
   ],
   "source": [
    "df.iloc[3, 1]"
   ]
  },
  {
   "cell_type": "markdown",
   "id": "25e77964-680c-4a9e-9031-ac2b1236edc9",
   "metadata": {},
   "source": [
    "### (5) Selecting via a list of values"
   ]
  },
  {
   "cell_type": "code",
   "execution_count": 26,
   "id": "c5441e1a-cff4-45b9-92de-dbb29088c39a",
   "metadata": {},
   "outputs": [
    {
     "data": {
      "text/html": [
       "<div>\n",
       "<style scoped>\n",
       "    .dataframe tbody tr th:only-of-type {\n",
       "        vertical-align: middle;\n",
       "    }\n",
       "\n",
       "    .dataframe tbody tr th {\n",
       "        vertical-align: top;\n",
       "    }\n",
       "\n",
       "    .dataframe thead th {\n",
       "        text-align: right;\n",
       "    }\n",
       "</style>\n",
       "<table border=\"1\" class=\"dataframe\">\n",
       "  <thead>\n",
       "    <tr style=\"text-align: right;\">\n",
       "      <th></th>\n",
       "      <th>duration</th>\n",
       "    </tr>\n",
       "  </thead>\n",
       "  <tbody>\n",
       "    <tr>\n",
       "      <th>0</th>\n",
       "      <td>2</td>\n",
       "    </tr>\n",
       "    <tr>\n",
       "      <th>2</th>\n",
       "      <td>6</td>\n",
       "    </tr>\n",
       "  </tbody>\n",
       "</table>\n",
       "</div>"
      ],
      "text/plain": [
       "   duration\n",
       "0         2\n",
       "2         6"
      ]
     },
     "execution_count": 26,
     "metadata": {},
     "output_type": "execute_result"
    }
   ],
   "source": [
    "df1.iloc[[0,2], [1]]"
   ]
  },
  {
   "cell_type": "markdown",
   "id": "a2d6d3a5-4979-489f-b912-441654c15c6c",
   "metadata": {},
   "source": [
    "###  (7) Selecting a range of data via slice"
   ]
  },
  {
   "cell_type": "code",
   "execution_count": 27,
   "id": "6fe1ae04-664a-43f6-acf4-05890be46069",
   "metadata": {},
   "outputs": [
    {
     "data": {
      "text/html": [
       "<div>\n",
       "<style scoped>\n",
       "    .dataframe tbody tr th:only-of-type {\n",
       "        vertical-align: middle;\n",
       "    }\n",
       "\n",
       "    .dataframe tbody tr th {\n",
       "        vertical-align: top;\n",
       "    }\n",
       "\n",
       "    .dataframe thead th {\n",
       "        text-align: right;\n",
       "    }\n",
       "</style>\n",
       "<table border=\"1\" class=\"dataframe\">\n",
       "  <thead>\n",
       "    <tr style=\"text-align: right;\">\n",
       "      <th></th>\n",
       "      <th>course_name</th>\n",
       "      <th>duration</th>\n",
       "    </tr>\n",
       "  </thead>\n",
       "  <tbody>\n",
       "    <tr>\n",
       "      <th>0</th>\n",
       "      <td>Data Science</td>\n",
       "      <td>2</td>\n",
       "    </tr>\n",
       "    <tr>\n",
       "      <th>1</th>\n",
       "      <td>Machine Learning</td>\n",
       "      <td>3</td>\n",
       "    </tr>\n",
       "    <tr>\n",
       "      <th>2</th>\n",
       "      <td>Big Data</td>\n",
       "      <td>6</td>\n",
       "    </tr>\n",
       "  </tbody>\n",
       "</table>\n",
       "</div>"
      ],
      "text/plain": [
       "        course_name  duration\n",
       "0      Data Science         2\n",
       "1  Machine Learning         3\n",
       "2          Big Data         6"
      ]
     },
     "execution_count": 27,
     "metadata": {},
     "output_type": "execute_result"
    }
   ],
   "source": [
    "# Slicing row indexes\n",
    "cols = [ 0 , 1]\n",
    "df.iloc[0:3, cols]"
   ]
  },
  {
   "cell_type": "markdown",
   "id": "c0c28c22-3800-415f-b0c6-c1d59b59a995",
   "metadata": {},
   "source": [
    "## Difference Between loc and iloc"
   ]
  },
  {
   "cell_type": "markdown",
   "id": "29b35625-5b53-4176-9885-c61ed11dce92",
   "metadata": {},
   "source": [
    "<html>\n",
    "<body>\n",
    "\n",
    "  <table>\n",
    "    <thead>\n",
    "      <tr>\n",
    "        <th></th>\n",
    "        <th>loc function</th>\n",
    "        <th>Iloc function</th>\n",
    "      </tr>\n",
    "    </thead>\n",
    "    <tbody>\n",
    "      <tr>\n",
    "        <td>1</td>\n",
    "        <td>Select rows and columns by labels</td>\n",
    "        <td>Select rows and columns by integer positions</td>\n",
    "      </tr>\n",
    "      <tr>\n",
    "        <td>2</td>\n",
    "        <td>Slicing with labels</td>\n",
    "        <td>Slicing with integer positions</td>\n",
    "      </tr>\n",
    "      <tr>\n",
    "        <td>3</td>\n",
    "        <td>Use Boolean arrays</td>\n",
    "        <td>Does not use Boolean arrays</td>\n",
    "      </tr>\n",
    "      <tr>\n",
    "        <td>4</td>\n",
    "        <td>Label-based indexing</td>\n",
    "        <td>Position-based indexing</td>\n",
    "      </tr>\n",
    "      <tr>\n",
    "        <td>5</td>\n",
    "        <td>Syntax: Dataframe.loc[specific rows, specific columns]</td>\n",
    "        <td>Syntax: Dataframe.iloc[row_index_value, column_index_value]</td>\n",
    "      </tr>\n",
    "      <tr>\n",
    "        <td>6</td>\n",
    "        <td>Example: df.loc[2, 'Salary']</td>\n",
    "        <td>Example: df.iloc[2, 2]</td>\n",
    "      </tr>\n",
    "      <tr>\n",
    "        <td>7</td>\n",
    "        <td>Example: df.loc[df['Department'] == 'Marketing', ['Name', 'Salary']]</td>\n",
    "        <td>Example: df.iloc[1:3, :2]</td>\n",
    "      </tr>\n",
    "    </tbody>\n",
    "  </table>\n",
    "\n",
    "</body>\n",
    "\n",
    "</html>\n"
   ]
  },
  {
   "cell_type": "markdown",
   "id": "c01264e1-92d4-47ed-bf9e-3b179aa9c9cd",
   "metadata": {},
   "source": [
    "### Q3. Reindex the given dataframe using a variable, reindex = [3,0,1,2] and store it in the variable, new_df then find the output for both new_df.loc[2] and new_df.iloc[2]. ?\n",
    "\n",
    "### Did you observe any difference in both the outputs? If so then explain it."
   ]
  },
  {
   "cell_type": "code",
   "execution_count": 28,
   "id": "f2ea0aaf-8ca9-41eb-8757-1cc573fd507f",
   "metadata": {},
   "outputs": [
    {
     "data": {
      "text/html": [
       "<div>\n",
       "<style scoped>\n",
       "    .dataframe tbody tr th:only-of-type {\n",
       "        vertical-align: middle;\n",
       "    }\n",
       "\n",
       "    .dataframe tbody tr th {\n",
       "        vertical-align: top;\n",
       "    }\n",
       "\n",
       "    .dataframe thead th {\n",
       "        text-align: right;\n",
       "    }\n",
       "</style>\n",
       "<table border=\"1\" class=\"dataframe\">\n",
       "  <thead>\n",
       "    <tr style=\"text-align: right;\">\n",
       "      <th></th>\n",
       "      <th>course_name</th>\n",
       "      <th>duration</th>\n",
       "    </tr>\n",
       "  </thead>\n",
       "  <tbody>\n",
       "    <tr>\n",
       "      <th>0</th>\n",
       "      <td>Data Science</td>\n",
       "      <td>2</td>\n",
       "    </tr>\n",
       "    <tr>\n",
       "      <th>1</th>\n",
       "      <td>Machine Learning</td>\n",
       "      <td>3</td>\n",
       "    </tr>\n",
       "    <tr>\n",
       "      <th>2</th>\n",
       "      <td>Big Data</td>\n",
       "      <td>6</td>\n",
       "    </tr>\n",
       "    <tr>\n",
       "      <th>3</th>\n",
       "      <td>Data Engineer</td>\n",
       "      <td>4</td>\n",
       "    </tr>\n",
       "  </tbody>\n",
       "</table>\n",
       "</div>"
      ],
      "text/plain": [
       "        course_name  duration\n",
       "0      Data Science         2\n",
       "1  Machine Learning         3\n",
       "2          Big Data         6\n",
       "3     Data Engineer         4"
      ]
     },
     "execution_count": 28,
     "metadata": {},
     "output_type": "execute_result"
    }
   ],
   "source": [
    "df"
   ]
  },
  {
   "cell_type": "code",
   "execution_count": 29,
   "id": "5a5f13f3-2766-4b57-8378-cef20d5098be",
   "metadata": {},
   "outputs": [],
   "source": [
    "reindex = [3,0,1,2] "
   ]
  },
  {
   "cell_type": "code",
   "execution_count": 30,
   "id": "c4948339-769c-45fc-af67-d820777c9dcf",
   "metadata": {},
   "outputs": [],
   "source": [
    "new_df = df.reindex( reindex )"
   ]
  },
  {
   "cell_type": "code",
   "execution_count": 31,
   "id": "6eddbbf2-a96f-46e5-9009-4c2960e1d74e",
   "metadata": {},
   "outputs": [
    {
     "data": {
      "text/html": [
       "<div>\n",
       "<style scoped>\n",
       "    .dataframe tbody tr th:only-of-type {\n",
       "        vertical-align: middle;\n",
       "    }\n",
       "\n",
       "    .dataframe tbody tr th {\n",
       "        vertical-align: top;\n",
       "    }\n",
       "\n",
       "    .dataframe thead th {\n",
       "        text-align: right;\n",
       "    }\n",
       "</style>\n",
       "<table border=\"1\" class=\"dataframe\">\n",
       "  <thead>\n",
       "    <tr style=\"text-align: right;\">\n",
       "      <th></th>\n",
       "      <th>course_name</th>\n",
       "      <th>duration</th>\n",
       "    </tr>\n",
       "  </thead>\n",
       "  <tbody>\n",
       "    <tr>\n",
       "      <th>3</th>\n",
       "      <td>Data Engineer</td>\n",
       "      <td>4</td>\n",
       "    </tr>\n",
       "    <tr>\n",
       "      <th>0</th>\n",
       "      <td>Data Science</td>\n",
       "      <td>2</td>\n",
       "    </tr>\n",
       "    <tr>\n",
       "      <th>1</th>\n",
       "      <td>Machine Learning</td>\n",
       "      <td>3</td>\n",
       "    </tr>\n",
       "    <tr>\n",
       "      <th>2</th>\n",
       "      <td>Big Data</td>\n",
       "      <td>6</td>\n",
       "    </tr>\n",
       "  </tbody>\n",
       "</table>\n",
       "</div>"
      ],
      "text/plain": [
       "        course_name  duration\n",
       "3     Data Engineer         4\n",
       "0      Data Science         2\n",
       "1  Machine Learning         3\n",
       "2          Big Data         6"
      ]
     },
     "execution_count": 31,
     "metadata": {},
     "output_type": "execute_result"
    }
   ],
   "source": [
    "new_df"
   ]
  },
  {
   "cell_type": "code",
   "execution_count": 32,
   "id": "b3fed694-e269-4e74-abe6-bd3ca5a9bee3",
   "metadata": {},
   "outputs": [
    {
     "data": {
      "text/html": [
       "<div>\n",
       "<style scoped>\n",
       "    .dataframe tbody tr th:only-of-type {\n",
       "        vertical-align: middle;\n",
       "    }\n",
       "\n",
       "    .dataframe tbody tr th {\n",
       "        vertical-align: top;\n",
       "    }\n",
       "\n",
       "    .dataframe thead th {\n",
       "        text-align: right;\n",
       "    }\n",
       "</style>\n",
       "<table border=\"1\" class=\"dataframe\">\n",
       "  <thead>\n",
       "    <tr style=\"text-align: right;\">\n",
       "      <th></th>\n",
       "      <th>course_name</th>\n",
       "      <th>duration</th>\n",
       "    </tr>\n",
       "  </thead>\n",
       "  <tbody>\n",
       "    <tr>\n",
       "      <th>2</th>\n",
       "      <td>Big Data</td>\n",
       "      <td>6</td>\n",
       "    </tr>\n",
       "  </tbody>\n",
       "</table>\n",
       "</div>"
      ],
      "text/plain": [
       "  course_name  duration\n",
       "2    Big Data         6"
      ]
     },
     "execution_count": 32,
     "metadata": {},
     "output_type": "execute_result"
    }
   ],
   "source": [
    "new_df.loc[[2]]"
   ]
  },
  {
   "cell_type": "code",
   "execution_count": 33,
   "id": "04202e33-191d-4e35-9ad9-5cc19fb02c8f",
   "metadata": {},
   "outputs": [
    {
     "data": {
      "text/html": [
       "<div>\n",
       "<style scoped>\n",
       "    .dataframe tbody tr th:only-of-type {\n",
       "        vertical-align: middle;\n",
       "    }\n",
       "\n",
       "    .dataframe tbody tr th {\n",
       "        vertical-align: top;\n",
       "    }\n",
       "\n",
       "    .dataframe thead th {\n",
       "        text-align: right;\n",
       "    }\n",
       "</style>\n",
       "<table border=\"1\" class=\"dataframe\">\n",
       "  <thead>\n",
       "    <tr style=\"text-align: right;\">\n",
       "      <th></th>\n",
       "      <th>course_name</th>\n",
       "      <th>duration</th>\n",
       "    </tr>\n",
       "  </thead>\n",
       "  <tbody>\n",
       "    <tr>\n",
       "      <th>1</th>\n",
       "      <td>Machine Learning</td>\n",
       "      <td>3</td>\n",
       "    </tr>\n",
       "  </tbody>\n",
       "</table>\n",
       "</div>"
      ],
      "text/plain": [
       "        course_name  duration\n",
       "1  Machine Learning         3"
      ]
     },
     "execution_count": 33,
     "metadata": {},
     "output_type": "execute_result"
    }
   ],
   "source": [
    "new_df.iloc[[2]]"
   ]
  },
  {
   "cell_type": "markdown",
   "id": "fbc444d0-f763-4972-9b30-d9b450214398",
   "metadata": {},
   "source": [
    "## Explanation :-\n",
    "\n",
    "**(1) new_df.loc[2] returns the row with the label (index) '2':**<br>\n",
    "\n",
    "**The loc function in pandas is label-based. When we use loc[2], it looks for the row with the label/index '2'.**<br>\n",
    "**In the reindexed DataFrame (new_df), the row with the label '2' corresponds to the course 'Big Data'.**<br>\n",
    "\n",
    "\n",
    "**(2) new_df.iloc[2] returns the third row (index 2) regardless of the actual labels:**<br>\n",
    "\n",
    "**The iloc function in pandas is position-based. It returns the row at the specified integer position.**<brz>\n",
    "**When you use iloc[2], it retrieves the third row in the DataFrame, regardless of its label.**<br>\n",
    "**In the reindexed DataFrame (new_df), the third row (position 2) corresponds to the course 'Machine Learning'.**<br>\n",
    "    "
   ]
  },
  {
   "cell_type": "markdown",
   "id": "a19e9073-9dfc-4431-98fc-9c8314782c3c",
   "metadata": {},
   "source": [
    "## Consider the below code to answer further questions:"
   ]
  },
  {
   "cell_type": "code",
   "execution_count": 34,
   "id": "81e4b7b6-08ce-428b-a5a1-b81508e91120",
   "metadata": {},
   "outputs": [],
   "source": [
    "import pandas as pd\n",
    "import numpy as np\n",
    "\n",
    "columns = ['column_1', 'column_2', 'column_3', 'column_4', 'column_5', 'column_6']\n",
    "indices = [1,2,3,4,5,6]\n",
    "#Creating a dataframe:\n",
    "df1 = pd.DataFrame(np.random.rand(6,6), columns = columns, index = indices)"
   ]
  },
  {
   "cell_type": "code",
   "execution_count": 35,
   "id": "de6d7f5b-d45f-49fe-a096-e0b59060bc9f",
   "metadata": {},
   "outputs": [
    {
     "data": {
      "text/html": [
       "<div>\n",
       "<style scoped>\n",
       "    .dataframe tbody tr th:only-of-type {\n",
       "        vertical-align: middle;\n",
       "    }\n",
       "\n",
       "    .dataframe tbody tr th {\n",
       "        vertical-align: top;\n",
       "    }\n",
       "\n",
       "    .dataframe thead th {\n",
       "        text-align: right;\n",
       "    }\n",
       "</style>\n",
       "<table border=\"1\" class=\"dataframe\">\n",
       "  <thead>\n",
       "    <tr style=\"text-align: right;\">\n",
       "      <th></th>\n",
       "      <th>column_1</th>\n",
       "      <th>column_2</th>\n",
       "      <th>column_3</th>\n",
       "      <th>column_4</th>\n",
       "      <th>column_5</th>\n",
       "      <th>column_6</th>\n",
       "    </tr>\n",
       "  </thead>\n",
       "  <tbody>\n",
       "    <tr>\n",
       "      <th>1</th>\n",
       "      <td>0.385464</td>\n",
       "      <td>0.088132</td>\n",
       "      <td>0.187538</td>\n",
       "      <td>0.483555</td>\n",
       "      <td>0.794682</td>\n",
       "      <td>0.352677</td>\n",
       "    </tr>\n",
       "    <tr>\n",
       "      <th>2</th>\n",
       "      <td>0.046566</td>\n",
       "      <td>0.236642</td>\n",
       "      <td>0.694144</td>\n",
       "      <td>0.322318</td>\n",
       "      <td>0.244563</td>\n",
       "      <td>0.396446</td>\n",
       "    </tr>\n",
       "    <tr>\n",
       "      <th>3</th>\n",
       "      <td>0.485874</td>\n",
       "      <td>0.555405</td>\n",
       "      <td>0.875231</td>\n",
       "      <td>0.063775</td>\n",
       "      <td>0.041054</td>\n",
       "      <td>0.586846</td>\n",
       "    </tr>\n",
       "    <tr>\n",
       "      <th>4</th>\n",
       "      <td>0.162436</td>\n",
       "      <td>0.411898</td>\n",
       "      <td>0.638478</td>\n",
       "      <td>0.970422</td>\n",
       "      <td>0.576637</td>\n",
       "      <td>0.169113</td>\n",
       "    </tr>\n",
       "    <tr>\n",
       "      <th>5</th>\n",
       "      <td>0.394057</td>\n",
       "      <td>0.922927</td>\n",
       "      <td>0.231662</td>\n",
       "      <td>0.538859</td>\n",
       "      <td>0.704860</td>\n",
       "      <td>0.332746</td>\n",
       "    </tr>\n",
       "    <tr>\n",
       "      <th>6</th>\n",
       "      <td>0.395092</td>\n",
       "      <td>0.414835</td>\n",
       "      <td>0.956382</td>\n",
       "      <td>0.867785</td>\n",
       "      <td>0.020748</td>\n",
       "      <td>0.916332</td>\n",
       "    </tr>\n",
       "  </tbody>\n",
       "</table>\n",
       "</div>"
      ],
      "text/plain": [
       "   column_1  column_2  column_3  column_4  column_5  column_6\n",
       "1  0.385464  0.088132  0.187538  0.483555  0.794682  0.352677\n",
       "2  0.046566  0.236642  0.694144  0.322318  0.244563  0.396446\n",
       "3  0.485874  0.555405  0.875231  0.063775  0.041054  0.586846\n",
       "4  0.162436  0.411898  0.638478  0.970422  0.576637  0.169113\n",
       "5  0.394057  0.922927  0.231662  0.538859  0.704860  0.332746\n",
       "6  0.395092  0.414835  0.956382  0.867785  0.020748  0.916332"
      ]
     },
     "execution_count": 35,
     "metadata": {},
     "output_type": "execute_result"
    }
   ],
   "source": [
    "df1"
   ]
  },
  {
   "cell_type": "markdown",
   "id": "450a0ad6-88f4-490e-b18e-e4202b3fb471",
   "metadata": {},
   "source": [
    "### Q4. Write a code to find the following statistical measurements for the above dataframe df1:<br>(i) mean of each and every column present in the dataframe.<br>(ii) standard deviation of column, ‘column_2’"
   ]
  },
  {
   "cell_type": "code",
   "execution_count": 36,
   "id": "1b0d269d-fc5c-431c-bb22-d903f502a7d6",
   "metadata": {},
   "outputs": [
    {
     "name": "stdout",
     "output_type": "stream",
     "text": [
      "Mean of each column:\n",
      "column_1: 0.31158155839393525\n",
      "column_2: 0.43830656560522746\n",
      "column_3: 0.5972391099526418\n",
      "column_4: 0.5411190461038488\n",
      "column_5: 0.39709074298537983\n",
      "column_6: 0.45902664039466434\n"
     ]
    }
   ],
   "source": [
    "## (i) mean of each and every column present in the dataframe.\n",
    "print(\"Mean of each column:\")\n",
    "for column_name, values in df1.items():\n",
    "    mean_value = values.mean()\n",
    "    print(f\"{column_name}: {mean_value}\")"
   ]
  },
  {
   "cell_type": "code",
   "execution_count": 37,
   "id": "15ded124-b06e-477f-b86d-3fea0f56d918",
   "metadata": {},
   "outputs": [
    {
     "name": "stdout",
     "output_type": "stream",
     "text": [
      "Standard deviation of 'column_2': 0.2874396999390232\n"
     ]
    }
   ],
   "source": [
    "# (ii) standard deviation of 'column_2'\n",
    "\n",
    "std_dev_column_2 = df1['column_2'].std()\n",
    "print(\"Standard deviation of 'column_2':\", std_dev_column_2)"
   ]
  },
  {
   "cell_type": "markdown",
   "id": "97e3943b-71fb-41c8-b7e7-0d09e876255b",
   "metadata": {},
   "source": [
    "### Q5. Replace the data present in the second row of column, ‘column_2’ by a string variable then find the mean of column, column_2.\n",
    "### If you are getting errors in executing it then explain why.<br>[Hint: To replace the data use df1.loc[] and equate this to string data of your choice.]\n",
    "### Ans :-"
   ]
  },
  {
   "cell_type": "code",
   "execution_count": 38,
   "id": "d21f78b2-e8fc-4d26-a61c-6a9033541653",
   "metadata": {},
   "outputs": [],
   "source": [
    "df1.loc[2,'column_2']  = 'sudh'"
   ]
  },
  {
   "cell_type": "code",
   "execution_count": 39,
   "id": "99ebdd14-5347-4727-8f1c-1a391f3c0543",
   "metadata": {},
   "outputs": [
    {
     "data": {
      "text/html": [
       "<div>\n",
       "<style scoped>\n",
       "    .dataframe tbody tr th:only-of-type {\n",
       "        vertical-align: middle;\n",
       "    }\n",
       "\n",
       "    .dataframe tbody tr th {\n",
       "        vertical-align: top;\n",
       "    }\n",
       "\n",
       "    .dataframe thead th {\n",
       "        text-align: right;\n",
       "    }\n",
       "</style>\n",
       "<table border=\"1\" class=\"dataframe\">\n",
       "  <thead>\n",
       "    <tr style=\"text-align: right;\">\n",
       "      <th></th>\n",
       "      <th>column_1</th>\n",
       "      <th>column_2</th>\n",
       "      <th>column_3</th>\n",
       "      <th>column_4</th>\n",
       "      <th>column_5</th>\n",
       "      <th>column_6</th>\n",
       "    </tr>\n",
       "  </thead>\n",
       "  <tbody>\n",
       "    <tr>\n",
       "      <th>1</th>\n",
       "      <td>0.385464</td>\n",
       "      <td>0.088132</td>\n",
       "      <td>0.187538</td>\n",
       "      <td>0.483555</td>\n",
       "      <td>0.794682</td>\n",
       "      <td>0.352677</td>\n",
       "    </tr>\n",
       "    <tr>\n",
       "      <th>2</th>\n",
       "      <td>0.046566</td>\n",
       "      <td>sudh</td>\n",
       "      <td>0.694144</td>\n",
       "      <td>0.322318</td>\n",
       "      <td>0.244563</td>\n",
       "      <td>0.396446</td>\n",
       "    </tr>\n",
       "    <tr>\n",
       "      <th>3</th>\n",
       "      <td>0.485874</td>\n",
       "      <td>0.555405</td>\n",
       "      <td>0.875231</td>\n",
       "      <td>0.063775</td>\n",
       "      <td>0.041054</td>\n",
       "      <td>0.586846</td>\n",
       "    </tr>\n",
       "    <tr>\n",
       "      <th>4</th>\n",
       "      <td>0.162436</td>\n",
       "      <td>0.411898</td>\n",
       "      <td>0.638478</td>\n",
       "      <td>0.970422</td>\n",
       "      <td>0.576637</td>\n",
       "      <td>0.169113</td>\n",
       "    </tr>\n",
       "    <tr>\n",
       "      <th>5</th>\n",
       "      <td>0.394057</td>\n",
       "      <td>0.922927</td>\n",
       "      <td>0.231662</td>\n",
       "      <td>0.538859</td>\n",
       "      <td>0.704860</td>\n",
       "      <td>0.332746</td>\n",
       "    </tr>\n",
       "    <tr>\n",
       "      <th>6</th>\n",
       "      <td>0.395092</td>\n",
       "      <td>0.414835</td>\n",
       "      <td>0.956382</td>\n",
       "      <td>0.867785</td>\n",
       "      <td>0.020748</td>\n",
       "      <td>0.916332</td>\n",
       "    </tr>\n",
       "  </tbody>\n",
       "</table>\n",
       "</div>"
      ],
      "text/plain": [
       "   column_1  column_2  column_3  column_4  column_5  column_6\n",
       "1  0.385464  0.088132  0.187538  0.483555  0.794682  0.352677\n",
       "2  0.046566      sudh  0.694144  0.322318  0.244563  0.396446\n",
       "3  0.485874  0.555405  0.875231  0.063775  0.041054  0.586846\n",
       "4  0.162436  0.411898  0.638478  0.970422  0.576637  0.169113\n",
       "5  0.394057  0.922927  0.231662  0.538859  0.704860  0.332746\n",
       "6  0.395092  0.414835  0.956382  0.867785  0.020748  0.916332"
      ]
     },
     "execution_count": 39,
     "metadata": {},
     "output_type": "execute_result"
    }
   ],
   "source": [
    "df1"
   ]
  },
  {
   "cell_type": "code",
   "execution_count": 40,
   "id": "188a9569-96af-4c17-827c-1213cb1355fb",
   "metadata": {},
   "outputs": [
    {
     "ename": "TypeError",
     "evalue": "unsupported operand type(s) for +: 'float' and 'str'",
     "output_type": "error",
     "traceback": [
      "\u001b[0;31m---------------------------------------------------------------------------\u001b[0m",
      "\u001b[0;31mTypeError\u001b[0m                                 Traceback (most recent call last)",
      "Cell \u001b[0;32mIn[40], line 1\u001b[0m\n\u001b[0;32m----> 1\u001b[0m \u001b[43mdf1\u001b[49m\u001b[43m[\u001b[49m\u001b[38;5;124;43m'\u001b[39;49m\u001b[38;5;124;43mcolumn_2\u001b[39;49m\u001b[38;5;124;43m'\u001b[39;49m\u001b[43m]\u001b[49m\u001b[38;5;241;43m.\u001b[39;49m\u001b[43mmean\u001b[49m\u001b[43m(\u001b[49m\u001b[43m)\u001b[49m\n",
      "File \u001b[0;32m/opt/conda/lib/python3.10/site-packages/pandas/core/generic.py:11847\u001b[0m, in \u001b[0;36mNDFrame._add_numeric_operations.<locals>.mean\u001b[0;34m(self, axis, skipna, level, numeric_only, **kwargs)\u001b[0m\n\u001b[1;32m  11829\u001b[0m \u001b[38;5;129m@doc\u001b[39m(\n\u001b[1;32m  11830\u001b[0m     _num_doc,\n\u001b[1;32m  11831\u001b[0m     desc\u001b[38;5;241m=\u001b[39m\u001b[38;5;124m\"\u001b[39m\u001b[38;5;124mReturn the mean of the values over the requested axis.\u001b[39m\u001b[38;5;124m\"\u001b[39m,\n\u001b[0;32m   (...)\u001b[0m\n\u001b[1;32m  11845\u001b[0m     \u001b[38;5;241m*\u001b[39m\u001b[38;5;241m*\u001b[39mkwargs,\n\u001b[1;32m  11846\u001b[0m ):\n\u001b[0;32m> 11847\u001b[0m     \u001b[38;5;28;01mreturn\u001b[39;00m \u001b[43mNDFrame\u001b[49m\u001b[38;5;241;43m.\u001b[39;49m\u001b[43mmean\u001b[49m\u001b[43m(\u001b[49m\u001b[38;5;28;43mself\u001b[39;49m\u001b[43m,\u001b[49m\u001b[43m \u001b[49m\u001b[43maxis\u001b[49m\u001b[43m,\u001b[49m\u001b[43m \u001b[49m\u001b[43mskipna\u001b[49m\u001b[43m,\u001b[49m\u001b[43m \u001b[49m\u001b[43mlevel\u001b[49m\u001b[43m,\u001b[49m\u001b[43m \u001b[49m\u001b[43mnumeric_only\u001b[49m\u001b[43m,\u001b[49m\u001b[43m \u001b[49m\u001b[38;5;241;43m*\u001b[39;49m\u001b[38;5;241;43m*\u001b[39;49m\u001b[43mkwargs\u001b[49m\u001b[43m)\u001b[49m\n",
      "File \u001b[0;32m/opt/conda/lib/python3.10/site-packages/pandas/core/generic.py:11401\u001b[0m, in \u001b[0;36mNDFrame.mean\u001b[0;34m(self, axis, skipna, level, numeric_only, **kwargs)\u001b[0m\n\u001b[1;32m  11393\u001b[0m \u001b[38;5;28;01mdef\u001b[39;00m \u001b[38;5;21mmean\u001b[39m(\n\u001b[1;32m  11394\u001b[0m     \u001b[38;5;28mself\u001b[39m,\n\u001b[1;32m  11395\u001b[0m     axis: Axis \u001b[38;5;241m|\u001b[39m \u001b[38;5;28;01mNone\u001b[39;00m \u001b[38;5;241m|\u001b[39m lib\u001b[38;5;241m.\u001b[39mNoDefault \u001b[38;5;241m=\u001b[39m lib\u001b[38;5;241m.\u001b[39mno_default,\n\u001b[0;32m   (...)\u001b[0m\n\u001b[1;32m  11399\u001b[0m     \u001b[38;5;241m*\u001b[39m\u001b[38;5;241m*\u001b[39mkwargs,\n\u001b[1;32m  11400\u001b[0m ) \u001b[38;5;241m-\u001b[39m\u001b[38;5;241m>\u001b[39m Series \u001b[38;5;241m|\u001b[39m \u001b[38;5;28mfloat\u001b[39m:\n\u001b[0;32m> 11401\u001b[0m     \u001b[38;5;28;01mreturn\u001b[39;00m \u001b[38;5;28;43mself\u001b[39;49m\u001b[38;5;241;43m.\u001b[39;49m\u001b[43m_stat_function\u001b[49m\u001b[43m(\u001b[49m\n\u001b[1;32m  11402\u001b[0m \u001b[43m        \u001b[49m\u001b[38;5;124;43m\"\u001b[39;49m\u001b[38;5;124;43mmean\u001b[39;49m\u001b[38;5;124;43m\"\u001b[39;49m\u001b[43m,\u001b[49m\u001b[43m \u001b[49m\u001b[43mnanops\u001b[49m\u001b[38;5;241;43m.\u001b[39;49m\u001b[43mnanmean\u001b[49m\u001b[43m,\u001b[49m\u001b[43m \u001b[49m\u001b[43maxis\u001b[49m\u001b[43m,\u001b[49m\u001b[43m \u001b[49m\u001b[43mskipna\u001b[49m\u001b[43m,\u001b[49m\u001b[43m \u001b[49m\u001b[43mlevel\u001b[49m\u001b[43m,\u001b[49m\u001b[43m \u001b[49m\u001b[43mnumeric_only\u001b[49m\u001b[43m,\u001b[49m\u001b[43m \u001b[49m\u001b[38;5;241;43m*\u001b[39;49m\u001b[38;5;241;43m*\u001b[39;49m\u001b[43mkwargs\u001b[49m\n\u001b[1;32m  11403\u001b[0m \u001b[43m    \u001b[49m\u001b[43m)\u001b[49m\n",
      "File \u001b[0;32m/opt/conda/lib/python3.10/site-packages/pandas/core/generic.py:11353\u001b[0m, in \u001b[0;36mNDFrame._stat_function\u001b[0;34m(self, name, func, axis, skipna, level, numeric_only, **kwargs)\u001b[0m\n\u001b[1;32m  11343\u001b[0m     warnings\u001b[38;5;241m.\u001b[39mwarn(\n\u001b[1;32m  11344\u001b[0m         \u001b[38;5;124m\"\u001b[39m\u001b[38;5;124mUsing the level keyword in DataFrame and Series aggregations is \u001b[39m\u001b[38;5;124m\"\u001b[39m\n\u001b[1;32m  11345\u001b[0m         \u001b[38;5;124m\"\u001b[39m\u001b[38;5;124mdeprecated and will be removed in a future version. Use groupby \u001b[39m\u001b[38;5;124m\"\u001b[39m\n\u001b[0;32m   (...)\u001b[0m\n\u001b[1;32m  11348\u001b[0m         stacklevel\u001b[38;5;241m=\u001b[39mfind_stack_level(),\n\u001b[1;32m  11349\u001b[0m     )\n\u001b[1;32m  11350\u001b[0m     \u001b[38;5;28;01mreturn\u001b[39;00m \u001b[38;5;28mself\u001b[39m\u001b[38;5;241m.\u001b[39m_agg_by_level(\n\u001b[1;32m  11351\u001b[0m         name, axis\u001b[38;5;241m=\u001b[39maxis, level\u001b[38;5;241m=\u001b[39mlevel, skipna\u001b[38;5;241m=\u001b[39mskipna, numeric_only\u001b[38;5;241m=\u001b[39mnumeric_only\n\u001b[1;32m  11352\u001b[0m     )\n\u001b[0;32m> 11353\u001b[0m \u001b[38;5;28;01mreturn\u001b[39;00m \u001b[38;5;28;43mself\u001b[39;49m\u001b[38;5;241;43m.\u001b[39;49m\u001b[43m_reduce\u001b[49m\u001b[43m(\u001b[49m\n\u001b[1;32m  11354\u001b[0m \u001b[43m    \u001b[49m\u001b[43mfunc\u001b[49m\u001b[43m,\u001b[49m\u001b[43m \u001b[49m\u001b[43mname\u001b[49m\u001b[38;5;241;43m=\u001b[39;49m\u001b[43mname\u001b[49m\u001b[43m,\u001b[49m\u001b[43m \u001b[49m\u001b[43maxis\u001b[49m\u001b[38;5;241;43m=\u001b[39;49m\u001b[43maxis\u001b[49m\u001b[43m,\u001b[49m\u001b[43m \u001b[49m\u001b[43mskipna\u001b[49m\u001b[38;5;241;43m=\u001b[39;49m\u001b[43mskipna\u001b[49m\u001b[43m,\u001b[49m\u001b[43m \u001b[49m\u001b[43mnumeric_only\u001b[49m\u001b[38;5;241;43m=\u001b[39;49m\u001b[43mnumeric_only\u001b[49m\n\u001b[1;32m  11355\u001b[0m \u001b[43m\u001b[49m\u001b[43m)\u001b[49m\n",
      "File \u001b[0;32m/opt/conda/lib/python3.10/site-packages/pandas/core/series.py:4816\u001b[0m, in \u001b[0;36mSeries._reduce\u001b[0;34m(self, op, name, axis, skipna, numeric_only, filter_type, **kwds)\u001b[0m\n\u001b[1;32m   4812\u001b[0m     \u001b[38;5;28;01mraise\u001b[39;00m \u001b[38;5;167;01mNotImplementedError\u001b[39;00m(\n\u001b[1;32m   4813\u001b[0m         \u001b[38;5;124mf\u001b[39m\u001b[38;5;124m\"\u001b[39m\u001b[38;5;124mSeries.\u001b[39m\u001b[38;5;132;01m{\u001b[39;00mname\u001b[38;5;132;01m}\u001b[39;00m\u001b[38;5;124m does not implement \u001b[39m\u001b[38;5;132;01m{\u001b[39;00mkwd_name\u001b[38;5;132;01m}\u001b[39;00m\u001b[38;5;124m.\u001b[39m\u001b[38;5;124m\"\u001b[39m\n\u001b[1;32m   4814\u001b[0m     )\n\u001b[1;32m   4815\u001b[0m \u001b[38;5;28;01mwith\u001b[39;00m np\u001b[38;5;241m.\u001b[39merrstate(\u001b[38;5;28mall\u001b[39m\u001b[38;5;241m=\u001b[39m\u001b[38;5;124m\"\u001b[39m\u001b[38;5;124mignore\u001b[39m\u001b[38;5;124m\"\u001b[39m):\n\u001b[0;32m-> 4816\u001b[0m     \u001b[38;5;28;01mreturn\u001b[39;00m \u001b[43mop\u001b[49m\u001b[43m(\u001b[49m\u001b[43mdelegate\u001b[49m\u001b[43m,\u001b[49m\u001b[43m \u001b[49m\u001b[43mskipna\u001b[49m\u001b[38;5;241;43m=\u001b[39;49m\u001b[43mskipna\u001b[49m\u001b[43m,\u001b[49m\u001b[43m \u001b[49m\u001b[38;5;241;43m*\u001b[39;49m\u001b[38;5;241;43m*\u001b[39;49m\u001b[43mkwds\u001b[49m\u001b[43m)\u001b[49m\n",
      "File \u001b[0;32m/opt/conda/lib/python3.10/site-packages/pandas/core/nanops.py:93\u001b[0m, in \u001b[0;36mdisallow.__call__.<locals>._f\u001b[0;34m(*args, **kwargs)\u001b[0m\n\u001b[1;32m     91\u001b[0m \u001b[38;5;28;01mtry\u001b[39;00m:\n\u001b[1;32m     92\u001b[0m     \u001b[38;5;28;01mwith\u001b[39;00m np\u001b[38;5;241m.\u001b[39merrstate(invalid\u001b[38;5;241m=\u001b[39m\u001b[38;5;124m\"\u001b[39m\u001b[38;5;124mignore\u001b[39m\u001b[38;5;124m\"\u001b[39m):\n\u001b[0;32m---> 93\u001b[0m         \u001b[38;5;28;01mreturn\u001b[39;00m \u001b[43mf\u001b[49m\u001b[43m(\u001b[49m\u001b[38;5;241;43m*\u001b[39;49m\u001b[43margs\u001b[49m\u001b[43m,\u001b[49m\u001b[43m \u001b[49m\u001b[38;5;241;43m*\u001b[39;49m\u001b[38;5;241;43m*\u001b[39;49m\u001b[43mkwargs\u001b[49m\u001b[43m)\u001b[49m\n\u001b[1;32m     94\u001b[0m \u001b[38;5;28;01mexcept\u001b[39;00m \u001b[38;5;167;01mValueError\u001b[39;00m \u001b[38;5;28;01mas\u001b[39;00m e:\n\u001b[1;32m     95\u001b[0m     \u001b[38;5;66;03m# we want to transform an object array\u001b[39;00m\n\u001b[1;32m     96\u001b[0m     \u001b[38;5;66;03m# ValueError message to the more typical TypeError\u001b[39;00m\n\u001b[1;32m     97\u001b[0m     \u001b[38;5;66;03m# e.g. this is normally a disallowed function on\u001b[39;00m\n\u001b[1;32m     98\u001b[0m     \u001b[38;5;66;03m# object arrays that contain strings\u001b[39;00m\n\u001b[1;32m     99\u001b[0m     \u001b[38;5;28;01mif\u001b[39;00m is_object_dtype(args[\u001b[38;5;241m0\u001b[39m]):\n",
      "File \u001b[0;32m/opt/conda/lib/python3.10/site-packages/pandas/core/nanops.py:155\u001b[0m, in \u001b[0;36mbottleneck_switch.__call__.<locals>.f\u001b[0;34m(values, axis, skipna, **kwds)\u001b[0m\n\u001b[1;32m    153\u001b[0m         result \u001b[38;5;241m=\u001b[39m alt(values, axis\u001b[38;5;241m=\u001b[39maxis, skipna\u001b[38;5;241m=\u001b[39mskipna, \u001b[38;5;241m*\u001b[39m\u001b[38;5;241m*\u001b[39mkwds)\n\u001b[1;32m    154\u001b[0m \u001b[38;5;28;01melse\u001b[39;00m:\n\u001b[0;32m--> 155\u001b[0m     result \u001b[38;5;241m=\u001b[39m \u001b[43malt\u001b[49m\u001b[43m(\u001b[49m\u001b[43mvalues\u001b[49m\u001b[43m,\u001b[49m\u001b[43m \u001b[49m\u001b[43maxis\u001b[49m\u001b[38;5;241;43m=\u001b[39;49m\u001b[43maxis\u001b[49m\u001b[43m,\u001b[49m\u001b[43m \u001b[49m\u001b[43mskipna\u001b[49m\u001b[38;5;241;43m=\u001b[39;49m\u001b[43mskipna\u001b[49m\u001b[43m,\u001b[49m\u001b[43m \u001b[49m\u001b[38;5;241;43m*\u001b[39;49m\u001b[38;5;241;43m*\u001b[39;49m\u001b[43mkwds\u001b[49m\u001b[43m)\u001b[49m\n\u001b[1;32m    157\u001b[0m \u001b[38;5;28;01mreturn\u001b[39;00m result\n",
      "File \u001b[0;32m/opt/conda/lib/python3.10/site-packages/pandas/core/nanops.py:418\u001b[0m, in \u001b[0;36m_datetimelike_compat.<locals>.new_func\u001b[0;34m(values, axis, skipna, mask, **kwargs)\u001b[0m\n\u001b[1;32m    415\u001b[0m \u001b[38;5;28;01mif\u001b[39;00m datetimelike \u001b[38;5;129;01mand\u001b[39;00m mask \u001b[38;5;129;01mis\u001b[39;00m \u001b[38;5;28;01mNone\u001b[39;00m:\n\u001b[1;32m    416\u001b[0m     mask \u001b[38;5;241m=\u001b[39m isna(values)\n\u001b[0;32m--> 418\u001b[0m result \u001b[38;5;241m=\u001b[39m \u001b[43mfunc\u001b[49m\u001b[43m(\u001b[49m\u001b[43mvalues\u001b[49m\u001b[43m,\u001b[49m\u001b[43m \u001b[49m\u001b[43maxis\u001b[49m\u001b[38;5;241;43m=\u001b[39;49m\u001b[43maxis\u001b[49m\u001b[43m,\u001b[49m\u001b[43m \u001b[49m\u001b[43mskipna\u001b[49m\u001b[38;5;241;43m=\u001b[39;49m\u001b[43mskipna\u001b[49m\u001b[43m,\u001b[49m\u001b[43m \u001b[49m\u001b[43mmask\u001b[49m\u001b[38;5;241;43m=\u001b[39;49m\u001b[43mmask\u001b[49m\u001b[43m,\u001b[49m\u001b[43m \u001b[49m\u001b[38;5;241;43m*\u001b[39;49m\u001b[38;5;241;43m*\u001b[39;49m\u001b[43mkwargs\u001b[49m\u001b[43m)\u001b[49m\n\u001b[1;32m    420\u001b[0m \u001b[38;5;28;01mif\u001b[39;00m datetimelike:\n\u001b[1;32m    421\u001b[0m     result \u001b[38;5;241m=\u001b[39m _wrap_results(result, orig_values\u001b[38;5;241m.\u001b[39mdtype, fill_value\u001b[38;5;241m=\u001b[39miNaT)\n",
      "File \u001b[0;32m/opt/conda/lib/python3.10/site-packages/pandas/core/nanops.py:706\u001b[0m, in \u001b[0;36mnanmean\u001b[0;34m(values, axis, skipna, mask)\u001b[0m\n\u001b[1;32m    703\u001b[0m     dtype_count \u001b[38;5;241m=\u001b[39m dtype\n\u001b[1;32m    705\u001b[0m count \u001b[38;5;241m=\u001b[39m _get_counts(values\u001b[38;5;241m.\u001b[39mshape, mask, axis, dtype\u001b[38;5;241m=\u001b[39mdtype_count)\n\u001b[0;32m--> 706\u001b[0m the_sum \u001b[38;5;241m=\u001b[39m _ensure_numeric(\u001b[43mvalues\u001b[49m\u001b[38;5;241;43m.\u001b[39;49m\u001b[43msum\u001b[49m\u001b[43m(\u001b[49m\u001b[43maxis\u001b[49m\u001b[43m,\u001b[49m\u001b[43m \u001b[49m\u001b[43mdtype\u001b[49m\u001b[38;5;241;43m=\u001b[39;49m\u001b[43mdtype_sum\u001b[49m\u001b[43m)\u001b[49m)\n\u001b[1;32m    708\u001b[0m \u001b[38;5;28;01mif\u001b[39;00m axis \u001b[38;5;129;01mis\u001b[39;00m \u001b[38;5;129;01mnot\u001b[39;00m \u001b[38;5;28;01mNone\u001b[39;00m \u001b[38;5;129;01mand\u001b[39;00m \u001b[38;5;28mgetattr\u001b[39m(the_sum, \u001b[38;5;124m\"\u001b[39m\u001b[38;5;124mndim\u001b[39m\u001b[38;5;124m\"\u001b[39m, \u001b[38;5;28;01mFalse\u001b[39;00m):\n\u001b[1;32m    709\u001b[0m     count \u001b[38;5;241m=\u001b[39m cast(np\u001b[38;5;241m.\u001b[39mndarray, count)\n",
      "File \u001b[0;32m/opt/conda/lib/python3.10/site-packages/numpy/core/_methods.py:48\u001b[0m, in \u001b[0;36m_sum\u001b[0;34m(a, axis, dtype, out, keepdims, initial, where)\u001b[0m\n\u001b[1;32m     46\u001b[0m \u001b[38;5;28;01mdef\u001b[39;00m \u001b[38;5;21m_sum\u001b[39m(a, axis\u001b[38;5;241m=\u001b[39m\u001b[38;5;28;01mNone\u001b[39;00m, dtype\u001b[38;5;241m=\u001b[39m\u001b[38;5;28;01mNone\u001b[39;00m, out\u001b[38;5;241m=\u001b[39m\u001b[38;5;28;01mNone\u001b[39;00m, keepdims\u001b[38;5;241m=\u001b[39m\u001b[38;5;28;01mFalse\u001b[39;00m,\n\u001b[1;32m     47\u001b[0m          initial\u001b[38;5;241m=\u001b[39m_NoValue, where\u001b[38;5;241m=\u001b[39m\u001b[38;5;28;01mTrue\u001b[39;00m):\n\u001b[0;32m---> 48\u001b[0m     \u001b[38;5;28;01mreturn\u001b[39;00m \u001b[43mumr_sum\u001b[49m\u001b[43m(\u001b[49m\u001b[43ma\u001b[49m\u001b[43m,\u001b[49m\u001b[43m \u001b[49m\u001b[43maxis\u001b[49m\u001b[43m,\u001b[49m\u001b[43m \u001b[49m\u001b[43mdtype\u001b[49m\u001b[43m,\u001b[49m\u001b[43m \u001b[49m\u001b[43mout\u001b[49m\u001b[43m,\u001b[49m\u001b[43m \u001b[49m\u001b[43mkeepdims\u001b[49m\u001b[43m,\u001b[49m\u001b[43m \u001b[49m\u001b[43minitial\u001b[49m\u001b[43m,\u001b[49m\u001b[43m \u001b[49m\u001b[43mwhere\u001b[49m\u001b[43m)\u001b[49m\n",
      "\u001b[0;31mTypeError\u001b[0m: unsupported operand type(s) for +: 'float' and 'str'"
     ]
    }
   ],
   "source": [
    "df1['column_2'].mean()"
   ]
  },
  {
   "cell_type": "markdown",
   "id": "b06df0a1-82d9-4113-8823-e48bd206d03b",
   "metadata": {},
   "source": [
    "## Explanation Error :\n",
    "**The error we are encountering is due to attempting to calculate the mean of the 'column_2' column, <br>which contains a string value after replacing the data in the second row with the string 'sudh'. <br>The mean operation expects numeric values, and mixing string and float values results in a TypeError.**"
   ]
  },
  {
   "cell_type": "markdown",
   "id": "1c3520fd-a0a0-46e3-a178-fafe97e0a916",
   "metadata": {},
   "source": [
    "### Q6. What do you understand about the windows function in pandas and list the types of windows functions?"
   ]
  },
  {
   "cell_type": "markdown",
   "id": "66830060-2df1-4289-ab2d-69ee1b85f404",
   "metadata": {},
   "source": [
    "### Window Functions in Pandas :\n",
    "\n",
    "**The window functions in Pandas are used to perform some sort of calculations across a set of rows that are interrelated with the current row. As we know, we have aggregate functions in SQL, which help us to perform mathematical calculations among the columns of a table. Similarly, windows functions help us to perform aggregated calculations across various partitions or cross-sections of the data.**<br>\n",
    "**There is a major difference between the standard aggregate function of SQL and Windows functions in Pandas. The aggregate function of SQL returns us a single value after performing the calculation specified in the SQL query. On the other hand, the Windows function in Pandas, returns a value for every row of the original table.**<br>\n",
    "\n",
    "### What is a window : \n",
    "\n",
    "**A window is a value (in terms of rows) that tells us the distance between our current row <br>\n",
    "and the row which is to be used for calculations.**<br>\n",
    "**In general, by window size, we define how many units of data we have to use to drive the next data in rolling window.**"
   ]
  },
  {
   "cell_type": "markdown",
   "id": "38cb71ec-13f5-4e45-a707-6b316f3d272d",
   "metadata": {},
   "source": [
    "# There are three types of Python Window Function \n",
    "\n",
    "<!DOCTYPE html>\n",
    "<html lang=\"en\">\n",
    "<head>\n",
    "    <meta charset=\"UTF-8\">\n",
    "    <meta name=\"viewport\" content=\"width=device-width, initial-scale=1.0\">\n",
    "    <title>     </title>\n",
    "</head>\n",
    "<body>\n",
    "\n",
    "<h1>Python Window Functions</h1>\n",
    "\n",
    "<ul>\n",
    "    <li>\n",
    "        <h2>Aggregate</h2>\n",
    "        <ul>\n",
    "            <li><b>(i) Group</li>\n",
    "            <li><b>(ii) Rolling</li>\n",
    "            <li><b>(iii) Expanding</li>\n",
    "        </ul>\n",
    "    </li>\n",
    "    <li>\n",
    "        <h2>Ranking</h2>\n",
    "        <ul>\n",
    "            <li><b>(i) Row Numbers</li>\n",
    "            <li><b>(ii) Rank</li>\n",
    "            <li><b>(iii) Dense rank</li>\n",
    "            <li><b>(iv) Percent</li>\n",
    "            <li><b>(v) N-Tile / qcut()</li>\n",
    "        </ul>\n",
    "    </li>\n",
    "    <li>\n",
    "        <h2>Value</h2>\n",
    "        <ul>\n",
    "            <li><b>(i) Lag / Lead</li>\n",
    "            <li><b>(ii) First / Last / nth</li>\n",
    "        </ul>\n",
    "    </li>\n",
    "</ul>\n",
    "\n",
    "</body>\n",
    "</html>\n"
   ]
  },
  {
   "cell_type": "markdown",
   "id": "c4d7a43c-9f46-46d6-b57a-797ee983b7f4",
   "metadata": {},
   "source": [
    "### Aggregate\n",
    "\n",
    "**(i) Group by :**<br>\n",
    "**The group by aggregate function can be used to partition and group the entire data frame by some column. <br>We can specify the column name in the parameter of the pandas. groupby() function for grouping the specified column data.**<br>\n",
    "\n",
    "**(ii) Rolling**<br>\n",
    "**The DataFrame.rolling() function is used to perform rolling window calculations and is generally used in <br>the case of signal processing data and time series data. In the rolling function, we take a window size (let's say k) <br>and then perform desired calculations on it. Here the window size resembles the number of consecutive values to be taken into consideration at a time.**\n",
    "\n",
    "**Syntax of the DataFrame.rolling function :**<br>\n",
    "**DataFrame.rolling(window, min_periods=None, freq=None, center=False, win_type=None, on=None, axis=0, closed=None)**<br>\n",
    "\n",
    "**(iii) Expanding**<br>\n",
    "**If we want to yield a value of the aggregate statistics with all the data that are available<br> up to a certain point in time, we use expanding window.**<br>\n"
   ]
  },
  {
   "cell_type": "markdown",
   "id": "4f939fcb-3523-48c3-84a2-960bf531ea7c",
   "metadata": {},
   "source": [
    "### Q7. Write a code to print only the current month and year at the time of answering this question. <br>[Hint: Use pandas.datetime function]\n",
    "### Ans :-"
   ]
  },
  {
   "cell_type": "markdown",
   "id": "2dee9e4a-c56b-499b-adbb-a047f9e22d79",
   "metadata": {},
   "source": [
    "## Python strftime() :\n",
    "\n",
    "### The strftime() method returns a string representing date and time using date, time or datetime object."
   ]
  },
  {
   "cell_type": "markdown",
   "id": "bdbbd457-2b91-42c9-9216-423f5dfaeb8a",
   "metadata": {},
   "source": [
    "## Method-1 Using Python strftime()"
   ]
  },
  {
   "cell_type": "code",
   "execution_count": 41,
   "id": "2b396429-ab1b-4ded-b159-4a01978fca49",
   "metadata": {},
   "outputs": [
    {
     "name": "stdout",
     "output_type": "stream",
     "text": [
      "Current Month and Year :  January 2024\n"
     ]
    }
   ],
   "source": [
    "import pandas as pd\n",
    "from datetime import datetime\n",
    "\n",
    "# Python program to\n",
    "# print current date\n",
    "\n",
    "current_date_time = datetime.now()\n",
    "current_month_year = pd.to_datetime(current_date_time).strftime('%B %Y')\n",
    "\n",
    "print(\"Current Month and Year : \",current_month_year)"
   ]
  },
  {
   "cell_type": "markdown",
   "id": "75390fc6-7536-4857-9197-de231f9dbe74",
   "metadata": {},
   "source": [
    "## Python Date Class :\n",
    "### The date class is used to instantiate date objects in Python. When an object of this class is instantiated,<br> it represents a date in the format YYYY-MM-DD. The constructor of this class needs three mandatory arguments year, month, and date."
   ]
  },
  {
   "cell_type": "markdown",
   "id": "1c49efd9-4e5e-4fda-8785-04bde5e45302",
   "metadata": {},
   "source": [
    "## Method-2 Using Python Date Class"
   ]
  },
  {
   "cell_type": "code",
   "execution_count": 42,
   "id": "9d6114a1-12ed-4a4c-9a11-74f0ecdf29af",
   "metadata": {},
   "outputs": [
    {
     "name": "stdout",
     "output_type": "stream",
     "text": [
      "Current month: 1\n",
      "Current year: 2024\n"
     ]
    }
   ],
   "source": [
    "import pandas as pd\n",
    "\n",
    "# Python program to\n",
    "# print current date\n",
    "from datetime import date\n",
    "\n",
    "# date object of today's date\n",
    "today = date.today() \n",
    "\n",
    "print(\"Current month:\", today.month)\n",
    "print(\"Current year:\", today.year)"
   ]
  },
  {
   "cell_type": "markdown",
   "id": "96c23a26-e44c-4b84-bc8d-6091f848e939",
   "metadata": {},
   "source": [
    "### Q8. Write a Python program that takes in two dates as input (in the format YYYY-MM-DD) and calculates the difference between them in days, hours, and minutes using Pandas time delta. The program should prompt the user to enter the dates and display the result."
   ]
  },
  {
   "cell_type": "code",
   "execution_count": 43,
   "id": "88fd5322-f602-4461-b695-ccccc89dc404",
   "metadata": {},
   "outputs": [
    {
     "name": "stdin",
     "output_type": "stream",
     "text": [
      "Enter the first date (YYYY-MM-DD):  2024-01-01\n",
      "Enter the second date (YYYY-MM-DD):  2024-02-02\n"
     ]
    },
    {
     "name": "stdout",
     "output_type": "stream",
     "text": [
      "Time difference: 32 days, 0 hours, 0 minutes\n"
     ]
    }
   ],
   "source": [
    "import pandas as pd\n",
    "from datetime import datetime, timedelta\n",
    "\n",
    "# Prompt the user to enter dates\n",
    "date_str1 = input(\"Enter the first date (YYYY-MM-DD): \")\n",
    "date_str2 = input(\"Enter the second date (YYYY-MM-DD): \")\n",
    "\n",
    "# Convert input strings to datetime objects\n",
    "date1 = pd.to_datetime(date_str1)\n",
    "date2 = pd.to_datetime(date_str2)\n",
    "\n",
    "# Calculate the time difference\n",
    "time_difference = date2 - date1\n",
    "\n",
    "# Display the result\n",
    "print(f\"Time difference: {time_difference.days} days, {time_difference.seconds // 3600} hours, {time_difference.seconds // 60 % 60} minutes\")\n"
   ]
  },
  {
   "cell_type": "markdown",
   "id": "f88b013c-6ab5-4184-9623-69c0fb19fc77",
   "metadata": {},
   "source": [
    "### Q9. Write a Python program that reads a CSV file containing categorical data and converts a specified column to a categorical data type. The program should prompt the user to enter the file path, column name, and category order, and then display the sorted data ?\n",
    "### Ans :-"
   ]
  },
  {
   "cell_type": "code",
   "execution_count": 45,
   "id": "2e15600c-943f-4768-b122-ea9c7147a522",
   "metadata": {},
   "outputs": [
    {
     "name": "stdin",
     "output_type": "stream",
     "text": [
      "Enter the CSV file path:  data1.csv\n",
      "Enter the column name to convert to categorical:  Category\n",
      "Enter the category order (comma-separated):  Student,Professional,Engineer,Researcher\n"
     ]
    },
    {
     "name": "stdout",
     "output_type": "stream",
     "text": [
      "    ID      Name      Category\n",
      "0    1     Alice       Student\n",
      "38  39     Megan       Student\n",
      "36  37      Kate       Student\n",
      "34  35    Isabel       Student\n",
      "32  33     Grace       Student\n",
      "30  31      Ella       Student\n",
      "28  29     Chloe       Student\n",
      "26  27       Amy       Student\n",
      "22  23      Will       Student\n",
      "20  21     Uriah       Student\n",
      "18  19     Steve       Student\n",
      "16  17     Quinn       Student\n",
      "14  15    Olivia       Student\n",
      "24  25      Yuri       Student\n",
      "12  13       Mia       Student\n",
      "10  11     Karen       Student\n",
      "2    3   Charlie       Student\n",
      "8    9       Ivy       Student\n",
      "4    5       Eva       Student\n",
      "6    7      Gina       Student\n",
      "39  40    Nathan  Professional\n",
      "1    2       Bob  Professional\n",
      "37  38      Luke  Professional\n",
      "35  36      John  Professional\n",
      "3    4    Daniel  Professional\n",
      "33  34     Henry  Professional\n",
      "13  14      Noah  Professional\n",
      "5    6     Frank  Professional\n",
      "29  30      Dave  Professional\n",
      "31  32     Felix  Professional\n",
      "7    8      Hank  Professional\n",
      "27  28     Bryan  Professional\n",
      "11  12      Liam  Professional\n",
      "17  18    Rachel  Professional\n",
      "19  20      Tina  Professional\n",
      "15  16     Peter  Professional\n",
      "21  22  Victoria  Professional\n",
      "23  24      Xena  Professional\n",
      "25  26      Zara  Professional\n",
      "9   10      Jack  Professional\n",
      "48  49   Ulysses      Engineer\n",
      "45  46    Sophie      Engineer\n",
      "46  47    Thomas      Engineer\n",
      "47  48   Tiffany      Engineer\n",
      "49  50    Ursula      Engineer\n",
      "40  41    Oliver    Researcher\n",
      "41  42     Paige    Researcher\n",
      "42  43    Quincy    Researcher\n",
      "43  44   Rebecca    Researcher\n",
      "44  45       Sam    Researcher\n"
     ]
    }
   ],
   "source": [
    "import pandas as pd\n",
    "\n",
    "def convert_to_categorical(file_path, column_name, category_order):\n",
    "    # Read the CSV file\n",
    "    df = pd.read_csv(file_path)\n",
    "\n",
    "    # Convert the specified column to categorical with custom order\n",
    "    df[column_name] = pd.Categorical(df[column_name], categories=category_order, ordered=True)\n",
    "\n",
    "    # sort the data\n",
    "    sorted_data = df.sort_values(column_name)\n",
    "    \n",
    "    # display output\n",
    "    print(sorted_data)\n",
    "    \n",
    "\n",
    "# Get user input\n",
    "file_path = input(\"Enter the CSV file path: \")\n",
    "column_name = input(\"Enter the column name to convert to categorical: \")\n",
    "category_order = input(\"Enter the category order (comma-separated): \").split(',')\n",
    "\n",
    "# Call the function\n",
    "convert_to_categorical(file_path, column_name, category_order)\n"
   ]
  },
  {
   "cell_type": "markdown",
   "id": "1207584f-5226-4530-8295-b48eb4a1fc58",
   "metadata": {},
   "source": [
    "### Q10. Write a Python program that reads a CSV file containing sales data for different products and visualizes the data using a stacked bar chart to show the sales of each product category over time. The program should prompt the user to enter the file path and display the chart ?\n",
    "### Ans :-"
   ]
  },
  {
   "cell_type": "markdown",
   "id": "288c13cd-77bf-4d3c-bd7c-0bfd74e2c8a4",
   "metadata": {},
   "source": [
    "## Approach - 1"
   ]
  },
  {
   "cell_type": "code",
   "execution_count": 39,
   "id": "897fbfb5-58b8-4a5c-beb6-9c130ed96195",
   "metadata": {},
   "outputs": [
    {
     "name": "stdin",
     "output_type": "stream",
     "text": [
      "Enter the file path:  sales_data.csv\n",
      "Enter the column name to convert to categorical type:  Product Category\n"
     ]
    },
    {
     "data": {
      "image/png": "[encoded data removed]",
      "text/plain": [
       "<Figure size 640x480 with 1 Axes>"
      ]
     },
     "metadata": {},
     "output_type": "display_data"
    }
   ],
   "source": [
    "import pandas as pd\n",
    "import matplotlib.pyplot as plt\n",
    "\n",
    "# Function to read CSV file, convert specified column to categorical type, and visualize data\n",
    "def visualize_sales_data(file_path, column_name):\n",
    "    # Read the CSV file into a DataFrame\n",
    "    df = pd.read_csv(file_path)\n",
    "\n",
    "    # Convert the specified column to categorical type\n",
    "    df[column_name] = df[column_name].astype('category')\n",
    "\n",
    "    # Create a stacked bar chart to visualize sales data\n",
    "    df.pivot_table(index='Date', columns=column_name, values='Sales', aggfunc='sum').plot(kind='bar', stacked=True)\n",
    "    \n",
    "    # Display the chart\n",
    "    plt.show()\n",
    "\n",
    "# Prompt the user to enter the file path and column name\n",
    "file_path = input(\"Enter the file path: \")\n",
    "column_name = input(\"Enter the column name to convert to categorical type: \")\n",
    "\n",
    "# Call the function to visualize sales data\n",
    "visualize_sales_data(file_path, column_name)\n"
   ]
  },
  {
   "cell_type": "markdown",
   "id": "8eec6de6-71f8-4913-9956-bb8fb7eadcab",
   "metadata": {},
   "source": [
    "## Approach - 2"
   ]
  },
  {
   "cell_type": "code",
   "execution_count": 77,
   "id": "6b14ff3f-9fb1-4c32-914e-f2cc753d37f2",
   "metadata": {},
   "outputs": [
    {
     "data": {
      "image/png": "[encoded data removed]",
      "text/plain": [
       "<Figure size 640x480 with 1 Axes>"
      ]
     },
     "metadata": {},
     "output_type": "display_data"
    }
   ],
   "source": [
    "import pandas as pd \n",
    "df2 = pd.read_csv('sales_data.csv')\n",
    "\n",
    "grouped_df = df2.groupby(['Date', 'Product Category'])['Sales'].sum().unstack()\n",
    "\n",
    "# Plotting using pandas plot\n",
    "grouped_df.plot(kind='bar', stacked=True)\n",
    "\n",
    "plt.xlabel('Date')\n",
    "plt.ylabel('Sales')\n",
    "plt.title('Sales over Time by Product Category')\n",
    "\n",
    "# Adding a legend\n",
    "plt.legend(title='Product Category', bbox_to_anchor=(1.05, 1), loc='upper left')\n",
    "\n",
    "plt.show()"
   ]
  },
  {
   "cell_type": "markdown",
   "id": "510ec462-775b-4c02-92e8-c2ee689ee574",
   "metadata": {},
   "source": [
    "### Q11. You are given a CSV file containing student data that includes the student ID and their test score. Write a Python program that reads the CSV file, calculates the mean, median, and mode of the test scores, and displays the results in a table.\n",
    "The program should do the following:\n",
    "- Prompt the user to enter the file path of the CSV file containing the student data.\n",
    "- Read the CSV file into a Pandas DataFrame.\n",
    "- Calculate the mean, median, and mode of the test scores using Pandas tools.\n",
    "- Display the mean, median, and mode in a table.\n",
    "\n",
    "Assume the CSV file contains the following columns:\n",
    "- Student ID: The ID of the student.\n",
    "- Test Score: The score of the student's test.\n",
    "\n",
    "**Example usage of the program:**\n",
    "```python\n",
    "Enter the file path of the CSV file containing the student data: student_data.csv\n"
   ]
  },
  {
   "cell_type": "code",
   "execution_count": 35,
   "id": "90c7b83c-0cd2-435b-a541-bddb9ab46b49",
   "metadata": {},
   "outputs": [],
   "source": [
    "import pandas as pd\n",
    "df = pd.read_csv('student_data.csv')"
   ]
  },
  {
   "cell_type": "code",
   "execution_count": 36,
   "id": "ec6181ae-29ac-4372-a459-ee15730a85d8",
   "metadata": {},
   "outputs": [
    {
     "data": {
      "text/html": [
       "<div>\n",
       "<style scoped>\n",
       "    .dataframe tbody tr th:only-of-type {\n",
       "        vertical-align: middle;\n",
       "    }\n",
       "\n",
       "    .dataframe tbody tr th {\n",
       "        vertical-align: top;\n",
       "    }\n",
       "\n",
       "    .dataframe thead th {\n",
       "        text-align: right;\n",
       "    }\n",
       "</style>\n",
       "<table border=\"1\" class=\"dataframe\">\n",
       "  <thead>\n",
       "    <tr style=\"text-align: right;\">\n",
       "      <th></th>\n",
       "      <th>Student ID</th>\n",
       "      <th>Test Score</th>\n",
       "    </tr>\n",
       "  </thead>\n",
       "  <tbody>\n",
       "    <tr>\n",
       "      <th>0</th>\n",
       "      <td>1</td>\n",
       "      <td>85</td>\n",
       "    </tr>\n",
       "    <tr>\n",
       "      <th>1</th>\n",
       "      <td>2</td>\n",
       "      <td>90</td>\n",
       "    </tr>\n",
       "    <tr>\n",
       "      <th>2</th>\n",
       "      <td>3</td>\n",
       "      <td>80</td>\n",
       "    </tr>\n",
       "    <tr>\n",
       "      <th>3</th>\n",
       "      <td>4</td>\n",
       "      <td>75</td>\n",
       "    </tr>\n",
       "    <tr>\n",
       "      <th>4</th>\n",
       "      <td>5</td>\n",
       "      <td>85</td>\n",
       "    </tr>\n",
       "    <tr>\n",
       "      <th>5</th>\n",
       "      <td>6</td>\n",
       "      <td>82</td>\n",
       "    </tr>\n",
       "    <tr>\n",
       "      <th>6</th>\n",
       "      <td>7</td>\n",
       "      <td>78</td>\n",
       "    </tr>\n",
       "    <tr>\n",
       "      <th>7</th>\n",
       "      <td>8</td>\n",
       "      <td>85</td>\n",
       "    </tr>\n",
       "    <tr>\n",
       "      <th>8</th>\n",
       "      <td>9</td>\n",
       "      <td>90</td>\n",
       "    </tr>\n",
       "    <tr>\n",
       "      <th>9</th>\n",
       "      <td>10</td>\n",
       "      <td>85</td>\n",
       "    </tr>\n",
       "  </tbody>\n",
       "</table>\n",
       "</div>"
      ],
      "text/plain": [
       "   Student ID  Test Score\n",
       "0           1          85\n",
       "1           2          90\n",
       "2           3          80\n",
       "3           4          75\n",
       "4           5          85\n",
       "5           6          82\n",
       "6           7          78\n",
       "7           8          85\n",
       "8           9          90\n",
       "9          10          85"
      ]
     },
     "execution_count": 36,
     "metadata": {},
     "output_type": "execute_result"
    }
   ],
   "source": [
    "df"
   ]
  },
  {
   "cell_type": "code",
   "execution_count": 37,
   "id": "cb845293-afc3-4642-9891-8c1847dc30cc",
   "metadata": {},
   "outputs": [
    {
     "name": "stdin",
     "output_type": "stream",
     "text": [
      "Enter the file path of the CSV file containing the student data:  student_data.csv\n"
     ]
    },
    {
     "name": "stdout",
     "output_type": "stream",
     "text": [
      "+-------------+---------+\n",
      "| Statistic   |   Value |\n",
      "+=============+=========+\n",
      "| Mean        |    83.5 |\n",
      "+-------------+---------+\n",
      "| Median      |    85   |\n",
      "+-------------+---------+\n",
      "| Mode        |    85   |\n",
      "+-------------+---------+\n"
     ]
    }
   ],
   "source": [
    "import pandas as pd \n",
    "from tabulate import tabulate\n",
    "\n",
    "def calculate_statistics(df):\n",
    "    \n",
    "    # Calculate mean, median, and standard deviation\n",
    "    mean_value = df['Test Score'].mean()\n",
    "    median_value = df['Test Score'].median()\n",
    "    mode = df['Test Score'].mode()\n",
    "\n",
    "    return mean_value, median_value, mode\n",
    "\n",
    "\n",
    "# Prompt the user to enter the file path\n",
    "file_path = input(\"Enter the file path of the CSV file containing the student data: \")\n",
    "\n",
    "# Read the CSV file into a Pandas DataFrame\n",
    "df = pd.read_csv(file_path)\n",
    "# Call the function to calculate statistics\n",
    "mean_value, median_value, mode  = calculate_statistics(df)\n",
    "\n",
    "\n",
    "# Create table data\n",
    "table_data = [[\"Mean\", mean_value], [\"Median\", median_value], [\"Mode\", ','.join(map(str, mode))]]\n",
    "\n",
    "# Display table using tabulate\n",
    "print(tabulate(table_data, headers=[\"Statistic\", \"Value\"], tablefmt=\"grid\"))"
   ]
  },
  {
   "cell_type": "code",
   "execution_count": null,
   "id": "0a81293e-3939-440f-8728-ac542577469d",
   "metadata": {},
   "outputs": [],
   "source": []
  }
 ],
 "metadata": {
  "kernelspec": {
   "display_name": "Python 3 (ipykernel)",
   "language": "python",
   "name": "python3"
  },
  "language_info": {
   "codemirror_mode": {
    "name": "ipython",
    "version": 3
   },
   "file_extension": ".py",
   "mimetype": "text/x-python",
   "name": "python",
   "nbconvert_exporter": "python",
   "pygments_lexer": "ipython3",
   "version": "3.11.5"
  }
 },
 "nbformat": 4,
 "nbformat_minor": 5
}

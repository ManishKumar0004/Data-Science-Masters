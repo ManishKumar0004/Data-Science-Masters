{
 "cells": [
  {
   "cell_type": "markdown",
   "id": "409b45f2-0faf-4303-be47-7b0b8251604d",
   "metadata": {},
   "source": [
    "#   &emsp; &emsp; &emsp; &emsp; &emsp; &emsp; &emsp; &emsp; &emsp; &emsp; Assignment\n",
    "### Q1 : Create a Pandas Series that contains the following data: 4, 8, 15, 16, 23, and 42. Then, print the series ?\n",
    "### Ans :- \n",
    "**Series :**<br>\n",
    "**A Pandas Series is a one-dimensional labeled array that can hold any data type, including numerical, string, or even mixed data. It can be created from a list, dictionary, or scalar value and has a label associated with each element, which is known as the index.**\n",
    "**--> A Series cannot contain multiple columns. It has the following parameter:**<br>\n",
    "**data: It can be any list, dictionary, or scalar value.<br>\n",
    "index: The value of the index should be unique and hashable. It must be of the same length as data. If we do not pass any <br>index, default np.arrange(n) will be used.**\n",
    "**dtype: It refers to the data type of series.**<br>\n",
    "**copy: It is used for copying the data.**"
   ]
  },
  {
   "cell_type": "markdown",
   "id": "9d0f6419-a420-4064-b287-0fb1a8742469",
   "metadata": {},
   "source": [
    "**Creating a Series:**"
   ]
  },
  {
   "cell_type": "code",
   "execution_count": 1,
   "id": "ba43220a-0aff-42c0-b963-6ae9c8b3e305",
   "metadata": {},
   "outputs": [],
   "source": [
    "import pandas as pd"
   ]
  },
  {
   "cell_type": "code",
   "execution_count": 2,
   "id": "fc6b55da-71cc-4d66-8962-7b6cf4850361",
   "metadata": {},
   "outputs": [
    {
     "name": "stdout",
     "output_type": "stream",
     "text": [
      "0     4\n",
      "1     8\n",
      "2    15\n",
      "3    16\n",
      "4    23\n",
      "5    42\n",
      "dtype: int64\n"
     ]
    }
   ],
   "source": [
    "data = [ 4, 8, 15, 16, 23, 42]\n",
    "\n",
    "ser = pd.Series(data)\n",
    "print(ser)"
   ]
  },
  {
   "cell_type": "markdown",
   "id": "04513674-ca50-4920-bfa1-d5d78499032c",
   "metadata": {},
   "source": [
    "**Creating Series from Array:**<br>\n",
    "**NumPy: NumPy is a Python library used for working with arrays.**"
   ]
  },
  {
   "cell_type": "code",
   "execution_count": 3,
   "id": "697f48df-50d5-480f-9585-92c0b1adf070",
   "metadata": {},
   "outputs": [
    {
     "name": "stdout",
     "output_type": "stream",
     "text": [
      "10     4\n",
      "11     8\n",
      "12    15\n",
      "13    16\n",
      "14    23\n",
      "15    42\n",
      "dtype: int64\n"
     ]
    }
   ],
   "source": [
    "\n",
    "import pandas as pd\n",
    " \n",
    "# import numpy as np\n",
    "import numpy as np\n",
    " \n",
    "# simple array\n",
    "data = np.array([ 4, 8, 15, 16, 23, 42])\n",
    " \n",
    "# providing an index\n",
    "ser = pd.Series(data, index=[10, 11, 12, 13, 14, 15])\n",
    "print(ser)"
   ]
  },
  {
   "cell_type": "markdown",
   "id": "c8027c77-a219-478d-9f14-5d65d6972515",
   "metadata": {},
   "source": [
    "### Q2 : Create a variable of list type containing 10 elements in it, and apply pandas.Series function on the\n",
    "### variable print it ?\n",
    "### Ans :- "
   ]
  },
  {
   "cell_type": "code",
   "execution_count": 4,
   "id": "7b505b6e-96a8-45fb-97f0-b25191cecbce",
   "metadata": {},
   "outputs": [],
   "source": [
    "import pandas as pd\n",
    " \n",
    "# a simple list\n",
    "my_list = ['g', 'e', 'f', 'k', 's', 'q', 'e', 'h', 't', 'a'] "
   ]
  },
  {
   "cell_type": "code",
   "execution_count": 5,
   "id": "0e87bc35-7a18-431d-a7d6-ca3f982f3ef6",
   "metadata": {},
   "outputs": [
    {
     "data": {
      "text/plain": [
       "list"
      ]
     },
     "execution_count": 5,
     "metadata": {},
     "output_type": "execute_result"
    }
   ],
   "source": [
    "type(my_list)"
   ]
  },
  {
   "cell_type": "code",
   "execution_count": 6,
   "id": "09bfca89-9130-43eb-a166-03568470e150",
   "metadata": {},
   "outputs": [
    {
     "name": "stdout",
     "output_type": "stream",
     "text": [
      "0    g\n",
      "1    e\n",
      "2    f\n",
      "3    k\n",
      "4    s\n",
      "5    q\n",
      "6    e\n",
      "7    h\n",
      "8    t\n",
      "9    a\n",
      "dtype: object\n"
     ]
    }
   ],
   "source": [
    "# create series form a list\n",
    "my_series = pd.Series(my_list)\n",
    "print(my_series)"
   ]
  },
  {
   "cell_type": "markdown",
   "id": "0871a520-a426-478a-a852-0d3371c16072",
   "metadata": {},
   "source": [
    "### Q3 : Create a Pandas DataFrame that contains the following data ?\n",
    "### Ans :-"
   ]
  },
  {
   "cell_type": "code",
   "execution_count": 7,
   "id": "3d80cefa-db6d-4144-9808-fd7cb1489712",
   "metadata": {},
   "outputs": [],
   "source": [
    "import pandas as pd\n",
    "\n",
    "data = {'Name':['Alice', 'Bob', 'Claire'],\n",
    "        'Age': [25, 30, 27],\n",
    "        'Gender': ['Female', 'Male', 'Female']}\n"
   ]
  },
  {
   "cell_type": "code",
   "execution_count": 8,
   "id": "c4cb20f3-ba02-4d71-9a67-6e2e2cc7ca15",
   "metadata": {},
   "outputs": [],
   "source": [
    "df = pd.DataFrame(data)"
   ]
  },
  {
   "cell_type": "code",
   "execution_count": 9,
   "id": "112964be-c05b-45ba-a52c-29369362b1fa",
   "metadata": {},
   "outputs": [
    {
     "name": "stdout",
     "output_type": "stream",
     "text": [
      "     Name  Age  Gender\n",
      "0   Alice   25  Female\n",
      "1     Bob   30    Male\n",
      "2  Claire   27  Female\n"
     ]
    }
   ],
   "source": [
    "print(df)"
   ]
  },
  {
   "cell_type": "markdown",
   "id": "3f83e56f-6be3-43b7-b8e2-849ed0330530",
   "metadata": {},
   "source": [
    "### Q4 : What is ‘DataFrame’ in pandas and how is it different from pandas.series? Explain with an example ?\n",
    "### Ans :-\n",
    "**DataFrame : <br>**\n",
    "**Pandas DataFrame is a widely used data structure which works with a two-dimensional array with labeled axes (rows and columns).It is similar to a table or spreadsheet in which data is arranged in rows and columns. A DataFrame allows for easy manipulation and analysis of structured data.**<br>\n",
    "\n",
    "**It consists of the following properties:**<br>\n",
    "\n",
    "**(i) The columns can be heterogeneous types like int, bool, and so on.<br>**\n",
    "**It can be seen as a dictionary of Series structure where both the rows and columns are indexed. It is denoted as \"columns\" in case of columns and \"index\" in case of rows.**<br>\n",
    "\n",
    "**Difference between DataFrame and Series :<br>**\n",
    "| **Aspect**               | **DataFrame**                              | **Series**                                 |\n",
    "|--------------------------|---------------------------------------------|---------------------------------------------|\n",
    "| **Dimension**            | 2-dimensional (rows and columns)           | 1-dimensional (single column or row)       |\n",
    "| **Basic Structure**      | Table-like structure with columns           | Single column or row with labels           |\n",
    "| **Data Representation**  | Can hold multiple columns of different types| Single column of data                       |\n",
    "| **Initialization**       | Created from dictionaries, lists, arrays    | Created from lists, arrays, or other data   |\n",
    "| **Accessing Elements**   | Accessed using column names or indexes      | Accessed using indexes or labels            |\n",
    "| **Example**              | `pd.DataFrame({'A': [1, 2], 'B': [3, 4]})` | `pd.Series([1, 2, 3, 4], name='MySeries')` |\n",
    "| **Usage**                | Suitable for structured, tabular data       | Used for representing single variables     |\n",
    "| **Functionality**        | Supports complex operations and manipulations | Supports basic operations and manipulations |\n",
    "| **Shape**                | Represented as (rows, columns)               | Represented as (length,) or (1, length)    |\n"
   ]
  },
  {
   "cell_type": "markdown",
   "id": "b4085432-acc9-4c65-8314-38f3f6dcf83d",
   "metadata": {},
   "source": [
    "### Example :- "
   ]
  },
  {
   "cell_type": "code",
   "execution_count": 10,
   "id": "9a821625-b61e-4f19-85b6-2115fe334141",
   "metadata": {},
   "outputs": [],
   "source": [
    "import pandas as pd\n",
    "\n",
    "# Creating a Series\n",
    "s = pd.Series([1, 2, 3, 4], name='MySeries')"
   ]
  },
  {
   "cell_type": "code",
   "execution_count": 11,
   "id": "c17afa07-48b0-461c-bc16-463052b97df1",
   "metadata": {},
   "outputs": [
    {
     "name": "stdout",
     "output_type": "stream",
     "text": [
      "0    1\n",
      "1    2\n",
      "2    3\n",
      "3    4\n",
      "Name: MySeries, dtype: int64\n"
     ]
    }
   ],
   "source": [
    "print(s)"
   ]
  },
  {
   "cell_type": "code",
   "execution_count": 12,
   "id": "29efb0dc-aa36-498c-af35-513eba00ff30",
   "metadata": {},
   "outputs": [],
   "source": [
    "# Creating a DataFrame\n",
    "df = pd.DataFrame({'Column1': [10, 20, 30, 40], 'Column2': ['A', 'B', 'C', 'D']})"
   ]
  },
  {
   "cell_type": "code",
   "execution_count": 13,
   "id": "13d2ce0c-d5cb-47d4-94e4-332532eaae26",
   "metadata": {},
   "outputs": [
    {
     "name": "stdout",
     "output_type": "stream",
     "text": [
      "   Column1 Column2\n",
      "0       10       A\n",
      "1       20       B\n",
      "2       30       C\n",
      "3       40       D\n"
     ]
    }
   ],
   "source": [
    "print(df)"
   ]
  },
  {
   "cell_type": "markdown",
   "id": "c4c1690c-5e38-45dc-8335-3fe195688f87",
   "metadata": {},
   "source": [
    "### Q5 : What are some common functions you can use to manipulate data in a Pandas DataFrame? Can you give an example of when you might use one of these functions?\n",
    "### Ans :-"
   ]
  },
  {
   "cell_type": "code",
   "execution_count": 14,
   "id": "88deb99a-46c3-4859-9e56-b987bac2265b",
   "metadata": {},
   "outputs": [],
   "source": [
    "import pandas as pd\n",
    "import numpy as np\n",
    "\n",
    "# DataFrame\n",
    "data = {\n",
    "    'Name': ['Alice', 'Bob', 'Claire', 'David', 'Eva'],\n",
    "    'Age': [25, 30, 27, np.nan, 22],\n",
    "    'Gender': ['Female', 'Male', 'Female', 'Male', 'Female'],\n",
    "    'Salary': [50000, 60000, 55000, 70000, np.nan]\n",
    "}\n",
    "\n",
    "df = pd.DataFrame(data)"
   ]
  },
  {
   "cell_type": "code",
   "execution_count": 15,
   "id": "9218fdc6-3d35-4330-a1e2-ec6d16fa9a8d",
   "metadata": {},
   "outputs": [
    {
     "data": {
      "text/html": [
       "<div>\n",
       "<style scoped>\n",
       "    .dataframe tbody tr th:only-of-type {\n",
       "        vertical-align: middle;\n",
       "    }\n",
       "\n",
       "    .dataframe tbody tr th {\n",
       "        vertical-align: top;\n",
       "    }\n",
       "\n",
       "    .dataframe thead th {\n",
       "        text-align: right;\n",
       "    }\n",
       "</style>\n",
       "<table border=\"1\" class=\"dataframe\">\n",
       "  <thead>\n",
       "    <tr style=\"text-align: right;\">\n",
       "      <th></th>\n",
       "      <th>Name</th>\n",
       "      <th>Age</th>\n",
       "      <th>Gender</th>\n",
       "      <th>Salary</th>\n",
       "    </tr>\n",
       "  </thead>\n",
       "  <tbody>\n",
       "    <tr>\n",
       "      <th>0</th>\n",
       "      <td>Alice</td>\n",
       "      <td>25.0</td>\n",
       "      <td>Female</td>\n",
       "      <td>50000.0</td>\n",
       "    </tr>\n",
       "    <tr>\n",
       "      <th>1</th>\n",
       "      <td>Bob</td>\n",
       "      <td>30.0</td>\n",
       "      <td>Male</td>\n",
       "      <td>60000.0</td>\n",
       "    </tr>\n",
       "    <tr>\n",
       "      <th>2</th>\n",
       "      <td>Claire</td>\n",
       "      <td>27.0</td>\n",
       "      <td>Female</td>\n",
       "      <td>55000.0</td>\n",
       "    </tr>\n",
       "    <tr>\n",
       "      <th>3</th>\n",
       "      <td>David</td>\n",
       "      <td>NaN</td>\n",
       "      <td>Male</td>\n",
       "      <td>70000.0</td>\n",
       "    </tr>\n",
       "    <tr>\n",
       "      <th>4</th>\n",
       "      <td>Eva</td>\n",
       "      <td>22.0</td>\n",
       "      <td>Female</td>\n",
       "      <td>NaN</td>\n",
       "    </tr>\n",
       "  </tbody>\n",
       "</table>\n",
       "</div>"
      ],
      "text/plain": [
       "     Name   Age  Gender   Salary\n",
       "0   Alice  25.0  Female  50000.0\n",
       "1     Bob  30.0    Male  60000.0\n",
       "2  Claire  27.0  Female  55000.0\n",
       "3   David   NaN    Male  70000.0\n",
       "4     Eva  22.0  Female      NaN"
      ]
     },
     "execution_count": 15,
     "metadata": {},
     "output_type": "execute_result"
    }
   ],
   "source": [
    "df"
   ]
  },
  {
   "cell_type": "markdown",
   "id": "873d9723-64fb-412b-884f-7ab7e26cd3fd",
   "metadata": {},
   "source": [
    "**(1) head() and tail(): Display the first or last N rows of the DataFrame.**"
   ]
  },
  {
   "cell_type": "code",
   "execution_count": 16,
   "id": "7c593238-2640-49c8-a650-63908b22e36e",
   "metadata": {},
   "outputs": [
    {
     "data": {
      "text/html": [
       "<div>\n",
       "<style scoped>\n",
       "    .dataframe tbody tr th:only-of-type {\n",
       "        vertical-align: middle;\n",
       "    }\n",
       "\n",
       "    .dataframe tbody tr th {\n",
       "        vertical-align: top;\n",
       "    }\n",
       "\n",
       "    .dataframe thead th {\n",
       "        text-align: right;\n",
       "    }\n",
       "</style>\n",
       "<table border=\"1\" class=\"dataframe\">\n",
       "  <thead>\n",
       "    <tr style=\"text-align: right;\">\n",
       "      <th></th>\n",
       "      <th>Name</th>\n",
       "      <th>Age</th>\n",
       "      <th>Gender</th>\n",
       "      <th>Salary</th>\n",
       "    </tr>\n",
       "  </thead>\n",
       "  <tbody>\n",
       "    <tr>\n",
       "      <th>0</th>\n",
       "      <td>Alice</td>\n",
       "      <td>25.0</td>\n",
       "      <td>Female</td>\n",
       "      <td>50000.0</td>\n",
       "    </tr>\n",
       "    <tr>\n",
       "      <th>1</th>\n",
       "      <td>Bob</td>\n",
       "      <td>30.0</td>\n",
       "      <td>Male</td>\n",
       "      <td>60000.0</td>\n",
       "    </tr>\n",
       "    <tr>\n",
       "      <th>2</th>\n",
       "      <td>Claire</td>\n",
       "      <td>27.0</td>\n",
       "      <td>Female</td>\n",
       "      <td>55000.0</td>\n",
       "    </tr>\n",
       "  </tbody>\n",
       "</table>\n",
       "</div>"
      ],
      "text/plain": [
       "     Name   Age  Gender   Salary\n",
       "0   Alice  25.0  Female  50000.0\n",
       "1     Bob  30.0    Male  60000.0\n",
       "2  Claire  27.0  Female  55000.0"
      ]
     },
     "execution_count": 16,
     "metadata": {},
     "output_type": "execute_result"
    }
   ],
   "source": [
    "df.head(3)  # Display the first 3 rows"
   ]
  },
  {
   "cell_type": "code",
   "execution_count": 17,
   "id": "a7fcae17-d400-4786-8470-6ad990ae995a",
   "metadata": {},
   "outputs": [
    {
     "data": {
      "text/html": [
       "<div>\n",
       "<style scoped>\n",
       "    .dataframe tbody tr th:only-of-type {\n",
       "        vertical-align: middle;\n",
       "    }\n",
       "\n",
       "    .dataframe tbody tr th {\n",
       "        vertical-align: top;\n",
       "    }\n",
       "\n",
       "    .dataframe thead th {\n",
       "        text-align: right;\n",
       "    }\n",
       "</style>\n",
       "<table border=\"1\" class=\"dataframe\">\n",
       "  <thead>\n",
       "    <tr style=\"text-align: right;\">\n",
       "      <th></th>\n",
       "      <th>Name</th>\n",
       "      <th>Age</th>\n",
       "      <th>Gender</th>\n",
       "      <th>Salary</th>\n",
       "    </tr>\n",
       "  </thead>\n",
       "  <tbody>\n",
       "    <tr>\n",
       "      <th>3</th>\n",
       "      <td>David</td>\n",
       "      <td>NaN</td>\n",
       "      <td>Male</td>\n",
       "      <td>70000.0</td>\n",
       "    </tr>\n",
       "    <tr>\n",
       "      <th>4</th>\n",
       "      <td>Eva</td>\n",
       "      <td>22.0</td>\n",
       "      <td>Female</td>\n",
       "      <td>NaN</td>\n",
       "    </tr>\n",
       "  </tbody>\n",
       "</table>\n",
       "</div>"
      ],
      "text/plain": [
       "    Name   Age  Gender   Salary\n",
       "3  David   NaN    Male  70000.0\n",
       "4    Eva  22.0  Female      NaN"
      ]
     },
     "execution_count": 17,
     "metadata": {},
     "output_type": "execute_result"
    }
   ],
   "source": [
    "df.tail(2) # Display the last 2 rows"
   ]
  },
  {
   "cell_type": "markdown",
   "id": "7400bb26-085f-498a-a4a4-73072c5cda53",
   "metadata": {},
   "source": [
    "**(2) info(): Provides a concise summary of the DataFrame, including data types and missing values.**"
   ]
  },
  {
   "cell_type": "code",
   "execution_count": 18,
   "id": "3f05b636-cbfb-46a7-8e24-6b1eb516b548",
   "metadata": {},
   "outputs": [
    {
     "name": "stdout",
     "output_type": "stream",
     "text": [
      "<class 'pandas.core.frame.DataFrame'>\n",
      "RangeIndex: 5 entries, 0 to 4\n",
      "Data columns (total 4 columns):\n",
      " #   Column  Non-Null Count  Dtype  \n",
      "---  ------  --------------  -----  \n",
      " 0   Name    5 non-null      object \n",
      " 1   Age     4 non-null      float64\n",
      " 2   Gender  5 non-null      object \n",
      " 3   Salary  4 non-null      float64\n",
      "dtypes: float64(2), object(2)\n",
      "memory usage: 288.0+ bytes\n"
     ]
    }
   ],
   "source": [
    "df.info()"
   ]
  },
  {
   "cell_type": "markdown",
   "id": "96d91c87-2b1c-4607-86a5-2599c6da31ec",
   "metadata": {},
   "source": [
    "**(3) describe(): Generates descriptive statistics of the DataFrame.**"
   ]
  },
  {
   "cell_type": "code",
   "execution_count": 19,
   "id": "65d6fd8a-43be-4486-bd4b-2caf0ef786a3",
   "metadata": {},
   "outputs": [
    {
     "data": {
      "text/html": [
       "<div>\n",
       "<style scoped>\n",
       "    .dataframe tbody tr th:only-of-type {\n",
       "        vertical-align: middle;\n",
       "    }\n",
       "\n",
       "    .dataframe tbody tr th {\n",
       "        vertical-align: top;\n",
       "    }\n",
       "\n",
       "    .dataframe thead th {\n",
       "        text-align: right;\n",
       "    }\n",
       "</style>\n",
       "<table border=\"1\" class=\"dataframe\">\n",
       "  <thead>\n",
       "    <tr style=\"text-align: right;\">\n",
       "      <th></th>\n",
       "      <th>Age</th>\n",
       "      <th>Salary</th>\n",
       "    </tr>\n",
       "  </thead>\n",
       "  <tbody>\n",
       "    <tr>\n",
       "      <th>count</th>\n",
       "      <td>4.000000</td>\n",
       "      <td>4.000000</td>\n",
       "    </tr>\n",
       "    <tr>\n",
       "      <th>mean</th>\n",
       "      <td>26.000000</td>\n",
       "      <td>58750.000000</td>\n",
       "    </tr>\n",
       "    <tr>\n",
       "      <th>std</th>\n",
       "      <td>3.366502</td>\n",
       "      <td>8539.125638</td>\n",
       "    </tr>\n",
       "    <tr>\n",
       "      <th>min</th>\n",
       "      <td>22.000000</td>\n",
       "      <td>50000.000000</td>\n",
       "    </tr>\n",
       "    <tr>\n",
       "      <th>25%</th>\n",
       "      <td>24.250000</td>\n",
       "      <td>53750.000000</td>\n",
       "    </tr>\n",
       "    <tr>\n",
       "      <th>50%</th>\n",
       "      <td>26.000000</td>\n",
       "      <td>57500.000000</td>\n",
       "    </tr>\n",
       "    <tr>\n",
       "      <th>75%</th>\n",
       "      <td>27.750000</td>\n",
       "      <td>62500.000000</td>\n",
       "    </tr>\n",
       "    <tr>\n",
       "      <th>max</th>\n",
       "      <td>30.000000</td>\n",
       "      <td>70000.000000</td>\n",
       "    </tr>\n",
       "  </tbody>\n",
       "</table>\n",
       "</div>"
      ],
      "text/plain": [
       "             Age        Salary\n",
       "count   4.000000      4.000000\n",
       "mean   26.000000  58750.000000\n",
       "std     3.366502   8539.125638\n",
       "min    22.000000  50000.000000\n",
       "25%    24.250000  53750.000000\n",
       "50%    26.000000  57500.000000\n",
       "75%    27.750000  62500.000000\n",
       "max    30.000000  70000.000000"
      ]
     },
     "execution_count": 19,
     "metadata": {},
     "output_type": "execute_result"
    }
   ],
   "source": [
    "df.describe()"
   ]
  },
  {
   "cell_type": "markdown",
   "id": "7591524d-e1ca-4776-ba4a-a05ba781e63d",
   "metadata": {},
   "source": [
    "**(4) filter(): Filters rows of the DataFrame based on a condition.**"
   ]
  },
  {
   "cell_type": "code",
   "execution_count": 20,
   "id": "9cd230ae-ea21-4321-8811-70466642e9e6",
   "metadata": {},
   "outputs": [
    {
     "data": {
      "text/html": [
       "<div>\n",
       "<style scoped>\n",
       "    .dataframe tbody tr th:only-of-type {\n",
       "        vertical-align: middle;\n",
       "    }\n",
       "\n",
       "    .dataframe tbody tr th {\n",
       "        vertical-align: top;\n",
       "    }\n",
       "\n",
       "    .dataframe thead th {\n",
       "        text-align: right;\n",
       "    }\n",
       "</style>\n",
       "<table border=\"1\" class=\"dataframe\">\n",
       "  <thead>\n",
       "    <tr style=\"text-align: right;\">\n",
       "      <th></th>\n",
       "      <th>Name</th>\n",
       "      <th>Age</th>\n",
       "      <th>Gender</th>\n",
       "      <th>Salary</th>\n",
       "    </tr>\n",
       "  </thead>\n",
       "  <tbody>\n",
       "    <tr>\n",
       "      <th>0</th>\n",
       "      <td>Alice</td>\n",
       "      <td>25.0</td>\n",
       "      <td>Female</td>\n",
       "      <td>50000.0</td>\n",
       "    </tr>\n",
       "    <tr>\n",
       "      <th>1</th>\n",
       "      <td>Bob</td>\n",
       "      <td>30.0</td>\n",
       "      <td>Male</td>\n",
       "      <td>60000.0</td>\n",
       "    </tr>\n",
       "    <tr>\n",
       "      <th>2</th>\n",
       "      <td>Claire</td>\n",
       "      <td>27.0</td>\n",
       "      <td>Female</td>\n",
       "      <td>55000.0</td>\n",
       "    </tr>\n",
       "  </tbody>\n",
       "</table>\n",
       "</div>"
      ],
      "text/plain": [
       "     Name   Age  Gender   Salary\n",
       "0   Alice  25.0  Female  50000.0\n",
       "1     Bob  30.0    Male  60000.0\n",
       "2  Claire  27.0  Female  55000.0"
      ]
     },
     "execution_count": 20,
     "metadata": {},
     "output_type": "execute_result"
    }
   ],
   "source": [
    "df[df['Age'] > 22]"
   ]
  },
  {
   "cell_type": "markdown",
   "id": "20ad4843-a31d-4e0d-be38-dc36144adba6",
   "metadata": {},
   "source": [
    "**(5) drop(): Drops specified labels from rows or columns.**"
   ]
  },
  {
   "cell_type": "code",
   "execution_count": 21,
   "id": "47039e95-0947-4187-a229-1cb9610a4be0",
   "metadata": {},
   "outputs": [
    {
     "data": {
      "text/html": [
       "<div>\n",
       "<style scoped>\n",
       "    .dataframe tbody tr th:only-of-type {\n",
       "        vertical-align: middle;\n",
       "    }\n",
       "\n",
       "    .dataframe tbody tr th {\n",
       "        vertical-align: top;\n",
       "    }\n",
       "\n",
       "    .dataframe thead th {\n",
       "        text-align: right;\n",
       "    }\n",
       "</style>\n",
       "<table border=\"1\" class=\"dataframe\">\n",
       "  <thead>\n",
       "    <tr style=\"text-align: right;\">\n",
       "      <th></th>\n",
       "      <th>Name</th>\n",
       "      <th>Age</th>\n",
       "      <th>Salary</th>\n",
       "    </tr>\n",
       "  </thead>\n",
       "  <tbody>\n",
       "    <tr>\n",
       "      <th>0</th>\n",
       "      <td>Alice</td>\n",
       "      <td>25.0</td>\n",
       "      <td>50000.0</td>\n",
       "    </tr>\n",
       "    <tr>\n",
       "      <th>1</th>\n",
       "      <td>Bob</td>\n",
       "      <td>30.0</td>\n",
       "      <td>60000.0</td>\n",
       "    </tr>\n",
       "    <tr>\n",
       "      <th>2</th>\n",
       "      <td>Claire</td>\n",
       "      <td>27.0</td>\n",
       "      <td>55000.0</td>\n",
       "    </tr>\n",
       "    <tr>\n",
       "      <th>3</th>\n",
       "      <td>David</td>\n",
       "      <td>NaN</td>\n",
       "      <td>70000.0</td>\n",
       "    </tr>\n",
       "    <tr>\n",
       "      <th>4</th>\n",
       "      <td>Eva</td>\n",
       "      <td>22.0</td>\n",
       "      <td>NaN</td>\n",
       "    </tr>\n",
       "  </tbody>\n",
       "</table>\n",
       "</div>"
      ],
      "text/plain": [
       "     Name   Age   Salary\n",
       "0   Alice  25.0  50000.0\n",
       "1     Bob  30.0  60000.0\n",
       "2  Claire  27.0  55000.0\n",
       "3   David   NaN  70000.0\n",
       "4     Eva  22.0      NaN"
      ]
     },
     "execution_count": 21,
     "metadata": {},
     "output_type": "execute_result"
    }
   ],
   "source": [
    "df.drop(columns=['Gender'])\n"
   ]
  },
  {
   "cell_type": "markdown",
   "id": "31076563-1fea-423e-ab7f-1e91b06a8477",
   "metadata": {},
   "source": [
    "**(6) fillna() and dropna(): Fills or drops missing values.**"
   ]
  },
  {
   "cell_type": "code",
   "execution_count": 23,
   "id": "d230b330-d19b-410c-8799-3efbf8569930",
   "metadata": {},
   "outputs": [],
   "source": [
    "df['Salary'].fillna(df['Salary'].mean(), inplace=True)"
   ]
  },
  {
   "cell_type": "code",
   "execution_count": 24,
   "id": "3ab475a3-10cd-4c82-876c-5b9f35b7605c",
   "metadata": {},
   "outputs": [
    {
     "data": {
      "text/html": [
       "<div>\n",
       "<style scoped>\n",
       "    .dataframe tbody tr th:only-of-type {\n",
       "        vertical-align: middle;\n",
       "    }\n",
       "\n",
       "    .dataframe tbody tr th {\n",
       "        vertical-align: top;\n",
       "    }\n",
       "\n",
       "    .dataframe thead th {\n",
       "        text-align: right;\n",
       "    }\n",
       "</style>\n",
       "<table border=\"1\" class=\"dataframe\">\n",
       "  <thead>\n",
       "    <tr style=\"text-align: right;\">\n",
       "      <th></th>\n",
       "      <th>Name</th>\n",
       "      <th>Age</th>\n",
       "      <th>Gender</th>\n",
       "      <th>Salary</th>\n",
       "    </tr>\n",
       "  </thead>\n",
       "  <tbody>\n",
       "    <tr>\n",
       "      <th>0</th>\n",
       "      <td>Alice</td>\n",
       "      <td>25.0</td>\n",
       "      <td>Female</td>\n",
       "      <td>50000.0</td>\n",
       "    </tr>\n",
       "    <tr>\n",
       "      <th>1</th>\n",
       "      <td>Bob</td>\n",
       "      <td>30.0</td>\n",
       "      <td>Male</td>\n",
       "      <td>60000.0</td>\n",
       "    </tr>\n",
       "    <tr>\n",
       "      <th>2</th>\n",
       "      <td>Claire</td>\n",
       "      <td>27.0</td>\n",
       "      <td>Female</td>\n",
       "      <td>55000.0</td>\n",
       "    </tr>\n",
       "    <tr>\n",
       "      <th>3</th>\n",
       "      <td>David</td>\n",
       "      <td>NaN</td>\n",
       "      <td>Male</td>\n",
       "      <td>70000.0</td>\n",
       "    </tr>\n",
       "    <tr>\n",
       "      <th>4</th>\n",
       "      <td>Eva</td>\n",
       "      <td>22.0</td>\n",
       "      <td>Female</td>\n",
       "      <td>58750.0</td>\n",
       "    </tr>\n",
       "  </tbody>\n",
       "</table>\n",
       "</div>"
      ],
      "text/plain": [
       "     Name   Age  Gender   Salary\n",
       "0   Alice  25.0  Female  50000.0\n",
       "1     Bob  30.0    Male  60000.0\n",
       "2  Claire  27.0  Female  55000.0\n",
       "3   David   NaN    Male  70000.0\n",
       "4     Eva  22.0  Female  58750.0"
      ]
     },
     "execution_count": 24,
     "metadata": {},
     "output_type": "execute_result"
    }
   ],
   "source": [
    "df"
   ]
  },
  {
   "cell_type": "markdown",
   "id": "eaf4de30-7505-4705-ba26-0fb3ec40e707",
   "metadata": {},
   "source": [
    "**(7) pivot_table(): Creates a pivot table based on column values.**"
   ]
  },
  {
   "cell_type": "code",
   "execution_count": 25,
   "id": "4faed4b0-0e1f-4c46-9455-993b5899cd67",
   "metadata": {},
   "outputs": [
    {
     "name": "stdout",
     "output_type": "stream",
     "text": [
      "Pivot Table:\n",
      "              Salary\n",
      "Gender              \n",
      "Female  54583.333333\n",
      "Male    65000.000000\n"
     ]
    }
   ],
   "source": [
    "# Create a pivot table based on 'Gender' and calculate the mean salary\n",
    "pivot_table_result = pd.pivot_table(df, values='Salary', index='Gender', aggfunc=np.mean)\n",
    "\n",
    "# Display the pivot table\n",
    "print(\"Pivot Table:\")\n",
    "print(pivot_table_result)"
   ]
  },
  {
   "cell_type": "markdown",
   "id": "9d796f3b-9f20-472b-a7a1-fc28c0bbb9da",
   "metadata": {},
   "source": [
    "**(8) sort_values(): Sort the DataFrame by 'Age' in descending order**"
   ]
  },
  {
   "cell_type": "code",
   "execution_count": 28,
   "id": "680c74eb-a8a4-421c-8fb5-78fb4e28386b",
   "metadata": {},
   "outputs": [],
   "source": [
    "sorted_df = df.sort_values(by='Age', ascending=False)"
   ]
  },
  {
   "cell_type": "code",
   "execution_count": 29,
   "id": "f0ccd6f2-aa44-4d49-ab00-b5848b33d15d",
   "metadata": {},
   "outputs": [
    {
     "data": {
      "text/html": [
       "<div>\n",
       "<style scoped>\n",
       "    .dataframe tbody tr th:only-of-type {\n",
       "        vertical-align: middle;\n",
       "    }\n",
       "\n",
       "    .dataframe tbody tr th {\n",
       "        vertical-align: top;\n",
       "    }\n",
       "\n",
       "    .dataframe thead th {\n",
       "        text-align: right;\n",
       "    }\n",
       "</style>\n",
       "<table border=\"1\" class=\"dataframe\">\n",
       "  <thead>\n",
       "    <tr style=\"text-align: right;\">\n",
       "      <th></th>\n",
       "      <th>Name</th>\n",
       "      <th>Age</th>\n",
       "      <th>Gender</th>\n",
       "      <th>Salary</th>\n",
       "    </tr>\n",
       "  </thead>\n",
       "  <tbody>\n",
       "    <tr>\n",
       "      <th>1</th>\n",
       "      <td>Bob</td>\n",
       "      <td>30.0</td>\n",
       "      <td>Male</td>\n",
       "      <td>60000.0</td>\n",
       "    </tr>\n",
       "    <tr>\n",
       "      <th>2</th>\n",
       "      <td>Claire</td>\n",
       "      <td>27.0</td>\n",
       "      <td>Female</td>\n",
       "      <td>55000.0</td>\n",
       "    </tr>\n",
       "    <tr>\n",
       "      <th>0</th>\n",
       "      <td>Alice</td>\n",
       "      <td>25.0</td>\n",
       "      <td>Female</td>\n",
       "      <td>50000.0</td>\n",
       "    </tr>\n",
       "    <tr>\n",
       "      <th>4</th>\n",
       "      <td>Eva</td>\n",
       "      <td>22.0</td>\n",
       "      <td>Female</td>\n",
       "      <td>58750.0</td>\n",
       "    </tr>\n",
       "    <tr>\n",
       "      <th>3</th>\n",
       "      <td>David</td>\n",
       "      <td>NaN</td>\n",
       "      <td>Male</td>\n",
       "      <td>70000.0</td>\n",
       "    </tr>\n",
       "  </tbody>\n",
       "</table>\n",
       "</div>"
      ],
      "text/plain": [
       "     Name   Age  Gender   Salary\n",
       "1     Bob  30.0    Male  60000.0\n",
       "2  Claire  27.0  Female  55000.0\n",
       "0   Alice  25.0  Female  50000.0\n",
       "4     Eva  22.0  Female  58750.0\n",
       "3   David   NaN    Male  70000.0"
      ]
     },
     "execution_count": 29,
     "metadata": {},
     "output_type": "execute_result"
    }
   ],
   "source": [
    "sorted_df"
   ]
  },
  {
   "cell_type": "markdown",
   "id": "a020f564-c3a9-49c7-a490-2c5563ccab80",
   "metadata": {},
   "source": [
    "### Q6 : Which of the following is mutable in nature Series, DataFrame, Panel?\n",
    "### Ans :-Pandas deals with the following three data structures −\n",
    "\n",
    "**(1) Series<br>**\n",
    "**(2) DataFrame<br>**\n",
    "**(3) Panel<br>**\n",
    "**These data structures are built on top of Numpy array, which means they are fast.<br>**\n",
    "\n",
    "**Mutability<br>**\n",
    "**All Pandas data structures are value mutable (can be changed) and except Series <br>all are size mutable. Series is size immutable.**<br>\n",
    "**Size Mutable: <br>You can change the structure (add or remove elements) of the data structure.**<br>\n",
    "**Data Mutable: <br>You can change the values within the data structure.**<br>\n",
    "\n",
    "**(1) Series :**<br>\n",
    "**Series is a one-dimensional array like structure with homogeneous data.**<br>\n",
    "**Once a Series is created, you cannot change its size (i.e., add or remove elements). However, you can modify the values within the Series.**<br>\n",
    " \n",
    "**Key Points :**<br>\n",
    "**(i) Homogeneous data**<br>\n",
    "**(ii) Size Immutable**<br>\n",
    "**(iii) Values of Data Mutable**<br>\n",
    "\n",
    "### Example :-"
   ]
  },
  {
   "cell_type": "code",
   "execution_count": 13,
   "id": "67c1ee60-f716-42cb-a6a5-d9981cd3c882",
   "metadata": {},
   "outputs": [],
   "source": [
    "import pandas as pd\n",
    "\n",
    "# Creating a Series\n",
    "s = pd.Series([10, 23, 56, 17, 52])"
   ]
  },
  {
   "cell_type": "code",
   "execution_count": 18,
   "id": "92caaba8-321e-485d-bf0f-5a94ad31e1b1",
   "metadata": {},
   "outputs": [],
   "source": [
    "# Adding a new element to the Series\n",
    "s2 = pd.concat([s, pd.Series([99])])"
   ]
  },
  {
   "cell_type": "code",
   "execution_count": 19,
   "id": "120ec48c-f8f3-4f3e-bfd1-c7422f901458",
   "metadata": {},
   "outputs": [
    {
     "name": "stdout",
     "output_type": "stream",
     "text": [
      "Original Series:\n",
      "0    10\n",
      "1    23\n",
      "2    56\n",
      "3    17\n",
      "4    52\n",
      "dtype: int64\n"
     ]
    }
   ],
   "source": [
    "print(\"Original Series:\")\n",
    "print(s)"
   ]
  },
  {
   "cell_type": "code",
   "execution_count": 20,
   "id": "6cf5ebdd-f451-480c-badc-356933503a5a",
   "metadata": {},
   "outputs": [
    {
     "name": "stdout",
     "output_type": "stream",
     "text": [
      "Series after appending a new element:\n",
      "0    10\n",
      "1    23\n",
      "2    56\n",
      "3    17\n",
      "4    52\n",
      "0    99\n",
      "dtype: int64\n"
     ]
    }
   ],
   "source": [
    "print(\"Series after appending a new element:\")\n",
    "print(s2)"
   ]
  },
  {
   "cell_type": "markdown",
   "id": "e321c91d-e8ce-4bd2-8693-3f81328e43bb",
   "metadata": {},
   "source": [
    "**(2) DataFrame :**<br>\n",
    "**DataFrame is a two-dimensional array with heterogeneous data.**<br>\n",
    "**Both the size of a DataFrame and the values within it can be changed. You can add or remove columns and rows, and you can modify the values.**<br>\n",
    "\n",
    "**Key Points :**<br>\n",
    "**(i) Heterogeneous data**<br>\n",
    "**(ii) Size Mutable**<br>\n",
    "**(iii) Data Mutable**<br>\n",
    "\n",
    "### Example :-"
   ]
  },
  {
   "cell_type": "code",
   "execution_count": 21,
   "id": "27cb0d21-c1ff-4ce8-b997-5de5cd552648",
   "metadata": {},
   "outputs": [],
   "source": [
    "import pandas as pd\n",
    "\n",
    "# Creating a DataFrame\n",
    "data = {\n",
    "    'Name': ['Alice', 'Bob', 'Claire'],\n",
    "    'Age': [25, 30, 27],\n",
    "    'Gender': ['Female', 'Male', 'Female']\n",
    "}\n",
    "\n",
    "df = pd.DataFrame(data)\n"
   ]
  },
  {
   "cell_type": "code",
   "execution_count": 22,
   "id": "1221add8-96be-4f73-b035-89c7ab6dbdaa",
   "metadata": {},
   "outputs": [
    {
     "data": {
      "text/html": [
       "<div>\n",
       "<style scoped>\n",
       "    .dataframe tbody tr th:only-of-type {\n",
       "        vertical-align: middle;\n",
       "    }\n",
       "\n",
       "    .dataframe tbody tr th {\n",
       "        vertical-align: top;\n",
       "    }\n",
       "\n",
       "    .dataframe thead th {\n",
       "        text-align: right;\n",
       "    }\n",
       "</style>\n",
       "<table border=\"1\" class=\"dataframe\">\n",
       "  <thead>\n",
       "    <tr style=\"text-align: right;\">\n",
       "      <th></th>\n",
       "      <th>Name</th>\n",
       "      <th>Age</th>\n",
       "      <th>Gender</th>\n",
       "    </tr>\n",
       "  </thead>\n",
       "  <tbody>\n",
       "    <tr>\n",
       "      <th>0</th>\n",
       "      <td>Alice</td>\n",
       "      <td>25</td>\n",
       "      <td>Female</td>\n",
       "    </tr>\n",
       "    <tr>\n",
       "      <th>1</th>\n",
       "      <td>Bob</td>\n",
       "      <td>30</td>\n",
       "      <td>Male</td>\n",
       "    </tr>\n",
       "    <tr>\n",
       "      <th>2</th>\n",
       "      <td>Claire</td>\n",
       "      <td>27</td>\n",
       "      <td>Female</td>\n",
       "    </tr>\n",
       "  </tbody>\n",
       "</table>\n",
       "</div>"
      ],
      "text/plain": [
       "     Name  Age  Gender\n",
       "0   Alice   25  Female\n",
       "1     Bob   30    Male\n",
       "2  Claire   27  Female"
      ]
     },
     "execution_count": 22,
     "metadata": {},
     "output_type": "execute_result"
    }
   ],
   "source": [
    "df"
   ]
  },
  {
   "cell_type": "code",
   "execution_count": 23,
   "id": "5b2562c5-4036-485d-bb10-a00cd8aa7e57",
   "metadata": {},
   "outputs": [],
   "source": [
    "# Size of DataFrame is mutable\n",
    "df['Salary'] = [50000, 60000, 55000]"
   ]
  },
  {
   "cell_type": "code",
   "execution_count": 24,
   "id": "be8d3f40-6298-4e47-96c6-32ed23a25053",
   "metadata": {},
   "outputs": [
    {
     "data": {
      "text/html": [
       "<div>\n",
       "<style scoped>\n",
       "    .dataframe tbody tr th:only-of-type {\n",
       "        vertical-align: middle;\n",
       "    }\n",
       "\n",
       "    .dataframe tbody tr th {\n",
       "        vertical-align: top;\n",
       "    }\n",
       "\n",
       "    .dataframe thead th {\n",
       "        text-align: right;\n",
       "    }\n",
       "</style>\n",
       "<table border=\"1\" class=\"dataframe\">\n",
       "  <thead>\n",
       "    <tr style=\"text-align: right;\">\n",
       "      <th></th>\n",
       "      <th>Name</th>\n",
       "      <th>Age</th>\n",
       "      <th>Gender</th>\n",
       "      <th>Salary</th>\n",
       "    </tr>\n",
       "  </thead>\n",
       "  <tbody>\n",
       "    <tr>\n",
       "      <th>0</th>\n",
       "      <td>Alice</td>\n",
       "      <td>25</td>\n",
       "      <td>Female</td>\n",
       "      <td>50000</td>\n",
       "    </tr>\n",
       "    <tr>\n",
       "      <th>1</th>\n",
       "      <td>Bob</td>\n",
       "      <td>30</td>\n",
       "      <td>Male</td>\n",
       "      <td>60000</td>\n",
       "    </tr>\n",
       "    <tr>\n",
       "      <th>2</th>\n",
       "      <td>Claire</td>\n",
       "      <td>27</td>\n",
       "      <td>Female</td>\n",
       "      <td>55000</td>\n",
       "    </tr>\n",
       "  </tbody>\n",
       "</table>\n",
       "</div>"
      ],
      "text/plain": [
       "     Name  Age  Gender  Salary\n",
       "0   Alice   25  Female   50000\n",
       "1     Bob   30    Male   60000\n",
       "2  Claire   27  Female   55000"
      ]
     },
     "execution_count": 24,
     "metadata": {},
     "output_type": "execute_result"
    }
   ],
   "source": [
    "df"
   ]
  },
  {
   "cell_type": "code",
   "execution_count": 28,
   "id": "ef63abff-5ee7-447f-91e0-e0a3b564932b",
   "metadata": {},
   "outputs": [],
   "source": [
    "# put value at index 1 \n",
    "df.loc[1, 'Age'] = 35"
   ]
  },
  {
   "cell_type": "code",
   "execution_count": 29,
   "id": "c8dcb253-bfc4-4420-af94-c32183b702f9",
   "metadata": {},
   "outputs": [
    {
     "data": {
      "text/html": [
       "<div>\n",
       "<style scoped>\n",
       "    .dataframe tbody tr th:only-of-type {\n",
       "        vertical-align: middle;\n",
       "    }\n",
       "\n",
       "    .dataframe tbody tr th {\n",
       "        vertical-align: top;\n",
       "    }\n",
       "\n",
       "    .dataframe thead th {\n",
       "        text-align: right;\n",
       "    }\n",
       "</style>\n",
       "<table border=\"1\" class=\"dataframe\">\n",
       "  <thead>\n",
       "    <tr style=\"text-align: right;\">\n",
       "      <th></th>\n",
       "      <th>Name</th>\n",
       "      <th>Age</th>\n",
       "      <th>Gender</th>\n",
       "      <th>Salary</th>\n",
       "    </tr>\n",
       "  </thead>\n",
       "  <tbody>\n",
       "    <tr>\n",
       "      <th>0</th>\n",
       "      <td>Alice</td>\n",
       "      <td>25</td>\n",
       "      <td>Female</td>\n",
       "      <td>50000</td>\n",
       "    </tr>\n",
       "    <tr>\n",
       "      <th>1</th>\n",
       "      <td>Bob</td>\n",
       "      <td>35</td>\n",
       "      <td>Male</td>\n",
       "      <td>60000</td>\n",
       "    </tr>\n",
       "    <tr>\n",
       "      <th>2</th>\n",
       "      <td>Claire</td>\n",
       "      <td>27</td>\n",
       "      <td>Female</td>\n",
       "      <td>55000</td>\n",
       "    </tr>\n",
       "  </tbody>\n",
       "</table>\n",
       "</div>"
      ],
      "text/plain": [
       "     Name  Age  Gender  Salary\n",
       "0   Alice   25  Female   50000\n",
       "1     Bob   35    Male   60000\n",
       "2  Claire   27  Female   55000"
      ]
     },
     "execution_count": 29,
     "metadata": {},
     "output_type": "execute_result"
    }
   ],
   "source": [
    "df"
   ]
  },
  {
   "cell_type": "markdown",
   "id": "31195409-b7f9-4f6d-956c-7cd6506ea468",
   "metadata": {},
   "source": [
    "**(3) Panel :**<br>\n",
    "**Panel is a three-dimensional data structure with heterogeneous data. It is hard to represent the panel in graphical representation. But a panel can be illustrated as a container of DataFrame.**<br>\n",
    "**Similar to DataFrames, the size of a Panel and the values within it can be changed.**<br>\n",
    "\n",
    "**Key Points :**<br>\n",
    "**(i) Heterogeneous data**<br>\n",
    "**(ii) Size Mutable**<br>\n",
    "**(iii )Data Mutable**"
   ]
  },
  {
   "cell_type": "markdown",
   "id": "52dd5603-b361-4dc0-8fb3-2932470c5d24",
   "metadata": {},
   "source": [
    "### Q7 : Create a DataFrame using multiple Series. Explain with an example ?\n",
    "### Ans :- "
   ]
  },
  {
   "cell_type": "code",
   "execution_count": 31,
   "id": "db3caa3c-fb81-43b4-8b71-4abe6e7d6bcb",
   "metadata": {},
   "outputs": [],
   "source": [
    "import pandas as pd\n",
    "\n",
    "# creating 3 Series \n",
    "city_series = pd.Series(['New York', 'San Francisco', 'Los Angeles'])\n",
    "population_series = pd.Series([8398748, 883305, 3990456])\n",
    "area_series = pd.Series([468.9, 46.87, 1302])"
   ]
  },
  {
   "cell_type": "code",
   "execution_count": 32,
   "id": "36c54c61-7822-4aee-8795-3d9c794829bc",
   "metadata": {},
   "outputs": [],
   "source": [
    "# Creating a DataFrame using the Series\n",
    "cities_df = pd.DataFrame({\n",
    "    'City': city_series,\n",
    "    'Population': population_series,\n",
    "    'Area (sq. miles)': area_series\n",
    "})"
   ]
  },
  {
   "cell_type": "code",
   "execution_count": 34,
   "id": "7459b111-a1ef-4639-bcfb-cb9a18e50f03",
   "metadata": {},
   "outputs": [
    {
     "data": {
      "text/html": [
       "<div>\n",
       "<style scoped>\n",
       "    .dataframe tbody tr th:only-of-type {\n",
       "        vertical-align: middle;\n",
       "    }\n",
       "\n",
       "    .dataframe tbody tr th {\n",
       "        vertical-align: top;\n",
       "    }\n",
       "\n",
       "    .dataframe thead th {\n",
       "        text-align: right;\n",
       "    }\n",
       "</style>\n",
       "<table border=\"1\" class=\"dataframe\">\n",
       "  <thead>\n",
       "    <tr style=\"text-align: right;\">\n",
       "      <th></th>\n",
       "      <th>City</th>\n",
       "      <th>Population</th>\n",
       "      <th>Area (sq. miles)</th>\n",
       "    </tr>\n",
       "  </thead>\n",
       "  <tbody>\n",
       "    <tr>\n",
       "      <th>0</th>\n",
       "      <td>New York</td>\n",
       "      <td>8398748</td>\n",
       "      <td>468.90</td>\n",
       "    </tr>\n",
       "    <tr>\n",
       "      <th>1</th>\n",
       "      <td>San Francisco</td>\n",
       "      <td>883305</td>\n",
       "      <td>46.87</td>\n",
       "    </tr>\n",
       "    <tr>\n",
       "      <th>2</th>\n",
       "      <td>Los Angeles</td>\n",
       "      <td>3990456</td>\n",
       "      <td>1302.00</td>\n",
       "    </tr>\n",
       "  </tbody>\n",
       "</table>\n",
       "</div>"
      ],
      "text/plain": [
       "            City  Population  Area (sq. miles)\n",
       "0       New York     8398748            468.90\n",
       "1  San Francisco      883305             46.87\n",
       "2    Los Angeles     3990456           1302.00"
      ]
     },
     "execution_count": 34,
     "metadata": {},
     "output_type": "execute_result"
    }
   ],
   "source": [
    "cities_df"
   ]
  },
  {
   "cell_type": "code",
   "execution_count": null,
   "id": "1405a5dd-6717-40ca-a7da-60f0c1aa29c4",
   "metadata": {},
   "outputs": [],
   "source": []
  }
 ],
 "metadata": {
  "kernelspec": {
   "display_name": "Python 3 (ipykernel)",
   "language": "python",
   "name": "python3"
  },
  "language_info": {
   "codemirror_mode": {
    "name": "ipython",
    "version": 3
   },
   "file_extension": ".py",
   "mimetype": "text/x-python",
   "name": "python",
   "nbconvert_exporter": "python",
   "pygments_lexer": "ipython3",
   "version": "3.10.8"
  }
 },
 "nbformat": 4,
 "nbformat_minor": 5
}

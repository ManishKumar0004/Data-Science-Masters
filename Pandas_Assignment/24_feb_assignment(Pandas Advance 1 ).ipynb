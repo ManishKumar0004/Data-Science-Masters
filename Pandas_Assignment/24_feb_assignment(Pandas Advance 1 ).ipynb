{
 "cells": [
  {
   "cell_type": "markdown",
   "id": "72f1b00d-0657-44ff-a7bb-efb76d76c62e",
   "metadata": {},
   "source": [
    "#   &emsp; &emsp; &emsp; &emsp; &emsp; &emsp; &emsp; &emsp; &emsp; &emsp; Assignment\n",
    "### Q1 : List any five functions of the pandas library with execution ?\n",
    "### Ans :-\n",
    "\n",
    "**(1) read_csv() :<br>**\n",
    "\n",
    "**We can read data in pandas data frame as read_csv(). Two most used data read formats are csv and excel.<br> If we are reading data in excel format, we can also give sheet names .** "
   ]
  },
  {
   "cell_type": "code",
   "execution_count": 1,
   "id": "9bb8bc7c-5598-4c42-aa9d-6a470ccfd5f0",
   "metadata": {},
   "outputs": [],
   "source": [
    "import pandas as pd\n",
    "\n",
    "df = pd.read_csv('services.csv')"
   ]
  },
  {
   "cell_type": "markdown",
   "id": "c7bbfcee-31b0-4ef3-9486-352b36dc28d0",
   "metadata": {},
   "source": [
    "**(2) Head and Tail :**<br>\n",
    "\n",
    "**To see the data frame we can use df.head(). Head returns the first rows,<br> if no input is given it will always show above 5 rows. In contrast to see below rows, we can use df.tail().**"
   ]
  },
  {
   "cell_type": "code",
   "execution_count": 2,
   "id": "c884ebb7-d310-46f7-84dd-2887a1aa0350",
   "metadata": {},
   "outputs": [
    {
     "data": {
      "text/html": [
       "<div>\n",
       "<style scoped>\n",
       "    .dataframe tbody tr th:only-of-type {\n",
       "        vertical-align: middle;\n",
       "    }\n",
       "\n",
       "    .dataframe tbody tr th {\n",
       "        vertical-align: top;\n",
       "    }\n",
       "\n",
       "    .dataframe thead th {\n",
       "        text-align: right;\n",
       "    }\n",
       "</style>\n",
       "<table border=\"1\" class=\"dataframe\">\n",
       "  <thead>\n",
       "    <tr style=\"text-align: right;\">\n",
       "      <th></th>\n",
       "      <th>id</th>\n",
       "      <th>location_id</th>\n",
       "      <th>program_id</th>\n",
       "      <th>accepted_payments</th>\n",
       "      <th>alternate_name</th>\n",
       "      <th>application_process</th>\n",
       "      <th>audience</th>\n",
       "      <th>description</th>\n",
       "      <th>eligibility</th>\n",
       "      <th>email</th>\n",
       "      <th>...</th>\n",
       "      <th>interpretation_services</th>\n",
       "      <th>keywords</th>\n",
       "      <th>languages</th>\n",
       "      <th>name</th>\n",
       "      <th>required_documents</th>\n",
       "      <th>service_areas</th>\n",
       "      <th>status</th>\n",
       "      <th>wait_time</th>\n",
       "      <th>website</th>\n",
       "      <th>taxonomy_ids</th>\n",
       "    </tr>\n",
       "  </thead>\n",
       "  <tbody>\n",
       "    <tr>\n",
       "      <th>0</th>\n",
       "      <td>1</td>\n",
       "      <td>1</td>\n",
       "      <td>NaN</td>\n",
       "      <td>NaN</td>\n",
       "      <td>NaN</td>\n",
       "      <td>Walk in or apply by phone.</td>\n",
       "      <td>Older adults age 55 or over, ethnic minorities...</td>\n",
       "      <td>A walk-in center for older adults that provide...</td>\n",
       "      <td>Age 55 or over for most programs, age 60 or ov...</td>\n",
       "      <td>NaN</td>\n",
       "      <td>...</td>\n",
       "      <td>NaN</td>\n",
       "      <td>ADULT PROTECTION AND CARE SERVICES, Meal Sites...</td>\n",
       "      <td>NaN</td>\n",
       "      <td>Fair Oaks Adult Activity Center</td>\n",
       "      <td>NaN</td>\n",
       "      <td>Colma</td>\n",
       "      <td>active</td>\n",
       "      <td>No wait.</td>\n",
       "      <td>NaN</td>\n",
       "      <td>NaN</td>\n",
       "    </tr>\n",
       "    <tr>\n",
       "      <th>1</th>\n",
       "      <td>2</td>\n",
       "      <td>2</td>\n",
       "      <td>NaN</td>\n",
       "      <td>NaN</td>\n",
       "      <td>NaN</td>\n",
       "      <td>Apply by phone for an appointment.</td>\n",
       "      <td>Residents of San Mateo County age 55 or over</td>\n",
       "      <td>Provides training and job placement to eligibl...</td>\n",
       "      <td>Age 55 or over, county resident and willing an...</td>\n",
       "      <td>NaN</td>\n",
       "      <td>...</td>\n",
       "      <td>NaN</td>\n",
       "      <td>EMPLOYMENT/TRAINING SERVICES, Job Development,...</td>\n",
       "      <td>NaN</td>\n",
       "      <td>Second Career Employment Program</td>\n",
       "      <td>NaN</td>\n",
       "      <td>San Mateo County</td>\n",
       "      <td>active</td>\n",
       "      <td>Varies.</td>\n",
       "      <td>NaN</td>\n",
       "      <td>NaN</td>\n",
       "    </tr>\n",
       "    <tr>\n",
       "      <th>2</th>\n",
       "      <td>3</td>\n",
       "      <td>3</td>\n",
       "      <td>NaN</td>\n",
       "      <td>NaN</td>\n",
       "      <td>NaN</td>\n",
       "      <td>Phone for information (403-4300 Ext. 4322).</td>\n",
       "      <td>Older adults age 55 or over who can benefit fr...</td>\n",
       "      <td>Offers supportive counseling services to San M...</td>\n",
       "      <td>Resident of San Mateo County age 55 or over</td>\n",
       "      <td>NaN</td>\n",
       "      <td>...</td>\n",
       "      <td>NaN</td>\n",
       "      <td>Geriatric Counseling, Older Adults, Gay, Lesbi...</td>\n",
       "      <td>NaN</td>\n",
       "      <td>Senior Peer Counseling</td>\n",
       "      <td>NaN</td>\n",
       "      <td>San Mateo County</td>\n",
       "      <td>active</td>\n",
       "      <td>Varies.</td>\n",
       "      <td>NaN</td>\n",
       "      <td>NaN</td>\n",
       "    </tr>\n",
       "  </tbody>\n",
       "</table>\n",
       "<p>3 rows × 22 columns</p>\n",
       "</div>"
      ],
      "text/plain": [
       "   id  location_id  program_id accepted_payments alternate_name  \\\n",
       "0   1            1         NaN               NaN            NaN   \n",
       "1   2            2         NaN               NaN            NaN   \n",
       "2   3            3         NaN               NaN            NaN   \n",
       "\n",
       "                           application_process  \\\n",
       "0                   Walk in or apply by phone.   \n",
       "1           Apply by phone for an appointment.   \n",
       "2  Phone for information (403-4300 Ext. 4322).   \n",
       "\n",
       "                                            audience  \\\n",
       "0  Older adults age 55 or over, ethnic minorities...   \n",
       "1       Residents of San Mateo County age 55 or over   \n",
       "2  Older adults age 55 or over who can benefit fr...   \n",
       "\n",
       "                                         description  \\\n",
       "0  A walk-in center for older adults that provide...   \n",
       "1  Provides training and job placement to eligibl...   \n",
       "2  Offers supportive counseling services to San M...   \n",
       "\n",
       "                                         eligibility email  ...  \\\n",
       "0  Age 55 or over for most programs, age 60 or ov...   NaN  ...   \n",
       "1  Age 55 or over, county resident and willing an...   NaN  ...   \n",
       "2        Resident of San Mateo County age 55 or over   NaN  ...   \n",
       "\n",
       "  interpretation_services                                           keywords  \\\n",
       "0                     NaN  ADULT PROTECTION AND CARE SERVICES, Meal Sites...   \n",
       "1                     NaN  EMPLOYMENT/TRAINING SERVICES, Job Development,...   \n",
       "2                     NaN  Geriatric Counseling, Older Adults, Gay, Lesbi...   \n",
       "\n",
       "  languages                              name required_documents  \\\n",
       "0       NaN   Fair Oaks Adult Activity Center                NaN   \n",
       "1       NaN  Second Career Employment Program                NaN   \n",
       "2       NaN            Senior Peer Counseling                NaN   \n",
       "\n",
       "      service_areas  status wait_time website taxonomy_ids  \n",
       "0             Colma  active  No wait.     NaN          NaN  \n",
       "1  San Mateo County  active   Varies.     NaN          NaN  \n",
       "2  San Mateo County  active   Varies.     NaN          NaN  \n",
       "\n",
       "[3 rows x 22 columns]"
      ]
     },
     "execution_count": 2,
     "metadata": {},
     "output_type": "execute_result"
    }
   ],
   "source": [
    "df.head(3)"
   ]
  },
  {
   "cell_type": "code",
   "execution_count": 3,
   "id": "9ef2088c-2470-4969-aaa4-4e2a7bea34f1",
   "metadata": {},
   "outputs": [
    {
     "data": {
      "text/html": [
       "<div>\n",
       "<style scoped>\n",
       "    .dataframe tbody tr th:only-of-type {\n",
       "        vertical-align: middle;\n",
       "    }\n",
       "\n",
       "    .dataframe tbody tr th {\n",
       "        vertical-align: top;\n",
       "    }\n",
       "\n",
       "    .dataframe thead th {\n",
       "        text-align: right;\n",
       "    }\n",
       "</style>\n",
       "<table border=\"1\" class=\"dataframe\">\n",
       "  <thead>\n",
       "    <tr style=\"text-align: right;\">\n",
       "      <th></th>\n",
       "      <th>id</th>\n",
       "      <th>location_id</th>\n",
       "      <th>program_id</th>\n",
       "      <th>accepted_payments</th>\n",
       "      <th>alternate_name</th>\n",
       "      <th>application_process</th>\n",
       "      <th>audience</th>\n",
       "      <th>description</th>\n",
       "      <th>eligibility</th>\n",
       "      <th>email</th>\n",
       "      <th>...</th>\n",
       "      <th>interpretation_services</th>\n",
       "      <th>keywords</th>\n",
       "      <th>languages</th>\n",
       "      <th>name</th>\n",
       "      <th>required_documents</th>\n",
       "      <th>service_areas</th>\n",
       "      <th>status</th>\n",
       "      <th>wait_time</th>\n",
       "      <th>website</th>\n",
       "      <th>taxonomy_ids</th>\n",
       "    </tr>\n",
       "  </thead>\n",
       "  <tbody>\n",
       "    <tr>\n",
       "      <th>20</th>\n",
       "      <td>21</td>\n",
       "      <td>21</td>\n",
       "      <td>NaN</td>\n",
       "      <td>NaN</td>\n",
       "      <td>NaN</td>\n",
       "      <td>By phone during business hours.</td>\n",
       "      <td>NaN</td>\n",
       "      <td>just a test service</td>\n",
       "      <td>NaN</td>\n",
       "      <td>NaN</td>\n",
       "      <td>...</td>\n",
       "      <td>NaN</td>\n",
       "      <td>NaN</td>\n",
       "      <td>NaN</td>\n",
       "      <td>Service for Admin Test Location</td>\n",
       "      <td>NaN</td>\n",
       "      <td>San Mateo County</td>\n",
       "      <td>inactive</td>\n",
       "      <td>NaN</td>\n",
       "      <td>NaN</td>\n",
       "      <td>NaN</td>\n",
       "    </tr>\n",
       "    <tr>\n",
       "      <th>21</th>\n",
       "      <td>22</td>\n",
       "      <td>22</td>\n",
       "      <td>NaN</td>\n",
       "      <td>Cash, Check, Credit Card</td>\n",
       "      <td>Fotos para pasaportes</td>\n",
       "      <td>Walk in or apply by phone or mail</td>\n",
       "      <td>Profit and nonprofit businesses, the public, m...</td>\n",
       "      <td>[NOTE THIS IS NOT A REAL SERVICE--THIS IS FOR ...</td>\n",
       "      <td>None</td>\n",
       "      <td>passports@example.org</td>\n",
       "      <td>...</td>\n",
       "      <td>We offer 3-way interpretation services over th...</td>\n",
       "      <td>Salud, Medicina</td>\n",
       "      <td>Spanish</td>\n",
       "      <td>Passport Photos</td>\n",
       "      <td>Government-issued picture identification</td>\n",
       "      <td>Alameda County, San Mateo County</td>\n",
       "      <td>active</td>\n",
       "      <td>No wait to 2 weeks.</td>\n",
       "      <td>http://www.example.com</td>\n",
       "      <td>105, 108, 108-05, 108-05-01, 111, 111-05</td>\n",
       "    </tr>\n",
       "    <tr>\n",
       "      <th>22</th>\n",
       "      <td>23</td>\n",
       "      <td>22</td>\n",
       "      <td>NaN</td>\n",
       "      <td>NaN</td>\n",
       "      <td>NaN</td>\n",
       "      <td>Walk in or apply by phone or mail</td>\n",
       "      <td>Second service and nonprofit businesses, the p...</td>\n",
       "      <td>[NOTE THIS IS NOT A REAL ORGANIZATION--THIS IS...</td>\n",
       "      <td>None</td>\n",
       "      <td>NaN</td>\n",
       "      <td>...</td>\n",
       "      <td>NaN</td>\n",
       "      <td>Ruby on Rails/Postgres/Redis, testing, wic</td>\n",
       "      <td>NaN</td>\n",
       "      <td>Example Service Name</td>\n",
       "      <td>NaN</td>\n",
       "      <td>San Mateo County, Alameda County</td>\n",
       "      <td>active</td>\n",
       "      <td>No wait to 2 weeks</td>\n",
       "      <td>http://www.example.com</td>\n",
       "      <td>NaN</td>\n",
       "    </tr>\n",
       "  </tbody>\n",
       "</table>\n",
       "<p>3 rows × 22 columns</p>\n",
       "</div>"
      ],
      "text/plain": [
       "    id  location_id  program_id         accepted_payments  \\\n",
       "20  21           21         NaN                       NaN   \n",
       "21  22           22         NaN  Cash, Check, Credit Card   \n",
       "22  23           22         NaN                       NaN   \n",
       "\n",
       "           alternate_name                application_process  \\\n",
       "20                    NaN    By phone during business hours.   \n",
       "21  Fotos para pasaportes  Walk in or apply by phone or mail   \n",
       "22                    NaN  Walk in or apply by phone or mail   \n",
       "\n",
       "                                             audience  \\\n",
       "20                                                NaN   \n",
       "21  Profit and nonprofit businesses, the public, m...   \n",
       "22  Second service and nonprofit businesses, the p...   \n",
       "\n",
       "                                          description eligibility  \\\n",
       "20                                just a test service         NaN   \n",
       "21  [NOTE THIS IS NOT A REAL SERVICE--THIS IS FOR ...        None   \n",
       "22  [NOTE THIS IS NOT A REAL ORGANIZATION--THIS IS...        None   \n",
       "\n",
       "                    email  ...  \\\n",
       "20                    NaN  ...   \n",
       "21  passports@example.org  ...   \n",
       "22                    NaN  ...   \n",
       "\n",
       "                              interpretation_services  \\\n",
       "20                                                NaN   \n",
       "21  We offer 3-way interpretation services over th...   \n",
       "22                                                NaN   \n",
       "\n",
       "                                      keywords languages  \\\n",
       "20                                         NaN       NaN   \n",
       "21                             Salud, Medicina   Spanish   \n",
       "22  Ruby on Rails/Postgres/Redis, testing, wic       NaN   \n",
       "\n",
       "                               name                        required_documents  \\\n",
       "20  Service for Admin Test Location                                       NaN   \n",
       "21                  Passport Photos  Government-issued picture identification   \n",
       "22             Example Service Name                                       NaN   \n",
       "\n",
       "                       service_areas    status            wait_time  \\\n",
       "20                  San Mateo County  inactive                  NaN   \n",
       "21  Alameda County, San Mateo County    active  No wait to 2 weeks.   \n",
       "22  San Mateo County, Alameda County    active   No wait to 2 weeks   \n",
       "\n",
       "                   website                              taxonomy_ids  \n",
       "20                     NaN                                       NaN  \n",
       "21  http://www.example.com  105, 108, 108-05, 108-05-01, 111, 111-05  \n",
       "22  http://www.example.com                                       NaN  \n",
       "\n",
       "[3 rows x 22 columns]"
      ]
     },
     "execution_count": 3,
     "metadata": {},
     "output_type": "execute_result"
    }
   ],
   "source": [
    "df.tail(3)"
   ]
  },
  {
   "cell_type": "markdown",
   "id": "dad12355-a7d7-4861-ac9e-c9b6682a22dd",
   "metadata": {},
   "source": [
    "**(3) Shape, Size and Info :**<br>\n",
    "\n",
    "**Two most basic functions after reading data is to know the number of rows and columns,<br> and to know the datatype of variables. We can use df.shape, it gives a total number of rows and then columns. df.size()<br> returns the number of rows times number of columns in the data frame. We can also use df.info(), from that we get<br> different information such as rows from RangeIndex, Data columns and then data type of each column.<br> It also includes the information of non-null counts.**"
   ]
  },
  {
   "cell_type": "code",
   "execution_count": 4,
   "id": "339fbf2b-2315-49c6-9e02-1ee97e2aaf69",
   "metadata": {},
   "outputs": [
    {
     "data": {
      "text/plain": [
       "(23, 22)"
      ]
     },
     "execution_count": 4,
     "metadata": {},
     "output_type": "execute_result"
    }
   ],
   "source": [
    "df.shape"
   ]
  },
  {
   "cell_type": "code",
   "execution_count": 5,
   "id": "dd4e00f1-dec2-4997-92b0-ea0edf5815d1",
   "metadata": {},
   "outputs": [
    {
     "data": {
      "text/plain": [
       "506"
      ]
     },
     "execution_count": 5,
     "metadata": {},
     "output_type": "execute_result"
    }
   ],
   "source": [
    "df.size"
   ]
  },
  {
   "cell_type": "code",
   "execution_count": 6,
   "id": "d44ba7b2-730a-4e18-a10b-c1aa54062cab",
   "metadata": {},
   "outputs": [
    {
     "name": "stdout",
     "output_type": "stream",
     "text": [
      "<class 'pandas.core.frame.DataFrame'>\n",
      "RangeIndex: 23 entries, 0 to 22\n",
      "Data columns (total 22 columns):\n",
      " #   Column                   Non-Null Count  Dtype  \n",
      "---  ------                   --------------  -----  \n",
      " 0   id                       23 non-null     int64  \n",
      " 1   location_id              23 non-null     int64  \n",
      " 2   program_id               0 non-null      float64\n",
      " 3   accepted_payments        1 non-null      object \n",
      " 4   alternate_name           1 non-null      object \n",
      " 5   application_process      23 non-null     object \n",
      " 6   audience                 14 non-null     object \n",
      " 7   description              23 non-null     object \n",
      " 8   eligibility              21 non-null     object \n",
      " 9   email                    1 non-null      object \n",
      " 10  fees                     21 non-null     object \n",
      " 11  funding_sources          21 non-null     object \n",
      " 12  interpretation_services  1 non-null      object \n",
      " 13  keywords                 21 non-null     object \n",
      " 14  languages                1 non-null      object \n",
      " 15  name                     23 non-null     object \n",
      " 16  required_documents       1 non-null      object \n",
      " 17  service_areas            21 non-null     object \n",
      " 18  status                   23 non-null     object \n",
      " 19  wait_time                19 non-null     object \n",
      " 20  website                  2 non-null      object \n",
      " 21  taxonomy_ids             1 non-null      object \n",
      "dtypes: float64(1), int64(2), object(19)\n",
      "memory usage: 4.1+ KB\n"
     ]
    }
   ],
   "source": [
    "df.info()"
   ]
  },
  {
   "cell_type": "markdown",
   "id": "c6660e5b-e03f-474a-9b43-420a03af06ea",
   "metadata": {},
   "source": [
    "**(4) Describe :**<br>\n",
    "\n",
    "**Then to understand basic statistics of variables we can use df.describe(). It will give you<br> count, mean, standard deviation, and also 5 number summary.**"
   ]
  },
  {
   "cell_type": "code",
   "execution_count": 7,
   "id": "9408a538-bf53-4fdc-99da-5851fdb0a2cc",
   "metadata": {},
   "outputs": [
    {
     "data": {
      "text/html": [
       "<div>\n",
       "<style scoped>\n",
       "    .dataframe tbody tr th:only-of-type {\n",
       "        vertical-align: middle;\n",
       "    }\n",
       "\n",
       "    .dataframe tbody tr th {\n",
       "        vertical-align: top;\n",
       "    }\n",
       "\n",
       "    .dataframe thead th {\n",
       "        text-align: right;\n",
       "    }\n",
       "</style>\n",
       "<table border=\"1\" class=\"dataframe\">\n",
       "  <thead>\n",
       "    <tr style=\"text-align: right;\">\n",
       "      <th></th>\n",
       "      <th>id</th>\n",
       "      <th>location_id</th>\n",
       "      <th>program_id</th>\n",
       "    </tr>\n",
       "  </thead>\n",
       "  <tbody>\n",
       "    <tr>\n",
       "      <th>count</th>\n",
       "      <td>23.00000</td>\n",
       "      <td>23.000000</td>\n",
       "      <td>0.0</td>\n",
       "    </tr>\n",
       "    <tr>\n",
       "      <th>mean</th>\n",
       "      <td>12.00000</td>\n",
       "      <td>11.956522</td>\n",
       "      <td>NaN</td>\n",
       "    </tr>\n",
       "    <tr>\n",
       "      <th>std</th>\n",
       "      <td>6.78233</td>\n",
       "      <td>6.711444</td>\n",
       "      <td>NaN</td>\n",
       "    </tr>\n",
       "    <tr>\n",
       "      <th>min</th>\n",
       "      <td>1.00000</td>\n",
       "      <td>1.000000</td>\n",
       "      <td>NaN</td>\n",
       "    </tr>\n",
       "    <tr>\n",
       "      <th>25%</th>\n",
       "      <td>6.50000</td>\n",
       "      <td>6.500000</td>\n",
       "      <td>NaN</td>\n",
       "    </tr>\n",
       "    <tr>\n",
       "      <th>50%</th>\n",
       "      <td>12.00000</td>\n",
       "      <td>12.000000</td>\n",
       "      <td>NaN</td>\n",
       "    </tr>\n",
       "    <tr>\n",
       "      <th>75%</th>\n",
       "      <td>17.50000</td>\n",
       "      <td>17.500000</td>\n",
       "      <td>NaN</td>\n",
       "    </tr>\n",
       "    <tr>\n",
       "      <th>max</th>\n",
       "      <td>23.00000</td>\n",
       "      <td>22.000000</td>\n",
       "      <td>NaN</td>\n",
       "    </tr>\n",
       "  </tbody>\n",
       "</table>\n",
       "</div>"
      ],
      "text/plain": [
       "             id  location_id  program_id\n",
       "count  23.00000    23.000000         0.0\n",
       "mean   12.00000    11.956522         NaN\n",
       "std     6.78233     6.711444         NaN\n",
       "min     1.00000     1.000000         NaN\n",
       "25%     6.50000     6.500000         NaN\n",
       "50%    12.00000    12.000000         NaN\n",
       "75%    17.50000    17.500000         NaN\n",
       "max    23.00000    22.000000         NaN"
      ]
     },
     "execution_count": 7,
     "metadata": {},
     "output_type": "execute_result"
    }
   ],
   "source": [
    "df.describe()"
   ]
  },
  {
   "cell_type": "markdown",
   "id": "bcf550a2-4a42-42fe-b6e7-cb3f027685e3",
   "metadata": {},
   "source": [
    "**(6) Nunique:**<br>\n",
    "\n",
    "**To get the total unique values of variables, we can use df.nunique().<br> It will give all the unique values a variable contains.**"
   ]
  },
  {
   "cell_type": "code",
   "execution_count": 8,
   "id": "ce6f8d98-6f6d-4c79-9fbd-56b91e5be0ae",
   "metadata": {},
   "outputs": [
    {
     "data": {
      "text/plain": [
       "id                         23\n",
       "location_id                22\n",
       "program_id                  0\n",
       "accepted_payments           1\n",
       "alternate_name              1\n",
       "application_process        20\n",
       "audience                   14\n",
       "description                23\n",
       "eligibility                16\n",
       "email                       1\n",
       "fees                       10\n",
       "funding_sources            14\n",
       "interpretation_services     1\n",
       "keywords                   18\n",
       "languages                   1\n",
       "name                       23\n",
       "required_documents          1\n",
       "service_areas              10\n",
       "status                      3\n",
       "wait_time                   7\n",
       "website                     1\n",
       "taxonomy_ids                1\n",
       "dtype: int64"
      ]
     },
     "execution_count": 8,
     "metadata": {},
     "output_type": "execute_result"
    }
   ],
   "source": [
    "df.nunique()"
   ]
  },
  {
   "cell_type": "markdown",
   "id": "dcedd6ea-b705-4785-a43f-5d62e815a919",
   "metadata": {},
   "source": [
    "### Q2 : Given a Pandas DataFrame df with columns 'A', 'B', and 'C', write a Python function to re-index the\n",
    "## DataFrame with a new index that starts from 1 and increments by 2 for each row ?\n",
    "### Ans :-"
   ]
  },
  {
   "cell_type": "code",
   "execution_count": 9,
   "id": "c995062b-e698-449c-a4dd-02eaf13a631b",
   "metadata": {},
   "outputs": [],
   "source": [
    "import pandas as pd \n",
    "\n",
    "data = {'A': [10, 20, 30],\n",
    "        'B': [40, 50, 60],\n",
    "        'C': [70, 80, 90]}"
   ]
  },
  {
   "cell_type": "code",
   "execution_count": 10,
   "id": "9549164e-7a64-415e-80b3-212695cd403e",
   "metadata": {},
   "outputs": [],
   "source": [
    "df = pd.DataFrame(data)"
   ]
  },
  {
   "cell_type": "code",
   "execution_count": 11,
   "id": "02c123ab-9737-4632-a440-a0884daebe25",
   "metadata": {},
   "outputs": [
    {
     "data": {
      "text/html": [
       "<div>\n",
       "<style scoped>\n",
       "    .dataframe tbody tr th:only-of-type {\n",
       "        vertical-align: middle;\n",
       "    }\n",
       "\n",
       "    .dataframe tbody tr th {\n",
       "        vertical-align: top;\n",
       "    }\n",
       "\n",
       "    .dataframe thead th {\n",
       "        text-align: right;\n",
       "    }\n",
       "</style>\n",
       "<table border=\"1\" class=\"dataframe\">\n",
       "  <thead>\n",
       "    <tr style=\"text-align: right;\">\n",
       "      <th></th>\n",
       "      <th>A</th>\n",
       "      <th>B</th>\n",
       "      <th>C</th>\n",
       "    </tr>\n",
       "  </thead>\n",
       "  <tbody>\n",
       "    <tr>\n",
       "      <th>0</th>\n",
       "      <td>10</td>\n",
       "      <td>40</td>\n",
       "      <td>70</td>\n",
       "    </tr>\n",
       "    <tr>\n",
       "      <th>1</th>\n",
       "      <td>20</td>\n",
       "      <td>50</td>\n",
       "      <td>80</td>\n",
       "    </tr>\n",
       "    <tr>\n",
       "      <th>2</th>\n",
       "      <td>30</td>\n",
       "      <td>60</td>\n",
       "      <td>90</td>\n",
       "    </tr>\n",
       "  </tbody>\n",
       "</table>\n",
       "</div>"
      ],
      "text/plain": [
       "    A   B   C\n",
       "0  10  40  70\n",
       "1  20  50  80\n",
       "2  30  60  90"
      ]
     },
     "execution_count": 11,
     "metadata": {},
     "output_type": "execute_result"
    }
   ],
   "source": [
    "df"
   ]
  },
  {
   "cell_type": "code",
   "execution_count": 12,
   "id": "11760ee9-2b78-4dcd-a7a4-0e7dbec2ae35",
   "metadata": {},
   "outputs": [
    {
     "name": "stdout",
     "output_type": "stream",
     "text": [
      "   new_index   A   B   C\n",
      "0          1  10  40  70\n",
      "1          3  20  50  80\n",
      "2          5  30  60  90\n"
     ]
    }
   ],
   "source": [
    "import pandas as pd\n",
    "\n",
    "def reindex_dataframe(df):\n",
    "    df_reset = df.reset_index(drop=True)\n",
    "\n",
    "    new_index = pd.Series(range(1, len(df_reset)*2, 2), name='new_index')\n",
    "\n",
    "    df_result = pd.concat([new_index, df_reset], axis=1)\n",
    "\n",
    "    return df_result\n",
    "\n",
    "\n",
    "result_df = reindex_dataframe(df)\n",
    "\n",
    "\n",
    "print(result_df)"
   ]
  },
  {
   "cell_type": "markdown",
   "id": "587597ec-cc24-4437-b5f4-1de6c94bbbaa",
   "metadata": {
    "tags": []
   },
   "source": [
    "### Q3 : You have a Pandas DataFrame df with a column named 'Values'. Write a Python function that iterates over the DataFrame and calculates the sum of the first three values in the 'Values' column.The function should print the sum to the console ?<br>\n",
    "### For example, if the 'Values' column of df contains the values [10, 20, 30, 40, 50],your function should calculate and print the sum of the first three values, which is 60 ?\n",
    "### Ans :-"
   ]
  },
  {
   "cell_type": "code",
   "execution_count": 13,
   "id": "e6e1b2fe-868e-44b9-9a83-eacd45e6f6f8",
   "metadata": {},
   "outputs": [
    {
     "name": "stdout",
     "output_type": "stream",
     "text": [
      "Sum of the first three values: 60\n"
     ]
    }
   ],
   "source": [
    "import pandas as pd\n",
    "\n",
    "## Function definition\n",
    "def sum_of_first_three_values(df):\n",
    "    sum_of_values = 0\n",
    "    for index, row in df.iterrows():\n",
    "        if index < 3:\n",
    "            sum_of_values += row['Values']\n",
    "    return sum_of_values\n",
    "\n",
    "## Driver Code\n",
    "data = {'Values' : [10, 20, 30, 40, 50]}\n",
    "df = pd.DataFrame(data)\n",
    "\n",
    "## Function Calling\n",
    "result = sum_of_first_three_values(df)\n",
    "print(\"Sum of the first three values:\", result)\n"
   ]
  },
  {
   "cell_type": "markdown",
   "id": "6895a436-765f-4935-b290-ae99bc7e67c4",
   "metadata": {},
   "source": [
    "### Q4 : Given a Pandas DataFrame df with a column 'Text', write a Python function to create a new column 'Word_Count' that contains the number of words in each row of the 'Text' column ?\n",
    "### Ans :- "
   ]
  },
  {
   "cell_type": "code",
   "execution_count": 14,
   "id": "13798814-440a-4872-945a-e886897c8a5a",
   "metadata": {},
   "outputs": [
    {
     "name": "stdout",
     "output_type": "stream",
     "text": [
      "                                Text  Word_Count\n",
      "0             This is a sample text.           5\n",
      "1  Count the words in this sentence.           6\n",
      "2    Another example for word count.           5\n"
     ]
    }
   ],
   "source": [
    "import pandas as pd\n",
    "\n",
    "# Function to count words in each row of the 'Text' column\n",
    "def count_words(df) :\n",
    "    \n",
    "    # Splitting each text by whitespace and counting the number of words\n",
    "    df['Word_Count'] = df['Text'].apply(lambda x : len(str(x).split()))\n",
    "    \n",
    "    return df\n",
    "    \n",
    "# Creating a DataFrame\n",
    "data = {\n",
    "    'Text': [\n",
    "        \"This is a sample text.\",\n",
    "        \"Count the words in this sentence.\",\n",
    "        \"Another example for word count.\"\n",
    "    ]\n",
    "}\n",
    "\n",
    "df =pd.DataFrame(data)\n",
    "\n",
    "# Applying the function to create the 'Word_Count' column\n",
    "df = count_words(df)\n",
    "\n",
    "# Display the DataFrame \n",
    "print(df)"
   ]
  },
  {
   "cell_type": "markdown",
   "id": "5bad5a33-ac4e-4c40-aa2e-2a9c9dc9c273",
   "metadata": {},
   "source": [
    "### Q5 : How are DataFrame.size() and DataFrame.shape() different?\n",
    "### Ans :-\n",
    "\n",
    "**DataFrame.size() :**<br>\n",
    "\n",
    "**DataFrame.size() metod returns the total number of elements in the DataFrame.**<br>\n",
    "**A single integer representing the total number of elements (values) within the DataFrame.**<br>\n",
    "**Calculated as: Number of rows * Number of columns.**<br>\n",
    "**Example: If a DataFrame has 10 rows and 5 columns, its size would be 50.**\n"
   ]
  },
  {
   "cell_type": "code",
   "execution_count": 15,
   "id": "4b96c4f3-8bde-43a2-8699-d082c0f5735d",
   "metadata": {},
   "outputs": [],
   "source": [
    "import pandas as pd\n",
    "\n",
    "data = {'A': [1, 2, 3], 'B': [4, 5, 6]}\n",
    "df = pd.DataFrame(data)"
   ]
  },
  {
   "cell_type": "code",
   "execution_count": 16,
   "id": "d8b8164a-0afa-425b-96f0-389d3ff23c78",
   "metadata": {},
   "outputs": [
    {
     "data": {
      "text/html": [
       "<div>\n",
       "<style scoped>\n",
       "    .dataframe tbody tr th:only-of-type {\n",
       "        vertical-align: middle;\n",
       "    }\n",
       "\n",
       "    .dataframe tbody tr th {\n",
       "        vertical-align: top;\n",
       "    }\n",
       "\n",
       "    .dataframe thead th {\n",
       "        text-align: right;\n",
       "    }\n",
       "</style>\n",
       "<table border=\"1\" class=\"dataframe\">\n",
       "  <thead>\n",
       "    <tr style=\"text-align: right;\">\n",
       "      <th></th>\n",
       "      <th>A</th>\n",
       "      <th>B</th>\n",
       "    </tr>\n",
       "  </thead>\n",
       "  <tbody>\n",
       "    <tr>\n",
       "      <th>0</th>\n",
       "      <td>1</td>\n",
       "      <td>4</td>\n",
       "    </tr>\n",
       "    <tr>\n",
       "      <th>1</th>\n",
       "      <td>2</td>\n",
       "      <td>5</td>\n",
       "    </tr>\n",
       "    <tr>\n",
       "      <th>2</th>\n",
       "      <td>3</td>\n",
       "      <td>6</td>\n",
       "    </tr>\n",
       "  </tbody>\n",
       "</table>\n",
       "</div>"
      ],
      "text/plain": [
       "   A  B\n",
       "0  1  4\n",
       "1  2  5\n",
       "2  3  6"
      ]
     },
     "execution_count": 16,
     "metadata": {},
     "output_type": "execute_result"
    }
   ],
   "source": [
    "df"
   ]
  },
  {
   "cell_type": "code",
   "execution_count": 17,
   "id": "b01561e0-39a5-4e6b-8a1d-695c3ec8a3da",
   "metadata": {},
   "outputs": [
    {
     "data": {
      "text/plain": [
       "6"
      ]
     },
     "execution_count": 17,
     "metadata": {},
     "output_type": "execute_result"
    }
   ],
   "source": [
    "df.size"
   ]
  },
  {
   "cell_type": "markdown",
   "id": "24013c64-b605-43bf-8ac9-8fa9b760acda",
   "metadata": {},
   "source": [
    "**DataFrame.shape() :**<br>\n",
    "\n",
    "**DataFrame.shape() returns a tuple representing the dimensions of the DataFrame, where the first element is the number of rows and the second element is the number of columns.**<br>\n",
    "**A tuple of two integers, representing the dimensions of the DataFrame: (number of rows, number of columns).**<br>\n",
    "**Gives you direct access to the number of rows and columns separately.**<br>\n",
    "**Example: If a DataFrame has 10 rows and 5 columns, its shape would be (10, 5).**"
   ]
  },
  {
   "cell_type": "code",
   "execution_count": 18,
   "id": "dd5c7ac3-40e1-4002-a385-96c81691ee30",
   "metadata": {},
   "outputs": [],
   "source": [
    "import pandas as pd\n",
    "\n",
    "data = {'A': [7,8,9], 'B': [10,11,12]}\n",
    "df = pd.DataFrame(data)"
   ]
  },
  {
   "cell_type": "code",
   "execution_count": 19,
   "id": "b463933f-1679-4e99-bffe-05eae87f1441",
   "metadata": {},
   "outputs": [
    {
     "data": {
      "text/html": [
       "<div>\n",
       "<style scoped>\n",
       "    .dataframe tbody tr th:only-of-type {\n",
       "        vertical-align: middle;\n",
       "    }\n",
       "\n",
       "    .dataframe tbody tr th {\n",
       "        vertical-align: top;\n",
       "    }\n",
       "\n",
       "    .dataframe thead th {\n",
       "        text-align: right;\n",
       "    }\n",
       "</style>\n",
       "<table border=\"1\" class=\"dataframe\">\n",
       "  <thead>\n",
       "    <tr style=\"text-align: right;\">\n",
       "      <th></th>\n",
       "      <th>A</th>\n",
       "      <th>B</th>\n",
       "    </tr>\n",
       "  </thead>\n",
       "  <tbody>\n",
       "    <tr>\n",
       "      <th>0</th>\n",
       "      <td>7</td>\n",
       "      <td>10</td>\n",
       "    </tr>\n",
       "    <tr>\n",
       "      <th>1</th>\n",
       "      <td>8</td>\n",
       "      <td>11</td>\n",
       "    </tr>\n",
       "    <tr>\n",
       "      <th>2</th>\n",
       "      <td>9</td>\n",
       "      <td>12</td>\n",
       "    </tr>\n",
       "  </tbody>\n",
       "</table>\n",
       "</div>"
      ],
      "text/plain": [
       "   A   B\n",
       "0  7  10\n",
       "1  8  11\n",
       "2  9  12"
      ]
     },
     "execution_count": 19,
     "metadata": {},
     "output_type": "execute_result"
    }
   ],
   "source": [
    "df"
   ]
  },
  {
   "cell_type": "code",
   "execution_count": 20,
   "id": "475e9a05-c551-41b7-9699-a05b6a102612",
   "metadata": {},
   "outputs": [
    {
     "data": {
      "text/plain": [
       "(3, 2)"
      ]
     },
     "execution_count": 20,
     "metadata": {},
     "output_type": "execute_result"
    }
   ],
   "source": [
    "df.shape"
   ]
  },
  {
   "cell_type": "markdown",
   "id": "c258c657-c176-46f7-9e7f-3a3c424bf17f",
   "metadata": {},
   "source": [
    "### Difference :\n",
    "<table>\n",
    "  <thead>\n",
    "    <tr>\n",
    "      <th>Feature</th>\n",
    "      <th>DataFrame.size()</th>\n",
    "      <th>DataFrame.shape()</th>\n",
    "    </tr>\n",
    "  </thead>\n",
    "  <tbody>\n",
    "    <tr>\n",
    "      <td>Output format</td>\n",
    "      <td>Single integer</td>\n",
    "      <td>Tuple of two integers</td>\n",
    "    </tr>\n",
    "    <tr>\n",
    "      <td>Information provided</td>\n",
    "      <td>Total count of elements</td>\n",
    "      <td>Individual counts of rows and columns</td>\n",
    "    </tr>\n",
    "    <tr>\n",
    "      <td>Use case</td>\n",
    "      <td>Total number of elements (memory allocation, performance)</td>\n",
    "      <td>Specific dimensions (iteration, compatibility)</td>\n",
    "    </tr>\n",
    "  </tbody>\n",
    "</table>\n"
   ]
  },
  {
   "cell_type": "markdown",
   "id": "db739642-d8aa-4d68-a949-6e92976c9fe7",
   "metadata": {},
   "source": [
    "### Q6 : Which function of pandas do we use to read an excel file?\n",
    "### Ans :-\n",
    "\n",
    "**Pandas read excel :**<br>\n",
    "**Pandas read_excel() is a pandas function that reads an excel sheet with the extension xlsx into a pandas DataFrame object. In the Excel sheet, the data is in two-dimensional table form. In the DataFrame object, the data is also in a two-dimensional tabular form.**"
   ]
  },
  {
   "cell_type": "code",
   "execution_count": 21,
   "id": "8f57c267-061f-4259-8108-4e30f5db329f",
   "metadata": {},
   "outputs": [],
   "source": [
    "import pandas as pd \n",
    "df = pd.read_excel(\"LUSID Excel - Setting up your market data.xlsx\")"
   ]
  },
  {
   "cell_type": "code",
   "execution_count": 22,
   "id": "9791f3d5-ae44-4fea-8d44-1611efb67659",
   "metadata": {},
   "outputs": [
    {
     "data": {
      "text/html": [
       "<div>\n",
       "<style scoped>\n",
       "    .dataframe tbody tr th:only-of-type {\n",
       "        vertical-align: middle;\n",
       "    }\n",
       "\n",
       "    .dataframe tbody tr th {\n",
       "        vertical-align: top;\n",
       "    }\n",
       "\n",
       "    .dataframe thead th {\n",
       "        text-align: right;\n",
       "    }\n",
       "</style>\n",
       "<table border=\"1\" class=\"dataframe\">\n",
       "  <thead>\n",
       "    <tr style=\"text-align: right;\">\n",
       "      <th></th>\n",
       "      <th>Unnamed: 0</th>\n",
       "      <th>Unnamed: 1</th>\n",
       "      <th>Unnamed: 2</th>\n",
       "      <th>Unnamed: 3</th>\n",
       "      <th>Unnamed: 4</th>\n",
       "      <th>Unnamed: 5</th>\n",
       "      <th>Unnamed: 6</th>\n",
       "      <th>Unnamed: 7</th>\n",
       "      <th>Unnamed: 8</th>\n",
       "      <th>Unnamed: 9</th>\n",
       "    </tr>\n",
       "  </thead>\n",
       "  <tbody>\n",
       "    <tr>\n",
       "      <th>0</th>\n",
       "      <td>NaN</td>\n",
       "      <td>NaN</td>\n",
       "      <td>NaN</td>\n",
       "      <td>NaN</td>\n",
       "      <td>NaN</td>\n",
       "      <td>NaN</td>\n",
       "      <td>NaN</td>\n",
       "      <td>NaN</td>\n",
       "      <td>NaN</td>\n",
       "      <td>NaN</td>\n",
       "    </tr>\n",
       "    <tr>\n",
       "      <th>1</th>\n",
       "      <td>NaN</td>\n",
       "      <td>NaN</td>\n",
       "      <td>NaN</td>\n",
       "      <td>Datetimes in LUSID</td>\n",
       "      <td>NaN</td>\n",
       "      <td>NaN</td>\n",
       "      <td>NaN</td>\n",
       "      <td>NaN</td>\n",
       "      <td>NaN</td>\n",
       "      <td>NaN</td>\n",
       "    </tr>\n",
       "    <tr>\n",
       "      <th>2</th>\n",
       "      <td>NaN</td>\n",
       "      <td>NaN</td>\n",
       "      <td>NaN</td>\n",
       "      <td>NaN</td>\n",
       "      <td>NaN</td>\n",
       "      <td>NaN</td>\n",
       "      <td>NaN</td>\n",
       "      <td>NaN</td>\n",
       "      <td>NaN</td>\n",
       "      <td>NaN</td>\n",
       "    </tr>\n",
       "    <tr>\n",
       "      <th>3</th>\n",
       "      <td>NaN</td>\n",
       "      <td>NaN</td>\n",
       "      <td>NaN</td>\n",
       "      <td>This sheet allows you to format datetimes for...</td>\n",
       "      <td>NaN</td>\n",
       "      <td>NaN</td>\n",
       "      <td>NaN</td>\n",
       "      <td>NaN</td>\n",
       "      <td>NaN</td>\n",
       "      <td>NaN</td>\n",
       "    </tr>\n",
       "    <tr>\n",
       "      <th>4</th>\n",
       "      <td>NaN</td>\n",
       "      <td>NaN</td>\n",
       "      <td>NaN</td>\n",
       "      <td>If you have any questions please visit our:</td>\n",
       "      <td>NaN</td>\n",
       "      <td>NaN</td>\n",
       "      <td>NaN</td>\n",
       "      <td>NaN</td>\n",
       "      <td>NaN</td>\n",
       "      <td>NaN</td>\n",
       "    </tr>\n",
       "  </tbody>\n",
       "</table>\n",
       "</div>"
      ],
      "text/plain": [
       "   Unnamed: 0  Unnamed: 1  Unnamed: 2  \\\n",
       "0         NaN         NaN         NaN   \n",
       "1         NaN         NaN         NaN   \n",
       "2         NaN         NaN         NaN   \n",
       "3         NaN         NaN         NaN   \n",
       "4         NaN         NaN         NaN   \n",
       "\n",
       "                                          Unnamed: 3 Unnamed: 4 Unnamed: 5  \\\n",
       "0                                                NaN        NaN        NaN   \n",
       "1                                 Datetimes in LUSID        NaN        NaN   \n",
       "2                                                NaN        NaN        NaN   \n",
       "3   This sheet allows you to format datetimes for...        NaN        NaN   \n",
       "4        If you have any questions please visit our:        NaN        NaN   \n",
       "\n",
       "   Unnamed: 6 Unnamed: 7 Unnamed: 8 Unnamed: 9  \n",
       "0         NaN        NaN        NaN        NaN  \n",
       "1         NaN        NaN        NaN        NaN  \n",
       "2         NaN        NaN        NaN        NaN  \n",
       "3         NaN        NaN        NaN        NaN  \n",
       "4         NaN        NaN        NaN        NaN  "
      ]
     },
     "execution_count": 22,
     "metadata": {},
     "output_type": "execute_result"
    }
   ],
   "source": [
    "df.head()"
   ]
  },
  {
   "cell_type": "markdown",
   "id": "04314089-394c-420d-babb-694bb813700e",
   "metadata": {},
   "source": [
    "### Parameters of pandas read excel :\n",
    "<table>\n",
    "  <thead>\n",
    "    <tr>\n",
    "      <th>Parameter</th>\n",
    "      <th>Description</th>\n",
    "    </tr>\n",
    "  </thead>\n",
    "  <tbody>\n",
    "    <tr>\n",
    "      <td>io</td>\n",
    "      <td>It is a valid string path directing to the workbook. The string could be any URL, local path, filename, or file-like object.</td>\n",
    "    </tr>\n",
    "    <tr>\n",
    "      <td>sheet_name</td>\n",
    "      <td>It reads the sheet name of the workbook. A sheet name can only be a string, an integer can be used in zero-indexed sheet positions.</td>\n",
    "    </tr>\n",
    "    <tr>\n",
    "      <td>header</td>\n",
    "      <td>It reads the header row. If there is no header, then use none. The dtype is an object. dtype is nothing but the datatype.</td>\n",
    "    </tr>\n",
    "    <tr>\n",
    "      <td>use_col</td>\n",
    "      <td>It parses all the columns if none is mentioned, and it will parse the column of that index that is mentioned. If the list of string or integer is mentioned, it will parse all the columns mentioned.</td>\n",
    "    </tr>\n",
    "    <tr>\n",
    "      <td>index_col</td>\n",
    "      <td>It reads the column mentioned in the index_col and will print the column at the index position. It passes None if there is no such column.</td>\n",
    "    </tr>\n",
    "    <tr>\n",
    "      <td>dtype</td>\n",
    "      <td>It tells the type of data present in the file and mentions the type of data present in the column.</td>\n",
    "    </tr>\n",
    "    <tr>\n",
    "      <td>skiprow</td>\n",
    "      <td>It skips the row which is mentioned in the skiprow; it takes an integer value.</td>\n",
    "    </tr>\n",
    "    <tr>\n",
    "      <td>nrows</td>\n",
    "      <td>It parses upto the given row mentioned in the nrows parameter.</td>\n",
    "    </tr>\n",
    "    <tr>\n",
    "      <td>skipfooter</td>\n",
    "      <td>It skips the number of rows from the bottom of the file which is being parsed and contains this parameter.</td>\n",
    "    </tr>\n",
    "  </tbody>\n",
    "</table>\n"
   ]
  },
  {
   "cell_type": "markdown",
   "id": "ed2e0652-8d92-4079-bf19-092662b74423",
   "metadata": {},
   "source": [
    "### Q7 : You have a Pandas DataFrame df that contains a column named 'Email' that contains email addresses in the format'username@domain.com'. Write a Python function that creates a new column 'Username' in df that contains only the username part of each email address.\n",
    "### The username is the part of the email address that appears before the '@' symbol.<br>For example, if the email address is 'john.doe@example.com', the 'Username' column should contain 'john.doe'. Your function should extract the username from each email address and store it in the new 'Username' column.\n",
    "\n",
    "### Ans :-"
   ]
  },
  {
   "cell_type": "code",
   "execution_count": 23,
   "id": "2b66aeee-335b-44b5-9878-51651320e5f3",
   "metadata": {},
   "outputs": [
    {
     "name": "stdout",
     "output_type": "stream",
     "text": [
      "                    Email     username\n",
      "0        jsmith@gmail.com       jsmith\n",
      "1  chloe_wong@yahoo.co.uk   chloe_wong\n",
      "2  alex.davis@hotmail.com   alex.davis\n",
      "3  maria_2023@outlook.com   maria_2023\n",
      "4  dr.john.doe@icloud.com  dr.john.doe\n"
     ]
    }
   ],
   "source": [
    "import pandas as pd \n",
    "\n",
    "# Function to extract the username from 'Email' column\n",
    "def extract_username(df) :\n",
    "    \n",
    "     # Splitting each email by @ and extract username\n",
    "    df['username'] = df['Email'].apply(lambda x : str(x).split('@')[0])\n",
    "      \n",
    "    return df\n",
    "      \n",
    "\n",
    "# Creating a DataFrame \n",
    "data = {'Email': [\n",
    "                 'jsmith@gmail.com', \n",
    "                 'chloe_wong@yahoo.co.uk' ,\n",
    "                 'alex.davis@hotmail.com' ,\n",
    "                 'maria_2023@outlook.com' ,\n",
    "                 'dr.john.doe@icloud.com'\n",
    "                 ]\n",
    "       }\n",
    "\n",
    "df = pd.DataFrame(data)\n",
    "\n",
    "# Applying the function to create the 'username' column\n",
    "df = extract_username(df)\n",
    "\n",
    "# Display the DataFrame \n",
    "\n",
    "print(df) "
   ]
  },
  {
   "cell_type": "markdown",
   "id": "1b65e9f0-6163-4918-83ab-72892322a580",
   "metadata": {},
   "source": [
    "### Q8. You have a Pandas DataFrame df with columns 'A', 'B', and 'C'. Write a Python function that selects all rows where the value in column 'A' is greater than 5 and the value in column 'B' is less than 10. The function should return a new DataFrame that contains only the selected rows.\n",
    "### For example, if df contains the following values:\n",
    "### &emsp;A B C\n",
    "### 0 3 5 1\n",
    "### 1 8 2 7\n",
    "### 2 6 9 4\n",
    "### 3 2 3 5\n",
    "### 4 9 1 2\n",
    "\n",
    "### Your function should select the following rows: A B C\n",
    "### 1 8 2 7\n",
    "### 4 9 1 2\n",
    "### The function should return a new DataFrame that contains only the selected rows.\n",
    "\n",
    "### Ans :-"
   ]
  },
  {
   "cell_type": "code",
   "execution_count": 24,
   "id": "0e2a3f46-8001-45ce-bf54-ac85a05e6aa3",
   "metadata": {},
   "outputs": [
    {
     "name": "stdout",
     "output_type": "stream",
     "text": [
      "   A  B  C\n",
      "1  8  2  7\n",
      "2  6  9  4\n",
      "4  9  1  2\n"
     ]
    }
   ],
   "source": [
    "import pandas as pd\n",
    "\n",
    "def select_rows(df):\n",
    "    selected_rows = df[(df['A'] > 5) & (df['B'] < 10)]\n",
    "    return selected_rows\n",
    "\n",
    "# DataFrame\n",
    "data = {'A': [3, 8, 6, 2, 9],\n",
    "        'B': [5, 2, 9, 3, 1],\n",
    "        'C': [1, 7, 4, 5, 2]}\n",
    "\n",
    "df = pd.DataFrame(data)\n",
    "\n",
    "# Call the function to select rows\n",
    "selected_df = select_rows(df)\n",
    "\n",
    "# Display the selected DataFrame\n",
    "print(selected_df)"
   ]
  },
  {
   "cell_type": "markdown",
   "id": "3d21b072-6224-442c-b237-b237de1c3edd",
   "metadata": {},
   "source": [
    "### Q9. Given a Pandas DataFrame df with a column 'Values', write a Python function to calculate the mean, median, and standard deviation of the values in the 'Values' column ?\n",
    "### Ans :-"
   ]
  },
  {
   "cell_type": "code",
   "execution_count": 25,
   "id": "eadf3823-0a7c-4ccb-850c-7d883d6b170d",
   "metadata": {},
   "outputs": [
    {
     "name": "stdout",
     "output_type": "stream",
     "text": [
      "Mean: 5.0\n",
      "Median: 4.5\n",
      "Standard Deviation: 2.138089935299395\n"
     ]
    }
   ],
   "source": [
    "import pandas as pd\n",
    "\n",
    "def calculate_statistics(df):\n",
    "    \n",
    "    # Calculate mean, median, and standard deviation\n",
    "    mean_value = df['Values'].mean()\n",
    "    median_value = df['Values'].median()\n",
    "    std_deviation = df['Values'].std()\n",
    "\n",
    "    return mean_value, median_value, std_deviation\n",
    "\n",
    "# creating a DataFrame\n",
    "data = {'Values': [2, 4, 4, 4, 5, 5, 7, 9]}\n",
    "df = pd.DataFrame(data)\n",
    "\n",
    "# Call the function to calculate statistics\n",
    "mean, median, std = calculate_statistics(df)\n",
    "\n",
    "# Display the results\n",
    "print(\"Mean:\", mean)\n",
    "print(\"Median:\", median)\n",
    "print(\"Standard Deviation:\", std)\n"
   ]
  },
  {
   "cell_type": "markdown",
   "id": "8f1844ac-3727-40c3-af6f-9772f33f9a64",
   "metadata": {},
   "source": [
    "### Q10. Given a Pandas DataFrame df with a column 'Sales' and a column 'Date', write a Python function to create a new column 'MovingAverage' that contains the moving average of the sales for the past 7 days for each row in the DataFrame. The moving average should be calculated using a window of size 7 and should include the current day ?\n",
    "\n",
    "### Ans :-"
   ]
  },
  {
   "cell_type": "markdown",
   "id": "1cdf147f-a5f4-4b39-adc2-947ec2e7d11f",
   "metadata": {},
   "source": [
    "### Moving Average (MA) :-\n",
    "\n",
    "**In finance, a moving average (MA) is a stock indicator commonly used in technical analysis.<br> The reason for calculating the moving average of a stock is to help smooth out the price data<br> by creating a constantly updated average price.**\n",
    "\n",
    "**KEY POINTS :-**<br>\n",
    "\n",
    "**A moving average (MA) is a stock indicator commonly used in technical analysis.**<br>\n",
    "**The moving average helps to level the price data over a specified period by creating a constantly updated average price.**<br>\n",
    "**A simple moving average (SMA) is a calculation that takes the arithmetic mean of a given set of prices over<br> a specific number of days in the past.**<br>\n",
    "**An exponential moving average (EMA) is a weighted average that gives greater importance to the price of a stock in more recent days, making it an indicator that is more responsive to new information.**\n",
    "\n",
    "### Rolling Mean :-\n",
    "\n",
    "**Rolling Mean, also known as moving average, calculates the mean of the values within the <br>window of values. Moving average is a popular data analysis technique used in Data Science for time-series data.**<br>\n",
    "\n",
    "### Rolling Window:-\n",
    "\n",
    "**Pandas dataframe.rolling() function provides the feature of rolling window calculations.<br> The concept of rolling window calculation is most primarily used in signal processing and time-series data.<br> In very simple words we take a window size of k at a time and perform some desired mathematical operation on it. <br>A window of size k means k consecutive values at a time.**"
   ]
  },
  {
   "cell_type": "code",
   "execution_count": 26,
   "id": "3607de17-83a4-4188-ac5d-2395afd7eecb",
   "metadata": {},
   "outputs": [
    {
     "name": "stdout",
     "output_type": "stream",
     "text": [
      "        Date  Sales  MovingAverage\n",
      "0 2023-01-01     10           10.0\n",
      "1 2023-01-02     15           12.5\n",
      "2 2023-01-03     20           15.0\n",
      "3 2023-01-04     25           17.5\n",
      "4 2023-01-05     30           20.0\n",
      "5 2023-01-06     35           22.5\n",
      "6 2023-01-07     40           25.0\n"
     ]
    }
   ],
   "source": [
    "import pandas as pd\n",
    "\n",
    "def calculate_moving_average(df, window_size=7):\n",
    "    # Sort the DataFrame by the 'Date' column\n",
    "    df = df.sort_values(by='Date')\n",
    "                                                                                        \n",
    "    # Calculate the moving average using the rolling window\n",
    "    df['MovingAverage'] = df['Sales'].rolling(window=window_size, min_periods=1).mean()   \n",
    "\n",
    "    return df\n",
    "\n",
    "# Example DataFrame\n",
    "data = {'Date': ['2023-01-01', '2023-01-02', '2023-01-03', '2023-01-04', '2023-01-05', '2023-01-06', '2023-01-07'],\n",
    "        'Sales': [10, 15, 20, 25, 30, 35, 40]}\n",
    "df = pd.DataFrame(data)\n",
    "\n",
    "# Convert the 'Date' column to datetime format\n",
    "df['Date'] = pd.to_datetime(df['Date'])\n",
    "\n",
    "# Call the function to calculate the moving average\n",
    "df = calculate_moving_average(df)\n",
    "\n",
    "# Display the results\n",
    "print(df)\n"
   ]
  },
  {
   "cell_type": "markdown",
   "id": "96f460d3-4309-476c-a8ab-c83d73534ece",
   "metadata": {},
   "source": [
    "### Q11 : You have a Pandas DataFrame df with a column 'Date'. Write a Python function that creates a new column 'Weekday' in the DataFrame. The 'Weekday' column should contain the weekday name (e.g. Monday, Tuesday) corresponding to each date in the 'Date' column. For example, if df contains the following values:\n",
    "### &emsp; Date\n",
    "### 0 2023-01-01\n",
    "### 1 2023-01-02\n",
    "### 2 2023-01-03\n",
    "### 3 2023-01-04\n",
    "### 4 2023-01-05\n",
    "### Your function should create the following DataFrame:\n",
    "\n",
    "### Date Weekday\n",
    "### 0 2023-01-01 Sunday\n",
    "### 1 2023-01-02 Monday\n",
    "### 2 2023-01-03 Tuesday\n",
    "### 3 2023-01-04 Wednesday\n",
    "### 4 2023-01-05 Thursday\n",
    "### The function should return the modified DataFrame.\n",
    "\n",
    "### Ans :-\n",
    "## Series.dt.weekday property :-\n",
    "\n",
    "**The weekday property is used get the day of the week of a given date.**<br>\n",
    "**The day of the week with Monday=0, Sunday=6.**<br>\n",
    "**It is assumed the week starts on Monday, which is denoted by 0 and ends on Sunday which is denoted by 6. This method is available on both Series with datetime values or DatetimeIndex**<br>\n",
    "\n",
    "## Series.dt.day_name() function :-\n",
    "**The dt.day_name() function is used to get the day names of the DateTimeIndex with specified locale.**"
   ]
  },
  {
   "cell_type": "code",
   "execution_count": 4,
   "id": "852825a8-ea3a-4289-96be-ccc5a6d47cef",
   "metadata": {},
   "outputs": [
    {
     "name": "stdout",
     "output_type": "stream",
     "text": [
      "        Date  Weekday_no    Weekday\n",
      "0 2023-01-01           6     Sunday\n",
      "1 2023-01-02           0     Monday\n",
      "2 2023-01-03           1    Tuesday\n",
      "3 2023-01-04           2  Wednesday\n",
      "4 2023-01-05           3   Thursday\n"
     ]
    }
   ],
   "source": [
    "import pandas as pd\n",
    "\n",
    "def weekday_name(df):\n",
    "    \n",
    "    # creating a new column 'Weekday_no' with number of day name\n",
    "    df['Weekday_no'] = df['Date'].dt.weekday\n",
    "    \n",
    "    # creating a new column 'Weekday' with day name\n",
    "    df['Weekday'] = df['Date'].dt.day_name()\n",
    "                                                \n",
    "    return df\n",
    "\n",
    "# DataFrame\n",
    "data = {'Date': ['2023-01-01', '2023-01-02', '2023-01-03', '2023-01-04', '2023-01-05'] }\n",
    "df = pd.DataFrame(data)\n",
    "\n",
    "# Convert the 'Date' column to datetime format\n",
    "df['Date'] = pd.to_datetime(df['Date'])\n",
    "\n",
    "# Call the function \n",
    "df = weekday_name(df)\n",
    "\n",
    "# Display the results\n",
    "print(df)\n"
   ]
  },
  {
   "cell_type": "markdown",
   "id": "63507b5e-eeaa-46d2-a132-b9f40792c236",
   "metadata": {},
   "source": [
    "### Q12. Given a Pandas DataFrame df with a column 'Date' that contains timestamps, write a Python function to select all rows where the date is between '2023-01-01' and '2023-01-31'.\n",
    "\n",
    "### Ans :-"
   ]
  },
  {
   "cell_type": "code",
   "execution_count": 32,
   "id": "c83ccece-4353-4f34-a79a-491764d0ea36",
   "metadata": {},
   "outputs": [
    {
     "name": "stdout",
     "output_type": "stream",
     "text": [
      "         Date  Value\n",
      "0  2023-01-01      1\n",
      "1  2023-01-02      2\n",
      "2  2023-01-03      3\n",
      "3  2023-01-04      4\n",
      "4  2023-01-05      5\n",
      "5  2023-01-06      6\n",
      "6  2023-01-07      7\n",
      "7  2023-01-08      8\n",
      "8  2023-01-09      9\n",
      "9  2023-01-10     10\n",
      "10 2023-01-11     11\n",
      "11 2023-01-12     12\n",
      "12 2023-01-13     13\n",
      "13 2023-01-14     14\n",
      "14 2023-01-15     15\n",
      "15 2023-01-16     16\n",
      "16 2023-01-17     17\n",
      "17 2023-01-18     18\n",
      "18 2023-01-19     19\n",
      "19 2023-01-20     20\n",
      "20 2023-01-21     21\n",
      "21 2023-01-22     22\n",
      "22 2023-01-23     23\n",
      "23 2023-01-24     24\n",
      "24 2023-01-25     25\n",
      "25 2023-01-26     26\n",
      "26 2023-01-27     27\n",
      "27 2023-01-28     28\n",
      "28 2023-01-29     29\n",
      "29 2023-01-30     30\n",
      "30 2023-01-31     31\n"
     ]
    }
   ],
   "source": [
    "import pandas as pd\n",
    "\n",
    "# Pandas DataFrame df with a 'Date' column containing timestamps\n",
    "def select_rows_between_dates(df):\n",
    "    # Filter rows where the date is between '2023-01-01' and '2023-01-31'\n",
    "    selected_rows = df[(df['Date'] >= '2023-01-01') & (df['Date'] <= '2023-01-31')]\n",
    "    \n",
    "    return selected_rows\n",
    "\n",
    "data = {'Date': pd.date_range('2023-01-01', '2023-02-28', freq='D'),\n",
    "        'Value': range(1, 60)}\n",
    "\n",
    "df = pd.DataFrame(data)\n",
    "\n",
    "\n",
    "print(selected_rows)"
   ]
  },
  {
   "cell_type": "markdown",
   "id": "ab975330-a034-4bc4-865c-1b0d2e8946f8",
   "metadata": {},
   "source": [
    "### Q13. To use the basic functions of pandas, what is the first and foremost necessary library that needs to be imported?\n",
    "\n",
    "### Ans :-\n",
    "**To use the basic functions of pandas, the first and foremost library that needs to be imported is the pandas library itself**<br>\n",
    "\n",
    "### Pandas as pd :-\n",
    "**Pandas is usually imported under the pd alias.**<br>\n",
    "\n",
    "**alias: In Python alias are an alternate name for referring to the same thing.**"
   ]
  },
  {
   "cell_type": "code",
   "execution_count": 33,
   "id": "737f27bc-f675-4242-a5e8-a145ace25cce",
   "metadata": {},
   "outputs": [
    {
     "name": "stdout",
     "output_type": "stream",
     "text": [
      "    cars  passings\n",
      "0    BMW         3\n",
      "1  Volvo         7\n",
      "2   Ford         2\n"
     ]
    }
   ],
   "source": [
    "import pandas\n",
    "\n",
    "mydataset = {\n",
    "  'cars': [\"BMW\", \"Volvo\", \"Ford\"],\n",
    "  'passings': [3, 7, 2]\n",
    "}\n",
    "\n",
    "myvar = pandas.DataFrame(mydataset)\n",
    "\n",
    "print(myvar)"
   ]
  },
  {
   "cell_type": "code",
   "execution_count": 34,
   "id": "71029fc1-9c5a-4c10-8eb7-c0c7821c9c88",
   "metadata": {},
   "outputs": [
    {
     "name": "stdout",
     "output_type": "stream",
     "text": [
      "1.5.2\n"
     ]
    }
   ],
   "source": [
    "import pandas as pd\n",
    "\n",
    "print(pd.__version__)"
   ]
  },
  {
   "cell_type": "code",
   "execution_count": null,
   "id": "e8eb8d41-82ed-4ec6-b40a-79a98a068e37",
   "metadata": {},
   "outputs": [],
   "source": []
  }
 ],
 "metadata": {
  "kernelspec": {
   "display_name": "Python 3 (ipykernel)",
   "language": "python",
   "name": "python3"
  },
  "language_info": {
   "codemirror_mode": {
    "name": "ipython",
    "version": 3
   },
   "file_extension": ".py",
   "mimetype": "text/x-python",
   "name": "python",
   "nbconvert_exporter": "python",
   "pygments_lexer": "ipython3",
   "version": "3.10.8"
  }
 },
 "nbformat": 4,
 "nbformat_minor": 5
}
